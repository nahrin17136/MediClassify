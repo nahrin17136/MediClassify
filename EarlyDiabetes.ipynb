{
  "nbformat": 4,
  "nbformat_minor": 0,
  "metadata": {
    "colab": {
      "provenance": [],
      "collapsed_sections": [
        "Em1exKIiDCE7",
        "RT-KAjWMBVNp",
        "pOICnsGJBuwJ",
        "8XxtY6QTGJNZ",
        "pEUPQ9bsLkzy",
        "UeJuukU5MFNo",
        "WEO7Z8rInA_z",
        "CjTxCoHPu-40",
        "8K-NEd05dooA",
        "wVLVrQUYok0o",
        "j7DbeuRRqa6_",
        "xJlBT0pxRhEx",
        "lrhVrlk5OYhP",
        "mhrc8Xf5HlZR",
        "RUu2K79y1Hs1",
        "EsBCRAfJcITl",
        "twDHo-ncfpzf",
        "PltpZ740hMe2",
        "coMatoOFH0nP",
        "r8bjLDpHH7AH",
        "-b7gvnuxOhme",
        "t3FtNhZHpR3a",
        "G215SLZPILmb",
        "jUIOcnFZJ4t7",
        "46fCk_YoLbDD",
        "1KW4y7rOMrsC",
        "AbK-PvhxOSsS",
        "8Zg0eRU32_2K",
        "Pz-0blHX3zVx",
        "Po9cA8tcXbBn",
        "qgYJhFpzj3DL",
        "c7KyMejs53Bq",
        "QSfztBUHW9Xn",
        "2nmqGdqtCCxE",
        "Z1o_WJigCGbC",
        "IqZOD0ByEVd0",
        "UBO2fSm8FLj0",
        "2Hnb7rCyGMi9",
        "-LA6m7fqGxM9",
        "4T41ZhrZHgeU",
        "vr5jPzY0kqIO",
        "hL_xUhUHXEel",
        "-XQHCh898ocq",
        "7wUchELQ_StO",
        "YogKKCUf_ZyZ",
        "o-k5xcti_gmh",
        "niTlK_d__kT4",
        "ZrLEKsVc6ReJ",
        "LyvkevKA1cL3",
        "NNIlFowjSMfn"
      ],
      "toc_visible": true
    },
    "kernelspec": {
      "name": "python3",
      "display_name": "Python 3"
    },
    "language_info": {
      "name": "python"
    }
  },
  "cells": [
    {
      "cell_type": "code",
      "execution_count": null,
      "metadata": {
        "id": "G6zSE-REh5A3"
      },
      "outputs": [],
      "source": [
        "from google.colab import drive"
      ]
    },
    {
      "cell_type": "code",
      "source": [
        "drive.mount('/content/drive')"
      ],
      "metadata": {
        "colab": {
          "base_uri": "https://localhost:8080/"
        },
        "id": "64aZA7R3idl7",
        "outputId": "1d3d723f-8075-4fa9-e4c3-f16e51a37fda"
      },
      "execution_count": null,
      "outputs": [
        {
          "output_type": "stream",
          "name": "stdout",
          "text": [
            "Mounted at /content/drive\n"
          ]
        }
      ]
    },
    {
      "cell_type": "code",
      "source": [
        "import numpy as np\n",
        "import matplotlib.pyplot as plt\n",
        "import pandas as pd\n",
        "import time\n",
        "import seaborn as sn"
      ],
      "metadata": {
        "id": "xG0e47NMimIM"
      },
      "execution_count": null,
      "outputs": []
    },
    {
      "cell_type": "code",
      "source": [
        "dataset = pd.read_csv('/content/drive/MyDrive/Dataset/datasets/diabetes_data_upload.csv')\n",
        "print('import done')"
      ],
      "metadata": {
        "colab": {
          "base_uri": "https://localhost:8080/"
        },
        "id": "08d9n4LGisZK",
        "outputId": "1ad42716-fde7-47fa-9813-9a6fec87654e"
      },
      "execution_count": null,
      "outputs": [
        {
          "output_type": "stream",
          "name": "stdout",
          "text": [
            "import done\n"
          ]
        }
      ]
    },
    {
      "cell_type": "code",
      "source": [
        "dataset.shape"
      ],
      "metadata": {
        "colab": {
          "base_uri": "https://localhost:8080/"
        },
        "id": "QUPYL9FHi9rD",
        "outputId": "7144548d-b2c1-4137-ebc3-a61419b2491b"
      },
      "execution_count": null,
      "outputs": [
        {
          "output_type": "execute_result",
          "data": {
            "text/plain": [
              "(520, 17)"
            ]
          },
          "metadata": {},
          "execution_count": 5
        }
      ]
    },
    {
      "cell_type": "code",
      "source": [
        "dataset.info()"
      ],
      "metadata": {
        "colab": {
          "base_uri": "https://localhost:8080/"
        },
        "id": "ijyK5-FQjCUK",
        "outputId": "b330c963-0335-486e-a6ca-b537fe5ce45b"
      },
      "execution_count": null,
      "outputs": [
        {
          "output_type": "stream",
          "name": "stdout",
          "text": [
            "<class 'pandas.core.frame.DataFrame'>\n",
            "RangeIndex: 520 entries, 0 to 519\n",
            "Data columns (total 17 columns):\n",
            " #   Column              Non-Null Count  Dtype \n",
            "---  ------              --------------  ----- \n",
            " 0   Age                 520 non-null    int64 \n",
            " 1   Gender              520 non-null    object\n",
            " 2   Polyuria            520 non-null    object\n",
            " 3   Polydipsia          520 non-null    object\n",
            " 4   sudden weight loss  520 non-null    object\n",
            " 5   weakness            520 non-null    object\n",
            " 6   Polyphagia          520 non-null    object\n",
            " 7   Genital thrush      520 non-null    object\n",
            " 8   visual blurring     520 non-null    object\n",
            " 9   Itching             520 non-null    object\n",
            " 10  Irritability        520 non-null    object\n",
            " 11  delayed healing     520 non-null    object\n",
            " 12  partial paresis     520 non-null    object\n",
            " 13  muscle stiffness    520 non-null    object\n",
            " 14  Alopecia            520 non-null    object\n",
            " 15  Obesity             520 non-null    object\n",
            " 16  class               520 non-null    object\n",
            "dtypes: int64(1), object(16)\n",
            "memory usage: 69.2+ KB\n"
          ]
        }
      ]
    },
    {
      "cell_type": "markdown",
      "metadata": {
        "id": "Em1exKIiDCE7"
      },
      "source": [
        "## Splitting dataset by dependencies"
      ]
    },
    {
      "cell_type": "code",
      "metadata": {
        "id": "rRiQdo3KDZpC"
      },
      "source": [
        "X = dataset.drop(['class'],axis=1)\n",
        "Y = dataset['class']"
      ],
      "execution_count": null,
      "outputs": []
    },
    {
      "cell_type": "markdown",
      "metadata": {
        "id": "RT-KAjWMBVNp"
      },
      "source": [
        "## Finding missing value"
      ]
    },
    {
      "cell_type": "code",
      "metadata": {
        "colab": {
          "base_uri": "https://localhost:8080/"
        },
        "id": "qpr9X4tlBRfh",
        "outputId": "4ca2cdbe-525c-47bd-d8c3-def8e7f94196"
      },
      "source": [
        "dataset_missing = X.isna()\n",
        "dataset_missing.head()"
      ],
      "execution_count": null,
      "outputs": [
        {
          "output_type": "execute_result",
          "data": {
            "text/plain": [
              "     Age  Gender  Polyuria  Polydipsia  sudden weight loss  weakness  \\\n",
              "0  False   False     False       False               False     False   \n",
              "1  False   False     False       False               False     False   \n",
              "2  False   False     False       False               False     False   \n",
              "3  False   False     False       False               False     False   \n",
              "4  False   False     False       False               False     False   \n",
              "\n",
              "   Polyphagia  Genital thrush  visual blurring  Itching  Irritability  \\\n",
              "0       False           False            False    False         False   \n",
              "1       False           False            False    False         False   \n",
              "2       False           False            False    False         False   \n",
              "3       False           False            False    False         False   \n",
              "4       False           False            False    False         False   \n",
              "\n",
              "   delayed healing  partial paresis  muscle stiffness  Alopecia  Obesity  \n",
              "0            False            False             False     False    False  \n",
              "1            False            False             False     False    False  \n",
              "2            False            False             False     False    False  \n",
              "3            False            False             False     False    False  \n",
              "4            False            False             False     False    False  "
            ],
            "text/html": [
              "\n",
              "  <div id=\"df-9efa2459-82f5-459e-bee2-7c522cf85c90\">\n",
              "    <div class=\"colab-df-container\">\n",
              "      <div>\n",
              "<style scoped>\n",
              "    .dataframe tbody tr th:only-of-type {\n",
              "        vertical-align: middle;\n",
              "    }\n",
              "\n",
              "    .dataframe tbody tr th {\n",
              "        vertical-align: top;\n",
              "    }\n",
              "\n",
              "    .dataframe thead th {\n",
              "        text-align: right;\n",
              "    }\n",
              "</style>\n",
              "<table border=\"1\" class=\"dataframe\">\n",
              "  <thead>\n",
              "    <tr style=\"text-align: right;\">\n",
              "      <th></th>\n",
              "      <th>Age</th>\n",
              "      <th>Gender</th>\n",
              "      <th>Polyuria</th>\n",
              "      <th>Polydipsia</th>\n",
              "      <th>sudden weight loss</th>\n",
              "      <th>weakness</th>\n",
              "      <th>Polyphagia</th>\n",
              "      <th>Genital thrush</th>\n",
              "      <th>visual blurring</th>\n",
              "      <th>Itching</th>\n",
              "      <th>Irritability</th>\n",
              "      <th>delayed healing</th>\n",
              "      <th>partial paresis</th>\n",
              "      <th>muscle stiffness</th>\n",
              "      <th>Alopecia</th>\n",
              "      <th>Obesity</th>\n",
              "    </tr>\n",
              "  </thead>\n",
              "  <tbody>\n",
              "    <tr>\n",
              "      <th>0</th>\n",
              "      <td>False</td>\n",
              "      <td>False</td>\n",
              "      <td>False</td>\n",
              "      <td>False</td>\n",
              "      <td>False</td>\n",
              "      <td>False</td>\n",
              "      <td>False</td>\n",
              "      <td>False</td>\n",
              "      <td>False</td>\n",
              "      <td>False</td>\n",
              "      <td>False</td>\n",
              "      <td>False</td>\n",
              "      <td>False</td>\n",
              "      <td>False</td>\n",
              "      <td>False</td>\n",
              "      <td>False</td>\n",
              "    </tr>\n",
              "    <tr>\n",
              "      <th>1</th>\n",
              "      <td>False</td>\n",
              "      <td>False</td>\n",
              "      <td>False</td>\n",
              "      <td>False</td>\n",
              "      <td>False</td>\n",
              "      <td>False</td>\n",
              "      <td>False</td>\n",
              "      <td>False</td>\n",
              "      <td>False</td>\n",
              "      <td>False</td>\n",
              "      <td>False</td>\n",
              "      <td>False</td>\n",
              "      <td>False</td>\n",
              "      <td>False</td>\n",
              "      <td>False</td>\n",
              "      <td>False</td>\n",
              "    </tr>\n",
              "    <tr>\n",
              "      <th>2</th>\n",
              "      <td>False</td>\n",
              "      <td>False</td>\n",
              "      <td>False</td>\n",
              "      <td>False</td>\n",
              "      <td>False</td>\n",
              "      <td>False</td>\n",
              "      <td>False</td>\n",
              "      <td>False</td>\n",
              "      <td>False</td>\n",
              "      <td>False</td>\n",
              "      <td>False</td>\n",
              "      <td>False</td>\n",
              "      <td>False</td>\n",
              "      <td>False</td>\n",
              "      <td>False</td>\n",
              "      <td>False</td>\n",
              "    </tr>\n",
              "    <tr>\n",
              "      <th>3</th>\n",
              "      <td>False</td>\n",
              "      <td>False</td>\n",
              "      <td>False</td>\n",
              "      <td>False</td>\n",
              "      <td>False</td>\n",
              "      <td>False</td>\n",
              "      <td>False</td>\n",
              "      <td>False</td>\n",
              "      <td>False</td>\n",
              "      <td>False</td>\n",
              "      <td>False</td>\n",
              "      <td>False</td>\n",
              "      <td>False</td>\n",
              "      <td>False</td>\n",
              "      <td>False</td>\n",
              "      <td>False</td>\n",
              "    </tr>\n",
              "    <tr>\n",
              "      <th>4</th>\n",
              "      <td>False</td>\n",
              "      <td>False</td>\n",
              "      <td>False</td>\n",
              "      <td>False</td>\n",
              "      <td>False</td>\n",
              "      <td>False</td>\n",
              "      <td>False</td>\n",
              "      <td>False</td>\n",
              "      <td>False</td>\n",
              "      <td>False</td>\n",
              "      <td>False</td>\n",
              "      <td>False</td>\n",
              "      <td>False</td>\n",
              "      <td>False</td>\n",
              "      <td>False</td>\n",
              "      <td>False</td>\n",
              "    </tr>\n",
              "  </tbody>\n",
              "</table>\n",
              "</div>\n",
              "      <button class=\"colab-df-convert\" onclick=\"convertToInteractive('df-9efa2459-82f5-459e-bee2-7c522cf85c90')\"\n",
              "              title=\"Convert this dataframe to an interactive table.\"\n",
              "              style=\"display:none;\">\n",
              "        \n",
              "  <svg xmlns=\"http://www.w3.org/2000/svg\" height=\"24px\"viewBox=\"0 0 24 24\"\n",
              "       width=\"24px\">\n",
              "    <path d=\"M0 0h24v24H0V0z\" fill=\"none\"/>\n",
              "    <path d=\"M18.56 5.44l.94 2.06.94-2.06 2.06-.94-2.06-.94-.94-2.06-.94 2.06-2.06.94zm-11 1L8.5 8.5l.94-2.06 2.06-.94-2.06-.94L8.5 2.5l-.94 2.06-2.06.94zm10 10l.94 2.06.94-2.06 2.06-.94-2.06-.94-.94-2.06-.94 2.06-2.06.94z\"/><path d=\"M17.41 7.96l-1.37-1.37c-.4-.4-.92-.59-1.43-.59-.52 0-1.04.2-1.43.59L10.3 9.45l-7.72 7.72c-.78.78-.78 2.05 0 2.83L4 21.41c.39.39.9.59 1.41.59.51 0 1.02-.2 1.41-.59l7.78-7.78 2.81-2.81c.8-.78.8-2.07 0-2.86zM5.41 20L4 18.59l7.72-7.72 1.47 1.35L5.41 20z\"/>\n",
              "  </svg>\n",
              "      </button>\n",
              "      \n",
              "  <style>\n",
              "    .colab-df-container {\n",
              "      display:flex;\n",
              "      flex-wrap:wrap;\n",
              "      gap: 12px;\n",
              "    }\n",
              "\n",
              "    .colab-df-convert {\n",
              "      background-color: #E8F0FE;\n",
              "      border: none;\n",
              "      border-radius: 50%;\n",
              "      cursor: pointer;\n",
              "      display: none;\n",
              "      fill: #1967D2;\n",
              "      height: 32px;\n",
              "      padding: 0 0 0 0;\n",
              "      width: 32px;\n",
              "    }\n",
              "\n",
              "    .colab-df-convert:hover {\n",
              "      background-color: #E2EBFA;\n",
              "      box-shadow: 0px 1px 2px rgba(60, 64, 67, 0.3), 0px 1px 3px 1px rgba(60, 64, 67, 0.15);\n",
              "      fill: #174EA6;\n",
              "    }\n",
              "\n",
              "    [theme=dark] .colab-df-convert {\n",
              "      background-color: #3B4455;\n",
              "      fill: #D2E3FC;\n",
              "    }\n",
              "\n",
              "    [theme=dark] .colab-df-convert:hover {\n",
              "      background-color: #434B5C;\n",
              "      box-shadow: 0px 1px 3px 1px rgba(0, 0, 0, 0.15);\n",
              "      filter: drop-shadow(0px 1px 2px rgba(0, 0, 0, 0.3));\n",
              "      fill: #FFFFFF;\n",
              "    }\n",
              "  </style>\n",
              "\n",
              "      <script>\n",
              "        const buttonEl =\n",
              "          document.querySelector('#df-9efa2459-82f5-459e-bee2-7c522cf85c90 button.colab-df-convert');\n",
              "        buttonEl.style.display =\n",
              "          google.colab.kernel.accessAllowed ? 'block' : 'none';\n",
              "\n",
              "        async function convertToInteractive(key) {\n",
              "          const element = document.querySelector('#df-9efa2459-82f5-459e-bee2-7c522cf85c90');\n",
              "          const dataTable =\n",
              "            await google.colab.kernel.invokeFunction('convertToInteractive',\n",
              "                                                     [key], {});\n",
              "          if (!dataTable) return;\n",
              "\n",
              "          const docLinkHtml = 'Like what you see? Visit the ' +\n",
              "            '<a target=\"_blank\" href=https://colab.research.google.com/notebooks/data_table.ipynb>data table notebook</a>'\n",
              "            + ' to learn more about interactive tables.';\n",
              "          element.innerHTML = '';\n",
              "          dataTable['output_type'] = 'display_data';\n",
              "          await google.colab.output.renderOutput(dataTable, element);\n",
              "          const docLink = document.createElement('div');\n",
              "          docLink.innerHTML = docLinkHtml;\n",
              "          element.appendChild(docLink);\n",
              "        }\n",
              "      </script>\n",
              "    </div>\n",
              "  </div>\n",
              "  "
            ]
          },
          "metadata": {},
          "execution_count": 7
        }
      ]
    },
    {
      "cell_type": "code",
      "metadata": {
        "colab": {
          "base_uri": "https://localhost:8080/"
        },
        "id": "jeh9wD61BZxp",
        "outputId": "af8e257e-5469-4175-e799-8f3b083a4830"
      },
      "source": [
        "dataset_missing.dtypes"
      ],
      "execution_count": null,
      "outputs": [
        {
          "output_type": "execute_result",
          "data": {
            "text/plain": [
              "Age                   bool\n",
              "Gender                bool\n",
              "Polyuria              bool\n",
              "Polydipsia            bool\n",
              "sudden weight loss    bool\n",
              "weakness              bool\n",
              "Polyphagia            bool\n",
              "Genital thrush        bool\n",
              "visual blurring       bool\n",
              "Itching               bool\n",
              "Irritability          bool\n",
              "delayed healing       bool\n",
              "partial paresis       bool\n",
              "muscle stiffness      bool\n",
              "Alopecia              bool\n",
              "Obesity               bool\n",
              "dtype: object"
            ]
          },
          "metadata": {},
          "execution_count": 8
        }
      ]
    },
    {
      "cell_type": "code",
      "metadata": {
        "colab": {
          "base_uri": "https://localhost:8080/"
        },
        "id": "tcpbAChtBfjZ",
        "outputId": "85182eda-5e7b-4b43-f7e9-dac3eda28cdb"
      },
      "source": [
        "dataset_num_missing = dataset_missing.sum()\n",
        "dataset_num_missing"
      ],
      "execution_count": null,
      "outputs": [
        {
          "output_type": "execute_result",
          "data": {
            "text/plain": [
              "Age                   0\n",
              "Gender                0\n",
              "Polyuria              0\n",
              "Polydipsia            0\n",
              "sudden weight loss    0\n",
              "weakness              0\n",
              "Polyphagia            0\n",
              "Genital thrush        0\n",
              "visual blurring       0\n",
              "Itching               0\n",
              "Irritability          0\n",
              "delayed healing       0\n",
              "partial paresis       0\n",
              "muscle stiffness      0\n",
              "Alopecia              0\n",
              "Obesity               0\n",
              "dtype: int64"
            ]
          },
          "metadata": {},
          "execution_count": 9
        }
      ]
    },
    {
      "cell_type": "code",
      "metadata": {
        "colab": {
          "base_uri": "https://localhost:8080/"
        },
        "id": "_-wralIBBkKC",
        "outputId": "b485a6c2-4c39-4096-90de-4aa9949233b0"
      },
      "source": [
        "dataset_num_missing / len(dataset)"
      ],
      "execution_count": null,
      "outputs": [
        {
          "output_type": "execute_result",
          "data": {
            "text/plain": [
              "Age                   0.0\n",
              "Gender                0.0\n",
              "Polyuria              0.0\n",
              "Polydipsia            0.0\n",
              "sudden weight loss    0.0\n",
              "weakness              0.0\n",
              "Polyphagia            0.0\n",
              "Genital thrush        0.0\n",
              "visual blurring       0.0\n",
              "Itching               0.0\n",
              "Irritability          0.0\n",
              "delayed healing       0.0\n",
              "partial paresis       0.0\n",
              "muscle stiffness      0.0\n",
              "Alopecia              0.0\n",
              "Obesity               0.0\n",
              "dtype: float64"
            ]
          },
          "metadata": {},
          "execution_count": 10
        }
      ]
    },
    {
      "cell_type": "markdown",
      "metadata": {
        "id": "pOICnsGJBuwJ"
      },
      "source": [
        "## Impute missing value By KNN"
      ]
    },
    {
      "cell_type": "code",
      "metadata": {
        "id": "3JXx4j5mBvop"
      },
      "source": [
        "from sklearn.impute import KNNImputer\n",
        "knnimp = KNNImputer(n_neighbors = 5)"
      ],
      "execution_count": null,
      "outputs": []
    },
    {
      "cell_type": "code",
      "metadata": {
        "id": "K-4uwjPtB1ex"
      },
      "source": [
        "num = [col for col in X.columns if dataset[col].dtypes != 'O']"
      ],
      "execution_count": null,
      "outputs": []
    },
    {
      "cell_type": "code",
      "metadata": {
        "colab": {
          "base_uri": "https://localhost:8080/"
        },
        "id": "AI0QPYurB_m6",
        "outputId": "885e1b48-b571-46f9-b3ea-a4c191bf522b"
      },
      "source": [
        "X[num].head()"
      ],
      "execution_count": null,
      "outputs": [
        {
          "output_type": "execute_result",
          "data": {
            "text/plain": [
              "   Age\n",
              "0   40\n",
              "1   58\n",
              "2   41\n",
              "3   45\n",
              "4   60"
            ],
            "text/html": [
              "\n",
              "  <div id=\"df-feb71750-3233-44ba-b0bf-e30e3777b235\">\n",
              "    <div class=\"colab-df-container\">\n",
              "      <div>\n",
              "<style scoped>\n",
              "    .dataframe tbody tr th:only-of-type {\n",
              "        vertical-align: middle;\n",
              "    }\n",
              "\n",
              "    .dataframe tbody tr th {\n",
              "        vertical-align: top;\n",
              "    }\n",
              "\n",
              "    .dataframe thead th {\n",
              "        text-align: right;\n",
              "    }\n",
              "</style>\n",
              "<table border=\"1\" class=\"dataframe\">\n",
              "  <thead>\n",
              "    <tr style=\"text-align: right;\">\n",
              "      <th></th>\n",
              "      <th>Age</th>\n",
              "    </tr>\n",
              "  </thead>\n",
              "  <tbody>\n",
              "    <tr>\n",
              "      <th>0</th>\n",
              "      <td>40</td>\n",
              "    </tr>\n",
              "    <tr>\n",
              "      <th>1</th>\n",
              "      <td>58</td>\n",
              "    </tr>\n",
              "    <tr>\n",
              "      <th>2</th>\n",
              "      <td>41</td>\n",
              "    </tr>\n",
              "    <tr>\n",
              "      <th>3</th>\n",
              "      <td>45</td>\n",
              "    </tr>\n",
              "    <tr>\n",
              "      <th>4</th>\n",
              "      <td>60</td>\n",
              "    </tr>\n",
              "  </tbody>\n",
              "</table>\n",
              "</div>\n",
              "      <button class=\"colab-df-convert\" onclick=\"convertToInteractive('df-feb71750-3233-44ba-b0bf-e30e3777b235')\"\n",
              "              title=\"Convert this dataframe to an interactive table.\"\n",
              "              style=\"display:none;\">\n",
              "        \n",
              "  <svg xmlns=\"http://www.w3.org/2000/svg\" height=\"24px\"viewBox=\"0 0 24 24\"\n",
              "       width=\"24px\">\n",
              "    <path d=\"M0 0h24v24H0V0z\" fill=\"none\"/>\n",
              "    <path d=\"M18.56 5.44l.94 2.06.94-2.06 2.06-.94-2.06-.94-.94-2.06-.94 2.06-2.06.94zm-11 1L8.5 8.5l.94-2.06 2.06-.94-2.06-.94L8.5 2.5l-.94 2.06-2.06.94zm10 10l.94 2.06.94-2.06 2.06-.94-2.06-.94-.94-2.06-.94 2.06-2.06.94z\"/><path d=\"M17.41 7.96l-1.37-1.37c-.4-.4-.92-.59-1.43-.59-.52 0-1.04.2-1.43.59L10.3 9.45l-7.72 7.72c-.78.78-.78 2.05 0 2.83L4 21.41c.39.39.9.59 1.41.59.51 0 1.02-.2 1.41-.59l7.78-7.78 2.81-2.81c.8-.78.8-2.07 0-2.86zM5.41 20L4 18.59l7.72-7.72 1.47 1.35L5.41 20z\"/>\n",
              "  </svg>\n",
              "      </button>\n",
              "      \n",
              "  <style>\n",
              "    .colab-df-container {\n",
              "      display:flex;\n",
              "      flex-wrap:wrap;\n",
              "      gap: 12px;\n",
              "    }\n",
              "\n",
              "    .colab-df-convert {\n",
              "      background-color: #E8F0FE;\n",
              "      border: none;\n",
              "      border-radius: 50%;\n",
              "      cursor: pointer;\n",
              "      display: none;\n",
              "      fill: #1967D2;\n",
              "      height: 32px;\n",
              "      padding: 0 0 0 0;\n",
              "      width: 32px;\n",
              "    }\n",
              "\n",
              "    .colab-df-convert:hover {\n",
              "      background-color: #E2EBFA;\n",
              "      box-shadow: 0px 1px 2px rgba(60, 64, 67, 0.3), 0px 1px 3px 1px rgba(60, 64, 67, 0.15);\n",
              "      fill: #174EA6;\n",
              "    }\n",
              "\n",
              "    [theme=dark] .colab-df-convert {\n",
              "      background-color: #3B4455;\n",
              "      fill: #D2E3FC;\n",
              "    }\n",
              "\n",
              "    [theme=dark] .colab-df-convert:hover {\n",
              "      background-color: #434B5C;\n",
              "      box-shadow: 0px 1px 3px 1px rgba(0, 0, 0, 0.15);\n",
              "      filter: drop-shadow(0px 1px 2px rgba(0, 0, 0, 0.3));\n",
              "      fill: #FFFFFF;\n",
              "    }\n",
              "  </style>\n",
              "\n",
              "      <script>\n",
              "        const buttonEl =\n",
              "          document.querySelector('#df-feb71750-3233-44ba-b0bf-e30e3777b235 button.colab-df-convert');\n",
              "        buttonEl.style.display =\n",
              "          google.colab.kernel.accessAllowed ? 'block' : 'none';\n",
              "\n",
              "        async function convertToInteractive(key) {\n",
              "          const element = document.querySelector('#df-feb71750-3233-44ba-b0bf-e30e3777b235');\n",
              "          const dataTable =\n",
              "            await google.colab.kernel.invokeFunction('convertToInteractive',\n",
              "                                                     [key], {});\n",
              "          if (!dataTable) return;\n",
              "\n",
              "          const docLinkHtml = 'Like what you see? Visit the ' +\n",
              "            '<a target=\"_blank\" href=https://colab.research.google.com/notebooks/data_table.ipynb>data table notebook</a>'\n",
              "            + ' to learn more about interactive tables.';\n",
              "          element.innerHTML = '';\n",
              "          dataTable['output_type'] = 'display_data';\n",
              "          await google.colab.output.renderOutput(dataTable, element);\n",
              "          const docLink = document.createElement('div');\n",
              "          docLink.innerHTML = docLinkHtml;\n",
              "          element.appendChild(docLink);\n",
              "        }\n",
              "      </script>\n",
              "    </div>\n",
              "  </div>\n",
              "  "
            ]
          },
          "metadata": {},
          "execution_count": 136
        }
      ]
    },
    {
      "cell_type": "code",
      "metadata": {
        "colab": {
          "base_uri": "https://localhost:8080/"
        },
        "id": "EmZek7YZCBuh",
        "outputId": "01bedbe1-3b62-4979-c050-9b0aec49319d"
      },
      "source": [
        "knnimp.fit(X[num])"
      ],
      "execution_count": null,
      "outputs": [
        {
          "output_type": "execute_result",
          "data": {
            "text/plain": [
              "KNNImputer()"
            ]
          },
          "metadata": {},
          "execution_count": 137
        }
      ]
    },
    {
      "cell_type": "code",
      "metadata": {
        "id": "Ed1XozudCNqz"
      },
      "source": [
        "X[num]  = knnimp.transform(X[num])"
      ],
      "execution_count": null,
      "outputs": []
    },
    {
      "cell_type": "code",
      "metadata": {
        "colab": {
          "base_uri": "https://localhost:8080/"
        },
        "id": "h_uYHGPECVka",
        "outputId": "330adc04-2306-4ca6-fd62-08ef1e1ddca0"
      },
      "source": [
        "X.isna().sum()"
      ],
      "execution_count": null,
      "outputs": [
        {
          "output_type": "execute_result",
          "data": {
            "text/plain": [
              "Age                   0\n",
              "Gender                0\n",
              "Polyuria              0\n",
              "Polydipsia            0\n",
              "sudden weight loss    0\n",
              "weakness              0\n",
              "Polyphagia            0\n",
              "Genital thrush        0\n",
              "visual blurring       0\n",
              "Itching               0\n",
              "Irritability          0\n",
              "delayed healing       0\n",
              "partial paresis       0\n",
              "muscle stiffness      0\n",
              "Alopecia              0\n",
              "Obesity               0\n",
              "dtype: int64"
            ]
          },
          "metadata": {},
          "execution_count": 139
        }
      ]
    },
    {
      "cell_type": "markdown",
      "metadata": {
        "id": "8XxtY6QTGJNZ"
      },
      "source": [
        "## Feature Encoding"
      ]
    },
    {
      "cell_type": "code",
      "metadata": {
        "id": "GXytoCDaGIWq"
      },
      "source": [
        "from sklearn.preprocessing import LabelEncoder\n",
        "le = LabelEncoder()"
      ],
      "execution_count": null,
      "outputs": []
    },
    {
      "cell_type": "code",
      "metadata": {
        "colab": {
          "base_uri": "https://localhost:8080/"
        },
        "id": "L0fvF2-UGq8Z",
        "outputId": "a44d2a3b-e239-44e9-b42a-e48c86170c24"
      },
      "source": [
        "le.fit(Y)"
      ],
      "execution_count": null,
      "outputs": [
        {
          "output_type": "execute_result",
          "data": {
            "text/plain": [
              "LabelEncoder()"
            ]
          },
          "metadata": {},
          "execution_count": 12
        }
      ]
    },
    {
      "cell_type": "code",
      "metadata": {
        "colab": {
          "base_uri": "https://localhost:8080/"
        },
        "id": "ak5lI-5BJuIg",
        "outputId": "f157ec10-79cb-4a1c-dd72-577e820dabef"
      },
      "source": [
        "le.classes_"
      ],
      "execution_count": null,
      "outputs": [
        {
          "output_type": "execute_result",
          "data": {
            "text/plain": [
              "array(['Negative', 'Positive'], dtype=object)"
            ]
          },
          "metadata": {},
          "execution_count": 13
        }
      ]
    },
    {
      "cell_type": "code",
      "metadata": {
        "id": "PrxdCjJeJ32Z"
      },
      "source": [
        "Y = le.transform(Y)"
      ],
      "execution_count": null,
      "outputs": []
    },
    {
      "cell_type": "code",
      "metadata": {
        "colab": {
          "base_uri": "https://localhost:8080/"
        },
        "id": "yNtHNPkIJ9Ag",
        "outputId": "7a6ea5e8-0f2f-45b4-9dd6-a6d81dcf4286"
      },
      "source": [
        "obj = [col for col in X.columns if dataset[col].dtypes == 'O']\n",
        "X[obj]"
      ],
      "execution_count": null,
      "outputs": [
        {
          "output_type": "execute_result",
          "data": {
            "text/plain": [
              "     Gender Polyuria Polydipsia sudden weight loss weakness Polyphagia  \\\n",
              "0      Male       No        Yes                 No      Yes         No   \n",
              "1      Male       No         No                 No      Yes         No   \n",
              "2      Male      Yes         No                 No      Yes        Yes   \n",
              "3      Male       No         No                Yes      Yes        Yes   \n",
              "4      Male      Yes        Yes                Yes      Yes        Yes   \n",
              "..      ...      ...        ...                ...      ...        ...   \n",
              "515  Female      Yes        Yes                Yes       No        Yes   \n",
              "516  Female      Yes        Yes                Yes      Yes        Yes   \n",
              "517  Female      Yes        Yes                Yes      Yes        Yes   \n",
              "518  Female       No         No                 No      Yes         No   \n",
              "519    Male       No         No                 No       No         No   \n",
              "\n",
              "    Genital thrush visual blurring Itching Irritability delayed healing  \\\n",
              "0               No              No     Yes           No             Yes   \n",
              "1               No             Yes      No           No              No   \n",
              "2               No              No     Yes           No             Yes   \n",
              "3              Yes              No     Yes           No             Yes   \n",
              "4               No             Yes     Yes          Yes             Yes   \n",
              "..             ...             ...     ...          ...             ...   \n",
              "515             No              No     Yes           No             Yes   \n",
              "516             No              No     Yes          Yes             Yes   \n",
              "517             No             Yes      No           No              No   \n",
              "518             No             Yes     Yes           No             Yes   \n",
              "519             No              No      No           No              No   \n",
              "\n",
              "    partial paresis muscle stiffness Alopecia Obesity  \n",
              "0                No              Yes      Yes     Yes  \n",
              "1               Yes               No      Yes      No  \n",
              "2                No              Yes      Yes      No  \n",
              "3                No               No       No      No  \n",
              "4               Yes              Yes      Yes     Yes  \n",
              "..              ...              ...      ...     ...  \n",
              "515             Yes               No       No      No  \n",
              "516             Yes               No       No      No  \n",
              "517             Yes              Yes       No     Yes  \n",
              "518              No               No      Yes      No  \n",
              "519              No               No       No      No  \n",
              "\n",
              "[520 rows x 15 columns]"
            ],
            "text/html": [
              "\n",
              "  <div id=\"df-2d025ca5-e97f-4f5c-86f7-70d035e2ab6e\">\n",
              "    <div class=\"colab-df-container\">\n",
              "      <div>\n",
              "<style scoped>\n",
              "    .dataframe tbody tr th:only-of-type {\n",
              "        vertical-align: middle;\n",
              "    }\n",
              "\n",
              "    .dataframe tbody tr th {\n",
              "        vertical-align: top;\n",
              "    }\n",
              "\n",
              "    .dataframe thead th {\n",
              "        text-align: right;\n",
              "    }\n",
              "</style>\n",
              "<table border=\"1\" class=\"dataframe\">\n",
              "  <thead>\n",
              "    <tr style=\"text-align: right;\">\n",
              "      <th></th>\n",
              "      <th>Gender</th>\n",
              "      <th>Polyuria</th>\n",
              "      <th>Polydipsia</th>\n",
              "      <th>sudden weight loss</th>\n",
              "      <th>weakness</th>\n",
              "      <th>Polyphagia</th>\n",
              "      <th>Genital thrush</th>\n",
              "      <th>visual blurring</th>\n",
              "      <th>Itching</th>\n",
              "      <th>Irritability</th>\n",
              "      <th>delayed healing</th>\n",
              "      <th>partial paresis</th>\n",
              "      <th>muscle stiffness</th>\n",
              "      <th>Alopecia</th>\n",
              "      <th>Obesity</th>\n",
              "    </tr>\n",
              "  </thead>\n",
              "  <tbody>\n",
              "    <tr>\n",
              "      <th>0</th>\n",
              "      <td>Male</td>\n",
              "      <td>No</td>\n",
              "      <td>Yes</td>\n",
              "      <td>No</td>\n",
              "      <td>Yes</td>\n",
              "      <td>No</td>\n",
              "      <td>No</td>\n",
              "      <td>No</td>\n",
              "      <td>Yes</td>\n",
              "      <td>No</td>\n",
              "      <td>Yes</td>\n",
              "      <td>No</td>\n",
              "      <td>Yes</td>\n",
              "      <td>Yes</td>\n",
              "      <td>Yes</td>\n",
              "    </tr>\n",
              "    <tr>\n",
              "      <th>1</th>\n",
              "      <td>Male</td>\n",
              "      <td>No</td>\n",
              "      <td>No</td>\n",
              "      <td>No</td>\n",
              "      <td>Yes</td>\n",
              "      <td>No</td>\n",
              "      <td>No</td>\n",
              "      <td>Yes</td>\n",
              "      <td>No</td>\n",
              "      <td>No</td>\n",
              "      <td>No</td>\n",
              "      <td>Yes</td>\n",
              "      <td>No</td>\n",
              "      <td>Yes</td>\n",
              "      <td>No</td>\n",
              "    </tr>\n",
              "    <tr>\n",
              "      <th>2</th>\n",
              "      <td>Male</td>\n",
              "      <td>Yes</td>\n",
              "      <td>No</td>\n",
              "      <td>No</td>\n",
              "      <td>Yes</td>\n",
              "      <td>Yes</td>\n",
              "      <td>No</td>\n",
              "      <td>No</td>\n",
              "      <td>Yes</td>\n",
              "      <td>No</td>\n",
              "      <td>Yes</td>\n",
              "      <td>No</td>\n",
              "      <td>Yes</td>\n",
              "      <td>Yes</td>\n",
              "      <td>No</td>\n",
              "    </tr>\n",
              "    <tr>\n",
              "      <th>3</th>\n",
              "      <td>Male</td>\n",
              "      <td>No</td>\n",
              "      <td>No</td>\n",
              "      <td>Yes</td>\n",
              "      <td>Yes</td>\n",
              "      <td>Yes</td>\n",
              "      <td>Yes</td>\n",
              "      <td>No</td>\n",
              "      <td>Yes</td>\n",
              "      <td>No</td>\n",
              "      <td>Yes</td>\n",
              "      <td>No</td>\n",
              "      <td>No</td>\n",
              "      <td>No</td>\n",
              "      <td>No</td>\n",
              "    </tr>\n",
              "    <tr>\n",
              "      <th>4</th>\n",
              "      <td>Male</td>\n",
              "      <td>Yes</td>\n",
              "      <td>Yes</td>\n",
              "      <td>Yes</td>\n",
              "      <td>Yes</td>\n",
              "      <td>Yes</td>\n",
              "      <td>No</td>\n",
              "      <td>Yes</td>\n",
              "      <td>Yes</td>\n",
              "      <td>Yes</td>\n",
              "      <td>Yes</td>\n",
              "      <td>Yes</td>\n",
              "      <td>Yes</td>\n",
              "      <td>Yes</td>\n",
              "      <td>Yes</td>\n",
              "    </tr>\n",
              "    <tr>\n",
              "      <th>...</th>\n",
              "      <td>...</td>\n",
              "      <td>...</td>\n",
              "      <td>...</td>\n",
              "      <td>...</td>\n",
              "      <td>...</td>\n",
              "      <td>...</td>\n",
              "      <td>...</td>\n",
              "      <td>...</td>\n",
              "      <td>...</td>\n",
              "      <td>...</td>\n",
              "      <td>...</td>\n",
              "      <td>...</td>\n",
              "      <td>...</td>\n",
              "      <td>...</td>\n",
              "      <td>...</td>\n",
              "    </tr>\n",
              "    <tr>\n",
              "      <th>515</th>\n",
              "      <td>Female</td>\n",
              "      <td>Yes</td>\n",
              "      <td>Yes</td>\n",
              "      <td>Yes</td>\n",
              "      <td>No</td>\n",
              "      <td>Yes</td>\n",
              "      <td>No</td>\n",
              "      <td>No</td>\n",
              "      <td>Yes</td>\n",
              "      <td>No</td>\n",
              "      <td>Yes</td>\n",
              "      <td>Yes</td>\n",
              "      <td>No</td>\n",
              "      <td>No</td>\n",
              "      <td>No</td>\n",
              "    </tr>\n",
              "    <tr>\n",
              "      <th>516</th>\n",
              "      <td>Female</td>\n",
              "      <td>Yes</td>\n",
              "      <td>Yes</td>\n",
              "      <td>Yes</td>\n",
              "      <td>Yes</td>\n",
              "      <td>Yes</td>\n",
              "      <td>No</td>\n",
              "      <td>No</td>\n",
              "      <td>Yes</td>\n",
              "      <td>Yes</td>\n",
              "      <td>Yes</td>\n",
              "      <td>Yes</td>\n",
              "      <td>No</td>\n",
              "      <td>No</td>\n",
              "      <td>No</td>\n",
              "    </tr>\n",
              "    <tr>\n",
              "      <th>517</th>\n",
              "      <td>Female</td>\n",
              "      <td>Yes</td>\n",
              "      <td>Yes</td>\n",
              "      <td>Yes</td>\n",
              "      <td>Yes</td>\n",
              "      <td>Yes</td>\n",
              "      <td>No</td>\n",
              "      <td>Yes</td>\n",
              "      <td>No</td>\n",
              "      <td>No</td>\n",
              "      <td>No</td>\n",
              "      <td>Yes</td>\n",
              "      <td>Yes</td>\n",
              "      <td>No</td>\n",
              "      <td>Yes</td>\n",
              "    </tr>\n",
              "    <tr>\n",
              "      <th>518</th>\n",
              "      <td>Female</td>\n",
              "      <td>No</td>\n",
              "      <td>No</td>\n",
              "      <td>No</td>\n",
              "      <td>Yes</td>\n",
              "      <td>No</td>\n",
              "      <td>No</td>\n",
              "      <td>Yes</td>\n",
              "      <td>Yes</td>\n",
              "      <td>No</td>\n",
              "      <td>Yes</td>\n",
              "      <td>No</td>\n",
              "      <td>No</td>\n",
              "      <td>Yes</td>\n",
              "      <td>No</td>\n",
              "    </tr>\n",
              "    <tr>\n",
              "      <th>519</th>\n",
              "      <td>Male</td>\n",
              "      <td>No</td>\n",
              "      <td>No</td>\n",
              "      <td>No</td>\n",
              "      <td>No</td>\n",
              "      <td>No</td>\n",
              "      <td>No</td>\n",
              "      <td>No</td>\n",
              "      <td>No</td>\n",
              "      <td>No</td>\n",
              "      <td>No</td>\n",
              "      <td>No</td>\n",
              "      <td>No</td>\n",
              "      <td>No</td>\n",
              "      <td>No</td>\n",
              "    </tr>\n",
              "  </tbody>\n",
              "</table>\n",
              "<p>520 rows × 15 columns</p>\n",
              "</div>\n",
              "      <button class=\"colab-df-convert\" onclick=\"convertToInteractive('df-2d025ca5-e97f-4f5c-86f7-70d035e2ab6e')\"\n",
              "              title=\"Convert this dataframe to an interactive table.\"\n",
              "              style=\"display:none;\">\n",
              "        \n",
              "  <svg xmlns=\"http://www.w3.org/2000/svg\" height=\"24px\"viewBox=\"0 0 24 24\"\n",
              "       width=\"24px\">\n",
              "    <path d=\"M0 0h24v24H0V0z\" fill=\"none\"/>\n",
              "    <path d=\"M18.56 5.44l.94 2.06.94-2.06 2.06-.94-2.06-.94-.94-2.06-.94 2.06-2.06.94zm-11 1L8.5 8.5l.94-2.06 2.06-.94-2.06-.94L8.5 2.5l-.94 2.06-2.06.94zm10 10l.94 2.06.94-2.06 2.06-.94-2.06-.94-.94-2.06-.94 2.06-2.06.94z\"/><path d=\"M17.41 7.96l-1.37-1.37c-.4-.4-.92-.59-1.43-.59-.52 0-1.04.2-1.43.59L10.3 9.45l-7.72 7.72c-.78.78-.78 2.05 0 2.83L4 21.41c.39.39.9.59 1.41.59.51 0 1.02-.2 1.41-.59l7.78-7.78 2.81-2.81c.8-.78.8-2.07 0-2.86zM5.41 20L4 18.59l7.72-7.72 1.47 1.35L5.41 20z\"/>\n",
              "  </svg>\n",
              "      </button>\n",
              "      \n",
              "  <style>\n",
              "    .colab-df-container {\n",
              "      display:flex;\n",
              "      flex-wrap:wrap;\n",
              "      gap: 12px;\n",
              "    }\n",
              "\n",
              "    .colab-df-convert {\n",
              "      background-color: #E8F0FE;\n",
              "      border: none;\n",
              "      border-radius: 50%;\n",
              "      cursor: pointer;\n",
              "      display: none;\n",
              "      fill: #1967D2;\n",
              "      height: 32px;\n",
              "      padding: 0 0 0 0;\n",
              "      width: 32px;\n",
              "    }\n",
              "\n",
              "    .colab-df-convert:hover {\n",
              "      background-color: #E2EBFA;\n",
              "      box-shadow: 0px 1px 2px rgba(60, 64, 67, 0.3), 0px 1px 3px 1px rgba(60, 64, 67, 0.15);\n",
              "      fill: #174EA6;\n",
              "    }\n",
              "\n",
              "    [theme=dark] .colab-df-convert {\n",
              "      background-color: #3B4455;\n",
              "      fill: #D2E3FC;\n",
              "    }\n",
              "\n",
              "    [theme=dark] .colab-df-convert:hover {\n",
              "      background-color: #434B5C;\n",
              "      box-shadow: 0px 1px 3px 1px rgba(0, 0, 0, 0.15);\n",
              "      filter: drop-shadow(0px 1px 2px rgba(0, 0, 0, 0.3));\n",
              "      fill: #FFFFFF;\n",
              "    }\n",
              "  </style>\n",
              "\n",
              "      <script>\n",
              "        const buttonEl =\n",
              "          document.querySelector('#df-2d025ca5-e97f-4f5c-86f7-70d035e2ab6e button.colab-df-convert');\n",
              "        buttonEl.style.display =\n",
              "          google.colab.kernel.accessAllowed ? 'block' : 'none';\n",
              "\n",
              "        async function convertToInteractive(key) {\n",
              "          const element = document.querySelector('#df-2d025ca5-e97f-4f5c-86f7-70d035e2ab6e');\n",
              "          const dataTable =\n",
              "            await google.colab.kernel.invokeFunction('convertToInteractive',\n",
              "                                                     [key], {});\n",
              "          if (!dataTable) return;\n",
              "\n",
              "          const docLinkHtml = 'Like what you see? Visit the ' +\n",
              "            '<a target=\"_blank\" href=https://colab.research.google.com/notebooks/data_table.ipynb>data table notebook</a>'\n",
              "            + ' to learn more about interactive tables.';\n",
              "          element.innerHTML = '';\n",
              "          dataTable['output_type'] = 'display_data';\n",
              "          await google.colab.output.renderOutput(dataTable, element);\n",
              "          const docLink = document.createElement('div');\n",
              "          docLink.innerHTML = docLinkHtml;\n",
              "          element.appendChild(docLink);\n",
              "        }\n",
              "      </script>\n",
              "    </div>\n",
              "  </div>\n",
              "  "
            ]
          },
          "metadata": {},
          "execution_count": 15
        }
      ]
    },
    {
      "cell_type": "code",
      "source": [
        "for i in obj:\n",
        "  le.fit(X[i])\n",
        "  X[i] = le.transform(X[i])"
      ],
      "metadata": {
        "id": "v37-AvVmL2wV"
      },
      "execution_count": null,
      "outputs": []
    },
    {
      "cell_type": "code",
      "metadata": {
        "colab": {
          "base_uri": "https://localhost:8080/"
        },
        "id": "fPwDeWKvMfqg",
        "outputId": "5fa36746-11fe-483a-c32f-0d5ae59ffc3d"
      },
      "source": [
        "Y"
      ],
      "execution_count": null,
      "outputs": [
        {
          "output_type": "execute_result",
          "data": {
            "text/plain": [
              "array([1, 1, 1, 1, 1, 1, 1, 1, 1, 1, 1, 1, 1, 1, 1, 1, 1, 1, 1, 1, 1, 1,\n",
              "       1, 1, 1, 1, 1, 1, 1, 1, 1, 1, 1, 1, 1, 1, 1, 1, 1, 1, 1, 1, 1, 1,\n",
              "       1, 1, 1, 1, 1, 1, 1, 1, 1, 1, 1, 1, 1, 1, 1, 1, 1, 1, 1, 1, 1, 1,\n",
              "       1, 1, 1, 1, 1, 1, 1, 1, 1, 1, 1, 1, 1, 1, 1, 1, 1, 1, 1, 1, 1, 1,\n",
              "       1, 1, 1, 1, 1, 1, 1, 1, 1, 1, 1, 1, 1, 1, 1, 1, 1, 1, 1, 1, 1, 1,\n",
              "       1, 1, 1, 1, 1, 1, 1, 1, 1, 1, 1, 1, 1, 1, 1, 1, 1, 1, 1, 1, 1, 1,\n",
              "       1, 1, 1, 1, 1, 1, 1, 1, 1, 1, 1, 1, 1, 1, 1, 1, 1, 1, 1, 1, 1, 1,\n",
              "       1, 1, 1, 1, 1, 1, 1, 1, 1, 1, 1, 1, 1, 1, 1, 1, 1, 1, 1, 1, 1, 1,\n",
              "       1, 1, 1, 1, 1, 1, 1, 1, 1, 1, 1, 1, 1, 1, 1, 1, 1, 1, 1, 1, 1, 1,\n",
              "       1, 1, 0, 0, 0, 0, 0, 0, 0, 0, 0, 0, 0, 0, 0, 0, 0, 0, 0, 0, 0, 0,\n",
              "       0, 0, 0, 0, 0, 0, 0, 0, 0, 0, 0, 0, 0, 0, 0, 0, 0, 0, 0, 0, 0, 0,\n",
              "       0, 0, 0, 0, 0, 0, 0, 1, 1, 1, 1, 1, 1, 1, 1, 1, 1, 1, 1, 1, 1, 1,\n",
              "       1, 1, 1, 1, 1, 1, 1, 1, 0, 0, 0, 0, 0, 0, 0, 0, 0, 0, 0, 0, 0, 0,\n",
              "       0, 0, 0, 0, 0, 0, 0, 0, 0, 1, 1, 1, 1, 1, 1, 1, 1, 1, 1, 0, 0, 0,\n",
              "       0, 0, 0, 0, 0, 0, 0, 0, 0, 0, 0, 0, 0, 0, 0, 0, 0, 0, 0, 0, 0, 0,\n",
              "       0, 0, 0, 0, 0, 0, 0, 1, 1, 1, 1, 1, 1, 1, 1, 1, 1, 0, 0, 0, 0, 0,\n",
              "       0, 0, 0, 0, 0, 0, 1, 1, 1, 1, 1, 1, 1, 1, 1, 1, 1, 0, 0, 0, 0, 0,\n",
              "       0, 0, 0, 0, 1, 1, 1, 1, 1, 1, 1, 1, 0, 0, 0, 0, 0, 0, 0, 0, 0, 0,\n",
              "       0, 0, 0, 0, 0, 0, 0, 0, 0, 0, 0, 0, 0, 0, 0, 0, 0, 0, 1, 1, 1, 1,\n",
              "       1, 1, 1, 1, 1, 1, 1, 1, 1, 1, 1, 1, 1, 1, 1, 1, 1, 1, 1, 1, 1, 1,\n",
              "       1, 1, 1, 1, 1, 1, 1, 1, 1, 1, 1, 1, 1, 1, 1, 1, 1, 1, 1, 1, 0, 0,\n",
              "       0, 0, 0, 0, 0, 0, 0, 0, 0, 0, 0, 0, 0, 0, 0, 0, 0, 0, 0, 0, 0, 1,\n",
              "       1, 1, 1, 1, 0, 0, 0, 0, 0, 0, 0, 0, 0, 0, 1, 0, 1, 0, 0, 0, 0, 0,\n",
              "       0, 0, 0, 0, 0, 0, 0, 1, 1, 1, 1, 1, 0, 0])"
            ]
          },
          "metadata": {},
          "execution_count": 17
        }
      ]
    },
    {
      "cell_type": "markdown",
      "metadata": {
        "id": "pEUPQ9bsLkzy"
      },
      "source": [
        "## Feature transformation or Scalling"
      ]
    },
    {
      "cell_type": "code",
      "metadata": {
        "id": "6rJBcvXhLwm6"
      },
      "source": [
        "from sklearn.preprocessing import StandardScaler\n",
        "sc = StandardScaler()\n",
        "X = sc.fit_transform(X)"
      ],
      "execution_count": null,
      "outputs": []
    },
    {
      "cell_type": "code",
      "metadata": {
        "colab": {
          "base_uri": "https://localhost:8080/"
        },
        "id": "PYGwNjBSLFYn",
        "outputId": "5f1a3508-103d-4361-ce3c-e5672c1e2e6d"
      },
      "source": [
        "X"
      ],
      "execution_count": null,
      "outputs": [
        {
          "output_type": "execute_result",
          "data": {
            "text/plain": [
              "array([[-0.6613669 ,  0.76509206, -0.99233705, ...,  1.29099445,\n",
              "         1.38022749,  2.21564684],\n",
              "       [ 0.82136224,  0.76509206, -0.99233705, ..., -0.77459667,\n",
              "         1.38022749, -0.45133547],\n",
              "       [-0.57899306,  0.76509206,  1.00772212, ...,  1.29099445,\n",
              "         1.38022749, -0.45133547],\n",
              "       ...,\n",
              "       [ 0.82136224, -1.30703226,  1.00772212, ...,  1.29099445,\n",
              "        -0.72451824,  2.21564684],\n",
              "       [-1.32035762, -1.30703226, -0.99233705, ..., -0.77459667,\n",
              "         1.38022749, -0.45133547],\n",
              "       [-0.49661921,  0.76509206, -0.99233705, ..., -0.77459667,\n",
              "        -0.72451824, -0.45133547]])"
            ]
          },
          "metadata": {},
          "execution_count": 19
        }
      ]
    },
    {
      "cell_type": "markdown",
      "metadata": {
        "id": "UeJuukU5MFNo"
      },
      "source": [
        "## Handling Imbalanced Dataset"
      ]
    },
    {
      "cell_type": "code",
      "metadata": {
        "colab": {
          "base_uri": "https://localhost:8080/"
        },
        "id": "R-LScV4sMyhb",
        "outputId": "eacbee2d-d0b4-4be8-f90d-aac3e427fbe5"
      },
      "source": [
        "count_classes = pd.value_counts(dataset['class'])\n",
        "count_classes.plot(kind = 'bar', rot = 0)\n",
        "plt.title(\"Rating\")\n",
        "plt.xticks(range(3))\n",
        "plt.xlabel(\"Group\")\n",
        "plt.ylabel(\"No of patients\")"
      ],
      "execution_count": null,
      "outputs": [
        {
          "output_type": "execute_result",
          "data": {
            "text/plain": [
              "Text(0, 0.5, 'No of patients')"
            ]
          },
          "metadata": {},
          "execution_count": 20
        },
        {
          "output_type": "display_data",
          "data": {
            "text/plain": [
              "<Figure size 432x288 with 1 Axes>"
            ],
            "image/png": "[encoded data removed]"
          },
          "metadata": {
            "needs_background": "light"
          }
        }
      ]
    },
    {
      "cell_type": "code",
      "metadata": {
        "id": "7HvoNLzSfAj6"
      },
      "source": [
        "nondemented = Y[Y== 1]\n",
        "demented = Y[Y== 0]"
      ],
      "execution_count": null,
      "outputs": []
    },
    {
      "cell_type": "code",
      "metadata": {
        "colab": {
          "base_uri": "https://localhost:8080/"
        },
        "id": "HXVIqwd-fsRF",
        "outputId": "7bb93db3-f267-4491-9221-6912bb1f3e31"
      },
      "source": [
        "print(nondemented.shape, demented.shape)"
      ],
      "execution_count": null,
      "outputs": [
        {
          "output_type": "stream",
          "name": "stdout",
          "text": [
            "(320,) (200,)\n"
          ]
        }
      ]
    },
    {
      "cell_type": "markdown",
      "metadata": {
        "id": "WEO7Z8rInA_z"
      },
      "source": [
        "## SMOTE Sampling"
      ]
    },
    {
      "cell_type": "code",
      "metadata": {
        "id": "7T3enV_ilkPy"
      },
      "source": [
        "from imblearn.combine import SMOTETomek\n",
        "smk = SMOTETomek(random_state = 10)"
      ],
      "execution_count": null,
      "outputs": []
    },
    {
      "cell_type": "code",
      "metadata": {
        "id": "Js_g5PHCmE-B"
      },
      "source": [
        "X,Y = smk.fit_resample(X,Y)"
      ],
      "execution_count": null,
      "outputs": []
    },
    {
      "cell_type": "code",
      "metadata": {
        "colab": {
          "base_uri": "https://localhost:8080/"
        },
        "id": "1lN86_bUmZrU",
        "outputId": "11321a7f-b983-4c46-b2e4-59075c278696"
      },
      "source": [
        "X.shape,Y.shape"
      ],
      "execution_count": null,
      "outputs": [
        {
          "output_type": "execute_result",
          "data": {
            "text/plain": [
              "((638, 16), (638,))"
            ]
          },
          "metadata": {},
          "execution_count": 25
        }
      ]
    },
    {
      "cell_type": "markdown",
      "metadata": {
        "id": "CjTxCoHPu-40"
      },
      "source": [
        "## Feature Correlation and Dimension Reduction(LDA)"
      ]
    },
    {
      "cell_type": "code",
      "metadata": {
        "id": "kdLRSW5evDHx"
      },
      "source": [
        "from sklearn.preprocessing import Normalizer\n",
        "X = Normalizer().fit_transform(X)\n",
        "X = pd.DataFrame(X)"
      ],
      "execution_count": null,
      "outputs": []
    },
    {
      "cell_type": "code",
      "metadata": {
        "colab": {
          "base_uri": "https://localhost:8080/",
          "height": 378
        },
        "id": "q-MJ5-B6vIwa",
        "outputId": "7c7f60ea-beca-433d-9a28-8aecbe72671c"
      },
      "source": [
        "import seaborn as sns\n",
        "plt.figure(figsize=(10,6))\n",
        "cor = X.corr()\n",
        "sns.heatmap(cor, annot=True, cmap=plt.cm.CMRmap_r)\n",
        "plt.show()"
      ],
      "execution_count": null,
      "outputs": [
        {
          "output_type": "display_data",
          "data": {
            "text/plain": [
              "<Figure size 720x432 with 2 Axes>"
            ],
            "image/png": "[encoded data removed]"
          },
          "metadata": {
            "needs_background": "light"
          }
        }
      ]
    },
    {
      "cell_type": "code",
      "metadata": {
        "id": "GXJgNZJ8vk2z"
      },
      "source": [
        "from sklearn.discriminant_analysis import LinearDiscriminantAnalysis as LDA\n",
        "lda = LDA(n_components =-1 )\n",
        "X = lda.fit_transform(X,Y)"
      ],
      "execution_count": null,
      "outputs": []
    },
    {
      "cell_type": "markdown",
      "metadata": {
        "id": "8K-NEd05dooA"
      },
      "source": [
        "## Splitting dataset into training set and test set"
      ]
    },
    {
      "cell_type": "code",
      "metadata": {
        "id": "V8NmruLHMBfY"
      },
      "source": [
        "from sklearn.model_selection import train_test_split\n",
        "X_train, X_test, Y_train,Y_test = train_test_split(X, Y, test_size = 0.25, random_state = 0)"
      ],
      "execution_count": null,
      "outputs": []
    },
    {
      "cell_type": "markdown",
      "metadata": {
        "id": "wVLVrQUYok0o"
      },
      "source": [
        "## Import libraries and Function"
      ]
    },
    {
      "cell_type": "code",
      "metadata": {
        "id": "roZtSUTmooF4"
      },
      "source": [
        "from sklearn.metrics import roc_curve\n",
        "from sklearn.metrics import roc_auc_score\n",
        "from sklearn.model_selection import cross_val_score\n",
        "from sklearn.model_selection import cross_val_predict\n",
        "from sklearn.metrics import accuracy_score\n",
        "from sklearn.metrics import confusion_matrix\n",
        "from sklearn.metrics import f1_score\n",
        "from sklearn.metrics import precision_score\n",
        "from sklearn.metrics import classification_report\n",
        "from sklearn.metrics import recall_score\n",
        "import seaborn as sns"
      ],
      "execution_count": null,
      "outputs": []
    },
    {
      "cell_type": "code",
      "metadata": {
        "id": "7NuMsNswewLt"
      },
      "source": [
        "def cvresult(y,pred):\n",
        "  print('Cross Val f1 score : ',f1_score(y,pred))\n",
        "  print('Cross Val Precision : ',precision_score(y,pred))\n",
        "  print('Cross Val recall : ',recall_score(y,pred))\n",
        "  print('Cross Val Classification Report : \\n',classification_report(y,pred))"
      ],
      "execution_count": null,
      "outputs": []
    },
    {
      "cell_type": "code",
      "metadata": {
        "id": "dzBctz9myUwD"
      },
      "source": [
        "def result(y,p):\n",
        "  print('Accuracy : ',accuracy_score(y,p))\n",
        "  print('f1 score : ',f1_score(y,p))\n",
        "  print('Precision : ',precision_score(y,p))\n",
        "  print('recall : ',recall_score(y,p))\n",
        "  print('Classification Report : \\n',classification_report(y,p))"
      ],
      "execution_count": null,
      "outputs": []
    },
    {
      "cell_type": "code",
      "metadata": {
        "id": "GTdf2dBRd56Y"
      },
      "source": [
        "from sklearn.model_selection import cross_val_predict\n",
        "from sklearn.metrics import classification_report"
      ],
      "execution_count": null,
      "outputs": []
    },
    {
      "cell_type": "markdown",
      "metadata": {
        "id": "j7DbeuRRqa6_"
      },
      "source": [
        "## K-Fold Validation Import"
      ]
    },
    {
      "cell_type": "code",
      "metadata": {
        "id": "jiekc7NwqaCS"
      },
      "source": [
        "from sklearn.model_selection import cross_val_score"
      ],
      "execution_count": null,
      "outputs": []
    },
    {
      "cell_type": "code",
      "source": [
        "def Kfold_result(X,Y,model,foldnum):\n",
        "   print(\"\\ncross validation\")\n",
        "   from sklearn.model_selection import cross_val_score, cross_validate,cross_val_predict\n",
        "   from sklearn.metrics import make_scorer, accuracy_score, precision_score, recall_score, f1_score\n",
        "   scoring = {'accuracy' : make_scorer(accuracy_score),\n",
        "           'precision' : make_scorer(precision_score),\n",
        "           'recall' : make_scorer(recall_score),\n",
        "           'f1_score' : make_scorer(f1_score)}\n",
        "\n",
        "   results = cross_validate(estimator=model,\n",
        "                                          X=X,\n",
        "                                          y=Y,\n",
        "                                          cv=10,\n",
        "                                          scoring=scoring)\n",
        "   print('cross accuracy:',np.mean(results['test_accuracy']))\n",
        "   print('cross precision:',np.mean(results['test_precision']))\n",
        "   print('cross recall:',np.mean(results['test_recall']))\n",
        "   print('cross f1 score:', np.mean(results['test_f1_score']))\n",
        "   cross_pred_test = cross_val_predict(model,X,Y,cv = 10)\n",
        "   cm = confusion_matrix(Y,cross_pred_test)\n",
        "   group_names = ['','','','']\n",
        "   group_counts = [\"{0:0.0f}\".format(value) for value in\n",
        "                cm.flatten()]\n",
        "   group_percentages = [\"{0:.2%}\".format(value) for value in\n",
        "                     cm.flatten()/np.sum(cm)]\n",
        "   labels = [f\"{v1}\\n{v2}\\n{v3}\" for v1, v2, v3 in\n",
        "          zip(group_names,group_counts,group_percentages)]\n",
        "   labels = np.asarray(labels).reshape(2,2)\n",
        "   sns.heatmap(cm, annot=labels, fmt='', cmap='Purples')\n",
        "\n",
        "   pass"
      ],
      "metadata": {
        "id": "-8U0FdElgosk"
      },
      "execution_count": null,
      "outputs": []
    },
    {
      "cell_type": "markdown",
      "metadata": {
        "id": "xJlBT0pxRhEx"
      },
      "source": [
        "## Import Classifier Model"
      ]
    },
    {
      "cell_type": "code",
      "metadata": {
        "id": "2YQ6s38FRofI"
      },
      "source": [
        "from sklearn.linear_model import LogisticRegression\n",
        "from sklearn.neighbors import KNeighborsClassifier\n",
        "from sklearn.svm import SVC\n",
        "from sklearn.naive_bayes import GaussianNB\n",
        "from sklearn.tree import  DecisionTreeClassifier\n",
        "from sklearn.ensemble import RandomForestClassifier\n",
        "from sklearn.tree import ExtraTreeClassifier"
      ],
      "execution_count": null,
      "outputs": []
    },
    {
      "cell_type": "markdown",
      "metadata": {
        "id": "4RVRNpSWF8UU"
      },
      "source": [
        "# Hyper Parameter Tuning"
      ]
    },
    {
      "cell_type": "markdown",
      "metadata": {
        "id": "lrhVrlk5OYhP"
      },
      "source": [
        "###  Random search Grid search"
      ]
    },
    {
      "cell_type": "code",
      "metadata": {
        "id": "D1-GBiEiF38m"
      },
      "source": [
        "from sklearn.model_selection import RandomizedSearchCV\n",
        "from sklearn.model_selection import GridSearchCV"
      ],
      "execution_count": null,
      "outputs": []
    },
    {
      "cell_type": "markdown",
      "metadata": {
        "id": "mhrc8Xf5HlZR"
      },
      "source": [
        "### Linear Regression Random Search"
      ]
    },
    {
      "cell_type": "code",
      "metadata": {
        "colab": {
          "base_uri": "https://localhost:8080/"
        },
        "id": "NLeyXiAfGhht",
        "outputId": "1bd91501-8bb8-41a2-e4d8-d6703bc0eb29"
      },
      "source": [
        "rs = RandomizedSearchCV(LogisticRegression(solver='liblinear',multi_class='auto'),{ 'C' : [1,5,10]}, cv = 10,return_train_score=False, n_iter=2)\n",
        "rs.fit(X,Y)\n",
        "best_paramlr = rs.best_params_\n",
        "pd.DataFrame(rs.cv_results_)[['param_C','mean_test_score']]\n",
        "print(best_paramlr)"
      ],
      "execution_count": null,
      "outputs": [
        {
          "output_type": "stream",
          "name": "stdout",
          "text": [
            "{'C': 1}\n"
          ]
        }
      ]
    },
    {
      "cell_type": "markdown",
      "metadata": {
        "id": "RUu2K79y1Hs1"
      },
      "source": [
        "###KNN Random Search"
      ]
    },
    {
      "cell_type": "code",
      "metadata": {
        "colab": {
          "base_uri": "https://localhost:8080/"
        },
        "outputId": "abd2a98b-b27b-4cf3-c9ee-fee46b8706c6",
        "id": "xPdDQpta1Hs_"
      },
      "source": [
        "rs = RandomizedSearchCV(KNeighborsClassifier(), {\n",
        "            'leaf_size' : [1,5,10,15,20,50],\n",
        "            'n_neighbors' : [1,5,10,15],\n",
        "            'p' : [1,2,3]\n",
        "        })\n",
        "rs.fit(X,Y)\n",
        "best_paramknn = rs.best_params_\n",
        "pd.DataFrame(rs.cv_results_)[['param_leaf_size','param_n_neighbors','param_p','mean_test_score']]\n",
        "print(best_paramknn)"
      ],
      "execution_count": null,
      "outputs": [
        {
          "output_type": "stream",
          "name": "stdout",
          "text": [
            "{'p': 2, 'n_neighbors': 1, 'leaf_size': 10}\n"
          ]
        }
      ]
    },
    {
      "cell_type": "markdown",
      "metadata": {
        "id": "EsBCRAfJcITl"
      },
      "source": [
        "### SVM Random Search"
      ]
    },
    {
      "cell_type": "code",
      "metadata": {
        "id": "JagM1ezecOIT",
        "colab": {
          "base_uri": "https://localhost:8080/"
        },
        "outputId": "5840cc90-46c4-4fb5-923f-44f23f53fb4e"
      },
      "source": [
        "srs = RandomizedSearchCV(SVC(gamma='auto'),\n",
        "            {\n",
        "            'C' : [1,5,10,20,50],\n",
        "            'kernel': ['rbf','linear']\n",
        "        })\n",
        "srs.fit(X,Y)\n",
        "best_params = srs.best_params_\n",
        "pd.DataFrame(srs.cv_results_)[['param_C','param_kernel','mean_test_score']]"
      ],
      "execution_count": null,
      "outputs": [
        {
          "output_type": "execute_result",
          "data": {
            "text/plain": [
              "  param_C param_kernel  mean_test_score\n",
              "0       1          rbf         0.971826\n",
              "1       1       linear         0.943615\n",
              "2       5          rbf         0.982788\n",
              "3       5       linear         0.934240\n",
              "4      10          rbf         0.981225\n",
              "5      10       linear         0.942052\n",
              "6      20          rbf         0.979663\n",
              "7      20       linear         0.942052\n",
              "8      50          rbf         0.979663\n",
              "9      50       linear         0.940490"
            ],
            "text/html": [
              "\n",
              "  <div id=\"df-427ca845-7982-4757-bf40-7a0ae41ea23d\">\n",
              "    <div class=\"colab-df-container\">\n",
              "      <div>\n",
              "<style scoped>\n",
              "    .dataframe tbody tr th:only-of-type {\n",
              "        vertical-align: middle;\n",
              "    }\n",
              "\n",
              "    .dataframe tbody tr th {\n",
              "        vertical-align: top;\n",
              "    }\n",
              "\n",
              "    .dataframe thead th {\n",
              "        text-align: right;\n",
              "    }\n",
              "</style>\n",
              "<table border=\"1\" class=\"dataframe\">\n",
              "  <thead>\n",
              "    <tr style=\"text-align: right;\">\n",
              "      <th></th>\n",
              "      <th>param_C</th>\n",
              "      <th>param_kernel</th>\n",
              "      <th>mean_test_score</th>\n",
              "    </tr>\n",
              "  </thead>\n",
              "  <tbody>\n",
              "    <tr>\n",
              "      <th>0</th>\n",
              "      <td>1</td>\n",
              "      <td>rbf</td>\n",
              "      <td>0.971826</td>\n",
              "    </tr>\n",
              "    <tr>\n",
              "      <th>1</th>\n",
              "      <td>1</td>\n",
              "      <td>linear</td>\n",
              "      <td>0.943615</td>\n",
              "    </tr>\n",
              "    <tr>\n",
              "      <th>2</th>\n",
              "      <td>5</td>\n",
              "      <td>rbf</td>\n",
              "      <td>0.982788</td>\n",
              "    </tr>\n",
              "    <tr>\n",
              "      <th>3</th>\n",
              "      <td>5</td>\n",
              "      <td>linear</td>\n",
              "      <td>0.934240</td>\n",
              "    </tr>\n",
              "    <tr>\n",
              "      <th>4</th>\n",
              "      <td>10</td>\n",
              "      <td>rbf</td>\n",
              "      <td>0.981225</td>\n",
              "    </tr>\n",
              "    <tr>\n",
              "      <th>5</th>\n",
              "      <td>10</td>\n",
              "      <td>linear</td>\n",
              "      <td>0.942052</td>\n",
              "    </tr>\n",
              "    <tr>\n",
              "      <th>6</th>\n",
              "      <td>20</td>\n",
              "      <td>rbf</td>\n",
              "      <td>0.979663</td>\n",
              "    </tr>\n",
              "    <tr>\n",
              "      <th>7</th>\n",
              "      <td>20</td>\n",
              "      <td>linear</td>\n",
              "      <td>0.942052</td>\n",
              "    </tr>\n",
              "    <tr>\n",
              "      <th>8</th>\n",
              "      <td>50</td>\n",
              "      <td>rbf</td>\n",
              "      <td>0.979663</td>\n",
              "    </tr>\n",
              "    <tr>\n",
              "      <th>9</th>\n",
              "      <td>50</td>\n",
              "      <td>linear</td>\n",
              "      <td>0.940490</td>\n",
              "    </tr>\n",
              "  </tbody>\n",
              "</table>\n",
              "</div>\n",
              "      <button class=\"colab-df-convert\" onclick=\"convertToInteractive('df-427ca845-7982-4757-bf40-7a0ae41ea23d')\"\n",
              "              title=\"Convert this dataframe to an interactive table.\"\n",
              "              style=\"display:none;\">\n",
              "        \n",
              "  <svg xmlns=\"http://www.w3.org/2000/svg\" height=\"24px\"viewBox=\"0 0 24 24\"\n",
              "       width=\"24px\">\n",
              "    <path d=\"M0 0h24v24H0V0z\" fill=\"none\"/>\n",
              "    <path d=\"M18.56 5.44l.94 2.06.94-2.06 2.06-.94-2.06-.94-.94-2.06-.94 2.06-2.06.94zm-11 1L8.5 8.5l.94-2.06 2.06-.94-2.06-.94L8.5 2.5l-.94 2.06-2.06.94zm10 10l.94 2.06.94-2.06 2.06-.94-2.06-.94-.94-2.06-.94 2.06-2.06.94z\"/><path d=\"M17.41 7.96l-1.37-1.37c-.4-.4-.92-.59-1.43-.59-.52 0-1.04.2-1.43.59L10.3 9.45l-7.72 7.72c-.78.78-.78 2.05 0 2.83L4 21.41c.39.39.9.59 1.41.59.51 0 1.02-.2 1.41-.59l7.78-7.78 2.81-2.81c.8-.78.8-2.07 0-2.86zM5.41 20L4 18.59l7.72-7.72 1.47 1.35L5.41 20z\"/>\n",
              "  </svg>\n",
              "      </button>\n",
              "      \n",
              "  <style>\n",
              "    .colab-df-container {\n",
              "      display:flex;\n",
              "      flex-wrap:wrap;\n",
              "      gap: 12px;\n",
              "    }\n",
              "\n",
              "    .colab-df-convert {\n",
              "      background-color: #E8F0FE;\n",
              "      border: none;\n",
              "      border-radius: 50%;\n",
              "      cursor: pointer;\n",
              "      display: none;\n",
              "      fill: #1967D2;\n",
              "      height: 32px;\n",
              "      padding: 0 0 0 0;\n",
              "      width: 32px;\n",
              "    }\n",
              "\n",
              "    .colab-df-convert:hover {\n",
              "      background-color: #E2EBFA;\n",
              "      box-shadow: 0px 1px 2px rgba(60, 64, 67, 0.3), 0px 1px 3px 1px rgba(60, 64, 67, 0.15);\n",
              "      fill: #174EA6;\n",
              "    }\n",
              "\n",
              "    [theme=dark] .colab-df-convert {\n",
              "      background-color: #3B4455;\n",
              "      fill: #D2E3FC;\n",
              "    }\n",
              "\n",
              "    [theme=dark] .colab-df-convert:hover {\n",
              "      background-color: #434B5C;\n",
              "      box-shadow: 0px 1px 3px 1px rgba(0, 0, 0, 0.15);\n",
              "      filter: drop-shadow(0px 1px 2px rgba(0, 0, 0, 0.3));\n",
              "      fill: #FFFFFF;\n",
              "    }\n",
              "  </style>\n",
              "\n",
              "      <script>\n",
              "        const buttonEl =\n",
              "          document.querySelector('#df-427ca845-7982-4757-bf40-7a0ae41ea23d button.colab-df-convert');\n",
              "        buttonEl.style.display =\n",
              "          google.colab.kernel.accessAllowed ? 'block' : 'none';\n",
              "\n",
              "        async function convertToInteractive(key) {\n",
              "          const element = document.querySelector('#df-427ca845-7982-4757-bf40-7a0ae41ea23d');\n",
              "          const dataTable =\n",
              "            await google.colab.kernel.invokeFunction('convertToInteractive',\n",
              "                                                     [key], {});\n",
              "          if (!dataTable) return;\n",
              "\n",
              "          const docLinkHtml = 'Like what you see? Visit the ' +\n",
              "            '<a target=\"_blank\" href=https://colab.research.google.com/notebooks/data_table.ipynb>data table notebook</a>'\n",
              "            + ' to learn more about interactive tables.';\n",
              "          element.innerHTML = '';\n",
              "          dataTable['output_type'] = 'display_data';\n",
              "          await google.colab.output.renderOutput(dataTable, element);\n",
              "          const docLink = document.createElement('div');\n",
              "          docLink.innerHTML = docLinkHtml;\n",
              "          element.appendChild(docLink);\n",
              "        }\n",
              "      </script>\n",
              "    </div>\n",
              "  </div>\n",
              "  "
            ]
          },
          "metadata": {},
          "execution_count": 166
        }
      ]
    },
    {
      "cell_type": "markdown",
      "metadata": {
        "id": "twDHo-ncfpzf"
      },
      "source": [
        "### Naive Bayes Random Search"
      ]
    },
    {
      "cell_type": "code",
      "metadata": {
        "colab": {
          "base_uri": "https://localhost:8080/"
        },
        "id": "84EXYsjrfuCk",
        "outputId": "b9291db1-2070-4482-b018-9908199e1f34"
      },
      "source": [
        "nbrs = RandomizedSearchCV(GaussianNB(),\n",
        "            {\n",
        "            'var_smoothing' : [0.01,0.02,0.026,0.0265,0.0258,0.03]\n",
        "        })\n",
        "nbrs.fit(X,Y)\n",
        "best_paramnb = nbrs.best_params_\n",
        "pd.DataFrame(nbrs.cv_results_)[['param_var_smoothing','mean_test_score']]\n",
        "print(best_paramnb)"
      ],
      "execution_count": null,
      "outputs": [
        {
          "output_type": "stream",
          "name": "stdout",
          "text": [
            "{'var_smoothing': 0.01}\n"
          ]
        },
        {
          "output_type": "stream",
          "name": "stderr",
          "text": [
            "/usr/local/lib/python3.7/dist-packages/sklearn/model_selection/_search.py:296: UserWarning: The total space of parameters 6 is smaller than n_iter=10. Running 6 iterations. For exhaustive searches, use GridSearchCV.\n",
            "  UserWarning,\n"
          ]
        }
      ]
    },
    {
      "cell_type": "markdown",
      "metadata": {
        "id": "PltpZ740hMe2"
      },
      "source": [
        "### Decision tree Random Search"
      ]
    },
    {
      "cell_type": "code",
      "metadata": {
        "colab": {
          "base_uri": "https://localhost:8080/"
        },
        "id": "wprXrv-ghUv8",
        "outputId": "70a70e74-51fe-4a4d-ea7c-901165ba8812"
      },
      "source": [
        "dtrs = RandomizedSearchCV(DecisionTreeClassifier(),{\n",
        "            'splitter':['best','random'],\n",
        "            'max_depth' : [1,3,5],\n",
        "            'min_samples_leaf':[1,2,3,4,5],\n",
        "            'max_features':['auto','log2','sqrt',None],\n",
        "            'max_leaf_nodes':[None,10,20,30,40,50,60,70,80,90]\n",
        "        })\n",
        "dtrs.fit(X,Y)\n",
        "best_paramdt = dtrs.best_params_\n",
        "pd.DataFrame(dtrs.cv_results_)[['param_splitter','param_max_depth','param_min_samples_leaf','param_max_features','param_max_leaf_nodes','mean_test_score']]"
      ],
      "execution_count": null,
      "outputs": [
        {
          "output_type": "execute_result",
          "data": {
            "text/plain": [
              "  param_splitter param_max_depth param_min_samples_leaf param_max_features  \\\n",
              "0         random               1                      4               auto   \n",
              "1         random               5                      5               None   \n",
              "2         random               1                      5               log2   \n",
              "3         random               1                      3               None   \n",
              "4           best               5                      2               log2   \n",
              "5         random               1                      4               None   \n",
              "6           best               1                      5               sqrt   \n",
              "7         random               5                      1               log2   \n",
              "8         random               1                      3               log2   \n",
              "9         random               3                      4               auto   \n",
              "\n",
              "  param_max_leaf_nodes  mean_test_score  \n",
              "0                   40         0.749459  \n",
              "1                   40         0.932689  \n",
              "2                   70         0.783588  \n",
              "3                   80         0.835458  \n",
              "4                   40         0.901341  \n",
              "5                   20         0.849631  \n",
              "6                   30         0.780549  \n",
              "7                   90         0.907665  \n",
              "8                   50         0.748056  \n",
              "9                   50         0.833871  "
            ],
            "text/html": [
              "\n",
              "  <div id=\"df-6a85d7ff-1af4-4409-b778-464b638fc972\">\n",
              "    <div class=\"colab-df-container\">\n",
              "      <div>\n",
              "<style scoped>\n",
              "    .dataframe tbody tr th:only-of-type {\n",
              "        vertical-align: middle;\n",
              "    }\n",
              "\n",
              "    .dataframe tbody tr th {\n",
              "        vertical-align: top;\n",
              "    }\n",
              "\n",
              "    .dataframe thead th {\n",
              "        text-align: right;\n",
              "    }\n",
              "</style>\n",
              "<table border=\"1\" class=\"dataframe\">\n",
              "  <thead>\n",
              "    <tr style=\"text-align: right;\">\n",
              "      <th></th>\n",
              "      <th>param_splitter</th>\n",
              "      <th>param_max_depth</th>\n",
              "      <th>param_min_samples_leaf</th>\n",
              "      <th>param_max_features</th>\n",
              "      <th>param_max_leaf_nodes</th>\n",
              "      <th>mean_test_score</th>\n",
              "    </tr>\n",
              "  </thead>\n",
              "  <tbody>\n",
              "    <tr>\n",
              "      <th>0</th>\n",
              "      <td>random</td>\n",
              "      <td>1</td>\n",
              "      <td>4</td>\n",
              "      <td>auto</td>\n",
              "      <td>40</td>\n",
              "      <td>0.749459</td>\n",
              "    </tr>\n",
              "    <tr>\n",
              "      <th>1</th>\n",
              "      <td>random</td>\n",
              "      <td>5</td>\n",
              "      <td>5</td>\n",
              "      <td>None</td>\n",
              "      <td>40</td>\n",
              "      <td>0.932689</td>\n",
              "    </tr>\n",
              "    <tr>\n",
              "      <th>2</th>\n",
              "      <td>random</td>\n",
              "      <td>1</td>\n",
              "      <td>5</td>\n",
              "      <td>log2</td>\n",
              "      <td>70</td>\n",
              "      <td>0.783588</td>\n",
              "    </tr>\n",
              "    <tr>\n",
              "      <th>3</th>\n",
              "      <td>random</td>\n",
              "      <td>1</td>\n",
              "      <td>3</td>\n",
              "      <td>None</td>\n",
              "      <td>80</td>\n",
              "      <td>0.835458</td>\n",
              "    </tr>\n",
              "    <tr>\n",
              "      <th>4</th>\n",
              "      <td>best</td>\n",
              "      <td>5</td>\n",
              "      <td>2</td>\n",
              "      <td>log2</td>\n",
              "      <td>40</td>\n",
              "      <td>0.901341</td>\n",
              "    </tr>\n",
              "    <tr>\n",
              "      <th>5</th>\n",
              "      <td>random</td>\n",
              "      <td>1</td>\n",
              "      <td>4</td>\n",
              "      <td>None</td>\n",
              "      <td>20</td>\n",
              "      <td>0.849631</td>\n",
              "    </tr>\n",
              "    <tr>\n",
              "      <th>6</th>\n",
              "      <td>best</td>\n",
              "      <td>1</td>\n",
              "      <td>5</td>\n",
              "      <td>sqrt</td>\n",
              "      <td>30</td>\n",
              "      <td>0.780549</td>\n",
              "    </tr>\n",
              "    <tr>\n",
              "      <th>7</th>\n",
              "      <td>random</td>\n",
              "      <td>5</td>\n",
              "      <td>1</td>\n",
              "      <td>log2</td>\n",
              "      <td>90</td>\n",
              "      <td>0.907665</td>\n",
              "    </tr>\n",
              "    <tr>\n",
              "      <th>8</th>\n",
              "      <td>random</td>\n",
              "      <td>1</td>\n",
              "      <td>3</td>\n",
              "      <td>log2</td>\n",
              "      <td>50</td>\n",
              "      <td>0.748056</td>\n",
              "    </tr>\n",
              "    <tr>\n",
              "      <th>9</th>\n",
              "      <td>random</td>\n",
              "      <td>3</td>\n",
              "      <td>4</td>\n",
              "      <td>auto</td>\n",
              "      <td>50</td>\n",
              "      <td>0.833871</td>\n",
              "    </tr>\n",
              "  </tbody>\n",
              "</table>\n",
              "</div>\n",
              "      <button class=\"colab-df-convert\" onclick=\"convertToInteractive('df-6a85d7ff-1af4-4409-b778-464b638fc972')\"\n",
              "              title=\"Convert this dataframe to an interactive table.\"\n",
              "              style=\"display:none;\">\n",
              "        \n",
              "  <svg xmlns=\"http://www.w3.org/2000/svg\" height=\"24px\"viewBox=\"0 0 24 24\"\n",
              "       width=\"24px\">\n",
              "    <path d=\"M0 0h24v24H0V0z\" fill=\"none\"/>\n",
              "    <path d=\"M18.56 5.44l.94 2.06.94-2.06 2.06-.94-2.06-.94-.94-2.06-.94 2.06-2.06.94zm-11 1L8.5 8.5l.94-2.06 2.06-.94-2.06-.94L8.5 2.5l-.94 2.06-2.06.94zm10 10l.94 2.06.94-2.06 2.06-.94-2.06-.94-.94-2.06-.94 2.06-2.06.94z\"/><path d=\"M17.41 7.96l-1.37-1.37c-.4-.4-.92-.59-1.43-.59-.52 0-1.04.2-1.43.59L10.3 9.45l-7.72 7.72c-.78.78-.78 2.05 0 2.83L4 21.41c.39.39.9.59 1.41.59.51 0 1.02-.2 1.41-.59l7.78-7.78 2.81-2.81c.8-.78.8-2.07 0-2.86zM5.41 20L4 18.59l7.72-7.72 1.47 1.35L5.41 20z\"/>\n",
              "  </svg>\n",
              "      </button>\n",
              "      \n",
              "  <style>\n",
              "    .colab-df-container {\n",
              "      display:flex;\n",
              "      flex-wrap:wrap;\n",
              "      gap: 12px;\n",
              "    }\n",
              "\n",
              "    .colab-df-convert {\n",
              "      background-color: #E8F0FE;\n",
              "      border: none;\n",
              "      border-radius: 50%;\n",
              "      cursor: pointer;\n",
              "      display: none;\n",
              "      fill: #1967D2;\n",
              "      height: 32px;\n",
              "      padding: 0 0 0 0;\n",
              "      width: 32px;\n",
              "    }\n",
              "\n",
              "    .colab-df-convert:hover {\n",
              "      background-color: #E2EBFA;\n",
              "      box-shadow: 0px 1px 2px rgba(60, 64, 67, 0.3), 0px 1px 3px 1px rgba(60, 64, 67, 0.15);\n",
              "      fill: #174EA6;\n",
              "    }\n",
              "\n",
              "    [theme=dark] .colab-df-convert {\n",
              "      background-color: #3B4455;\n",
              "      fill: #D2E3FC;\n",
              "    }\n",
              "\n",
              "    [theme=dark] .colab-df-convert:hover {\n",
              "      background-color: #434B5C;\n",
              "      box-shadow: 0px 1px 3px 1px rgba(0, 0, 0, 0.15);\n",
              "      filter: drop-shadow(0px 1px 2px rgba(0, 0, 0, 0.3));\n",
              "      fill: #FFFFFF;\n",
              "    }\n",
              "  </style>\n",
              "\n",
              "      <script>\n",
              "        const buttonEl =\n",
              "          document.querySelector('#df-6a85d7ff-1af4-4409-b778-464b638fc972 button.colab-df-convert');\n",
              "        buttonEl.style.display =\n",
              "          google.colab.kernel.accessAllowed ? 'block' : 'none';\n",
              "\n",
              "        async function convertToInteractive(key) {\n",
              "          const element = document.querySelector('#df-6a85d7ff-1af4-4409-b778-464b638fc972');\n",
              "          const dataTable =\n",
              "            await google.colab.kernel.invokeFunction('convertToInteractive',\n",
              "                                                     [key], {});\n",
              "          if (!dataTable) return;\n",
              "\n",
              "          const docLinkHtml = 'Like what you see? Visit the ' +\n",
              "            '<a target=\"_blank\" href=https://colab.research.google.com/notebooks/data_table.ipynb>data table notebook</a>'\n",
              "            + ' to learn more about interactive tables.';\n",
              "          element.innerHTML = '';\n",
              "          dataTable['output_type'] = 'display_data';\n",
              "          await google.colab.output.renderOutput(dataTable, element);\n",
              "          const docLink = document.createElement('div');\n",
              "          docLink.innerHTML = docLinkHtml;\n",
              "          element.appendChild(docLink);\n",
              "        }\n",
              "      </script>\n",
              "    </div>\n",
              "  </div>\n",
              "  "
            ]
          },
          "metadata": {},
          "execution_count": 168
        }
      ]
    },
    {
      "cell_type": "markdown",
      "metadata": {
        "id": "coMatoOFH0nP"
      },
      "source": [
        "### Random Forest Random Search"
      ]
    },
    {
      "cell_type": "code",
      "metadata": {
        "colab": {
          "base_uri": "https://localhost:8080/"
        },
        "id": "Lq-ZpmNQQczv",
        "outputId": "1fb7b2be-b43f-468a-c228-056e6f815602"
      },
      "source": [
        "rfrs = RandomizedSearchCV(RandomForestClassifier(),{\n",
        "            'bootstrap': [True],\n",
        "            'max_depth': [5, 10, None],\n",
        "            'max_features': ['auto', 'log2'],\n",
        "            'n_estimators': [5, 6, 7, 8, 9, 10, 11, 12, 13, 15]\n",
        "        })\n",
        "rfrs.fit(X,Y)\n",
        "best_paramrf = rfrs.best_params_\n",
        "pd.DataFrame(rfrs.cv_results_)[['param_bootstrap','param_max_depth','param_max_features','param_n_estimators','mean_test_score']]"
      ],
      "execution_count": null,
      "outputs": [
        {
          "output_type": "execute_result",
          "data": {
            "text/plain": [
              "  param_bootstrap param_max_depth param_max_features param_n_estimators  \\\n",
              "0            True            None               auto                 15   \n",
              "1            True              10               auto                  7   \n",
              "2            True               5               log2                 12   \n",
              "3            True            None               auto                  8   \n",
              "4            True               5               log2                 13   \n",
              "5            True               5               log2                 11   \n",
              "6            True              10               auto                 13   \n",
              "7            True            None               auto                  6   \n",
              "8            True            None               auto                  5   \n",
              "9            True            None               auto                 11   \n",
              "\n",
              "   mean_test_score  \n",
              "0         0.982800  \n",
              "1         0.982800  \n",
              "2         0.960876  \n",
              "3         0.981238  \n",
              "4         0.949889  \n",
              "5         0.954589  \n",
              "6         0.990625  \n",
              "7         0.981238  \n",
              "8         0.984338  \n",
              "9         0.982800  "
            ],
            "text/html": [
              "\n",
              "  <div id=\"df-88f7d240-17f7-47ed-b858-abbcc288b81c\">\n",
              "    <div class=\"colab-df-container\">\n",
              "      <div>\n",
              "<style scoped>\n",
              "    .dataframe tbody tr th:only-of-type {\n",
              "        vertical-align: middle;\n",
              "    }\n",
              "\n",
              "    .dataframe tbody tr th {\n",
              "        vertical-align: top;\n",
              "    }\n",
              "\n",
              "    .dataframe thead th {\n",
              "        text-align: right;\n",
              "    }\n",
              "</style>\n",
              "<table border=\"1\" class=\"dataframe\">\n",
              "  <thead>\n",
              "    <tr style=\"text-align: right;\">\n",
              "      <th></th>\n",
              "      <th>param_bootstrap</th>\n",
              "      <th>param_max_depth</th>\n",
              "      <th>param_max_features</th>\n",
              "      <th>param_n_estimators</th>\n",
              "      <th>mean_test_score</th>\n",
              "    </tr>\n",
              "  </thead>\n",
              "  <tbody>\n",
              "    <tr>\n",
              "      <th>0</th>\n",
              "      <td>True</td>\n",
              "      <td>None</td>\n",
              "      <td>auto</td>\n",
              "      <td>15</td>\n",
              "      <td>0.982800</td>\n",
              "    </tr>\n",
              "    <tr>\n",
              "      <th>1</th>\n",
              "      <td>True</td>\n",
              "      <td>10</td>\n",
              "      <td>auto</td>\n",
              "      <td>7</td>\n",
              "      <td>0.982800</td>\n",
              "    </tr>\n",
              "    <tr>\n",
              "      <th>2</th>\n",
              "      <td>True</td>\n",
              "      <td>5</td>\n",
              "      <td>log2</td>\n",
              "      <td>12</td>\n",
              "      <td>0.960876</td>\n",
              "    </tr>\n",
              "    <tr>\n",
              "      <th>3</th>\n",
              "      <td>True</td>\n",
              "      <td>None</td>\n",
              "      <td>auto</td>\n",
              "      <td>8</td>\n",
              "      <td>0.981238</td>\n",
              "    </tr>\n",
              "    <tr>\n",
              "      <th>4</th>\n",
              "      <td>True</td>\n",
              "      <td>5</td>\n",
              "      <td>log2</td>\n",
              "      <td>13</td>\n",
              "      <td>0.949889</td>\n",
              "    </tr>\n",
              "    <tr>\n",
              "      <th>5</th>\n",
              "      <td>True</td>\n",
              "      <td>5</td>\n",
              "      <td>log2</td>\n",
              "      <td>11</td>\n",
              "      <td>0.954589</td>\n",
              "    </tr>\n",
              "    <tr>\n",
              "      <th>6</th>\n",
              "      <td>True</td>\n",
              "      <td>10</td>\n",
              "      <td>auto</td>\n",
              "      <td>13</td>\n",
              "      <td>0.990625</td>\n",
              "    </tr>\n",
              "    <tr>\n",
              "      <th>7</th>\n",
              "      <td>True</td>\n",
              "      <td>None</td>\n",
              "      <td>auto</td>\n",
              "      <td>6</td>\n",
              "      <td>0.981238</td>\n",
              "    </tr>\n",
              "    <tr>\n",
              "      <th>8</th>\n",
              "      <td>True</td>\n",
              "      <td>None</td>\n",
              "      <td>auto</td>\n",
              "      <td>5</td>\n",
              "      <td>0.984338</td>\n",
              "    </tr>\n",
              "    <tr>\n",
              "      <th>9</th>\n",
              "      <td>True</td>\n",
              "      <td>None</td>\n",
              "      <td>auto</td>\n",
              "      <td>11</td>\n",
              "      <td>0.982800</td>\n",
              "    </tr>\n",
              "  </tbody>\n",
              "</table>\n",
              "</div>\n",
              "      <button class=\"colab-df-convert\" onclick=\"convertToInteractive('df-88f7d240-17f7-47ed-b858-abbcc288b81c')\"\n",
              "              title=\"Convert this dataframe to an interactive table.\"\n",
              "              style=\"display:none;\">\n",
              "        \n",
              "  <svg xmlns=\"http://www.w3.org/2000/svg\" height=\"24px\"viewBox=\"0 0 24 24\"\n",
              "       width=\"24px\">\n",
              "    <path d=\"M0 0h24v24H0V0z\" fill=\"none\"/>\n",
              "    <path d=\"M18.56 5.44l.94 2.06.94-2.06 2.06-.94-2.06-.94-.94-2.06-.94 2.06-2.06.94zm-11 1L8.5 8.5l.94-2.06 2.06-.94-2.06-.94L8.5 2.5l-.94 2.06-2.06.94zm10 10l.94 2.06.94-2.06 2.06-.94-2.06-.94-.94-2.06-.94 2.06-2.06.94z\"/><path d=\"M17.41 7.96l-1.37-1.37c-.4-.4-.92-.59-1.43-.59-.52 0-1.04.2-1.43.59L10.3 9.45l-7.72 7.72c-.78.78-.78 2.05 0 2.83L4 21.41c.39.39.9.59 1.41.59.51 0 1.02-.2 1.41-.59l7.78-7.78 2.81-2.81c.8-.78.8-2.07 0-2.86zM5.41 20L4 18.59l7.72-7.72 1.47 1.35L5.41 20z\"/>\n",
              "  </svg>\n",
              "      </button>\n",
              "      \n",
              "  <style>\n",
              "    .colab-df-container {\n",
              "      display:flex;\n",
              "      flex-wrap:wrap;\n",
              "      gap: 12px;\n",
              "    }\n",
              "\n",
              "    .colab-df-convert {\n",
              "      background-color: #E8F0FE;\n",
              "      border: none;\n",
              "      border-radius: 50%;\n",
              "      cursor: pointer;\n",
              "      display: none;\n",
              "      fill: #1967D2;\n",
              "      height: 32px;\n",
              "      padding: 0 0 0 0;\n",
              "      width: 32px;\n",
              "    }\n",
              "\n",
              "    .colab-df-convert:hover {\n",
              "      background-color: #E2EBFA;\n",
              "      box-shadow: 0px 1px 2px rgba(60, 64, 67, 0.3), 0px 1px 3px 1px rgba(60, 64, 67, 0.15);\n",
              "      fill: #174EA6;\n",
              "    }\n",
              "\n",
              "    [theme=dark] .colab-df-convert {\n",
              "      background-color: #3B4455;\n",
              "      fill: #D2E3FC;\n",
              "    }\n",
              "\n",
              "    [theme=dark] .colab-df-convert:hover {\n",
              "      background-color: #434B5C;\n",
              "      box-shadow: 0px 1px 3px 1px rgba(0, 0, 0, 0.15);\n",
              "      filter: drop-shadow(0px 1px 2px rgba(0, 0, 0, 0.3));\n",
              "      fill: #FFFFFF;\n",
              "    }\n",
              "  </style>\n",
              "\n",
              "      <script>\n",
              "        const buttonEl =\n",
              "          document.querySelector('#df-88f7d240-17f7-47ed-b858-abbcc288b81c button.colab-df-convert');\n",
              "        buttonEl.style.display =\n",
              "          google.colab.kernel.accessAllowed ? 'block' : 'none';\n",
              "\n",
              "        async function convertToInteractive(key) {\n",
              "          const element = document.querySelector('#df-88f7d240-17f7-47ed-b858-abbcc288b81c');\n",
              "          const dataTable =\n",
              "            await google.colab.kernel.invokeFunction('convertToInteractive',\n",
              "                                                     [key], {});\n",
              "          if (!dataTable) return;\n",
              "\n",
              "          const docLinkHtml = 'Like what you see? Visit the ' +\n",
              "            '<a target=\"_blank\" href=https://colab.research.google.com/notebooks/data_table.ipynb>data table notebook</a>'\n",
              "            + ' to learn more about interactive tables.';\n",
              "          element.innerHTML = '';\n",
              "          dataTable['output_type'] = 'display_data';\n",
              "          await google.colab.output.renderOutput(dataTable, element);\n",
              "          const docLink = document.createElement('div');\n",
              "          docLink.innerHTML = docLinkHtml;\n",
              "          element.appendChild(docLink);\n",
              "        }\n",
              "      </script>\n",
              "    </div>\n",
              "  </div>\n",
              "  "
            ]
          },
          "metadata": {},
          "execution_count": 169
        }
      ]
    },
    {
      "cell_type": "markdown",
      "metadata": {
        "id": "r8bjLDpHH7AH"
      },
      "source": [
        "### Extra Tree Random Search"
      ]
    },
    {
      "cell_type": "code",
      "metadata": {
        "colab": {
          "base_uri": "https://localhost:8080/",
          "height": 363
        },
        "id": "XdWeksw6aiOH",
        "outputId": "7bf4e915-bc9f-49f0-abbe-c4056ca9467c"
      },
      "source": [
        "etrs = RandomizedSearchCV(ExtraTreeClassifier(),{\n",
        "            'criterion': ['gini','entropy'],\n",
        "            'max_depth': [i for i in range(1,7,1)],\n",
        "            'max_features': ['auto', 'log2','sqrt']\n",
        "        })\n",
        "etrs.fit(X,Y)\n",
        "best_paramet = etrs.best_params_\n",
        "pd.DataFrame(etrs.cv_results_)[['param_criterion','param_max_depth','param_max_features',\n",
        "                              'mean_test_score']]"
      ],
      "execution_count": null,
      "outputs": [
        {
          "output_type": "execute_result",
          "data": {
            "text/plain": [
              "  param_criterion param_max_depth param_max_features  mean_test_score\n",
              "0            gini               5               sqrt         0.924828\n",
              "1            gini               3               auto         0.840182\n",
              "2            gini               5               auto         0.892028\n",
              "3            gini               1               auto         0.796112\n",
              "4         entropy               3               auto         0.838620\n",
              "5            gini               3               sqrt         0.876304\n",
              "6            gini               2               auto         0.814985\n",
              "7         entropy               1               sqrt         0.736750\n",
              "8            gini               2               log2         0.796260\n",
              "9            gini               5               log2         0.926464"
            ],
            "text/html": [
              "\n",
              "  <div id=\"df-8bf7dab7-a069-4f51-9692-05e82c1b0619\">\n",
              "    <div class=\"colab-df-container\">\n",
              "      <div>\n",
              "<style scoped>\n",
              "    .dataframe tbody tr th:only-of-type {\n",
              "        vertical-align: middle;\n",
              "    }\n",
              "\n",
              "    .dataframe tbody tr th {\n",
              "        vertical-align: top;\n",
              "    }\n",
              "\n",
              "    .dataframe thead th {\n",
              "        text-align: right;\n",
              "    }\n",
              "</style>\n",
              "<table border=\"1\" class=\"dataframe\">\n",
              "  <thead>\n",
              "    <tr style=\"text-align: right;\">\n",
              "      <th></th>\n",
              "      <th>param_criterion</th>\n",
              "      <th>param_max_depth</th>\n",
              "      <th>param_max_features</th>\n",
              "      <th>mean_test_score</th>\n",
              "    </tr>\n",
              "  </thead>\n",
              "  <tbody>\n",
              "    <tr>\n",
              "      <th>0</th>\n",
              "      <td>gini</td>\n",
              "      <td>5</td>\n",
              "      <td>sqrt</td>\n",
              "      <td>0.924828</td>\n",
              "    </tr>\n",
              "    <tr>\n",
              "      <th>1</th>\n",
              "      <td>gini</td>\n",
              "      <td>3</td>\n",
              "      <td>auto</td>\n",
              "      <td>0.840182</td>\n",
              "    </tr>\n",
              "    <tr>\n",
              "      <th>2</th>\n",
              "      <td>gini</td>\n",
              "      <td>5</td>\n",
              "      <td>auto</td>\n",
              "      <td>0.892028</td>\n",
              "    </tr>\n",
              "    <tr>\n",
              "      <th>3</th>\n",
              "      <td>gini</td>\n",
              "      <td>1</td>\n",
              "      <td>auto</td>\n",
              "      <td>0.796112</td>\n",
              "    </tr>\n",
              "    <tr>\n",
              "      <th>4</th>\n",
              "      <td>entropy</td>\n",
              "      <td>3</td>\n",
              "      <td>auto</td>\n",
              "      <td>0.838620</td>\n",
              "    </tr>\n",
              "    <tr>\n",
              "      <th>5</th>\n",
              "      <td>gini</td>\n",
              "      <td>3</td>\n",
              "      <td>sqrt</td>\n",
              "      <td>0.876304</td>\n",
              "    </tr>\n",
              "    <tr>\n",
              "      <th>6</th>\n",
              "      <td>gini</td>\n",
              "      <td>2</td>\n",
              "      <td>auto</td>\n",
              "      <td>0.814985</td>\n",
              "    </tr>\n",
              "    <tr>\n",
              "      <th>7</th>\n",
              "      <td>entropy</td>\n",
              "      <td>1</td>\n",
              "      <td>sqrt</td>\n",
              "      <td>0.736750</td>\n",
              "    </tr>\n",
              "    <tr>\n",
              "      <th>8</th>\n",
              "      <td>gini</td>\n",
              "      <td>2</td>\n",
              "      <td>log2</td>\n",
              "      <td>0.796260</td>\n",
              "    </tr>\n",
              "    <tr>\n",
              "      <th>9</th>\n",
              "      <td>gini</td>\n",
              "      <td>5</td>\n",
              "      <td>log2</td>\n",
              "      <td>0.926464</td>\n",
              "    </tr>\n",
              "  </tbody>\n",
              "</table>\n",
              "</div>\n",
              "      <button class=\"colab-df-convert\" onclick=\"convertToInteractive('df-8bf7dab7-a069-4f51-9692-05e82c1b0619')\"\n",
              "              title=\"Convert this dataframe to an interactive table.\"\n",
              "              style=\"display:none;\">\n",
              "        \n",
              "  <svg xmlns=\"http://www.w3.org/2000/svg\" height=\"24px\"viewBox=\"0 0 24 24\"\n",
              "       width=\"24px\">\n",
              "    <path d=\"M0 0h24v24H0V0z\" fill=\"none\"/>\n",
              "    <path d=\"M18.56 5.44l.94 2.06.94-2.06 2.06-.94-2.06-.94-.94-2.06-.94 2.06-2.06.94zm-11 1L8.5 8.5l.94-2.06 2.06-.94-2.06-.94L8.5 2.5l-.94 2.06-2.06.94zm10 10l.94 2.06.94-2.06 2.06-.94-2.06-.94-.94-2.06-.94 2.06-2.06.94z\"/><path d=\"M17.41 7.96l-1.37-1.37c-.4-.4-.92-.59-1.43-.59-.52 0-1.04.2-1.43.59L10.3 9.45l-7.72 7.72c-.78.78-.78 2.05 0 2.83L4 21.41c.39.39.9.59 1.41.59.51 0 1.02-.2 1.41-.59l7.78-7.78 2.81-2.81c.8-.78.8-2.07 0-2.86zM5.41 20L4 18.59l7.72-7.72 1.47 1.35L5.41 20z\"/>\n",
              "  </svg>\n",
              "      </button>\n",
              "      \n",
              "  <style>\n",
              "    .colab-df-container {\n",
              "      display:flex;\n",
              "      flex-wrap:wrap;\n",
              "      gap: 12px;\n",
              "    }\n",
              "\n",
              "    .colab-df-convert {\n",
              "      background-color: #E8F0FE;\n",
              "      border: none;\n",
              "      border-radius: 50%;\n",
              "      cursor: pointer;\n",
              "      display: none;\n",
              "      fill: #1967D2;\n",
              "      height: 32px;\n",
              "      padding: 0 0 0 0;\n",
              "      width: 32px;\n",
              "    }\n",
              "\n",
              "    .colab-df-convert:hover {\n",
              "      background-color: #E2EBFA;\n",
              "      box-shadow: 0px 1px 2px rgba(60, 64, 67, 0.3), 0px 1px 3px 1px rgba(60, 64, 67, 0.15);\n",
              "      fill: #174EA6;\n",
              "    }\n",
              "\n",
              "    [theme=dark] .colab-df-convert {\n",
              "      background-color: #3B4455;\n",
              "      fill: #D2E3FC;\n",
              "    }\n",
              "\n",
              "    [theme=dark] .colab-df-convert:hover {\n",
              "      background-color: #434B5C;\n",
              "      box-shadow: 0px 1px 3px 1px rgba(0, 0, 0, 0.15);\n",
              "      filter: drop-shadow(0px 1px 2px rgba(0, 0, 0, 0.3));\n",
              "      fill: #FFFFFF;\n",
              "    }\n",
              "  </style>\n",
              "\n",
              "      <script>\n",
              "        const buttonEl =\n",
              "          document.querySelector('#df-8bf7dab7-a069-4f51-9692-05e82c1b0619 button.colab-df-convert');\n",
              "        buttonEl.style.display =\n",
              "          google.colab.kernel.accessAllowed ? 'block' : 'none';\n",
              "\n",
              "        async function convertToInteractive(key) {\n",
              "          const element = document.querySelector('#df-8bf7dab7-a069-4f51-9692-05e82c1b0619');\n",
              "          const dataTable =\n",
              "            await google.colab.kernel.invokeFunction('convertToInteractive',\n",
              "                                                     [key], {});\n",
              "          if (!dataTable) return;\n",
              "\n",
              "          const docLinkHtml = 'Like what you see? Visit the ' +\n",
              "            '<a target=\"_blank\" href=https://colab.research.google.com/notebooks/data_table.ipynb>data table notebook</a>'\n",
              "            + ' to learn more about interactive tables.';\n",
              "          element.innerHTML = '';\n",
              "          dataTable['output_type'] = 'display_data';\n",
              "          await google.colab.output.renderOutput(dataTable, element);\n",
              "          const docLink = document.createElement('div');\n",
              "          docLink.innerHTML = docLinkHtml;\n",
              "          element.appendChild(docLink);\n",
              "        }\n",
              "      </script>\n",
              "    </div>\n",
              "  </div>\n",
              "  "
            ]
          },
          "metadata": {},
          "execution_count": 120
        }
      ]
    },
    {
      "cell_type": "markdown",
      "metadata": {
        "id": "-b7gvnuxOhme"
      },
      "source": [
        "# Find best parameters"
      ]
    },
    {
      "cell_type": "code",
      "metadata": {
        "id": "dGqD5_-YOtgH"
      },
      "source": [
        "model_params = {\n",
        "    'logistic_regression' :{\n",
        "        'model': LogisticRegression(solver='liblinear',multi_class='auto'),\n",
        "        'params': {\n",
        "            'C' : [1,5,10,20,50]\n",
        "        }\n",
        "    },\n",
        "    'KNN' :{\n",
        "        'model': KNeighborsClassifier(),\n",
        "        'params': {\n",
        "            'leaf_size' : [1,5,10,15,20,50],\n",
        "            'n_neighbors' : [1,5,10,15],\n",
        "            'p' : [1,2,3]\n",
        "        }\n",
        "    },\n",
        "    'SVM' :{\n",
        "        'model': SVC(gamma='auto'),\n",
        "        'params': {\n",
        "            'C' : [1,5,10,20,50],\n",
        "            'kernel': ['rbf','linear']\n",
        "        }\n",
        "    },\n",
        "    'Naive Bayes' :{\n",
        "        'model': GaussianNB(),\n",
        "        'params': {\n",
        "            'var_smoothing' : [0.01,0.02,0.026,0.0265,0.0258,0.03]\n",
        "        }\n",
        "    },\n",
        "    'Decision Tree' :{\n",
        "        'model': DecisionTreeClassifier(),\n",
        "        'params': {\n",
        "            'splitter':['best','random'],\n",
        "            'max_depth' : [1,3,5],\n",
        "            'min_samples_leaf':[1,2,3,4,5],\n",
        "            'max_features':['auto','log2','sqrt',None],\n",
        "            'max_leaf_nodes':[None,10,20,30,40,50,60,70,80,90]\n",
        "        }\n",
        "    },\n",
        "    'Random Forest' :{\n",
        "        'model': RandomForestClassifier(),\n",
        "        'params': {\n",
        "            'bootstrap': [True],\n",
        "            'max_depth': [5, 10, None],\n",
        "            'max_features': ['auto', 'log2'],\n",
        "            'n_estimators': [5, 6, 7, 8, 9, 10, 11, 12, 13, 15]\n",
        "        }\n",
        "    }\n",
        "}"
      ],
      "execution_count": null,
      "outputs": []
    },
    {
      "cell_type": "code",
      "metadata": {
        "id": "lXTTO6yMT47w"
      },
      "source": [
        "scores = []\n",
        "for model_name,mp in model_params.items():\n",
        "  clf= GridSearchCV(mp['model'],mp['params'],cv=10, return_train_score=False)\n",
        "  clf.fit(X_train,Y_train)\n",
        "  scores.append({\n",
        "      'model' : model_name,\n",
        "      'best_score' : clf.best_score_,\n",
        "      'best_params' : clf.best_params_\n",
        "\n",
        "  })"
      ],
      "execution_count": null,
      "outputs": []
    },
    {
      "cell_type": "code",
      "metadata": {
        "colab": {
          "base_uri": "https://localhost:8080/",
          "height": 237
        },
        "id": "R1EE_e7tV8Fb",
        "outputId": "3cf9ab41-d251-4752-cde4-493144d7d363"
      },
      "source": [
        "df = pd.DataFrame(scores, columns=['model','best_score','best_params'])\n",
        "df"
      ],
      "execution_count": null,
      "outputs": [
        {
          "output_type": "execute_result",
          "data": {
            "text/plain": [
              "                 model  best_score  \\\n",
              "0  logistic_regression    0.845161   \n",
              "1                  KNN    0.867742   \n",
              "2                  SVM    0.900000   \n",
              "3          Naive Bayes    0.835484   \n",
              "4        Decision Tree    0.861290   \n",
              "5        Random Forest    0.903226   \n",
              "\n",
              "                                         best_params  \n",
              "0                                           {'C': 1}  \n",
              "1         {'leaf_size': 1, 'n_neighbors': 1, 'p': 3}  \n",
              "2                         {'C': 50, 'kernel': 'rbf'}  \n",
              "3                            {'var_smoothing': 0.01}  \n",
              "4  {'max_depth': 5, 'max_features': 'sqrt', 'max_...  \n",
              "5  {'bootstrap': True, 'max_depth': None, 'max_fe...  "
            ],
            "text/html": [
              "\n",
              "  <div id=\"df-5ca7e1ba-da5c-4cbc-92b5-6062eec192a6\">\n",
              "    <div class=\"colab-df-container\">\n",
              "      <div>\n",
              "<style scoped>\n",
              "    .dataframe tbody tr th:only-of-type {\n",
              "        vertical-align: middle;\n",
              "    }\n",
              "\n",
              "    .dataframe tbody tr th {\n",
              "        vertical-align: top;\n",
              "    }\n",
              "\n",
              "    .dataframe thead th {\n",
              "        text-align: right;\n",
              "    }\n",
              "</style>\n",
              "<table border=\"1\" class=\"dataframe\">\n",
              "  <thead>\n",
              "    <tr style=\"text-align: right;\">\n",
              "      <th></th>\n",
              "      <th>model</th>\n",
              "      <th>best_score</th>\n",
              "      <th>best_params</th>\n",
              "    </tr>\n",
              "  </thead>\n",
              "  <tbody>\n",
              "    <tr>\n",
              "      <th>0</th>\n",
              "      <td>logistic_regression</td>\n",
              "      <td>0.845161</td>\n",
              "      <td>{'C': 1}</td>\n",
              "    </tr>\n",
              "    <tr>\n",
              "      <th>1</th>\n",
              "      <td>KNN</td>\n",
              "      <td>0.867742</td>\n",
              "      <td>{'leaf_size': 1, 'n_neighbors': 1, 'p': 3}</td>\n",
              "    </tr>\n",
              "    <tr>\n",
              "      <th>2</th>\n",
              "      <td>SVM</td>\n",
              "      <td>0.900000</td>\n",
              "      <td>{'C': 50, 'kernel': 'rbf'}</td>\n",
              "    </tr>\n",
              "    <tr>\n",
              "      <th>3</th>\n",
              "      <td>Naive Bayes</td>\n",
              "      <td>0.835484</td>\n",
              "      <td>{'var_smoothing': 0.01}</td>\n",
              "    </tr>\n",
              "    <tr>\n",
              "      <th>4</th>\n",
              "      <td>Decision Tree</td>\n",
              "      <td>0.861290</td>\n",
              "      <td>{'max_depth': 5, 'max_features': 'sqrt', 'max_...</td>\n",
              "    </tr>\n",
              "    <tr>\n",
              "      <th>5</th>\n",
              "      <td>Random Forest</td>\n",
              "      <td>0.903226</td>\n",
              "      <td>{'bootstrap': True, 'max_depth': None, 'max_fe...</td>\n",
              "    </tr>\n",
              "  </tbody>\n",
              "</table>\n",
              "</div>\n",
              "      <button class=\"colab-df-convert\" onclick=\"convertToInteractive('df-5ca7e1ba-da5c-4cbc-92b5-6062eec192a6')\"\n",
              "              title=\"Convert this dataframe to an interactive table.\"\n",
              "              style=\"display:none;\">\n",
              "        \n",
              "  <svg xmlns=\"http://www.w3.org/2000/svg\" height=\"24px\"viewBox=\"0 0 24 24\"\n",
              "       width=\"24px\">\n",
              "    <path d=\"M0 0h24v24H0V0z\" fill=\"none\"/>\n",
              "    <path d=\"M18.56 5.44l.94 2.06.94-2.06 2.06-.94-2.06-.94-.94-2.06-.94 2.06-2.06.94zm-11 1L8.5 8.5l.94-2.06 2.06-.94-2.06-.94L8.5 2.5l-.94 2.06-2.06.94zm10 10l.94 2.06.94-2.06 2.06-.94-2.06-.94-.94-2.06-.94 2.06-2.06.94z\"/><path d=\"M17.41 7.96l-1.37-1.37c-.4-.4-.92-.59-1.43-.59-.52 0-1.04.2-1.43.59L10.3 9.45l-7.72 7.72c-.78.78-.78 2.05 0 2.83L4 21.41c.39.39.9.59 1.41.59.51 0 1.02-.2 1.41-.59l7.78-7.78 2.81-2.81c.8-.78.8-2.07 0-2.86zM5.41 20L4 18.59l7.72-7.72 1.47 1.35L5.41 20z\"/>\n",
              "  </svg>\n",
              "      </button>\n",
              "      \n",
              "  <style>\n",
              "    .colab-df-container {\n",
              "      display:flex;\n",
              "      flex-wrap:wrap;\n",
              "      gap: 12px;\n",
              "    }\n",
              "\n",
              "    .colab-df-convert {\n",
              "      background-color: #E8F0FE;\n",
              "      border: none;\n",
              "      border-radius: 50%;\n",
              "      cursor: pointer;\n",
              "      display: none;\n",
              "      fill: #1967D2;\n",
              "      height: 32px;\n",
              "      padding: 0 0 0 0;\n",
              "      width: 32px;\n",
              "    }\n",
              "\n",
              "    .colab-df-convert:hover {\n",
              "      background-color: #E2EBFA;\n",
              "      box-shadow: 0px 1px 2px rgba(60, 64, 67, 0.3), 0px 1px 3px 1px rgba(60, 64, 67, 0.15);\n",
              "      fill: #174EA6;\n",
              "    }\n",
              "\n",
              "    [theme=dark] .colab-df-convert {\n",
              "      background-color: #3B4455;\n",
              "      fill: #D2E3FC;\n",
              "    }\n",
              "\n",
              "    [theme=dark] .colab-df-convert:hover {\n",
              "      background-color: #434B5C;\n",
              "      box-shadow: 0px 1px 3px 1px rgba(0, 0, 0, 0.15);\n",
              "      filter: drop-shadow(0px 1px 2px rgba(0, 0, 0, 0.3));\n",
              "      fill: #FFFFFF;\n",
              "    }\n",
              "  </style>\n",
              "\n",
              "      <script>\n",
              "        const buttonEl =\n",
              "          document.querySelector('#df-5ca7e1ba-da5c-4cbc-92b5-6062eec192a6 button.colab-df-convert');\n",
              "        buttonEl.style.display =\n",
              "          google.colab.kernel.accessAllowed ? 'block' : 'none';\n",
              "\n",
              "        async function convertToInteractive(key) {\n",
              "          const element = document.querySelector('#df-5ca7e1ba-da5c-4cbc-92b5-6062eec192a6');\n",
              "          const dataTable =\n",
              "            await google.colab.kernel.invokeFunction('convertToInteractive',\n",
              "                                                     [key], {});\n",
              "          if (!dataTable) return;\n",
              "\n",
              "          const docLinkHtml = 'Like what you see? Visit the ' +\n",
              "            '<a target=\"_blank\" href=https://colab.research.google.com/notebooks/data_table.ipynb>data table notebook</a>'\n",
              "            + ' to learn more about interactive tables.';\n",
              "          element.innerHTML = '';\n",
              "          dataTable['output_type'] = 'display_data';\n",
              "          await google.colab.output.renderOutput(dataTable, element);\n",
              "          const docLink = document.createElement('div');\n",
              "          docLink.innerHTML = docLinkHtml;\n",
              "          element.appendChild(docLink);\n",
              "        }\n",
              "      </script>\n",
              "    </div>\n",
              "  </div>\n",
              "  "
            ]
          },
          "metadata": {},
          "execution_count": 115
        }
      ]
    },
    {
      "cell_type": "markdown",
      "metadata": {
        "id": "Iv5ylvBg_p33"
      },
      "source": [
        "# Traditional Algorithm"
      ]
    },
    {
      "cell_type": "markdown",
      "metadata": {
        "id": "t3FtNhZHpR3a"
      },
      "source": [
        "##Logistic Regression"
      ]
    },
    {
      "cell_type": "code",
      "metadata": {
        "colab": {
          "base_uri": "https://localhost:8080/"
        },
        "id": "KGbtQVLopUlx",
        "outputId": "89011c29-9587-44a0-e08f-c2b9c1b876ef"
      },
      "source": [
        "classifier = LogisticRegression(random_state=42,C=best_paramlr['C'])\n",
        "classifier.fit(X, Y)"
      ],
      "execution_count": null,
      "outputs": [
        {
          "output_type": "execute_result",
          "data": {
            "text/plain": [
              "LogisticRegression(C=1, random_state=42)"
            ]
          },
          "metadata": {},
          "execution_count": 171
        }
      ]
    },
    {
      "cell_type": "code",
      "metadata": {
        "id": "pG6sSa-kreRe"
      },
      "source": [
        "r_prob = [0 for _ in range(len(Y_test))]"
      ],
      "execution_count": null,
      "outputs": []
    },
    {
      "cell_type": "code",
      "metadata": {
        "id": "l3SGtFt9p7DI"
      },
      "source": [
        "Y_predlr = classifier.predict(X_test)"
      ],
      "execution_count": null,
      "outputs": []
    },
    {
      "cell_type": "code",
      "metadata": {
        "id": "pXh-EUgMb9tU"
      },
      "source": [
        "ytest_pred = classifier.predict_proba(X_test)\n",
        "lr_prob = classifier.predict_proba(X_test)"
      ],
      "execution_count": null,
      "outputs": []
    },
    {
      "cell_type": "code",
      "metadata": {
        "id": "01ZEkUG7EVjv"
      },
      "source": [
        "Y_cvpredlr = cross_val_predict(classifier, X, Y, cv=10)"
      ],
      "execution_count": null,
      "outputs": []
    },
    {
      "cell_type": "code",
      "metadata": {
        "colab": {
          "base_uri": "https://localhost:8080/"
        },
        "id": "BftSrEuY8n5p",
        "outputId": "8a895aa6-f0b8-4e3e-ce7e-52fbe7eaa1d5"
      },
      "source": [
        "cm = confusion_matrix(Y_test,Y_predlr)\n",
        "print(cm)"
      ],
      "execution_count": null,
      "outputs": [
        {
          "output_type": "stream",
          "name": "stdout",
          "text": [
            "[[76  8]\n",
            " [ 3 73]]\n"
          ]
        }
      ]
    },
    {
      "cell_type": "code",
      "metadata": {
        "colab": {
          "base_uri": "https://localhost:8080/"
        },
        "id": "17_9eQsLp8-y",
        "outputId": "b47ecc3b-ade9-4dcb-dc21-6a7dc5f5360d"
      },
      "source": [
        "cm = confusion_matrix(Y,Y_cvpredlr)\n",
        "print(cm)"
      ],
      "execution_count": null,
      "outputs": [
        {
          "output_type": "stream",
          "name": "stdout",
          "text": [
            "[[301  18]\n",
            " [ 22 297]]\n"
          ]
        }
      ]
    },
    {
      "cell_type": "code",
      "metadata": {
        "colab": {
          "base_uri": "https://localhost:8080/",
          "height": 286
        },
        "id": "D4qOUqMGlXzT",
        "outputId": "ed0c8646-76dd-4a5d-f81f-e5acb071be14"
      },
      "source": [
        "labels = [\"{0:0.0f}\".format(value) for value in\n",
        "                cm.flatten()]\n",
        "labels = np.asarray(labels).reshape(2,2)\n",
        "sns.heatmap(cm, annot=labels, fmt='', cmap='Blues')"
      ],
      "execution_count": null,
      "outputs": [
        {
          "output_type": "execute_result",
          "data": {
            "text/plain": [
              "<matplotlib.axes._subplots.AxesSubplot at 0x7efe88d869d0>"
            ]
          },
          "metadata": {},
          "execution_count": 178
        },
        {
          "output_type": "display_data",
          "data": {
            "text/plain": [
              "<Figure size 432x288 with 2 Axes>"
            ],
            "image/png": "[encoded data removed]"
          },
          "metadata": {
            "needs_background": "light"
          }
        }
      ]
    },
    {
      "cell_type": "code",
      "metadata": {
        "colab": {
          "base_uri": "https://localhost:8080/"
        },
        "id": "ZpDDXMloq8If",
        "outputId": "6a62659d-65cd-4c86-cb23-37aa19821581"
      },
      "source": [
        "accuracy = cross_val_score(classifier,X,Y, cv=10, scoring='accuracy')\n",
        "print('All Cross Val Accuracy :',accuracy)\n",
        "print('\\nCross Val Accuracy :',accuracy.mean())"
      ],
      "execution_count": null,
      "outputs": [
        {
          "output_type": "stream",
          "name": "stdout",
          "text": [
            "All Cross Val Accuracy : [0.890625   0.9375     0.859375   0.9375     0.953125   0.984375\n",
            " 0.953125   0.96875    0.92063492 0.96825397]\n",
            "\n",
            "Cross Val Accuracy : 0.937326388888889\n"
          ]
        }
      ]
    },
    {
      "cell_type": "code",
      "metadata": {
        "colab": {
          "base_uri": "https://localhost:8080/"
        },
        "id": "FeZEmx0nHcx8",
        "outputId": "4481275d-c183-45c6-d7b1-a5ee34595b37"
      },
      "source": [
        "cvresult(Y,Y_cvpredlr)"
      ],
      "execution_count": null,
      "outputs": [
        {
          "output_type": "stream",
          "name": "stdout",
          "text": [
            "Cross Val f1 score :  0.9369085173501577\n",
            "Cross Val Precision :  0.9428571428571428\n",
            "Cross Val recall :  0.9310344827586207\n",
            "Cross Val Classification Report : \n",
            "               precision    recall  f1-score   support\n",
            "\n",
            "           0       0.93      0.94      0.94       319\n",
            "           1       0.94      0.93      0.94       319\n",
            "\n",
            "    accuracy                           0.94       638\n",
            "   macro avg       0.94      0.94      0.94       638\n",
            "weighted avg       0.94      0.94      0.94       638\n",
            "\n"
          ]
        }
      ]
    },
    {
      "cell_type": "code",
      "metadata": {
        "colab": {
          "base_uri": "https://localhost:8080/"
        },
        "id": "ge5yumrV0qs8",
        "outputId": "0e3fe251-bfb9-4576-b48f-b06d7fb6a07b"
      },
      "source": [
        "result(Y_test,Y_predlr)"
      ],
      "execution_count": null,
      "outputs": [
        {
          "output_type": "stream",
          "name": "stdout",
          "text": [
            "Accuracy :  0.93125\n",
            "f1 score :  0.9299363057324841\n",
            "Precision :  0.9012345679012346\n",
            "recall :  0.9605263157894737\n",
            "Classification Report : \n",
            "               precision    recall  f1-score   support\n",
            "\n",
            "           0       0.96      0.90      0.93        84\n",
            "           1       0.90      0.96      0.93        76\n",
            "\n",
            "    accuracy                           0.93       160\n",
            "   macro avg       0.93      0.93      0.93       160\n",
            "weighted avg       0.93      0.93      0.93       160\n",
            "\n"
          ]
        }
      ]
    },
    {
      "cell_type": "code",
      "metadata": {
        "colab": {
          "base_uri": "https://localhost:8080/"
        },
        "id": "kr58ISgTyayl",
        "outputId": "8899662d-fe97-4345-9a29-49615ce6a32a"
      },
      "source": [
        "lr_auc = roc_auc_score(Y_test,lr_prob[:,1])\n",
        "print('roc-auc score :{}'.format(lr_auc))"
      ],
      "execution_count": null,
      "outputs": [
        {
          "output_type": "stream",
          "name": "stdout",
          "text": [
            "roc-auc score :0.9829260651629073\n"
          ]
        }
      ]
    },
    {
      "cell_type": "markdown",
      "metadata": {
        "id": "G215SLZPILmb"
      },
      "source": [
        "##K-NN"
      ]
    },
    {
      "cell_type": "code",
      "metadata": {
        "colab": {
          "base_uri": "https://localhost:8080/"
        },
        "id": "tG8WxNCtIOqt",
        "outputId": "9f4ddc9a-7218-4fe6-c78f-ee3a93b75ecc"
      },
      "source": [
        "import math\n",
        "math.sqrt(len(Y_test))"
      ],
      "execution_count": null,
      "outputs": [
        {
          "output_type": "execute_result",
          "data": {
            "text/plain": [
              "12.649110640673518"
            ]
          },
          "metadata": {},
          "execution_count": 220
        }
      ]
    },
    {
      "cell_type": "code",
      "metadata": {
        "colab": {
          "base_uri": "https://localhost:8080/"
        },
        "id": "L6cRDBAaIXti",
        "outputId": "bbe9ebb8-5560-4361-ecdd-94262c3dc3e8"
      },
      "source": [
        "kclassifier = KNeighborsClassifier(n_neighbors = 5,\n",
        "                                   p=best_paramknn['p'],leaf_size=best_paramknn['leaf_size'])\n",
        "kclassifier.fit(X,Y)"
      ],
      "execution_count": null,
      "outputs": [
        {
          "output_type": "execute_result",
          "data": {
            "text/plain": [
              "KNeighborsClassifier(leaf_size=50, p=1)"
            ]
          },
          "metadata": {},
          "execution_count": 221
        }
      ]
    },
    {
      "cell_type": "code",
      "metadata": {
        "id": "c4A8xYyDIaqB"
      },
      "source": [
        "Y_predk = kclassifier.predict(X_test)"
      ],
      "execution_count": null,
      "outputs": []
    },
    {
      "cell_type": "code",
      "metadata": {
        "id": "WqsViuE9IYvz"
      },
      "source": [
        "Y_cvpredk = cross_val_predict(kclassifier, X, Y, cv=10)"
      ],
      "execution_count": null,
      "outputs": []
    },
    {
      "cell_type": "code",
      "metadata": {
        "id": "VSED1BOCcQQN"
      },
      "source": [
        "ytest_pred = kclassifier.predict_proba(X_test)\n",
        "knn_prob = kclassifier.predict_proba(X_test)"
      ],
      "execution_count": null,
      "outputs": []
    },
    {
      "cell_type": "code",
      "metadata": {
        "colab": {
          "base_uri": "https://localhost:8080/"
        },
        "id": "SuFW1Iw_8bD5",
        "outputId": "193e22e7-1d02-4512-f157-12471ac77e50"
      },
      "source": [
        "cmk = confusion_matrix(Y_test,Y_predk)\n",
        "print(cmk)"
      ],
      "execution_count": null,
      "outputs": [
        {
          "output_type": "stream",
          "name": "stdout",
          "text": [
            "[[83  0]\n",
            " [ 4 73]]\n"
          ]
        }
      ]
    },
    {
      "cell_type": "code",
      "metadata": {
        "colab": {
          "base_uri": "https://localhost:8080/"
        },
        "id": "u4Asb5K1Ilmz",
        "outputId": "f7fb5a81-fc5c-4929-9a9a-b402f9144ba9"
      },
      "source": [
        "cmk = confusion_matrix(Y,Y_cvpredk)\n",
        "print(cmk)"
      ],
      "execution_count": null,
      "outputs": [
        {
          "output_type": "stream",
          "name": "stdout",
          "text": [
            "[[315   5]\n",
            " [ 36 284]]\n"
          ]
        }
      ]
    },
    {
      "cell_type": "code",
      "metadata": {
        "colab": {
          "base_uri": "https://localhost:8080/",
          "height": 282
        },
        "id": "06c65eeOtyF9",
        "outputId": "197c7adc-e9e9-455c-9464-b889a4ebf678"
      },
      "source": [
        "group_names = ['True Neg','False Pos','False Neg','True Pos']\n",
        "group_counts = [\"{0:0.0f}\".format(value) for value in\n",
        "                cmk.flatten()]\n",
        "group_percentages = [\"{0:.2%}\".format(value) for value in\n",
        "                     cmk.flatten()/np.sum(cmk)]\n",
        "labels = [f\"{v1}\\n{v2}\\n{v3}\" for v1, v2, v3 in\n",
        "          zip(group_names,group_counts,group_percentages)]\n",
        "labels = np.asarray(labels).reshape(2,2)\n",
        "sns.heatmap(cmk, annot=labels, fmt='', cmap='Blues')"
      ],
      "execution_count": null,
      "outputs": [
        {
          "output_type": "execute_result",
          "data": {
            "text/plain": [
              "<matplotlib.axes._subplots.AxesSubplot at 0x7fe937659850>"
            ]
          },
          "metadata": {},
          "execution_count": 227
        },
        {
          "output_type": "display_data",
          "data": {
            "text/plain": [
              "<Figure size 432x288 with 2 Axes>"
            ],
            "image/png": "[encoded data removed]"
          },
          "metadata": {
            "needs_background": "light"
          }
        }
      ]
    },
    {
      "cell_type": "code",
      "metadata": {
        "colab": {
          "base_uri": "https://localhost:8080/"
        },
        "id": "9sBemxOrIyVC",
        "outputId": "e950fc07-da98-478a-c852-c499c3a3d38f"
      },
      "source": [
        "accuracy = cross_val_score(kclassifier,X,Y, cv=10, scoring='accuracy')\n",
        "print('All Cross Val Accuracy :',accuracy)\n",
        "print('\\nCross Val Accuracy :',accuracy.mean())"
      ],
      "execution_count": null,
      "outputs": [
        {
          "output_type": "stream",
          "name": "stdout",
          "text": [
            "All Cross Val Accuracy : [0.875    0.984375 0.890625 0.90625  0.859375 0.953125 0.96875  1.\n",
            " 0.921875 1.      ]\n",
            "\n",
            "Cross Val Accuracy : 0.9359375\n"
          ]
        }
      ]
    },
    {
      "cell_type": "code",
      "metadata": {
        "colab": {
          "base_uri": "https://localhost:8080/"
        },
        "id": "QbjhnXav29v8",
        "outputId": "9069f6c4-7c6d-4232-eca8-a7aaede0242e"
      },
      "source": [
        "cvresult(Y,Y_cvpredk)"
      ],
      "execution_count": null,
      "outputs": [
        {
          "output_type": "stream",
          "name": "stdout",
          "text": [
            "Cross Val f1 score :  0.9326765188834153\n",
            "Cross Val Precision :  0.9826989619377162\n",
            "Cross Val recall :  0.8875\n",
            "Cross Val Classification Report : \n",
            "               precision    recall  f1-score   support\n",
            "\n",
            "           0       0.90      0.98      0.94       320\n",
            "           1       0.98      0.89      0.93       320\n",
            "\n",
            "    accuracy                           0.94       640\n",
            "   macro avg       0.94      0.94      0.94       640\n",
            "weighted avg       0.94      0.94      0.94       640\n",
            "\n"
          ]
        }
      ]
    },
    {
      "cell_type": "code",
      "metadata": {
        "colab": {
          "base_uri": "https://localhost:8080/"
        },
        "id": "2D-QV1sd3YH-",
        "outputId": "d130e3ec-2735-4c25-f42f-2d687e2d449c"
      },
      "source": [
        "result(Y_test,Y_predk)"
      ],
      "execution_count": null,
      "outputs": [
        {
          "output_type": "stream",
          "name": "stdout",
          "text": [
            "Accuracy :  0.975\n",
            "f1 score :  0.9733333333333333\n",
            "Precision :  1.0\n",
            "recall :  0.948051948051948\n",
            "Classification Report : \n",
            "               precision    recall  f1-score   support\n",
            "\n",
            "           0       0.95      1.00      0.98        83\n",
            "           1       1.00      0.95      0.97        77\n",
            "\n",
            "    accuracy                           0.97       160\n",
            "   macro avg       0.98      0.97      0.97       160\n",
            "weighted avg       0.98      0.97      0.97       160\n",
            "\n"
          ]
        }
      ]
    },
    {
      "cell_type": "code",
      "metadata": {
        "colab": {
          "base_uri": "https://localhost:8080/"
        },
        "id": "PyUgpWzbJh5D",
        "outputId": "5f344780-a6b6-4ffd-8934-4ba2684f5318"
      },
      "source": [
        "knn_auc = roc_auc_score(Y_test,knn_prob[:,1])\n",
        "print('roc-auc score :{}'.format(knn_auc))"
      ],
      "execution_count": null,
      "outputs": [
        {
          "output_type": "stream",
          "name": "stdout",
          "text": [
            "roc-auc score :1.0\n"
          ]
        }
      ]
    },
    {
      "cell_type": "markdown",
      "metadata": {
        "id": "jUIOcnFZJ4t7"
      },
      "source": [
        "##SVM"
      ]
    },
    {
      "cell_type": "code",
      "metadata": {
        "colab": {
          "base_uri": "https://localhost:8080/"
        },
        "id": "pYYxgDh8J5xt",
        "outputId": "6a2c4e4d-84ba-4d4c-d58c-6db137a92d4a"
      },
      "source": [
        "sclassifier = SVC(kernel = best_params['kernel'],random_state = 42,C=best_params['C'], probability=True)\n",
        "sclassifier.fit(X,Y)"
      ],
      "execution_count": null,
      "outputs": [
        {
          "output_type": "execute_result",
          "data": {
            "text/plain": [
              "SVC(C=5, probability=True, random_state=42)"
            ]
          },
          "metadata": {},
          "execution_count": 183
        }
      ]
    },
    {
      "cell_type": "code",
      "metadata": {
        "id": "bS0WEfjrKBhB"
      },
      "source": [
        "Y_preds = sclassifier.predict(X_test)"
      ],
      "execution_count": null,
      "outputs": []
    },
    {
      "cell_type": "code",
      "metadata": {
        "id": "jdnJlSXNcUhq"
      },
      "source": [
        "ytest_pred = sclassifier.predict_proba(X_test)\n",
        "svm_prob = sclassifier.predict_proba(X_test)"
      ],
      "execution_count": null,
      "outputs": []
    },
    {
      "cell_type": "code",
      "metadata": {
        "id": "-43FRxdi4Epb"
      },
      "source": [
        "Y_cvpreds = cross_val_predict(sclassifier, X, Y, cv=10)"
      ],
      "execution_count": null,
      "outputs": []
    },
    {
      "cell_type": "code",
      "metadata": {
        "colab": {
          "base_uri": "https://localhost:8080/"
        },
        "id": "ZWga9uQi8SHI",
        "outputId": "11fbb74a-539f-4734-9e6a-d408c272e154"
      },
      "source": [
        "cms = confusion_matrix(Y_test,Y_preds)\n",
        "print(cms)"
      ],
      "execution_count": null,
      "outputs": [
        {
          "output_type": "stream",
          "name": "stdout",
          "text": [
            "[[82  2]\n",
            " [ 0 76]]\n"
          ]
        }
      ]
    },
    {
      "cell_type": "code",
      "metadata": {
        "colab": {
          "base_uri": "https://localhost:8080/"
        },
        "id": "yLMwtb12KGIz",
        "outputId": "3845589e-0444-4f2c-866a-591f5dbc24c6"
      },
      "source": [
        "cms = confusion_matrix(Y,Y_cvpreds)\n",
        "print(cms)"
      ],
      "execution_count": null,
      "outputs": [
        {
          "output_type": "stream",
          "name": "stdout",
          "text": [
            "[[313   6]\n",
            " [  5 314]]\n"
          ]
        }
      ]
    },
    {
      "cell_type": "code",
      "metadata": {
        "colab": {
          "base_uri": "https://localhost:8080/",
          "height": 282
        },
        "id": "ZuO9Asbp4WbK",
        "outputId": "8382afd3-5e4b-4b7c-a12b-8408a118ffa7"
      },
      "source": [
        "group_names = ['True Neg','False Pos','False Neg','True Pos']\n",
        "group_counts = [\"{0:0.0f}\".format(value) for value in\n",
        "                cms.flatten()]\n",
        "group_percentages = [\"{0:.2%}\".format(value) for value in\n",
        "                     cms.flatten()/np.sum(cms)]\n",
        "labels = [f\"{v1}\\n{v2}\\n{v3}\" for v1, v2, v3 in\n",
        "          zip(group_names,group_counts,group_percentages)]\n",
        "labels = np.asarray(labels).reshape(2,2)\n",
        "sns.heatmap(cms, annot=labels, fmt='', cmap='Blues')"
      ],
      "execution_count": null,
      "outputs": [
        {
          "output_type": "execute_result",
          "data": {
            "text/plain": [
              "<matplotlib.axes._subplots.AxesSubplot at 0x7efe88bcfb50>"
            ]
          },
          "metadata": {},
          "execution_count": 189
        },
        {
          "output_type": "display_data",
          "data": {
            "text/plain": [
              "<Figure size 432x288 with 2 Axes>"
            ],
            "image/png": "[encoded data removed]"
          },
          "metadata": {
            "needs_background": "light"
          }
        }
      ]
    },
    {
      "cell_type": "code",
      "metadata": {
        "colab": {
          "base_uri": "https://localhost:8080/"
        },
        "id": "hTCnwfXaKLlm",
        "outputId": "88376964-514b-4099-d8f3-1628c8f41f80"
      },
      "source": [
        "accuracy = cross_val_score(sclassifier,X,Y, cv=10, scoring='accuracy')\n",
        "print('All Cross Val Accuracy :',accuracy)\n",
        "print('\\nCross Val Accuracy :',accuracy.mean())"
      ],
      "execution_count": null,
      "outputs": [
        {
          "output_type": "stream",
          "name": "stdout",
          "text": [
            "All Cross Val Accuracy : [0.96875    1.         0.9375     0.984375   1.         0.984375\n",
            " 0.984375   1.         0.98412698 0.98412698]\n",
            "\n",
            "Cross Val Accuracy : 0.9827628968253969\n"
          ]
        }
      ]
    },
    {
      "cell_type": "code",
      "metadata": {
        "colab": {
          "base_uri": "https://localhost:8080/"
        },
        "id": "sh5PoPbl4r22",
        "outputId": "2c627c8f-6b4a-412a-e17c-65f8ee2ff003"
      },
      "source": [
        "cvresult(Y,Y_cvpreds)"
      ],
      "execution_count": null,
      "outputs": [
        {
          "output_type": "stream",
          "name": "stdout",
          "text": [
            "Cross Val f1 score :  0.9827856025039124\n",
            "Cross Val Precision :  0.98125\n",
            "Cross Val recall :  0.9843260188087775\n",
            "Cross Val Classification Report : \n",
            "               precision    recall  f1-score   support\n",
            "\n",
            "           0       0.98      0.98      0.98       319\n",
            "           1       0.98      0.98      0.98       319\n",
            "\n",
            "    accuracy                           0.98       638\n",
            "   macro avg       0.98      0.98      0.98       638\n",
            "weighted avg       0.98      0.98      0.98       638\n",
            "\n"
          ]
        }
      ]
    },
    {
      "cell_type": "code",
      "metadata": {
        "colab": {
          "base_uri": "https://localhost:8080/"
        },
        "id": "XpDb_sXP5EKT",
        "outputId": "05eb9c24-3854-4f3b-cf8e-fe5db5f289eb"
      },
      "source": [
        "result(Y_test,Y_preds)"
      ],
      "execution_count": null,
      "outputs": [
        {
          "output_type": "stream",
          "name": "stdout",
          "text": [
            "Accuracy :  0.9875\n",
            "f1 score :  0.9870129870129869\n",
            "Precision :  0.9743589743589743\n",
            "recall :  1.0\n",
            "Classification Report : \n",
            "               precision    recall  f1-score   support\n",
            "\n",
            "           0       1.00      0.98      0.99        84\n",
            "           1       0.97      1.00      0.99        76\n",
            "\n",
            "    accuracy                           0.99       160\n",
            "   macro avg       0.99      0.99      0.99       160\n",
            "weighted avg       0.99      0.99      0.99       160\n",
            "\n"
          ]
        }
      ]
    },
    {
      "cell_type": "code",
      "metadata": {
        "colab": {
          "base_uri": "https://localhost:8080/"
        },
        "id": "qoIiU1CuLCgS",
        "outputId": "83f12ffd-8526-4a08-cecf-e5dbf85bb236"
      },
      "source": [
        "svm_auc = roc_auc_score(Y_test,svm_prob[:,1])\n",
        "print('roc-auc score :{}'.format(svm_auc))"
      ],
      "execution_count": null,
      "outputs": [
        {
          "output_type": "stream",
          "name": "stdout",
          "text": [
            "roc-auc score :1.0\n"
          ]
        }
      ]
    },
    {
      "cell_type": "markdown",
      "metadata": {
        "id": "46fCk_YoLbDD"
      },
      "source": [
        "##kernel SVM"
      ]
    },
    {
      "cell_type": "code",
      "metadata": {
        "colab": {
          "base_uri": "https://localhost:8080/"
        },
        "id": "ja3os9g7LcB-",
        "outputId": "3ef6455b-aecd-40f1-c7aa-ba4077245556"
      },
      "source": [
        "ksclassifier = SVC(kernel = 'linear',C=1,random_state = 0, probability=True)\n",
        "ksclassifier.fit(X,Y)"
      ],
      "execution_count": null,
      "outputs": [
        {
          "output_type": "execute_result",
          "data": {
            "text/plain": [
              "SVC(C=1, kernel='linear', probability=True, random_state=0)"
            ]
          },
          "metadata": {},
          "execution_count": 209
        }
      ]
    },
    {
      "cell_type": "code",
      "metadata": {
        "id": "6yMiQyl-LhUr"
      },
      "source": [
        "Y_predks = ksclassifier.predict(X_test)"
      ],
      "execution_count": null,
      "outputs": []
    },
    {
      "cell_type": "code",
      "metadata": {
        "id": "gUDoHPDPc6u8"
      },
      "source": [
        " ytest_pred = ksclassifier.predict_proba(X_test)\n",
        " ksvm_prob = ksclassifier.predict_proba(X_test)"
      ],
      "execution_count": null,
      "outputs": []
    },
    {
      "cell_type": "code",
      "metadata": {
        "id": "7so5cXcx5YFe"
      },
      "source": [
        "Y_cvpredks = cross_val_predict(ksclassifier, X, Y, cv=10)"
      ],
      "execution_count": null,
      "outputs": []
    },
    {
      "cell_type": "code",
      "metadata": {
        "colab": {
          "base_uri": "https://localhost:8080/"
        },
        "id": "hTif6-B-8Bvp",
        "outputId": "d889b3ff-f2fc-43a9-bc17-616e747a008c"
      },
      "source": [
        "cm = confusion_matrix(Y_test,Y_predks)\n",
        "print(cm)"
      ],
      "execution_count": null,
      "outputs": [
        {
          "output_type": "stream",
          "name": "stdout",
          "text": [
            "[[45  8]\n",
            " [ 3 48]]\n"
          ]
        }
      ]
    },
    {
      "cell_type": "code",
      "metadata": {
        "colab": {
          "base_uri": "https://localhost:8080/"
        },
        "id": "uabzihNZLp9R",
        "outputId": "d5b52d36-87f1-4345-8882-2703b3b1d48d"
      },
      "source": [
        "cmks = confusion_matrix(Y,Y_cvpredks)\n",
        "print(cmks)"
      ],
      "execution_count": null,
      "outputs": [
        {
          "output_type": "stream",
          "name": "stdout",
          "text": [
            "[[158  49]\n",
            " [ 18 189]]\n"
          ]
        }
      ]
    },
    {
      "cell_type": "code",
      "metadata": {
        "colab": {
          "base_uri": "https://localhost:8080/"
        },
        "id": "A_yXZ_hg7sM1",
        "outputId": "2cd973bc-27cd-4fd4-d861-94d6262d1f3a"
      },
      "source": [
        "group_names = ['True Neg','False Pos','False Neg','True Pos']\n",
        "group_counts = [\"{0:0.0f}\".format(value) for value in\n",
        "                cmks.flatten()]\n",
        "group_percentages = [\"{0:.2%}\".format(value) for value in\n",
        "                     cmks.flatten()/np.sum(cmks)]\n",
        "labels = [f\"{v1}\\n{v2}\\n{v3}\" for v1, v2, v3 in\n",
        "          zip(group_names,group_counts,group_percentages)]\n",
        "labels = np.asarray(labels).reshape(2,2)\n",
        "sns.heatmap(cmks, annot=labels, fmt='', cmap='Blues')"
      ],
      "execution_count": null,
      "outputs": [
        {
          "output_type": "execute_result",
          "data": {
            "text/plain": [
              "<matplotlib.axes._subplots.AxesSubplot at 0x7f9206ed1990>"
            ]
          },
          "metadata": {},
          "execution_count": 215
        },
        {
          "output_type": "display_data",
          "data": {
            "text/plain": [
              "<Figure size 432x288 with 2 Axes>"
            ],
            "image/png": "[encoded data removed]"
          },
          "metadata": {
            "needs_background": "light"
          }
        }
      ]
    },
    {
      "cell_type": "code",
      "metadata": {
        "colab": {
          "base_uri": "https://localhost:8080/"
        },
        "id": "LkzG25NaLslR",
        "outputId": "f62aee11-ad88-4f4d-f698-a509de82e281"
      },
      "source": [
        "accuracy = cross_val_score(ksclassifier,X,Y, cv=10, scoring='accuracy')\n",
        "print('All Cross Val Accuracy :',accuracy)\n",
        "print('\\nCross Val Accuracy :',accuracy.mean())"
      ],
      "execution_count": null,
      "outputs": [
        {
          "output_type": "stream",
          "name": "stdout",
          "text": [
            "All Cross Val Accuracy : [0.5952381  0.5952381  0.61904762 0.9047619  0.95121951 0.95121951\n",
            " 0.92682927 1.         0.90243902 0.95121951]\n",
            "\n",
            "Cross Val Accuracy : 0.8397212543554007\n"
          ]
        }
      ]
    },
    {
      "cell_type": "code",
      "metadata": {
        "colab": {
          "base_uri": "https://localhost:8080/"
        },
        "id": "1vJxMU955_Yz",
        "outputId": "0e181a4a-2886-46b9-a867-0caef5897d23"
      },
      "source": [
        "cvresult(Y,Y_cvpredks)"
      ],
      "execution_count": null,
      "outputs": [
        {
          "output_type": "stream",
          "name": "stdout",
          "text": [
            "Cross Val f1 score :  0.8494382022471909\n",
            "Cross Val Precision :  0.7941176470588235\n",
            "Cross Val recall :  0.9130434782608695\n",
            "Cross Val Classification Report : \n",
            "               precision    recall  f1-score   support\n",
            "\n",
            "           0       0.90      0.76      0.83       207\n",
            "           1       0.79      0.91      0.85       207\n",
            "\n",
            "    accuracy                           0.84       414\n",
            "   macro avg       0.85      0.84      0.84       414\n",
            "weighted avg       0.85      0.84      0.84       414\n",
            "\n"
          ]
        }
      ]
    },
    {
      "cell_type": "code",
      "metadata": {
        "colab": {
          "base_uri": "https://localhost:8080/"
        },
        "id": "b5vS6OKF5_jw",
        "outputId": "65b4fc1c-c3bd-4e73-d0a9-a52de31e6870"
      },
      "source": [
        "result(Y_test,Y_predks)"
      ],
      "execution_count": null,
      "outputs": [
        {
          "output_type": "stream",
          "name": "stdout",
          "text": [
            "Accuracy :  0.8942307692307693\n",
            "f1 score :  0.897196261682243\n",
            "Precision :  0.8571428571428571\n",
            "recall :  0.9411764705882353\n",
            "Classification Report : \n",
            "               precision    recall  f1-score   support\n",
            "\n",
            "           0       0.94      0.85      0.89        53\n",
            "           1       0.86      0.94      0.90        51\n",
            "\n",
            "    accuracy                           0.89       104\n",
            "   macro avg       0.90      0.90      0.89       104\n",
            "weighted avg       0.90      0.89      0.89       104\n",
            "\n"
          ]
        }
      ]
    },
    {
      "cell_type": "code",
      "metadata": {
        "colab": {
          "base_uri": "https://localhost:8080/"
        },
        "id": "dzXZNfS-MmHK",
        "outputId": "d9e44450-e72c-4a34-b581-6eb708189446"
      },
      "source": [
        "ksvm_auc = roc_auc_score(Y_test,ksvm_prob[:,1])\n",
        "print('roc-auc score :{}'.format(ksvm_auc))"
      ],
      "execution_count": null,
      "outputs": [
        {
          "output_type": "stream",
          "name": "stdout",
          "text": [
            "roc-auc score :0.9500554938956715\n"
          ]
        }
      ]
    },
    {
      "cell_type": "markdown",
      "metadata": {
        "id": "1KW4y7rOMrsC"
      },
      "source": [
        "## Naive Bays"
      ]
    },
    {
      "cell_type": "code",
      "metadata": {
        "colab": {
          "base_uri": "https://localhost:8080/"
        },
        "id": "bQ_ZZwCqMxuQ",
        "outputId": "e6681cc4-2b6b-4ee0-bb79-35c46cd4c31f"
      },
      "source": [
        "nbclassifier = GaussianNB(var_smoothing=best_paramnb['var_smoothing'])\n",
        "nbclassifier.fit(X,Y)"
      ],
      "execution_count": null,
      "outputs": [
        {
          "output_type": "execute_result",
          "data": {
            "text/plain": [
              "GaussianNB(var_smoothing=0.01)"
            ]
          },
          "metadata": {},
          "execution_count": 194
        }
      ]
    },
    {
      "cell_type": "code",
      "metadata": {
        "id": "ilCH9DhhM_Fj"
      },
      "source": [
        "Y_prednb = nbclassifier.predict(X_test)"
      ],
      "execution_count": null,
      "outputs": []
    },
    {
      "cell_type": "code",
      "metadata": {
        "id": "lhqtTeUddOHs"
      },
      "source": [
        "ytest_pred = nbclassifier.predict_proba(X_test)\n",
        "nb_prob = nbclassifier.predict_proba(X_test)"
      ],
      "execution_count": null,
      "outputs": []
    },
    {
      "cell_type": "code",
      "metadata": {
        "id": "iosGQi0Xu_mU"
      },
      "source": [
        "Y_cvprednb = cross_val_predict(nbclassifier,X,Y,cv = 10)"
      ],
      "execution_count": null,
      "outputs": []
    },
    {
      "cell_type": "code",
      "metadata": {
        "colab": {
          "base_uri": "https://localhost:8080/"
        },
        "id": "spU-tPE-NEKS",
        "outputId": "26fb4ebd-1915-4043-9381-e5d225f6e66e"
      },
      "source": [
        "cms = confusion_matrix(Y_test,Y_prednb)\n",
        "print(cms)"
      ],
      "execution_count": null,
      "outputs": [
        {
          "output_type": "stream",
          "name": "stdout",
          "text": [
            "[[73 11]\n",
            " [ 5 71]]\n"
          ]
        }
      ]
    },
    {
      "cell_type": "code",
      "metadata": {
        "colab": {
          "base_uri": "https://localhost:8080/"
        },
        "id": "OM13v4CPvnHd",
        "outputId": "86159b0e-e8ed-401e-b8ed-3b2caba33541"
      },
      "source": [
        "cvcms = confusion_matrix(Y, Y_cvprednb)\n",
        "print(cvcms)"
      ],
      "execution_count": null,
      "outputs": [
        {
          "output_type": "stream",
          "name": "stdout",
          "text": [
            "[[269  50]\n",
            " [ 24 295]]\n"
          ]
        }
      ]
    },
    {
      "cell_type": "code",
      "metadata": {
        "colab": {
          "base_uri": "https://localhost:8080/",
          "height": 282
        },
        "id": "S5-_-orGuirs",
        "outputId": "5a88082b-c936-48d5-ce0f-139b4ce39939"
      },
      "source": [
        "labels = [\"{0:0.0f}\".format(value) for value in\n",
        "                cvcms.flatten()]\n",
        "labels = np.asarray(labels).reshape(2,2)\n",
        "sns.heatmap(cvcms, annot=labels, fmt='', cmap='Blues')"
      ],
      "execution_count": null,
      "outputs": [
        {
          "output_type": "execute_result",
          "data": {
            "text/plain": [
              "<matplotlib.axes._subplots.AxesSubplot at 0x7efe88b81150>"
            ]
          },
          "metadata": {},
          "execution_count": 200
        },
        {
          "output_type": "display_data",
          "data": {
            "text/plain": [
              "<Figure size 432x288 with 2 Axes>"
            ],
            "image/png": "[encoded data removed]"
          },
          "metadata": {
            "needs_background": "light"
          }
        }
      ]
    },
    {
      "cell_type": "code",
      "metadata": {
        "colab": {
          "base_uri": "https://localhost:8080/"
        },
        "id": "JT5dLMwSNIvq",
        "outputId": "ca5db797-2c66-40df-bab9-1d3560e1487c"
      },
      "source": [
        "accuracy = cross_val_score(nbclassifier,X,Y, cv=10, scoring='accuracy')\n",
        "print('All Cross Val Accuracy :',accuracy)\n",
        "print('\\nCross Val Accuracy :',accuracy.mean())"
      ],
      "execution_count": null,
      "outputs": [
        {
          "output_type": "stream",
          "name": "stdout",
          "text": [
            "All Cross Val Accuracy : [0.859375   0.90625    0.8125     0.921875   0.828125   0.875\n",
            " 0.9375     0.90625    0.88888889 0.9047619 ]\n",
            "\n",
            "Cross Val Accuracy : 0.8840525793650794\n"
          ]
        }
      ]
    },
    {
      "cell_type": "code",
      "metadata": {
        "colab": {
          "base_uri": "https://localhost:8080/"
        },
        "id": "5GuoElwHw2y4",
        "outputId": "23353d7f-0b58-44bb-c983-aa500315c3ce"
      },
      "source": [
        "cvresult(Y,Y_cvprednb)"
      ],
      "execution_count": null,
      "outputs": [
        {
          "output_type": "stream",
          "name": "stdout",
          "text": [
            "Cross Val f1 score :  0.8885542168674699\n",
            "Cross Val Precision :  0.855072463768116\n",
            "Cross Val recall :  0.9247648902821317\n",
            "Cross Val Classification Report : \n",
            "               precision    recall  f1-score   support\n",
            "\n",
            "           0       0.92      0.84      0.88       319\n",
            "           1       0.86      0.92      0.89       319\n",
            "\n",
            "    accuracy                           0.88       638\n",
            "   macro avg       0.89      0.88      0.88       638\n",
            "weighted avg       0.89      0.88      0.88       638\n",
            "\n"
          ]
        }
      ]
    },
    {
      "cell_type": "code",
      "metadata": {
        "colab": {
          "base_uri": "https://localhost:8080/"
        },
        "id": "xnZyDas87Lvy",
        "outputId": "ce58459a-b3eb-4ac2-8922-f3f057c3866b"
      },
      "source": [
        "result(Y_test,Y_prednb)"
      ],
      "execution_count": null,
      "outputs": [
        {
          "output_type": "stream",
          "name": "stdout",
          "text": [
            "Accuracy :  0.9\n",
            "f1 score :  0.8987341772151899\n",
            "Precision :  0.8658536585365854\n",
            "recall :  0.9342105263157895\n",
            "Classification Report : \n",
            "               precision    recall  f1-score   support\n",
            "\n",
            "           0       0.94      0.87      0.90        84\n",
            "           1       0.87      0.93      0.90        76\n",
            "\n",
            "    accuracy                           0.90       160\n",
            "   macro avg       0.90      0.90      0.90       160\n",
            "weighted avg       0.90      0.90      0.90       160\n",
            "\n"
          ]
        }
      ]
    },
    {
      "cell_type": "code",
      "metadata": {
        "colab": {
          "base_uri": "https://localhost:8080/"
        },
        "id": "NKn-gQBbNmWi",
        "outputId": "9c862685-44c6-4caa-af2f-a4644d20bfa4"
      },
      "source": [
        "nb_auc = roc_auc_score(Y_test,nb_prob[:,1])\n",
        "print('roc-auc score :{}'.format(nb_auc))"
      ],
      "execution_count": null,
      "outputs": [
        {
          "output_type": "stream",
          "name": "stdout",
          "text": [
            "roc-auc score :0.9639724310776943\n"
          ]
        }
      ]
    },
    {
      "cell_type": "markdown",
      "metadata": {
        "id": "AbK-PvhxOSsS"
      },
      "source": [
        "## Decision Tree"
      ]
    },
    {
      "cell_type": "code",
      "metadata": {
        "id": "bifdTQeWOR3J",
        "colab": {
          "base_uri": "https://localhost:8080/"
        },
        "outputId": "bd547ff2-ffeb-471d-805f-9545acd19643"
      },
      "source": [
        "dtclassifier = DecisionTreeClassifier(splitter=best_paramdt['splitter'],max_depth=best_paramdt['max_depth'],\n",
        "                                      min_samples_leaf=best_paramdt['min_samples_leaf'],max_features=best_paramdt['max_features'],\n",
        "                                      max_leaf_nodes=best_paramdt['max_leaf_nodes'], random_state = 42)\n",
        "dtclassifier.fit(X,Y)"
      ],
      "execution_count": null,
      "outputs": [
        {
          "output_type": "execute_result",
          "data": {
            "text/plain": [
              "DecisionTreeClassifier(max_depth=5, max_leaf_nodes=40, min_samples_leaf=5,\n",
              "                       random_state=42, splitter='random')"
            ]
          },
          "metadata": {},
          "execution_count": 205
        }
      ]
    },
    {
      "cell_type": "code",
      "metadata": {
        "id": "Unh5W2igOZTo"
      },
      "source": [
        "Y_preddt = dtclassifier.predict(X_test)"
      ],
      "execution_count": null,
      "outputs": []
    },
    {
      "cell_type": "code",
      "metadata": {
        "id": "x2-22OMxdThi"
      },
      "source": [
        "ytest_pred = dtclassifier.predict_proba(X_test)\n",
        "dt_prob = dtclassifier.predict_proba(X_test)"
      ],
      "execution_count": null,
      "outputs": []
    },
    {
      "cell_type": "code",
      "metadata": {
        "id": "MRxi_VVAfSd8"
      },
      "source": [
        "Y_cvpreddt = cross_val_predict(dtclassifier,X,Y,cv = 10)"
      ],
      "execution_count": null,
      "outputs": []
    },
    {
      "cell_type": "code",
      "metadata": {
        "colab": {
          "base_uri": "https://localhost:8080/"
        },
        "id": "YZfDSvUZOhII",
        "outputId": "b893b85f-b256-415d-f4df-52bf65ba9e84"
      },
      "source": [
        "cms = confusion_matrix(Y_test,Y_preddt)\n",
        "print(cms)"
      ],
      "execution_count": null,
      "outputs": [
        {
          "output_type": "stream",
          "name": "stdout",
          "text": [
            "[[84  0]\n",
            " [ 3 73]]\n"
          ]
        }
      ]
    },
    {
      "cell_type": "code",
      "metadata": {
        "colab": {
          "base_uri": "https://localhost:8080/"
        },
        "id": "bmBFazPLfYIQ",
        "outputId": "6c0890c1-7f99-4a8a-84be-95a3bcb23e20"
      },
      "source": [
        "cvcmsdt = confusion_matrix(Y, Y_cvpreddt)\n",
        "print(cvcmsdt)"
      ],
      "execution_count": null,
      "outputs": [
        {
          "output_type": "stream",
          "name": "stdout",
          "text": [
            "[[309  10]\n",
            " [ 34 285]]\n"
          ]
        }
      ]
    },
    {
      "cell_type": "code",
      "metadata": {
        "colab": {
          "base_uri": "https://localhost:8080/",
          "height": 282
        },
        "id": "T1SlMjPMffml",
        "outputId": "c8e88091-c5c5-4915-fb51-19b278f19ee0"
      },
      "source": [
        "group_names = ['True Neg','False Pos','False Neg','True Pos']\n",
        "group_counts = [\"{0:0.0f}\".format(value) for value in\n",
        "                cvcmsdt.flatten()]\n",
        "group_percentages = [\"{0:.2%}\".format(value) for value in\n",
        "                     cvcmsdt.flatten()/np.sum(cvcmsdt)]\n",
        "labels = [f\"{v1}\\n{v2}\\n{v3}\" for v1, v2, v3 in\n",
        "          zip(group_names,group_counts,group_percentages)]\n",
        "labels = np.asarray(labels).reshape(2,2)\n",
        "sns.heatmap(cvcmsdt, annot=labels, fmt='', cmap='Blues')"
      ],
      "execution_count": null,
      "outputs": [
        {
          "output_type": "execute_result",
          "data": {
            "text/plain": [
              "<matplotlib.axes._subplots.AxesSubplot at 0x7efe88ae7810>"
            ]
          },
          "metadata": {},
          "execution_count": 211
        },
        {
          "output_type": "display_data",
          "data": {
            "text/plain": [
              "<Figure size 432x288 with 2 Axes>"
            ],
            "image/png": "[encoded data removed]"
          },
          "metadata": {
            "needs_background": "light"
          }
        }
      ]
    },
    {
      "cell_type": "code",
      "metadata": {
        "colab": {
          "base_uri": "https://localhost:8080/"
        },
        "id": "3Z9-J-OsOuFJ",
        "outputId": "6f76e5d9-d418-4759-9a39-8f0e3ca62e5d"
      },
      "source": [
        "accuracy = cross_val_score(dtclassifier,X,Y, cv=10, scoring='accuracy')\n",
        "print('All Cross Val Accuracy :',accuracy)\n",
        "print('\\nCross Val Accuracy :',accuracy.mean())"
      ],
      "execution_count": null,
      "outputs": [
        {
          "output_type": "stream",
          "name": "stdout",
          "text": [
            "All Cross Val Accuracy : [0.875      0.9375     0.875      0.9375     0.9375     0.9375\n",
            " 0.921875   0.96875    0.92063492 1.        ]\n",
            "\n",
            "Cross Val Accuracy : 0.9311259920634921\n"
          ]
        }
      ]
    },
    {
      "cell_type": "code",
      "metadata": {
        "colab": {
          "base_uri": "https://localhost:8080/"
        },
        "id": "q-3s9fCgf56X",
        "outputId": "2f7c20fe-9eaa-44c1-d9cc-def84e3708a2"
      },
      "source": [
        "cvresult(Y,Y_cvpreddt)"
      ],
      "execution_count": null,
      "outputs": [
        {
          "output_type": "stream",
          "name": "stdout",
          "text": [
            "Cross Val f1 score :  0.9283387622149837\n",
            "Cross Val Precision :  0.9661016949152542\n",
            "Cross Val recall :  0.8934169278996865\n",
            "Cross Val Classification Report : \n",
            "               precision    recall  f1-score   support\n",
            "\n",
            "           0       0.90      0.97      0.93       319\n",
            "           1       0.97      0.89      0.93       319\n",
            "\n",
            "    accuracy                           0.93       638\n",
            "   macro avg       0.93      0.93      0.93       638\n",
            "weighted avg       0.93      0.93      0.93       638\n",
            "\n"
          ]
        }
      ]
    },
    {
      "cell_type": "code",
      "metadata": {
        "colab": {
          "base_uri": "https://localhost:8080/"
        },
        "id": "rY2_x-UigJPF",
        "outputId": "f314b478-ae96-4553-cbb3-3658a25dca51"
      },
      "source": [
        "result(Y_test,Y_preddt)"
      ],
      "execution_count": null,
      "outputs": [
        {
          "output_type": "stream",
          "name": "stdout",
          "text": [
            "Accuracy :  0.98125\n",
            "f1 score :  0.9798657718120806\n",
            "Precision :  1.0\n",
            "recall :  0.9605263157894737\n",
            "Classification Report : \n",
            "               precision    recall  f1-score   support\n",
            "\n",
            "           0       0.97      1.00      0.98        84\n",
            "           1       1.00      0.96      0.98        76\n",
            "\n",
            "    accuracy                           0.98       160\n",
            "   macro avg       0.98      0.98      0.98       160\n",
            "weighted avg       0.98      0.98      0.98       160\n",
            "\n"
          ]
        }
      ]
    },
    {
      "cell_type": "code",
      "metadata": {
        "colab": {
          "base_uri": "https://localhost:8080/"
        },
        "id": "CG1PUd9dPDFC",
        "outputId": "a3ec0427-fd68-4581-fb73-915527bf7fb5"
      },
      "source": [
        "dt_auc = roc_auc_score(Y_test,dt_prob[:,1])\n",
        "print('roc-auc score :{}'.format(dt_auc))"
      ],
      "execution_count": null,
      "outputs": [
        {
          "output_type": "stream",
          "name": "stdout",
          "text": [
            "roc-auc score :0.9898966165413534\n"
          ]
        }
      ]
    },
    {
      "cell_type": "markdown",
      "metadata": {
        "id": "8Zg0eRU32_2K"
      },
      "source": [
        "## Random forest"
      ]
    },
    {
      "cell_type": "code",
      "metadata": {
        "colab": {
          "base_uri": "https://localhost:8080/"
        },
        "id": "VmrWe0RL3BXs",
        "outputId": "23a61d5e-e8e1-41e5-d1ce-bb1b3222d4e3"
      },
      "source": [
        "rfclassifier = RandomForestClassifier(n_estimators = best_paramrf['n_estimators'],bootstrap=best_paramrf['bootstrap'],\n",
        "                                      max_depth=best_paramrf['max_depth'],\n",
        "                                      max_features=best_paramrf['max_features'], random_state = 42)\n",
        "rfclassifier.fit(X,Y)"
      ],
      "execution_count": null,
      "outputs": [
        {
          "output_type": "execute_result",
          "data": {
            "text/plain": [
              "RandomForestClassifier(max_depth=10, n_estimators=13, random_state=42)"
            ]
          },
          "metadata": {},
          "execution_count": 216
        }
      ]
    },
    {
      "cell_type": "code",
      "metadata": {
        "id": "HsoLbmVE3CKI"
      },
      "source": [
        "Y_predrf = rfclassifier.predict(X_test)"
      ],
      "execution_count": null,
      "outputs": []
    },
    {
      "cell_type": "code",
      "metadata": {
        "id": "YnAwnlW33C4z"
      },
      "source": [
        "ytest_pred = rfclassifier.predict_proba(X_test)\n",
        "rf_prob = rfclassifier.predict_proba(X_test)"
      ],
      "execution_count": null,
      "outputs": []
    },
    {
      "cell_type": "code",
      "metadata": {
        "id": "qDlzObpYgj8L"
      },
      "source": [
        "Y_cvpredrf = cross_val_predict(rfclassifier,X,Y,cv = 10)"
      ],
      "execution_count": null,
      "outputs": []
    },
    {
      "cell_type": "code",
      "metadata": {
        "colab": {
          "base_uri": "https://localhost:8080/"
        },
        "id": "b03C1JFt3CU5",
        "outputId": "d94f134b-798c-4b7d-bd70-e26997019689"
      },
      "source": [
        "cms = confusion_matrix(Y_test,Y_predrf)\n",
        "print(cms)"
      ],
      "execution_count": null,
      "outputs": [
        {
          "output_type": "stream",
          "name": "stdout",
          "text": [
            "[[84  0]\n",
            " [ 0 76]]\n"
          ]
        }
      ]
    },
    {
      "cell_type": "code",
      "metadata": {
        "colab": {
          "base_uri": "https://localhost:8080/"
        },
        "id": "cIw-43Crgysi",
        "outputId": "5df066d6-fd0f-4114-9fd0-19efed6eefbf"
      },
      "source": [
        "cvcmsrf = confusion_matrix(Y, Y_cvpredrf)\n",
        "print(cvcmsrf)"
      ],
      "execution_count": null,
      "outputs": [
        {
          "output_type": "stream",
          "name": "stdout",
          "text": [
            "[[318   1]\n",
            " [  8 311]]\n"
          ]
        }
      ]
    },
    {
      "cell_type": "code",
      "metadata": {
        "colab": {
          "base_uri": "https://localhost:8080/",
          "height": 282
        },
        "id": "SwGT8K49g9A7",
        "outputId": "ba7f7b1d-9675-4544-d358-d30a722abab3"
      },
      "source": [
        "group_names = ['True Neg','False Pos','False Neg','True Pos']\n",
        "group_counts = [\"{0:0.0f}\".format(value) for value in\n",
        "                cvcmsrf.flatten()]\n",
        "group_percentages = [\"{0:.2%}\".format(value) for value in\n",
        "                     cvcmsrf.flatten()/np.sum(cvcmsrf)]\n",
        "labels = [f\"{v1}\\n{v2}\\n{v3}\" for v1, v2, v3 in\n",
        "          zip(group_names,group_counts,group_percentages)]\n",
        "labels = np.asarray(labels).reshape(2,2)\n",
        "sns.heatmap(cvcmsrf, annot=labels, fmt='', cmap='Blues')"
      ],
      "execution_count": null,
      "outputs": [
        {
          "output_type": "execute_result",
          "data": {
            "text/plain": [
              "<matplotlib.axes._subplots.AxesSubplot at 0x7efe88a31c50>"
            ]
          },
          "metadata": {},
          "execution_count": 222
        },
        {
          "output_type": "display_data",
          "data": {
            "text/plain": [
              "<Figure size 432x288 with 2 Axes>"
            ],
            "image/png": "[encoded data removed]"
          },
          "metadata": {
            "needs_background": "light"
          }
        }
      ]
    },
    {
      "cell_type": "code",
      "metadata": {
        "colab": {
          "base_uri": "https://localhost:8080/"
        },
        "id": "ywWPNnb93Cca",
        "outputId": "e297940f-c8db-478c-d6d0-b7ccddb63c51"
      },
      "source": [
        "accuracy = cross_val_score(rfclassifier,X,Y, cv=10, scoring='accuracy')\n",
        "print('All Cross Val Accuracy :',accuracy)\n",
        "print('\\nCross Val Accuracy :',accuracy.mean())"
      ],
      "execution_count": null,
      "outputs": [
        {
          "output_type": "stream",
          "name": "stdout",
          "text": [
            "All Cross Val Accuracy : [0.9375     1.         0.96875    1.         0.96875    1.\n",
            " 1.         1.         0.98412698 1.        ]\n",
            "\n",
            "Cross Val Accuracy : 0.9859126984126985\n"
          ]
        }
      ]
    },
    {
      "cell_type": "code",
      "metadata": {
        "colab": {
          "base_uri": "https://localhost:8080/"
        },
        "id": "XTqAFcIShKZy",
        "outputId": "e62d6d5b-e9d1-4c49-fb7c-576355d3a0da"
      },
      "source": [
        "cvresult(Y,Y_cvpredrf)"
      ],
      "execution_count": null,
      "outputs": [
        {
          "output_type": "stream",
          "name": "stdout",
          "text": [
            "Cross Val f1 score :  0.9857369255150555\n",
            "Cross Val Precision :  0.9967948717948718\n",
            "Cross Val recall :  0.9749216300940439\n",
            "Cross Val Classification Report : \n",
            "               precision    recall  f1-score   support\n",
            "\n",
            "           0       0.98      1.00      0.99       319\n",
            "           1       1.00      0.97      0.99       319\n",
            "\n",
            "    accuracy                           0.99       638\n",
            "   macro avg       0.99      0.99      0.99       638\n",
            "weighted avg       0.99      0.99      0.99       638\n",
            "\n"
          ]
        }
      ]
    },
    {
      "cell_type": "code",
      "metadata": {
        "colab": {
          "base_uri": "https://localhost:8080/"
        },
        "id": "J9SR2Pj8hWnD",
        "outputId": "ef5f9594-cfbe-4fb2-bc78-fff6ae487711"
      },
      "source": [
        "result(Y_test,Y_predrf)"
      ],
      "execution_count": null,
      "outputs": [
        {
          "output_type": "stream",
          "name": "stdout",
          "text": [
            "Accuracy :  1.0\n",
            "f1 score :  1.0\n",
            "Precision :  1.0\n",
            "recall :  1.0\n",
            "Classification Report : \n",
            "               precision    recall  f1-score   support\n",
            "\n",
            "           0       1.00      1.00      1.00        84\n",
            "           1       1.00      1.00      1.00        76\n",
            "\n",
            "    accuracy                           1.00       160\n",
            "   macro avg       1.00      1.00      1.00       160\n",
            "weighted avg       1.00      1.00      1.00       160\n",
            "\n"
          ]
        }
      ]
    },
    {
      "cell_type": "code",
      "metadata": {
        "colab": {
          "base_uri": "https://localhost:8080/"
        },
        "id": "qbrZVVp43DcA",
        "outputId": "7ed6093c-8e17-4035-e39f-1999c48ce3ae"
      },
      "source": [
        "rf_auc = roc_auc_score(Y_test,rf_prob[:,1])\n",
        "print('roc-auc score :{}'.format(rf_auc))"
      ],
      "execution_count": null,
      "outputs": [
        {
          "output_type": "stream",
          "name": "stdout",
          "text": [
            "roc-auc score :1.0\n"
          ]
        }
      ]
    },
    {
      "cell_type": "markdown",
      "metadata": {
        "id": "Pz-0blHX3zVx"
      },
      "source": [
        "## Extra Tree"
      ]
    },
    {
      "cell_type": "code",
      "metadata": {
        "colab": {
          "base_uri": "https://localhost:8080/"
        },
        "id": "qxZZYphd39NR",
        "outputId": "013fe303-f509-4663-b682-f76958742979"
      },
      "source": [
        "etclassifier = ExtraTreeClassifier(max_depth=best_paramet['max_depth'],\n",
        "                                   max_features=best_paramet['max_features'],random_state=42)\n",
        "etclassifier.fit(X,Y)"
      ],
      "execution_count": null,
      "outputs": [
        {
          "output_type": "execute_result",
          "data": {
            "text/plain": [
              "ExtraTreeClassifier(max_depth=5, max_features='log2', random_state=42)"
            ]
          },
          "metadata": {},
          "execution_count": 121
        }
      ]
    },
    {
      "cell_type": "code",
      "metadata": {
        "id": "KNePSufskzAp"
      },
      "source": [
        "Y_predet = etclassifier.predict(X_test)"
      ],
      "execution_count": null,
      "outputs": []
    },
    {
      "cell_type": "code",
      "metadata": {
        "id": "C_AQtcv-4b56"
      },
      "source": [
        "ytest_pred = etclassifier.predict_proba(X_test)\n",
        "et_prob = etclassifier.predict_proba(X_test)"
      ],
      "execution_count": null,
      "outputs": []
    },
    {
      "cell_type": "code",
      "metadata": {
        "id": "njt6qPke4nNh"
      },
      "source": [
        "Y_cvpredet = cross_val_predict(etclassifier,X,Y,cv = 10)"
      ],
      "execution_count": null,
      "outputs": []
    },
    {
      "cell_type": "code",
      "metadata": {
        "colab": {
          "base_uri": "https://localhost:8080/"
        },
        "id": "Fp4-0PB54wIy",
        "outputId": "c9fee423-ef62-42d4-d242-33e2c9770f83"
      },
      "source": [
        "cms = confusion_matrix(Y_test,Y_predet)\n",
        "print(cms)"
      ],
      "execution_count": null,
      "outputs": [
        {
          "output_type": "stream",
          "name": "stdout",
          "text": [
            "[[82  2]\n",
            " [13 63]]\n"
          ]
        }
      ]
    },
    {
      "cell_type": "code",
      "metadata": {
        "colab": {
          "base_uri": "https://localhost:8080/"
        },
        "id": "cXUGsdAJ432K",
        "outputId": "b03fa38f-8862-43b0-da0f-41e28f855bc5"
      },
      "source": [
        "cvcmset = confusion_matrix(Y, Y_cvpredet)\n",
        "print(cvcmset)"
      ],
      "execution_count": null,
      "outputs": [
        {
          "output_type": "stream",
          "name": "stdout",
          "text": [
            "[[308  11]\n",
            " [ 49 270]]\n"
          ]
        }
      ]
    },
    {
      "cell_type": "code",
      "metadata": {
        "colab": {
          "base_uri": "https://localhost:8080/",
          "height": 282
        },
        "id": "JwVJO-r35CnZ",
        "outputId": "b7c4c667-ebfd-40f4-caf2-2f5c5c1041e9"
      },
      "source": [
        "group_names = ['True Neg','False Pos','False Neg','True Pos']\n",
        "group_counts = [\"{0:0.0f}\".format(value) for value in\n",
        "                cvcmset.flatten()]\n",
        "group_percentages = [\"{0:.2%}\".format(value) for value in\n",
        "                     cvcmset.flatten()/np.sum(cvcmset)]\n",
        "labels = [f\"{v1}\\n{v2}\\n{v3}\" for v1, v2, v3 in\n",
        "          zip(group_names,group_counts,group_percentages)]\n",
        "labels = np.asarray(labels).reshape(2,2)\n",
        "sns.heatmap(cvcmset, annot=labels, fmt='', cmap='Blues')"
      ],
      "execution_count": null,
      "outputs": [
        {
          "output_type": "execute_result",
          "data": {
            "text/plain": [
              "<matplotlib.axes._subplots.AxesSubplot at 0x7f2ca475d450>"
            ]
          },
          "metadata": {},
          "execution_count": 127
        },
        {
          "output_type": "display_data",
          "data": {
            "text/plain": [
              "<Figure size 432x288 with 2 Axes>"
            ],
            "image/png": "[encoded data removed]"
          },
          "metadata": {
            "needs_background": "light"
          }
        }
      ]
    },
    {
      "cell_type": "code",
      "metadata": {
        "colab": {
          "base_uri": "https://localhost:8080/"
        },
        "id": "7xDACeg25RbB",
        "outputId": "722d53e1-69b7-4153-c386-8d0f3f3984f0"
      },
      "source": [
        "accuracy = cross_val_score(etclassifier,X,Y, cv=10, scoring='accuracy')\n",
        "print('All Cross Val Accuracy :',accuracy)\n",
        "print('\\nCross Val Accuracy :',accuracy.mean())"
      ],
      "execution_count": null,
      "outputs": [
        {
          "output_type": "stream",
          "name": "stdout",
          "text": [
            "All Cross Val Accuracy : [0.890625   0.875      0.90625    0.9375     0.796875   0.90625\n",
            " 0.9375     0.9375     0.93650794 0.93650794]\n",
            "\n",
            "Cross Val Accuracy : 0.9060515873015873\n"
          ]
        }
      ]
    },
    {
      "cell_type": "code",
      "metadata": {
        "colab": {
          "base_uri": "https://localhost:8080/"
        },
        "id": "XfXXvvjH5ZrT",
        "outputId": "5c24eb3b-0633-4f7c-8fb3-32b5ecde65b6"
      },
      "source": [
        "cvresult(Y,Y_cvpredet)"
      ],
      "execution_count": null,
      "outputs": [
        {
          "output_type": "stream",
          "name": "stdout",
          "text": [
            "Cross Val f1 score :  0.9\n",
            "Cross Val Precision :  0.9608540925266904\n",
            "Cross Val recall :  0.8463949843260188\n",
            "Cross Val Classification Report : \n",
            "               precision    recall  f1-score   support\n",
            "\n",
            "           0       0.86      0.97      0.91       319\n",
            "           1       0.96      0.85      0.90       319\n",
            "\n",
            "    accuracy                           0.91       638\n",
            "   macro avg       0.91      0.91      0.91       638\n",
            "weighted avg       0.91      0.91      0.91       638\n",
            "\n"
          ]
        }
      ]
    },
    {
      "cell_type": "code",
      "metadata": {
        "colab": {
          "base_uri": "https://localhost:8080/"
        },
        "id": "YPGJjmbj5gkx",
        "outputId": "a8f14845-dc40-4cfc-fc87-64795246ddbb"
      },
      "source": [
        "result(Y_test,Y_predet)"
      ],
      "execution_count": null,
      "outputs": [
        {
          "output_type": "stream",
          "name": "stdout",
          "text": [
            "Accuracy :  0.90625\n",
            "f1 score :  0.8936170212765957\n",
            "Precision :  0.9692307692307692\n",
            "recall :  0.8289473684210527\n",
            "Classification Report : \n",
            "               precision    recall  f1-score   support\n",
            "\n",
            "           0       0.86      0.98      0.92        84\n",
            "           1       0.97      0.83      0.89        76\n",
            "\n",
            "    accuracy                           0.91       160\n",
            "   macro avg       0.92      0.90      0.90       160\n",
            "weighted avg       0.91      0.91      0.91       160\n",
            "\n"
          ]
        }
      ]
    },
    {
      "cell_type": "code",
      "metadata": {
        "colab": {
          "base_uri": "https://localhost:8080/"
        },
        "id": "6hf5dz1X5o7s",
        "outputId": "e8d1947d-bf9c-4537-a4c1-a5206ffced41"
      },
      "source": [
        "et_auc = roc_auc_score(Y_test,et_prob[:,1])\n",
        "print('roc-auc score :{}'.format(et_auc))"
      ],
      "execution_count": null,
      "outputs": [
        {
          "output_type": "stream",
          "name": "stdout",
          "text": [
            "roc-auc score :0.9352286967418546\n"
          ]
        }
      ]
    },
    {
      "cell_type": "markdown",
      "metadata": {
        "id": "Po9cA8tcXbBn"
      },
      "source": [
        "## ROC-AUC Curve"
      ]
    },
    {
      "cell_type": "code",
      "metadata": {
        "colab": {
          "base_uri": "https://localhost:8080/"
        },
        "id": "0RG_heTuXZdT",
        "outputId": "0cc38ab7-0e8b-4eaa-b5f6-98ee67190908"
      },
      "source": [
        "pred = []\n",
        "for model in [classifier, kclassifier, sclassifier, ksclassifier, nbclassifier, dtclassifier,rfclassifier] :\n",
        "  pred.append(pd.Series(model.predict_proba(X_test)[:,1]))\n",
        "final_prediction = pd.concat(pred,axis=1).mean(axis=1)\n",
        "print('Final roc-auc score :{}'.format(roc_auc_score(Y_test,final_prediction)))"
      ],
      "execution_count": null,
      "outputs": [
        {
          "output_type": "stream",
          "name": "stdout",
          "text": [
            "Final roc-auc score :0.9992600813910469\n"
          ]
        }
      ]
    },
    {
      "cell_type": "code",
      "metadata": {
        "colab": {
          "base_uri": "https://localhost:8080/",
          "height": 424
        },
        "id": "XZ1dcCZZdgdh",
        "outputId": "76e8a339-999a-4ea5-8cc6-af995ca4b4c1"
      },
      "source": [
        "pd.concat(pred,axis=1)"
      ],
      "execution_count": null,
      "outputs": [
        {
          "output_type": "execute_result",
          "data": {
            "text/plain": [
              "            0    1         2         3         4         5         6\n",
              "0    0.666244  1.0  0.828458  0.722626  0.993031  0.850467  0.914336\n",
              "1    0.016146  0.0  0.006163  0.009853  0.000030  0.000000  0.000000\n",
              "2    0.752140  0.6  0.828422  0.749601  0.996622  0.850467  0.995951\n",
              "3    0.797049  1.0  0.828355  0.789770  0.996566  0.850467  0.993204\n",
              "4    0.669810  1.0  0.843506  0.666235  0.993695  0.850467  0.923077\n",
              "..        ...  ...       ...       ...       ...       ...       ...\n",
              "99   0.562780  0.8  0.828462  0.561091  0.993016  0.850467  0.870330\n",
              "100  0.963229  0.8  0.846488  0.976840  0.995830  0.850467  1.000000\n",
              "101  0.893336  1.0  0.991054  0.926248  0.997809  0.850467  1.000000\n",
              "102  0.962934  0.8  0.947869  0.967447  0.974456  0.850467  0.912315\n",
              "103  0.504608  1.0  0.828410  0.404025  0.995616  0.850467  0.914533\n",
              "\n",
              "[104 rows x 7 columns]"
            ],
            "text/html": [
              "\n",
              "  <div id=\"df-abe03c18-75f6-4d05-be09-628b27230b40\">\n",
              "    <div class=\"colab-df-container\">\n",
              "      <div>\n",
              "<style scoped>\n",
              "    .dataframe tbody tr th:only-of-type {\n",
              "        vertical-align: middle;\n",
              "    }\n",
              "\n",
              "    .dataframe tbody tr th {\n",
              "        vertical-align: top;\n",
              "    }\n",
              "\n",
              "    .dataframe thead th {\n",
              "        text-align: right;\n",
              "    }\n",
              "</style>\n",
              "<table border=\"1\" class=\"dataframe\">\n",
              "  <thead>\n",
              "    <tr style=\"text-align: right;\">\n",
              "      <th></th>\n",
              "      <th>0</th>\n",
              "      <th>1</th>\n",
              "      <th>2</th>\n",
              "      <th>3</th>\n",
              "      <th>4</th>\n",
              "      <th>5</th>\n",
              "      <th>6</th>\n",
              "    </tr>\n",
              "  </thead>\n",
              "  <tbody>\n",
              "    <tr>\n",
              "      <th>0</th>\n",
              "      <td>0.666244</td>\n",
              "      <td>1.0</td>\n",
              "      <td>0.828458</td>\n",
              "      <td>0.722626</td>\n",
              "      <td>0.993031</td>\n",
              "      <td>0.850467</td>\n",
              "      <td>0.914336</td>\n",
              "    </tr>\n",
              "    <tr>\n",
              "      <th>1</th>\n",
              "      <td>0.016146</td>\n",
              "      <td>0.0</td>\n",
              "      <td>0.006163</td>\n",
              "      <td>0.009853</td>\n",
              "      <td>0.000030</td>\n",
              "      <td>0.000000</td>\n",
              "      <td>0.000000</td>\n",
              "    </tr>\n",
              "    <tr>\n",
              "      <th>2</th>\n",
              "      <td>0.752140</td>\n",
              "      <td>0.6</td>\n",
              "      <td>0.828422</td>\n",
              "      <td>0.749601</td>\n",
              "      <td>0.996622</td>\n",
              "      <td>0.850467</td>\n",
              "      <td>0.995951</td>\n",
              "    </tr>\n",
              "    <tr>\n",
              "      <th>3</th>\n",
              "      <td>0.797049</td>\n",
              "      <td>1.0</td>\n",
              "      <td>0.828355</td>\n",
              "      <td>0.789770</td>\n",
              "      <td>0.996566</td>\n",
              "      <td>0.850467</td>\n",
              "      <td>0.993204</td>\n",
              "    </tr>\n",
              "    <tr>\n",
              "      <th>4</th>\n",
              "      <td>0.669810</td>\n",
              "      <td>1.0</td>\n",
              "      <td>0.843506</td>\n",
              "      <td>0.666235</td>\n",
              "      <td>0.993695</td>\n",
              "      <td>0.850467</td>\n",
              "      <td>0.923077</td>\n",
              "    </tr>\n",
              "    <tr>\n",
              "      <th>...</th>\n",
              "      <td>...</td>\n",
              "      <td>...</td>\n",
              "      <td>...</td>\n",
              "      <td>...</td>\n",
              "      <td>...</td>\n",
              "      <td>...</td>\n",
              "      <td>...</td>\n",
              "    </tr>\n",
              "    <tr>\n",
              "      <th>99</th>\n",
              "      <td>0.562780</td>\n",
              "      <td>0.8</td>\n",
              "      <td>0.828462</td>\n",
              "      <td>0.561091</td>\n",
              "      <td>0.993016</td>\n",
              "      <td>0.850467</td>\n",
              "      <td>0.870330</td>\n",
              "    </tr>\n",
              "    <tr>\n",
              "      <th>100</th>\n",
              "      <td>0.963229</td>\n",
              "      <td>0.8</td>\n",
              "      <td>0.846488</td>\n",
              "      <td>0.976840</td>\n",
              "      <td>0.995830</td>\n",
              "      <td>0.850467</td>\n",
              "      <td>1.000000</td>\n",
              "    </tr>\n",
              "    <tr>\n",
              "      <th>101</th>\n",
              "      <td>0.893336</td>\n",
              "      <td>1.0</td>\n",
              "      <td>0.991054</td>\n",
              "      <td>0.926248</td>\n",
              "      <td>0.997809</td>\n",
              "      <td>0.850467</td>\n",
              "      <td>1.000000</td>\n",
              "    </tr>\n",
              "    <tr>\n",
              "      <th>102</th>\n",
              "      <td>0.962934</td>\n",
              "      <td>0.8</td>\n",
              "      <td>0.947869</td>\n",
              "      <td>0.967447</td>\n",
              "      <td>0.974456</td>\n",
              "      <td>0.850467</td>\n",
              "      <td>0.912315</td>\n",
              "    </tr>\n",
              "    <tr>\n",
              "      <th>103</th>\n",
              "      <td>0.504608</td>\n",
              "      <td>1.0</td>\n",
              "      <td>0.828410</td>\n",
              "      <td>0.404025</td>\n",
              "      <td>0.995616</td>\n",
              "      <td>0.850467</td>\n",
              "      <td>0.914533</td>\n",
              "    </tr>\n",
              "  </tbody>\n",
              "</table>\n",
              "<p>104 rows × 7 columns</p>\n",
              "</div>\n",
              "      <button class=\"colab-df-convert\" onclick=\"convertToInteractive('df-abe03c18-75f6-4d05-be09-628b27230b40')\"\n",
              "              title=\"Convert this dataframe to an interactive table.\"\n",
              "              style=\"display:none;\">\n",
              "        \n",
              "  <svg xmlns=\"http://www.w3.org/2000/svg\" height=\"24px\"viewBox=\"0 0 24 24\"\n",
              "       width=\"24px\">\n",
              "    <path d=\"M0 0h24v24H0V0z\" fill=\"none\"/>\n",
              "    <path d=\"M18.56 5.44l.94 2.06.94-2.06 2.06-.94-2.06-.94-.94-2.06-.94 2.06-2.06.94zm-11 1L8.5 8.5l.94-2.06 2.06-.94-2.06-.94L8.5 2.5l-.94 2.06-2.06.94zm10 10l.94 2.06.94-2.06 2.06-.94-2.06-.94-.94-2.06-.94 2.06-2.06.94z\"/><path d=\"M17.41 7.96l-1.37-1.37c-.4-.4-.92-.59-1.43-.59-.52 0-1.04.2-1.43.59L10.3 9.45l-7.72 7.72c-.78.78-.78 2.05 0 2.83L4 21.41c.39.39.9.59 1.41.59.51 0 1.02-.2 1.41-.59l7.78-7.78 2.81-2.81c.8-.78.8-2.07 0-2.86zM5.41 20L4 18.59l7.72-7.72 1.47 1.35L5.41 20z\"/>\n",
              "  </svg>\n",
              "      </button>\n",
              "      \n",
              "  <style>\n",
              "    .colab-df-container {\n",
              "      display:flex;\n",
              "      flex-wrap:wrap;\n",
              "      gap: 12px;\n",
              "    }\n",
              "\n",
              "    .colab-df-convert {\n",
              "      background-color: #E8F0FE;\n",
              "      border: none;\n",
              "      border-radius: 50%;\n",
              "      cursor: pointer;\n",
              "      display: none;\n",
              "      fill: #1967D2;\n",
              "      height: 32px;\n",
              "      padding: 0 0 0 0;\n",
              "      width: 32px;\n",
              "    }\n",
              "\n",
              "    .colab-df-convert:hover {\n",
              "      background-color: #E2EBFA;\n",
              "      box-shadow: 0px 1px 2px rgba(60, 64, 67, 0.3), 0px 1px 3px 1px rgba(60, 64, 67, 0.15);\n",
              "      fill: #174EA6;\n",
              "    }\n",
              "\n",
              "    [theme=dark] .colab-df-convert {\n",
              "      background-color: #3B4455;\n",
              "      fill: #D2E3FC;\n",
              "    }\n",
              "\n",
              "    [theme=dark] .colab-df-convert:hover {\n",
              "      background-color: #434B5C;\n",
              "      box-shadow: 0px 1px 3px 1px rgba(0, 0, 0, 0.15);\n",
              "      filter: drop-shadow(0px 1px 2px rgba(0, 0, 0, 0.3));\n",
              "      fill: #FFFFFF;\n",
              "    }\n",
              "  </style>\n",
              "\n",
              "      <script>\n",
              "        const buttonEl =\n",
              "          document.querySelector('#df-abe03c18-75f6-4d05-be09-628b27230b40 button.colab-df-convert');\n",
              "        buttonEl.style.display =\n",
              "          google.colab.kernel.accessAllowed ? 'block' : 'none';\n",
              "\n",
              "        async function convertToInteractive(key) {\n",
              "          const element = document.querySelector('#df-abe03c18-75f6-4d05-be09-628b27230b40');\n",
              "          const dataTable =\n",
              "            await google.colab.kernel.invokeFunction('convertToInteractive',\n",
              "                                                     [key], {});\n",
              "          if (!dataTable) return;\n",
              "\n",
              "          const docLinkHtml = 'Like what you see? Visit the ' +\n",
              "            '<a target=\"_blank\" href=https://colab.research.google.com/notebooks/data_table.ipynb>data table notebook</a>'\n",
              "            + ' to learn more about interactive tables.';\n",
              "          element.innerHTML = '';\n",
              "          dataTable['output_type'] = 'display_data';\n",
              "          await google.colab.output.renderOutput(dataTable, element);\n",
              "          const docLink = document.createElement('div');\n",
              "          docLink.innerHTML = docLinkHtml;\n",
              "          element.appendChild(docLink);\n",
              "        }\n",
              "      </script>\n",
              "    </div>\n",
              "  </div>\n",
              "  "
            ]
          },
          "metadata": {},
          "execution_count": 222
        }
      ]
    },
    {
      "cell_type": "code",
      "metadata": {
        "colab": {
          "base_uri": "https://localhost:8080/"
        },
        "id": "gbwTwAKEeAPc",
        "outputId": "134ea0d5-512f-4e77-a43c-ae6ff9b24503"
      },
      "source": [
        "final_prediction"
      ],
      "execution_count": null,
      "outputs": [
        {
          "output_type": "execute_result",
          "data": {
            "text/plain": [
              "0      0.853595\n",
              "1      0.004599\n",
              "2      0.824744\n",
              "3      0.893630\n",
              "4      0.849541\n",
              "         ...   \n",
              "99     0.780878\n",
              "100    0.918979\n",
              "101    0.951273\n",
              "102    0.916498\n",
              "103    0.785380\n",
              "Length: 104, dtype: float64"
            ]
          },
          "metadata": {},
          "execution_count": 223
        }
      ]
    },
    {
      "cell_type": "code",
      "metadata": {
        "colab": {
          "base_uri": "https://localhost:8080/"
        },
        "id": "-R5RM6theDgK",
        "outputId": "7b285c60-dac6-47ba-f349-2b9ce1d75615"
      },
      "source": [
        "fpr, tpr, thresholds = roc_curve(Y_test, final_prediction)\n",
        "thresholds"
      ],
      "execution_count": null,
      "outputs": [
        {
          "output_type": "execute_result",
          "data": {
            "text/plain": [
              "array([1.97273895e+00, 9.72738952e-01, 6.56454457e-01, 6.44146298e-01,\n",
              "       6.42774035e-01, 1.19646324e-03])"
            ]
          },
          "metadata": {},
          "execution_count": 224
        }
      ]
    },
    {
      "cell_type": "code",
      "metadata": {
        "colab": {
          "base_uri": "https://localhost:8080/",
          "height": 206
        },
        "id": "qBS7TL-2euBi",
        "outputId": "f840dc4e-ebc5-409a-f090-a5469e9dc45e"
      },
      "source": [
        "from sklearn.metrics import accuracy_score\n",
        "accuracy_ls=[]\n",
        "for thres in thresholds:\n",
        "  y_pred = np.where(final_prediction>thres,1,0)\n",
        "  accuracy_ls.append(accuracy_score(Y_test,y_pred, normalize=True))\n",
        "accuracy_ls = pd.concat([pd.Series(thresholds), pd.Series(accuracy_ls)], axis=1)\n",
        "accuracy_ls.columns = ['Thresholds','Accuracy']\n",
        "accuracy_ls.sort_values(by='Accuracy', ascending = False, inplace=True)\n",
        "accuracy_ls.head()"
      ],
      "execution_count": null,
      "outputs": [
        {
          "output_type": "execute_result",
          "data": {
            "text/plain": [
              "   Thresholds  Accuracy\n",
              "2    0.656454  0.980769\n",
              "3    0.644146  0.980769\n",
              "4    0.642774  0.971154\n",
              "0    1.972739  0.509615\n",
              "1    0.972739  0.509615"
            ],
            "text/html": [
              "\n",
              "  <div id=\"df-752a9656-daa7-49c3-9791-2c92ef0d85de\">\n",
              "    <div class=\"colab-df-container\">\n",
              "      <div>\n",
              "<style scoped>\n",
              "    .dataframe tbody tr th:only-of-type {\n",
              "        vertical-align: middle;\n",
              "    }\n",
              "\n",
              "    .dataframe tbody tr th {\n",
              "        vertical-align: top;\n",
              "    }\n",
              "\n",
              "    .dataframe thead th {\n",
              "        text-align: right;\n",
              "    }\n",
              "</style>\n",
              "<table border=\"1\" class=\"dataframe\">\n",
              "  <thead>\n",
              "    <tr style=\"text-align: right;\">\n",
              "      <th></th>\n",
              "      <th>Thresholds</th>\n",
              "      <th>Accuracy</th>\n",
              "    </tr>\n",
              "  </thead>\n",
              "  <tbody>\n",
              "    <tr>\n",
              "      <th>2</th>\n",
              "      <td>0.656454</td>\n",
              "      <td>0.980769</td>\n",
              "    </tr>\n",
              "    <tr>\n",
              "      <th>3</th>\n",
              "      <td>0.644146</td>\n",
              "      <td>0.980769</td>\n",
              "    </tr>\n",
              "    <tr>\n",
              "      <th>4</th>\n",
              "      <td>0.642774</td>\n",
              "      <td>0.971154</td>\n",
              "    </tr>\n",
              "    <tr>\n",
              "      <th>0</th>\n",
              "      <td>1.972739</td>\n",
              "      <td>0.509615</td>\n",
              "    </tr>\n",
              "    <tr>\n",
              "      <th>1</th>\n",
              "      <td>0.972739</td>\n",
              "      <td>0.509615</td>\n",
              "    </tr>\n",
              "  </tbody>\n",
              "</table>\n",
              "</div>\n",
              "      <button class=\"colab-df-convert\" onclick=\"convertToInteractive('df-752a9656-daa7-49c3-9791-2c92ef0d85de')\"\n",
              "              title=\"Convert this dataframe to an interactive table.\"\n",
              "              style=\"display:none;\">\n",
              "        \n",
              "  <svg xmlns=\"http://www.w3.org/2000/svg\" height=\"24px\"viewBox=\"0 0 24 24\"\n",
              "       width=\"24px\">\n",
              "    <path d=\"M0 0h24v24H0V0z\" fill=\"none\"/>\n",
              "    <path d=\"M18.56 5.44l.94 2.06.94-2.06 2.06-.94-2.06-.94-.94-2.06-.94 2.06-2.06.94zm-11 1L8.5 8.5l.94-2.06 2.06-.94-2.06-.94L8.5 2.5l-.94 2.06-2.06.94zm10 10l.94 2.06.94-2.06 2.06-.94-2.06-.94-.94-2.06-.94 2.06-2.06.94z\"/><path d=\"M17.41 7.96l-1.37-1.37c-.4-.4-.92-.59-1.43-.59-.52 0-1.04.2-1.43.59L10.3 9.45l-7.72 7.72c-.78.78-.78 2.05 0 2.83L4 21.41c.39.39.9.59 1.41.59.51 0 1.02-.2 1.41-.59l7.78-7.78 2.81-2.81c.8-.78.8-2.07 0-2.86zM5.41 20L4 18.59l7.72-7.72 1.47 1.35L5.41 20z\"/>\n",
              "  </svg>\n",
              "      </button>\n",
              "      \n",
              "  <style>\n",
              "    .colab-df-container {\n",
              "      display:flex;\n",
              "      flex-wrap:wrap;\n",
              "      gap: 12px;\n",
              "    }\n",
              "\n",
              "    .colab-df-convert {\n",
              "      background-color: #E8F0FE;\n",
              "      border: none;\n",
              "      border-radius: 50%;\n",
              "      cursor: pointer;\n",
              "      display: none;\n",
              "      fill: #1967D2;\n",
              "      height: 32px;\n",
              "      padding: 0 0 0 0;\n",
              "      width: 32px;\n",
              "    }\n",
              "\n",
              "    .colab-df-convert:hover {\n",
              "      background-color: #E2EBFA;\n",
              "      box-shadow: 0px 1px 2px rgba(60, 64, 67, 0.3), 0px 1px 3px 1px rgba(60, 64, 67, 0.15);\n",
              "      fill: #174EA6;\n",
              "    }\n",
              "\n",
              "    [theme=dark] .colab-df-convert {\n",
              "      background-color: #3B4455;\n",
              "      fill: #D2E3FC;\n",
              "    }\n",
              "\n",
              "    [theme=dark] .colab-df-convert:hover {\n",
              "      background-color: #434B5C;\n",
              "      box-shadow: 0px 1px 3px 1px rgba(0, 0, 0, 0.15);\n",
              "      filter: drop-shadow(0px 1px 2px rgba(0, 0, 0, 0.3));\n",
              "      fill: #FFFFFF;\n",
              "    }\n",
              "  </style>\n",
              "\n",
              "      <script>\n",
              "        const buttonEl =\n",
              "          document.querySelector('#df-752a9656-daa7-49c3-9791-2c92ef0d85de button.colab-df-convert');\n",
              "        buttonEl.style.display =\n",
              "          google.colab.kernel.accessAllowed ? 'block' : 'none';\n",
              "\n",
              "        async function convertToInteractive(key) {\n",
              "          const element = document.querySelector('#df-752a9656-daa7-49c3-9791-2c92ef0d85de');\n",
              "          const dataTable =\n",
              "            await google.colab.kernel.invokeFunction('convertToInteractive',\n",
              "                                                     [key], {});\n",
              "          if (!dataTable) return;\n",
              "\n",
              "          const docLinkHtml = 'Like what you see? Visit the ' +\n",
              "            '<a target=\"_blank\" href=https://colab.research.google.com/notebooks/data_table.ipynb>data table notebook</a>'\n",
              "            + ' to learn more about interactive tables.';\n",
              "          element.innerHTML = '';\n",
              "          dataTable['output_type'] = 'display_data';\n",
              "          await google.colab.output.renderOutput(dataTable, element);\n",
              "          const docLink = document.createElement('div');\n",
              "          docLink.innerHTML = docLinkHtml;\n",
              "          element.appendChild(docLink);\n",
              "        }\n",
              "      </script>\n",
              "    </div>\n",
              "  </div>\n",
              "  "
            ]
          },
          "metadata": {},
          "execution_count": 225
        }
      ]
    },
    {
      "cell_type": "code",
      "metadata": {
        "id": "BuCqcA-Dhw7h"
      },
      "source": [
        "def plot_roc_curve(fpr, tpr):\n",
        "  plt.plot(fpr, tpr, color = 'red', label='ROC')\n",
        "  plt.plot([0,1], [0,1], color= 'blue', linestyle='--' )\n",
        "  plt.xlabel('False Positive Rate')\n",
        "  plt.ylabel('True Positive Rate')\n",
        "  plt.title('ROC CURVE')\n",
        "  plt.legend()\n",
        "  plt.show()"
      ],
      "execution_count": null,
      "outputs": []
    },
    {
      "cell_type": "code",
      "metadata": {
        "colab": {
          "base_uri": "https://localhost:8080/",
          "height": 295
        },
        "id": "zI3PRNQwj-po",
        "outputId": "307110f7-875d-4aea-83c6-d7d0ca300922"
      },
      "source": [
        "plot_roc_curve(fpr, tpr)"
      ],
      "execution_count": null,
      "outputs": [
        {
          "output_type": "display_data",
          "data": {
            "text/plain": [
              "<Figure size 432x288 with 1 Axes>"
            ],
            "image/png": "[encoded data removed]"
          },
          "metadata": {
            "needs_background": "light"
          }
        }
      ]
    },
    {
      "cell_type": "code",
      "metadata": {
        "id": "sezE1yLhllYe"
      },
      "source": [
        "lr_fpr,lr_tpr,_ = roc_curve(Y_test,lr_prob[:,1])\n",
        "svm_fpr,svm_tpr,_ = roc_curve(Y_test,svm_prob[:,1])\n",
        "nb_fpr,nb_tpr,_ = roc_curve(Y_test,nb_prob[:,1])\n",
        "dt_fpr,dt_tpr,_ = roc_curve(Y_test,dt_prob[:,1])\n",
        "rf_fpr,rf_tpr,_ = roc_curve(Y_test,rf_prob[:,1])\n",
        "et_fpr,et_tpr,_ = roc_curve(Y_test,et_prob[:,1])"
      ],
      "execution_count": null,
      "outputs": []
    },
    {
      "cell_type": "code",
      "metadata": {
        "colab": {
          "base_uri": "https://localhost:8080/",
          "height": 295
        },
        "id": "OljrLQCAtdxD",
        "outputId": "3b213ad2-ea7e-423f-c3e4-228d2f4ecc3c"
      },
      "source": [
        "plt.plot(lr_fpr, lr_tpr, color = 'red', linestyle='-',label='Logistric Regrassion AUROC = %0.3f'% lr_auc)\n",
        "plt.plot(svm_fpr, svm_tpr, color = 'green', linestyle='-',label='SVM AUROC = %0.3f'% svm_auc)\n",
        "plt.plot(nb_fpr, nb_tpr, color = 'orange', linestyle='-',label='Naive Bayes AUROC = %0.3f'% nb_auc)\n",
        "plt.plot(dt_fpr, dt_tpr, color = 'blue', linestyle='-',label='Decision Tree  AUROC = %0.3f'% dt_auc)\n",
        "plt.plot(rf_fpr, rf_tpr, color = 'cyan', linestyle='-',label='Random Forest AUROC = %0.3f'% rf_auc)\n",
        "plt.plot(et_fpr, et_tpr, color = 'coral', linestyle='-',label='Extra Tree AUROC = %0.3f'% et_auc)\n",
        "plt.xlabel('False Positive Rate')\n",
        "plt.ylabel('True Positive Rate')\n",
        "plt.title('ROC CURVE (Traditional)')\n",
        "plt.legend(loc=4, prop={'size': 12})\n",
        "plt.show()"
      ],
      "execution_count": null,
      "outputs": [
        {
          "output_type": "display_data",
          "data": {
            "text/plain": [
              "<Figure size 432x288 with 1 Axes>"
            ],
            "image/png": "[encoded data removed]"
          },
          "metadata": {
            "needs_background": "light"
          }
        }
      ]
    },
    {
      "cell_type": "markdown",
      "source": [
        "# Stacking"
      ],
      "metadata": {
        "id": "BsKU3aMsCpEt"
      }
    },
    {
      "cell_type": "code",
      "source": [
        "from sklearn.ensemble import StackingClassifier"
      ],
      "metadata": {
        "id": "sil6emE3JbdC"
      },
      "execution_count": null,
      "outputs": []
    },
    {
      "cell_type": "code",
      "source": [
        "estimators = [('SVM', sclassifier),('RF', rfclassifier)]\n",
        "stackclassifier = StackingClassifier(estimators=estimators)"
      ],
      "metadata": {
        "id": "3nf9B9nJOmHy"
      },
      "execution_count": null,
      "outputs": []
    },
    {
      "cell_type": "code",
      "source": [
        "Kfold_result(X,Y,stackclassifier,10)"
      ],
      "metadata": {
        "colab": {
          "base_uri": "https://localhost:8080/",
          "height": 369
        },
        "id": "ZmiMZwDeQLzL",
        "outputId": "ec7d9683-e62f-4952-ec2d-8bcb65cb93f3"
      },
      "execution_count": null,
      "outputs": [
        {
          "output_type": "stream",
          "name": "stdout",
          "text": [
            "\n",
            "cross validation\n",
            "cross accuracy: 0.9890376984126984\n",
            "cross precision: 0.9828282828282827\n",
            "cross recall: 0.996875\n",
            "cross f1 score: 0.9894534223945989\n"
          ]
        },
        {
          "output_type": "display_data",
          "data": {
            "text/plain": [
              "<Figure size 432x288 with 2 Axes>"
            ],
            "image/png": "[encoded data removed]"
          },
          "metadata": {
            "needs_background": "light"
          }
        }
      ]
    },
    {
      "cell_type": "code",
      "source": [
        "# AUC\n",
        "from sklearn.metrics import roc_auc_score, roc_curve\n",
        "stackclassifier.fit(X,Y)\n",
        "st_probs_y = stackclassifier.predict_proba(X)\n",
        "st_auc_y = roc_auc_score(Y, st_probs_y[:,1])\n",
        "st_fpr, st_tpr, threshold = roc_curve(Y,st_probs_y[:,1])\n",
        "print(st_auc_y)"
      ],
      "metadata": {
        "colab": {
          "base_uri": "https://localhost:8080/"
        },
        "id": "6sr7MQ-zjQnk",
        "outputId": "4d8117d2-f783-4089-c0f6-37364b4fcb94"
      },
      "execution_count": null,
      "outputs": [
        {
          "output_type": "stream",
          "name": "stdout",
          "text": [
            "1.0\n"
          ]
        }
      ]
    },
    {
      "cell_type": "code",
      "source": [
        "from sklearn.metrics import roc_auc_score,roc_curve\n",
        "\n",
        "plt.figure(figsize=(5,5),dpi = 100)\n",
        "plt.plot(st_fpr,st_tpr,linestyle='-',label='Stacking(ROC:%0.3f)' % st_auc_y)\n",
        "lw=2\n",
        "plt.plot([0, 1], [0, 1], color='black', lw=lw, linestyle='--')\n",
        "plt.title(\"ROC Curve\")\n",
        "plt.xlabel(\"False Positive Rate ---->\")\n",
        "plt.ylabel(\"True Positive Rate ---->\")\n",
        "plt.legend()\n",
        "plt.show()"
      ],
      "metadata": {
        "colab": {
          "base_uri": "https://localhost:8080/",
          "height": 480
        },
        "id": "KpC2xAsljbpS",
        "outputId": "02ef5e64-3318-42c6-ea4a-4b4410cbbd90"
      },
      "execution_count": null,
      "outputs": [
        {
          "output_type": "display_data",
          "data": {
            "text/plain": [
              "<Figure size 500x500 with 1 Axes>"
            ],
            "image/png": "[encoded data removed]"
          },
          "metadata": {
            "needs_background": "light"
          }
        }
      ]
    },
    {
      "cell_type": "markdown",
      "metadata": {
        "id": "qgYJhFpzj3DL"
      },
      "source": [
        "#Hard Ensemble"
      ]
    },
    {
      "cell_type": "code",
      "execution_count": null,
      "metadata": {
        "id": "L3g9t5TcXeXM",
        "colab": {
          "base_uri": "https://localhost:8080/"
        },
        "outputId": "59e3f5ce-0278-408a-de09-1e16e57add93"
      },
      "outputs": [
        {
          "output_type": "stream",
          "name": "stdout",
          "text": [
            "Accuracy: 0.9373 (+/- 0.036) [LR Classifier]\n",
            "Accuracy: 0.9828 (+/- 0.018) [SVM]\n",
            "Accuracy: 0.9859 (+/- 0.020) [RF]\n",
            "Accuracy: 0.9812 (+/- 0.024) [Ensemble_hard]\n",
            "Precision: 0.9483 (+/- 0.058) [LR Classifier]\n",
            "Precision: 0.9828 (+/- 0.034) [SVM]\n",
            "Precision: 0.9969 (+/- 0.009) [RF]\n",
            "Precision: 0.9827 (+/- 0.034) [Ensemble]\n",
            "Recall: 0.9313 (+/- 0.059) [LR Classifier]\n",
            "Recall: 0.9843 (+/- 0.021) [SVM]\n",
            "Recall: 0.9750 (+/- 0.039) [RF]\n",
            "Recall: 0.9812 (+/- 0.037) [Ensemble]\n"
          ]
        }
      ],
      "source": [
        "from sklearn.ensemble import VotingClassifier\n",
        "eclfh = VotingClassifier(estimators=[('LRmodel', classifier), ('SVM', sclassifier), ('rf', rfclassifier)],voting='hard')\n",
        "\n",
        "for clf, label in zip([classifier, sclassifier, rfclassifier, eclfh], ['LR Classifier', 'SVM', 'RF', 'Ensemble_hard']):\n",
        "      scores = cross_val_score(clf, X, Y, scoring='accuracy', cv=10)\n",
        "      print(\"Accuracy: %0.4f (+/- %0.3f) [%s]\" % (scores.mean(), scores.std(), label))\n",
        "for clf, label in zip([classifier, sclassifier, rfclassifier, eclfh], ['LR Classifier', 'SVM', 'RF', 'Ensemble']):\n",
        "      scores = cross_val_score(clf, X, Y, scoring='precision', cv=10)\n",
        "      print(\"Precision: %0.4f (+/- %0.3f) [%s]\" % (scores.mean(), scores.std(), label))\n",
        "for clf, label in zip([classifier, sclassifier, rfclassifier, eclfh], ['LR Classifier', 'SVM', 'RF', 'Ensemble']):\n",
        "      scores = cross_val_score(clf, X, Y, scoring='recall', cv=10)\n",
        "      print(\"Recall: %0.4f (+/- %0.3f) [%s]\" % (scores.mean(), scores.std(), label))\n",
        "\n"
      ]
    },
    {
      "cell_type": "markdown",
      "source": [
        "# Soft ensemble"
      ],
      "metadata": {
        "id": "c7KyMejs53Bq"
      }
    },
    {
      "cell_type": "code",
      "execution_count": null,
      "metadata": {
        "id": "exlmGEMA5v18",
        "colab": {
          "base_uri": "https://localhost:8080/"
        },
        "outputId": "eea7df44-2079-4337-b897-db1b7fda7967"
      },
      "outputs": [
        {
          "output_type": "stream",
          "name": "stdout",
          "text": [
            "Accuracy: 0.9373 (+/- 0.036) [LR]\n",
            "Accuracy: 0.9828 (+/- 0.018) [SVM]\n",
            "Accuracy: 0.9859 (+/- 0.020) [RF]\n",
            "Accuracy: 0.9812 (+/- 0.024) [Ensemble_soft]\n",
            "Precision: 0.9483 (+/- 0.058) [LR]\n",
            "Precision: 0.9828 (+/- 0.034) [SVM]\n",
            "Precision: 0.9969 (+/- 0.009) [RF]\n",
            "Precision: 0.9827 (+/- 0.034) [Ensemble_soft]\n",
            "Recall: 0.9313 (+/- 0.059) [LR]\n",
            "Recall: 0.9843 (+/- 0.021) [SVM]\n",
            "Recall: 0.9750 (+/- 0.039) [RF]\n",
            "Recall: 0.9812 (+/- 0.037) [Ensemble_soft]\n"
          ]
        }
      ],
      "source": [
        "from sklearn.ensemble import VotingClassifier\n",
        "eclfs = VotingClassifier(estimators=[('LR', classifier), ('SVM', sclassifier), ('RF', rfclassifier)],voting='soft')\n",
        "\n",
        "for clf, label in zip([classifier, sclassifier, rfclassifier, eclfh], ['LR', 'SVM', 'RF', 'Ensemble_soft']):\n",
        "      scores = cross_val_score(clf, X, Y, scoring='accuracy', cv=10)\n",
        "      print(\"Accuracy: %0.4f (+/- %0.3f) [%s]\" % (scores.mean(), scores.std(), label))\n",
        "for clf, label in zip([classifier, sclassifier, rfclassifier, eclfh], ['LR', 'SVM', 'RF', 'Ensemble_soft']):\n",
        "      scores = cross_val_score(clf, X, Y, scoring='precision', cv=10)\n",
        "      print(\"Precision: %0.4f (+/- %0.3f) [%s]\" % (scores.mean(), scores.std(), label))\n",
        "for clf, label in zip([classifier, sclassifier, rfclassifier, eclfh], ['LR', 'SVM', 'RF', 'Ensemble_soft']):\n",
        "      scores = cross_val_score(clf, X, Y, scoring='recall', cv=10)\n",
        "      print(\"Recall: %0.4f (+/- %0.3f) [%s]\" % (scores.mean(), scores.std(), label))\n"
      ]
    },
    {
      "cell_type": "code",
      "source": [
        "def Kfold_result(X,Y,model,foldnum):\n",
        "   print(\"\\ncross validation\")\n",
        "   from sklearn.model_selection import cross_val_score, cross_validate,cross_val_predict\n",
        "   from sklearn.metrics import make_scorer, accuracy_score, precision_score, recall_score, f1_score\n",
        "   scoring = {'accuracy' : make_scorer(accuracy_score),\n",
        "           'precision' : make_scorer(precision_score),\n",
        "           'recall' : make_scorer(recall_score),\n",
        "           'f1_score' : make_scorer(f1_score)}\n",
        "\n",
        "   results = cross_validate(estimator=model,\n",
        "                                          X=X,\n",
        "                                          y=Y,\n",
        "                                          cv=10,\n",
        "                                          scoring=scoring)\n",
        "   print('cross accuracy:',np.mean(results['test_accuracy']))\n",
        "   print('cross precision:',np.mean(results['test_precision']))\n",
        "   print('cross recall:',np.mean(results['test_recall']))\n",
        "   print('cross f1 score:', np.mean(results['test_f1_score']))\n",
        "   cross_pred_test = cross_val_predict(model,X,Y,cv = 10)\n",
        "   cm = confusion_matrix(Y,cross_pred_test)\n",
        "   group_names = ['','','','']\n",
        "   group_counts = [\"{0:0.0f}\".format(value) for value in\n",
        "                cm.flatten()]\n",
        "   group_percentages = [\"{0:.2%}\".format(value) for value in\n",
        "                     cm.flatten()/np.sum(cm)]\n",
        "   labels = [f\"{v1}\\n{v2}\\n{v3}\" for v1, v2, v3 in\n",
        "          zip(group_names,group_counts,group_percentages)]\n",
        "   labels = np.asarray(labels).reshape(2,2)\n",
        "   sns.heatmap(cm, annot=labels, fmt='', cmap='Purples')\n",
        "\n",
        "   pass"
      ],
      "metadata": {
        "id": "qcymjsYJ-CR5"
      },
      "execution_count": null,
      "outputs": []
    },
    {
      "cell_type": "code",
      "source": [
        "Kfold_result(X,Y,eclfs,10)"
      ],
      "metadata": {
        "colab": {
          "base_uri": "https://localhost:8080/",
          "height": 369
        },
        "id": "yjNWNIZgEgn-",
        "outputId": "70aea724-017a-496a-da0b-033815a02149"
      },
      "execution_count": null,
      "outputs": [
        {
          "output_type": "stream",
          "name": "stdout",
          "text": [
            "\n",
            "cross validation\n",
            "cross accuracy: 0.9812251984126984\n",
            "cross precision: 0.9828282828282827\n",
            "cross recall: 0.98125\n",
            "cross f1 score: 0.9811994541406307\n"
          ]
        },
        {
          "output_type": "display_data",
          "data": {
            "text/plain": [
              "<Figure size 432x288 with 2 Axes>"
            ],
            "image/png": "[encoded data removed]"
          },
          "metadata": {
            "needs_background": "light"
          }
        }
      ]
    },
    {
      "cell_type": "code",
      "source": [
        "# AUC\n",
        "from sklearn.metrics import roc_auc_score, roc_curve\n",
        "eclfs.fit(X,Y)\n",
        "es_probs_y = eclfs.predict_proba(X)\n",
        "es_auc_y = roc_auc_score(Y, es_probs_y[:,1])\n",
        "es_fpr, es_tpr, threshold = roc_curve(Y,es_probs_y[:,1])\n",
        "print(es_auc_y)"
      ],
      "metadata": {
        "colab": {
          "base_uri": "https://localhost:8080/"
        },
        "id": "qhY2b9LhFMDW",
        "outputId": "5463e192-4736-439e-bf8d-27635fbbeb9f"
      },
      "execution_count": null,
      "outputs": [
        {
          "output_type": "stream",
          "name": "stdout",
          "text": [
            "1.0\n"
          ]
        }
      ]
    },
    {
      "cell_type": "code",
      "source": [
        "from sklearn.metrics import roc_auc_score,roc_curve\n",
        "\n",
        "\n",
        "plt.figure(figsize=(5,5),dpi = 100)\n",
        "plt.plot(es_fpr,es_tpr,linestyle='-',label='Soft Voting(ROC:%0.3f)' % es_auc_y)\n",
        "lw=2\n",
        "plt.plot([0, 1], [0, 1], color='black', lw=lw, linestyle='--')\n",
        "plt.title(\"ROC Curve\")\n",
        "plt.xlabel(\"False Positive Rate ---->\")\n",
        "plt.ylabel(\"True Positive Rate ---->\")\n",
        "plt.legend()\n",
        "plt.show()"
      ],
      "metadata": {
        "id": "q-_jbTQBqQU5",
        "colab": {
          "base_uri": "https://localhost:8080/",
          "height": 480
        },
        "outputId": "ec058076-118c-485d-bb27-3d17b16d5a6d"
      },
      "execution_count": null,
      "outputs": [
        {
          "output_type": "display_data",
          "data": {
            "text/plain": [
              "<Figure size 500x500 with 1 Axes>"
            ],
            "image/png": "[encoded data removed]"
          },
          "metadata": {
            "needs_background": "light"
          }
        }
      ]
    },
    {
      "cell_type": "markdown",
      "source": [
        "# ROC"
      ],
      "metadata": {
        "id": "Z4WsxiM6UYNX"
      }
    },
    {
      "cell_type": "code",
      "source": [
        "lr_fpr,lr_tpr,_ = roc_curve(Y_test,lr_prob[:,1])\n",
        "svm_fpr,svm_tpr,_ = roc_curve(Y_test,svm_prob[:,1])\n",
        "nb_fpr,nb_tpr,_ = roc_curve(Y_test,nb_prob[:,1])\n",
        "dt_fpr,dt_tpr,_ = roc_curve(Y_test,dt_prob[:,1])\n",
        "rf_fpr,rf_tpr,_ = roc_curve(Y_test,rf_prob[:,1])\n",
        "et_fpr,et_tpr,_ = roc_curve(Y_test,et_prob[:,1])\n"
      ],
      "metadata": {
        "id": "S7eOZus4Uell"
      },
      "execution_count": null,
      "outputs": []
    },
    {
      "cell_type": "code",
      "source": [
        "plt.figure(figsize=(4,4),dpi = 100)\n",
        "plt.plot(lr_fpr, lr_tpr, color = 'red', linestyle='-',label='Logistric Regrassion AUROC = %0.3f'% lr_auc)\n",
        "plt.plot(svm_fpr, svm_tpr, color = 'green', linestyle='-',label='SVM AUROC = %0.3f'% svm_auc)\n",
        "plt.plot(nb_fpr, nb_tpr, color = 'orange', linestyle='-',label='Naive Bayes AUROC = %0.3f'% nb_auc)\n",
        "plt.plot(dt_fpr, dt_tpr, color = 'blue', linestyle='-',label='Decision Tree  AUROC = %0.3f'% dt_auc)\n",
        "plt.plot(rf_fpr, rf_tpr, color = 'cyan', linestyle='-',label='Random Forest AUROC = %0.3f'% rf_auc)\n",
        "plt.plot(et_fpr, et_tpr, color = 'coral', linestyle='-',label='Extra Tree AUROC = %0.3f'% et_auc)\n",
        "plt.plot(es_fpr,es_tpr,linestyle='-',label='Voting AUROC = %0.3f' % es_auc_y)\n",
        "plt.plot(st_fpr,st_tpr,color = 'purple', linestyle='-',label='Stacking AUROC = %0.3f' % st_auc_y)\n",
        "plt.xlabel('False Positive Rate')\n",
        "plt.ylabel('True Positive Rate')\n",
        "plt.title('ROC CURVE (Traditional)')\n",
        "plt.legend(loc=4, prop={'size': 8.5})\n",
        "plt.show()"
      ],
      "metadata": {
        "colab": {
          "base_uri": "https://localhost:8080/",
          "height": 404
        },
        "id": "LKovp8yvUaoX",
        "outputId": "bfdbad6b-2680-4eb8-ae18-049d4391a009"
      },
      "execution_count": null,
      "outputs": [
        {
          "output_type": "display_data",
          "data": {
            "text/plain": [
              "<Figure size 400x400 with 1 Axes>"
            ],
            "image/png": "[encoded data removed]"
          },
          "metadata": {
            "needs_background": "light"
          }
        }
      ]
    },
    {
      "cell_type": "markdown",
      "metadata": {
        "id": "QSfztBUHW9Xn"
      },
      "source": [
        "# Bagging"
      ]
    },
    {
      "cell_type": "code",
      "metadata": {
        "id": "c1RCKChq1zd3"
      },
      "source": [
        "from sklearn.ensemble import BaggingClassifier"
      ],
      "execution_count": null,
      "outputs": []
    },
    {
      "cell_type": "markdown",
      "metadata": {
        "id": "2nmqGdqtCCxE"
      },
      "source": [
        "## Hyper parameter Tuning"
      ]
    },
    {
      "cell_type": "markdown",
      "metadata": {
        "id": "Z1o_WJigCGbC"
      },
      "source": [
        "### Bagging Logistic Regression Random Search"
      ]
    },
    {
      "cell_type": "code",
      "metadata": {
        "colab": {
          "base_uri": "https://localhost:8080/"
        },
        "id": "BsLolpYTCELT",
        "outputId": "851b3b4e-c1d3-4688-cd4c-4f0b362febd3"
      },
      "source": [
        "grs = RandomizedSearchCV(BaggingClassifier(),{\n",
        "    'base_estimator' : [LogisticRegression(solver='liblinear',multi_class='auto')],\n",
        "    'bootstrap_features': ['True','False',None],\n",
        "    'n_estimators' : [i for i in range(1,100,1)],\n",
        "    'n_jobs' : [1,2,3,4,5]\n",
        "})\n",
        "grs.fit(X,Y)\n",
        "best_paramgrs = grs.best_params_\n",
        "pd.DataFrame(grs.cv_results_)[['param_bootstrap_features','param_n_estimators','param_n_jobs','mean_test_score']]"
      ],
      "execution_count": null,
      "outputs": [
        {
          "output_type": "execute_result",
          "data": {
            "text/plain": [
              "  param_bootstrap_features param_n_estimators param_n_jobs  mean_test_score\n",
              "0                    False                 28            4         0.821599\n",
              "1                     None                 13            3         0.802175\n",
              "2                     None                 14            1         0.816632\n",
              "3                    False                 34            1         0.804702\n",
              "4                    False                 84            5         0.814370\n",
              "5                     None                 51            1         0.814223\n",
              "6                     None                 90            3         0.816632\n",
              "7                     None                 18            3         0.814223\n",
              "8                    False                 47            4         0.816779\n",
              "9                     True                 62            2         0.819160"
            ],
            "text/html": [
              "\n",
              "  <div id=\"df-684bebf4-9489-4cd4-b1c2-a1b1b122d80c\">\n",
              "    <div class=\"colab-df-container\">\n",
              "      <div>\n",
              "<style scoped>\n",
              "    .dataframe tbody tr th:only-of-type {\n",
              "        vertical-align: middle;\n",
              "    }\n",
              "\n",
              "    .dataframe tbody tr th {\n",
              "        vertical-align: top;\n",
              "    }\n",
              "\n",
              "    .dataframe thead th {\n",
              "        text-align: right;\n",
              "    }\n",
              "</style>\n",
              "<table border=\"1\" class=\"dataframe\">\n",
              "  <thead>\n",
              "    <tr style=\"text-align: right;\">\n",
              "      <th></th>\n",
              "      <th>param_bootstrap_features</th>\n",
              "      <th>param_n_estimators</th>\n",
              "      <th>param_n_jobs</th>\n",
              "      <th>mean_test_score</th>\n",
              "    </tr>\n",
              "  </thead>\n",
              "  <tbody>\n",
              "    <tr>\n",
              "      <th>0</th>\n",
              "      <td>False</td>\n",
              "      <td>28</td>\n",
              "      <td>4</td>\n",
              "      <td>0.821599</td>\n",
              "    </tr>\n",
              "    <tr>\n",
              "      <th>1</th>\n",
              "      <td>None</td>\n",
              "      <td>13</td>\n",
              "      <td>3</td>\n",
              "      <td>0.802175</td>\n",
              "    </tr>\n",
              "    <tr>\n",
              "      <th>2</th>\n",
              "      <td>None</td>\n",
              "      <td>14</td>\n",
              "      <td>1</td>\n",
              "      <td>0.816632</td>\n",
              "    </tr>\n",
              "    <tr>\n",
              "      <th>3</th>\n",
              "      <td>False</td>\n",
              "      <td>34</td>\n",
              "      <td>1</td>\n",
              "      <td>0.804702</td>\n",
              "    </tr>\n",
              "    <tr>\n",
              "      <th>4</th>\n",
              "      <td>False</td>\n",
              "      <td>84</td>\n",
              "      <td>5</td>\n",
              "      <td>0.814370</td>\n",
              "    </tr>\n",
              "    <tr>\n",
              "      <th>5</th>\n",
              "      <td>None</td>\n",
              "      <td>51</td>\n",
              "      <td>1</td>\n",
              "      <td>0.814223</td>\n",
              "    </tr>\n",
              "    <tr>\n",
              "      <th>6</th>\n",
              "      <td>None</td>\n",
              "      <td>90</td>\n",
              "      <td>3</td>\n",
              "      <td>0.816632</td>\n",
              "    </tr>\n",
              "    <tr>\n",
              "      <th>7</th>\n",
              "      <td>None</td>\n",
              "      <td>18</td>\n",
              "      <td>3</td>\n",
              "      <td>0.814223</td>\n",
              "    </tr>\n",
              "    <tr>\n",
              "      <th>8</th>\n",
              "      <td>False</td>\n",
              "      <td>47</td>\n",
              "      <td>4</td>\n",
              "      <td>0.816779</td>\n",
              "    </tr>\n",
              "    <tr>\n",
              "      <th>9</th>\n",
              "      <td>True</td>\n",
              "      <td>62</td>\n",
              "      <td>2</td>\n",
              "      <td>0.819160</td>\n",
              "    </tr>\n",
              "  </tbody>\n",
              "</table>\n",
              "</div>\n",
              "      <button class=\"colab-df-convert\" onclick=\"convertToInteractive('df-684bebf4-9489-4cd4-b1c2-a1b1b122d80c')\"\n",
              "              title=\"Convert this dataframe to an interactive table.\"\n",
              "              style=\"display:none;\">\n",
              "        \n",
              "  <svg xmlns=\"http://www.w3.org/2000/svg\" height=\"24px\"viewBox=\"0 0 24 24\"\n",
              "       width=\"24px\">\n",
              "    <path d=\"M0 0h24v24H0V0z\" fill=\"none\"/>\n",
              "    <path d=\"M18.56 5.44l.94 2.06.94-2.06 2.06-.94-2.06-.94-.94-2.06-.94 2.06-2.06.94zm-11 1L8.5 8.5l.94-2.06 2.06-.94-2.06-.94L8.5 2.5l-.94 2.06-2.06.94zm10 10l.94 2.06.94-2.06 2.06-.94-2.06-.94-.94-2.06-.94 2.06-2.06.94z\"/><path d=\"M17.41 7.96l-1.37-1.37c-.4-.4-.92-.59-1.43-.59-.52 0-1.04.2-1.43.59L10.3 9.45l-7.72 7.72c-.78.78-.78 2.05 0 2.83L4 21.41c.39.39.9.59 1.41.59.51 0 1.02-.2 1.41-.59l7.78-7.78 2.81-2.81c.8-.78.8-2.07 0-2.86zM5.41 20L4 18.59l7.72-7.72 1.47 1.35L5.41 20z\"/>\n",
              "  </svg>\n",
              "      </button>\n",
              "      \n",
              "  <style>\n",
              "    .colab-df-container {\n",
              "      display:flex;\n",
              "      flex-wrap:wrap;\n",
              "      gap: 12px;\n",
              "    }\n",
              "\n",
              "    .colab-df-convert {\n",
              "      background-color: #E8F0FE;\n",
              "      border: none;\n",
              "      border-radius: 50%;\n",
              "      cursor: pointer;\n",
              "      display: none;\n",
              "      fill: #1967D2;\n",
              "      height: 32px;\n",
              "      padding: 0 0 0 0;\n",
              "      width: 32px;\n",
              "    }\n",
              "\n",
              "    .colab-df-convert:hover {\n",
              "      background-color: #E2EBFA;\n",
              "      box-shadow: 0px 1px 2px rgba(60, 64, 67, 0.3), 0px 1px 3px 1px rgba(60, 64, 67, 0.15);\n",
              "      fill: #174EA6;\n",
              "    }\n",
              "\n",
              "    [theme=dark] .colab-df-convert {\n",
              "      background-color: #3B4455;\n",
              "      fill: #D2E3FC;\n",
              "    }\n",
              "\n",
              "    [theme=dark] .colab-df-convert:hover {\n",
              "      background-color: #434B5C;\n",
              "      box-shadow: 0px 1px 3px 1px rgba(0, 0, 0, 0.15);\n",
              "      filter: drop-shadow(0px 1px 2px rgba(0, 0, 0, 0.3));\n",
              "      fill: #FFFFFF;\n",
              "    }\n",
              "  </style>\n",
              "\n",
              "      <script>\n",
              "        const buttonEl =\n",
              "          document.querySelector('#df-684bebf4-9489-4cd4-b1c2-a1b1b122d80c button.colab-df-convert');\n",
              "        buttonEl.style.display =\n",
              "          google.colab.kernel.accessAllowed ? 'block' : 'none';\n",
              "\n",
              "        async function convertToInteractive(key) {\n",
              "          const element = document.querySelector('#df-684bebf4-9489-4cd4-b1c2-a1b1b122d80c');\n",
              "          const dataTable =\n",
              "            await google.colab.kernel.invokeFunction('convertToInteractive',\n",
              "                                                     [key], {});\n",
              "          if (!dataTable) return;\n",
              "\n",
              "          const docLinkHtml = 'Like what you see? Visit the ' +\n",
              "            '<a target=\"_blank\" href=https://colab.research.google.com/notebooks/data_table.ipynb>data table notebook</a>'\n",
              "            + ' to learn more about interactive tables.';\n",
              "          element.innerHTML = '';\n",
              "          dataTable['output_type'] = 'display_data';\n",
              "          await google.colab.output.renderOutput(dataTable, element);\n",
              "          const docLink = document.createElement('div');\n",
              "          docLink.innerHTML = docLinkHtml;\n",
              "          element.appendChild(docLink);\n",
              "        }\n",
              "      </script>\n",
              "    </div>\n",
              "  </div>\n",
              "  "
            ]
          },
          "metadata": {},
          "execution_count": 231
        }
      ]
    },
    {
      "cell_type": "markdown",
      "metadata": {
        "id": "IqZOD0ByEVd0"
      },
      "source": [
        "### Bagging KNN Random Search"
      ]
    },
    {
      "cell_type": "code",
      "metadata": {
        "colab": {
          "base_uri": "https://localhost:8080/"
        },
        "id": "nqFLfqcIEgY7",
        "outputId": "60ff9e44-2086-44ed-c6ff-1f325679585a"
      },
      "source": [
        "kgrs = RandomizedSearchCV(BaggingClassifier(),{\n",
        "    'base_estimator' : [KNeighborsClassifier()],\n",
        "    'bootstrap_features': ['True','False',None],\n",
        "    'n_estimators' : [i for i in range(1,100,1)],\n",
        "    'n_jobs' : [1,2,3,4,5]\n",
        "})\n",
        "kgrs.fit(X_train,Y_train)\n",
        "pd.DataFrame(kgrs.cv_results_)[['param_bootstrap_features','param_n_estimators','param_n_jobs','mean_test_score']]\n"
      ],
      "execution_count": null,
      "outputs": [
        {
          "output_type": "execute_result",
          "data": {
            "text/plain": [
              "  param_bootstrap_features param_n_estimators param_n_jobs  mean_test_score\n",
              "0                     True                 52            4         0.809677\n",
              "1                     True                 35            2         0.819355\n",
              "2                     True                 70            1         0.809677\n",
              "3                     None                 64            4         0.800000\n",
              "4                    False                  6            3         0.803226\n",
              "5                    False                  2            2         0.754839\n",
              "6                    False                 54            4         0.806452\n",
              "7                    False                  8            1         0.838710\n",
              "8                     None                 10            3         0.809677\n",
              "9                     None                 64            3         0.803226"
            ],
            "text/html": [
              "\n",
              "  <div id=\"df-32a79ea8-7954-4228-9c5b-91555bb1db2d\">\n",
              "    <div class=\"colab-df-container\">\n",
              "      <div>\n",
              "<style scoped>\n",
              "    .dataframe tbody tr th:only-of-type {\n",
              "        vertical-align: middle;\n",
              "    }\n",
              "\n",
              "    .dataframe tbody tr th {\n",
              "        vertical-align: top;\n",
              "    }\n",
              "\n",
              "    .dataframe thead th {\n",
              "        text-align: right;\n",
              "    }\n",
              "</style>\n",
              "<table border=\"1\" class=\"dataframe\">\n",
              "  <thead>\n",
              "    <tr style=\"text-align: right;\">\n",
              "      <th></th>\n",
              "      <th>param_bootstrap_features</th>\n",
              "      <th>param_n_estimators</th>\n",
              "      <th>param_n_jobs</th>\n",
              "      <th>mean_test_score</th>\n",
              "    </tr>\n",
              "  </thead>\n",
              "  <tbody>\n",
              "    <tr>\n",
              "      <th>0</th>\n",
              "      <td>True</td>\n",
              "      <td>52</td>\n",
              "      <td>4</td>\n",
              "      <td>0.809677</td>\n",
              "    </tr>\n",
              "    <tr>\n",
              "      <th>1</th>\n",
              "      <td>True</td>\n",
              "      <td>35</td>\n",
              "      <td>2</td>\n",
              "      <td>0.819355</td>\n",
              "    </tr>\n",
              "    <tr>\n",
              "      <th>2</th>\n",
              "      <td>True</td>\n",
              "      <td>70</td>\n",
              "      <td>1</td>\n",
              "      <td>0.809677</td>\n",
              "    </tr>\n",
              "    <tr>\n",
              "      <th>3</th>\n",
              "      <td>None</td>\n",
              "      <td>64</td>\n",
              "      <td>4</td>\n",
              "      <td>0.800000</td>\n",
              "    </tr>\n",
              "    <tr>\n",
              "      <th>4</th>\n",
              "      <td>False</td>\n",
              "      <td>6</td>\n",
              "      <td>3</td>\n",
              "      <td>0.803226</td>\n",
              "    </tr>\n",
              "    <tr>\n",
              "      <th>5</th>\n",
              "      <td>False</td>\n",
              "      <td>2</td>\n",
              "      <td>2</td>\n",
              "      <td>0.754839</td>\n",
              "    </tr>\n",
              "    <tr>\n",
              "      <th>6</th>\n",
              "      <td>False</td>\n",
              "      <td>54</td>\n",
              "      <td>4</td>\n",
              "      <td>0.806452</td>\n",
              "    </tr>\n",
              "    <tr>\n",
              "      <th>7</th>\n",
              "      <td>False</td>\n",
              "      <td>8</td>\n",
              "      <td>1</td>\n",
              "      <td>0.838710</td>\n",
              "    </tr>\n",
              "    <tr>\n",
              "      <th>8</th>\n",
              "      <td>None</td>\n",
              "      <td>10</td>\n",
              "      <td>3</td>\n",
              "      <td>0.809677</td>\n",
              "    </tr>\n",
              "    <tr>\n",
              "      <th>9</th>\n",
              "      <td>None</td>\n",
              "      <td>64</td>\n",
              "      <td>3</td>\n",
              "      <td>0.803226</td>\n",
              "    </tr>\n",
              "  </tbody>\n",
              "</table>\n",
              "</div>\n",
              "      <button class=\"colab-df-convert\" onclick=\"convertToInteractive('df-32a79ea8-7954-4228-9c5b-91555bb1db2d')\"\n",
              "              title=\"Convert this dataframe to an interactive table.\"\n",
              "              style=\"display:none;\">\n",
              "        \n",
              "  <svg xmlns=\"http://www.w3.org/2000/svg\" height=\"24px\"viewBox=\"0 0 24 24\"\n",
              "       width=\"24px\">\n",
              "    <path d=\"M0 0h24v24H0V0z\" fill=\"none\"/>\n",
              "    <path d=\"M18.56 5.44l.94 2.06.94-2.06 2.06-.94-2.06-.94-.94-2.06-.94 2.06-2.06.94zm-11 1L8.5 8.5l.94-2.06 2.06-.94-2.06-.94L8.5 2.5l-.94 2.06-2.06.94zm10 10l.94 2.06.94-2.06 2.06-.94-2.06-.94-.94-2.06-.94 2.06-2.06.94z\"/><path d=\"M17.41 7.96l-1.37-1.37c-.4-.4-.92-.59-1.43-.59-.52 0-1.04.2-1.43.59L10.3 9.45l-7.72 7.72c-.78.78-.78 2.05 0 2.83L4 21.41c.39.39.9.59 1.41.59.51 0 1.02-.2 1.41-.59l7.78-7.78 2.81-2.81c.8-.78.8-2.07 0-2.86zM5.41 20L4 18.59l7.72-7.72 1.47 1.35L5.41 20z\"/>\n",
              "  </svg>\n",
              "      </button>\n",
              "      \n",
              "  <style>\n",
              "    .colab-df-container {\n",
              "      display:flex;\n",
              "      flex-wrap:wrap;\n",
              "      gap: 12px;\n",
              "    }\n",
              "\n",
              "    .colab-df-convert {\n",
              "      background-color: #E8F0FE;\n",
              "      border: none;\n",
              "      border-radius: 50%;\n",
              "      cursor: pointer;\n",
              "      display: none;\n",
              "      fill: #1967D2;\n",
              "      height: 32px;\n",
              "      padding: 0 0 0 0;\n",
              "      width: 32px;\n",
              "    }\n",
              "\n",
              "    .colab-df-convert:hover {\n",
              "      background-color: #E2EBFA;\n",
              "      box-shadow: 0px 1px 2px rgba(60, 64, 67, 0.3), 0px 1px 3px 1px rgba(60, 64, 67, 0.15);\n",
              "      fill: #174EA6;\n",
              "    }\n",
              "\n",
              "    [theme=dark] .colab-df-convert {\n",
              "      background-color: #3B4455;\n",
              "      fill: #D2E3FC;\n",
              "    }\n",
              "\n",
              "    [theme=dark] .colab-df-convert:hover {\n",
              "      background-color: #434B5C;\n",
              "      box-shadow: 0px 1px 3px 1px rgba(0, 0, 0, 0.15);\n",
              "      filter: drop-shadow(0px 1px 2px rgba(0, 0, 0, 0.3));\n",
              "      fill: #FFFFFF;\n",
              "    }\n",
              "  </style>\n",
              "\n",
              "      <script>\n",
              "        const buttonEl =\n",
              "          document.querySelector('#df-32a79ea8-7954-4228-9c5b-91555bb1db2d button.colab-df-convert');\n",
              "        buttonEl.style.display =\n",
              "          google.colab.kernel.accessAllowed ? 'block' : 'none';\n",
              "\n",
              "        async function convertToInteractive(key) {\n",
              "          const element = document.querySelector('#df-32a79ea8-7954-4228-9c5b-91555bb1db2d');\n",
              "          const dataTable =\n",
              "            await google.colab.kernel.invokeFunction('convertToInteractive',\n",
              "                                                     [key], {});\n",
              "          if (!dataTable) return;\n",
              "\n",
              "          const docLinkHtml = 'Like what you see? Visit the ' +\n",
              "            '<a target=\"_blank\" href=https://colab.research.google.com/notebooks/data_table.ipynb>data table notebook</a>'\n",
              "            + ' to learn more about interactive tables.';\n",
              "          element.innerHTML = '';\n",
              "          dataTable['output_type'] = 'display_data';\n",
              "          await google.colab.output.renderOutput(dataTable, element);\n",
              "          const docLink = document.createElement('div');\n",
              "          docLink.innerHTML = docLinkHtml;\n",
              "          element.appendChild(docLink);\n",
              "        }\n",
              "      </script>\n",
              "    </div>\n",
              "  </div>\n",
              "  "
            ]
          },
          "metadata": {},
          "execution_count": 232
        }
      ]
    },
    {
      "cell_type": "markdown",
      "metadata": {
        "id": "UBO2fSm8FLj0"
      },
      "source": [
        "### Bagging SVM Random Search"
      ]
    },
    {
      "cell_type": "code",
      "metadata": {
        "colab": {
          "base_uri": "https://localhost:8080/"
        },
        "id": "HNjXCP-pFT_r",
        "outputId": "f03371b9-1137-49b1-bbd7-a29605f41363"
      },
      "source": [
        "sgrs = RandomizedSearchCV(BaggingClassifier(),{\n",
        "    'base_estimator' : [SVC()],\n",
        "    'bootstrap_features': ['True','False',None],\n",
        "    'n_estimators' : [i for i in range(1,100,1)],\n",
        "    'n_jobs' : [1,2,3,4,5]\n",
        "})\n",
        "sgrs.fit(X,Y)\n",
        "best_paramsgrs = sgrs.best_params_\n",
        "pd.DataFrame(grs.cv_results_)[['param_bootstrap_features','param_n_estimators','param_n_jobs','mean_test_score']]\n",
        "print(best_paramsgrs)"
      ],
      "execution_count": null,
      "outputs": [
        {
          "output_type": "stream",
          "name": "stdout",
          "text": [
            "{'n_jobs': 5, 'n_estimators': 56, 'bootstrap_features': None, 'base_estimator': SVC()}\n"
          ]
        }
      ]
    },
    {
      "cell_type": "markdown",
      "metadata": {
        "id": "2Hnb7rCyGMi9"
      },
      "source": [
        "### Bagging Naive Bayes Random Search"
      ]
    },
    {
      "cell_type": "code",
      "metadata": {
        "colab": {
          "base_uri": "https://localhost:8080/"
        },
        "id": "2e2r6mf3GTQS",
        "outputId": "5e6d0742-84fc-42b0-b466-bee5639b85d5"
      },
      "source": [
        "nbgrs = RandomizedSearchCV(BaggingClassifier(),{\n",
        "    'base_estimator' : [GaussianNB()],\n",
        "    'bootstrap_features': ['True','False',None],\n",
        "    'n_estimators' : [i for i in range(1,100,1)],\n",
        "    'n_jobs' : [1,2,3,4,5]\n",
        "})\n",
        "nbgrs.fit(X,Y)\n",
        "best_paramnbgrs = nbgrs.best_params_\n",
        "pd.DataFrame(nbgrs.cv_results_)[['param_bootstrap_features','param_n_estimators','param_n_jobs','mean_test_score']]"
      ],
      "execution_count": null,
      "outputs": [
        {
          "output_type": "execute_result",
          "data": {
            "text/plain": [
              "  param_bootstrap_features param_n_estimators param_n_jobs  mean_test_score\n",
              "0                    False                 99            2         0.826418\n",
              "1                    False                 53            3         0.816779\n",
              "2                     True                 71            1         0.824008\n",
              "3                     True                 56            4         0.826418\n",
              "4                     None                 95            5         0.824008\n",
              "5                     None                 49            4         0.821599\n",
              "6                     True                 17            4         0.811960\n",
              "7                    False                 86            2         0.824008\n",
              "8                     None                 35            2         0.824008\n",
              "9                     True                 39            3         0.819189"
            ],
            "text/html": [
              "\n",
              "  <div id=\"df-4029b82c-a0f7-44aa-b647-651776f94bce\">\n",
              "    <div class=\"colab-df-container\">\n",
              "      <div>\n",
              "<style scoped>\n",
              "    .dataframe tbody tr th:only-of-type {\n",
              "        vertical-align: middle;\n",
              "    }\n",
              "\n",
              "    .dataframe tbody tr th {\n",
              "        vertical-align: top;\n",
              "    }\n",
              "\n",
              "    .dataframe thead th {\n",
              "        text-align: right;\n",
              "    }\n",
              "</style>\n",
              "<table border=\"1\" class=\"dataframe\">\n",
              "  <thead>\n",
              "    <tr style=\"text-align: right;\">\n",
              "      <th></th>\n",
              "      <th>param_bootstrap_features</th>\n",
              "      <th>param_n_estimators</th>\n",
              "      <th>param_n_jobs</th>\n",
              "      <th>mean_test_score</th>\n",
              "    </tr>\n",
              "  </thead>\n",
              "  <tbody>\n",
              "    <tr>\n",
              "      <th>0</th>\n",
              "      <td>False</td>\n",
              "      <td>99</td>\n",
              "      <td>2</td>\n",
              "      <td>0.826418</td>\n",
              "    </tr>\n",
              "    <tr>\n",
              "      <th>1</th>\n",
              "      <td>False</td>\n",
              "      <td>53</td>\n",
              "      <td>3</td>\n",
              "      <td>0.816779</td>\n",
              "    </tr>\n",
              "    <tr>\n",
              "      <th>2</th>\n",
              "      <td>True</td>\n",
              "      <td>71</td>\n",
              "      <td>1</td>\n",
              "      <td>0.824008</td>\n",
              "    </tr>\n",
              "    <tr>\n",
              "      <th>3</th>\n",
              "      <td>True</td>\n",
              "      <td>56</td>\n",
              "      <td>4</td>\n",
              "      <td>0.826418</td>\n",
              "    </tr>\n",
              "    <tr>\n",
              "      <th>4</th>\n",
              "      <td>None</td>\n",
              "      <td>95</td>\n",
              "      <td>5</td>\n",
              "      <td>0.824008</td>\n",
              "    </tr>\n",
              "    <tr>\n",
              "      <th>5</th>\n",
              "      <td>None</td>\n",
              "      <td>49</td>\n",
              "      <td>4</td>\n",
              "      <td>0.821599</td>\n",
              "    </tr>\n",
              "    <tr>\n",
              "      <th>6</th>\n",
              "      <td>True</td>\n",
              "      <td>17</td>\n",
              "      <td>4</td>\n",
              "      <td>0.811960</td>\n",
              "    </tr>\n",
              "    <tr>\n",
              "      <th>7</th>\n",
              "      <td>False</td>\n",
              "      <td>86</td>\n",
              "      <td>2</td>\n",
              "      <td>0.824008</td>\n",
              "    </tr>\n",
              "    <tr>\n",
              "      <th>8</th>\n",
              "      <td>None</td>\n",
              "      <td>35</td>\n",
              "      <td>2</td>\n",
              "      <td>0.824008</td>\n",
              "    </tr>\n",
              "    <tr>\n",
              "      <th>9</th>\n",
              "      <td>True</td>\n",
              "      <td>39</td>\n",
              "      <td>3</td>\n",
              "      <td>0.819189</td>\n",
              "    </tr>\n",
              "  </tbody>\n",
              "</table>\n",
              "</div>\n",
              "      <button class=\"colab-df-convert\" onclick=\"convertToInteractive('df-4029b82c-a0f7-44aa-b647-651776f94bce')\"\n",
              "              title=\"Convert this dataframe to an interactive table.\"\n",
              "              style=\"display:none;\">\n",
              "        \n",
              "  <svg xmlns=\"http://www.w3.org/2000/svg\" height=\"24px\"viewBox=\"0 0 24 24\"\n",
              "       width=\"24px\">\n",
              "    <path d=\"M0 0h24v24H0V0z\" fill=\"none\"/>\n",
              "    <path d=\"M18.56 5.44l.94 2.06.94-2.06 2.06-.94-2.06-.94-.94-2.06-.94 2.06-2.06.94zm-11 1L8.5 8.5l.94-2.06 2.06-.94-2.06-.94L8.5 2.5l-.94 2.06-2.06.94zm10 10l.94 2.06.94-2.06 2.06-.94-2.06-.94-.94-2.06-.94 2.06-2.06.94z\"/><path d=\"M17.41 7.96l-1.37-1.37c-.4-.4-.92-.59-1.43-.59-.52 0-1.04.2-1.43.59L10.3 9.45l-7.72 7.72c-.78.78-.78 2.05 0 2.83L4 21.41c.39.39.9.59 1.41.59.51 0 1.02-.2 1.41-.59l7.78-7.78 2.81-2.81c.8-.78.8-2.07 0-2.86zM5.41 20L4 18.59l7.72-7.72 1.47 1.35L5.41 20z\"/>\n",
              "  </svg>\n",
              "      </button>\n",
              "      \n",
              "  <style>\n",
              "    .colab-df-container {\n",
              "      display:flex;\n",
              "      flex-wrap:wrap;\n",
              "      gap: 12px;\n",
              "    }\n",
              "\n",
              "    .colab-df-convert {\n",
              "      background-color: #E8F0FE;\n",
              "      border: none;\n",
              "      border-radius: 50%;\n",
              "      cursor: pointer;\n",
              "      display: none;\n",
              "      fill: #1967D2;\n",
              "      height: 32px;\n",
              "      padding: 0 0 0 0;\n",
              "      width: 32px;\n",
              "    }\n",
              "\n",
              "    .colab-df-convert:hover {\n",
              "      background-color: #E2EBFA;\n",
              "      box-shadow: 0px 1px 2px rgba(60, 64, 67, 0.3), 0px 1px 3px 1px rgba(60, 64, 67, 0.15);\n",
              "      fill: #174EA6;\n",
              "    }\n",
              "\n",
              "    [theme=dark] .colab-df-convert {\n",
              "      background-color: #3B4455;\n",
              "      fill: #D2E3FC;\n",
              "    }\n",
              "\n",
              "    [theme=dark] .colab-df-convert:hover {\n",
              "      background-color: #434B5C;\n",
              "      box-shadow: 0px 1px 3px 1px rgba(0, 0, 0, 0.15);\n",
              "      filter: drop-shadow(0px 1px 2px rgba(0, 0, 0, 0.3));\n",
              "      fill: #FFFFFF;\n",
              "    }\n",
              "  </style>\n",
              "\n",
              "      <script>\n",
              "        const buttonEl =\n",
              "          document.querySelector('#df-4029b82c-a0f7-44aa-b647-651776f94bce button.colab-df-convert');\n",
              "        buttonEl.style.display =\n",
              "          google.colab.kernel.accessAllowed ? 'block' : 'none';\n",
              "\n",
              "        async function convertToInteractive(key) {\n",
              "          const element = document.querySelector('#df-4029b82c-a0f7-44aa-b647-651776f94bce');\n",
              "          const dataTable =\n",
              "            await google.colab.kernel.invokeFunction('convertToInteractive',\n",
              "                                                     [key], {});\n",
              "          if (!dataTable) return;\n",
              "\n",
              "          const docLinkHtml = 'Like what you see? Visit the ' +\n",
              "            '<a target=\"_blank\" href=https://colab.research.google.com/notebooks/data_table.ipynb>data table notebook</a>'\n",
              "            + ' to learn more about interactive tables.';\n",
              "          element.innerHTML = '';\n",
              "          dataTable['output_type'] = 'display_data';\n",
              "          await google.colab.output.renderOutput(dataTable, element);\n",
              "          const docLink = document.createElement('div');\n",
              "          docLink.innerHTML = docLinkHtml;\n",
              "          element.appendChild(docLink);\n",
              "        }\n",
              "      </script>\n",
              "    </div>\n",
              "  </div>\n",
              "  "
            ]
          },
          "metadata": {},
          "execution_count": 234
        }
      ]
    },
    {
      "cell_type": "markdown",
      "metadata": {
        "id": "-LA6m7fqGxM9"
      },
      "source": [
        "### Bagging Decision Tree Random Search"
      ]
    },
    {
      "cell_type": "code",
      "metadata": {
        "colab": {
          "base_uri": "https://localhost:8080/"
        },
        "id": "ZKo2wihHG6nN",
        "outputId": "f33954fe-d5f1-469c-c824-d10bfde41c55"
      },
      "source": [
        "dtgrs = RandomizedSearchCV(BaggingClassifier(),{\n",
        "    'base_estimator' : [DecisionTreeClassifier()],\n",
        "    'bootstrap_features': ['True','False',None],\n",
        "    'n_estimators' : [i for i in range(1,100,1)],\n",
        "    'n_jobs' : [1,2,3,4,5]\n",
        "})\n",
        "dtgrs.fit(X,Y)\n",
        "best_paramdtgrs = dtgrs.best_params_\n",
        "pd.DataFrame(dtgrs.cv_results_)[['param_bootstrap_features','param_n_estimators','param_n_jobs','mean_test_score']]"
      ],
      "execution_count": null,
      "outputs": [
        {
          "output_type": "execute_result",
          "data": {
            "text/plain": [
              "  param_bootstrap_features param_n_estimators param_n_jobs  mean_test_score\n",
              "0                     None                 81            1         0.855304\n",
              "1                     None                 27            4         0.848105\n",
              "2                     None                 33            2         0.852924\n",
              "3                    False                 29            1         0.874640\n",
              "4                     True                 92            3         0.874669\n",
              "5                     True                  2            3         0.753776\n",
              "6                     True                 63            3         0.874640\n",
              "7                     None                 17            2         0.843285\n",
              "8                     None                 15            2         0.838495\n",
              "9                     None                 24            3         0.848134"
            ],
            "text/html": [
              "\n",
              "  <div id=\"df-51213bff-65a1-4e58-9d27-951bf8de138e\">\n",
              "    <div class=\"colab-df-container\">\n",
              "      <div>\n",
              "<style scoped>\n",
              "    .dataframe tbody tr th:only-of-type {\n",
              "        vertical-align: middle;\n",
              "    }\n",
              "\n",
              "    .dataframe tbody tr th {\n",
              "        vertical-align: top;\n",
              "    }\n",
              "\n",
              "    .dataframe thead th {\n",
              "        text-align: right;\n",
              "    }\n",
              "</style>\n",
              "<table border=\"1\" class=\"dataframe\">\n",
              "  <thead>\n",
              "    <tr style=\"text-align: right;\">\n",
              "      <th></th>\n",
              "      <th>param_bootstrap_features</th>\n",
              "      <th>param_n_estimators</th>\n",
              "      <th>param_n_jobs</th>\n",
              "      <th>mean_test_score</th>\n",
              "    </tr>\n",
              "  </thead>\n",
              "  <tbody>\n",
              "    <tr>\n",
              "      <th>0</th>\n",
              "      <td>None</td>\n",
              "      <td>81</td>\n",
              "      <td>1</td>\n",
              "      <td>0.855304</td>\n",
              "    </tr>\n",
              "    <tr>\n",
              "      <th>1</th>\n",
              "      <td>None</td>\n",
              "      <td>27</td>\n",
              "      <td>4</td>\n",
              "      <td>0.848105</td>\n",
              "    </tr>\n",
              "    <tr>\n",
              "      <th>2</th>\n",
              "      <td>None</td>\n",
              "      <td>33</td>\n",
              "      <td>2</td>\n",
              "      <td>0.852924</td>\n",
              "    </tr>\n",
              "    <tr>\n",
              "      <th>3</th>\n",
              "      <td>False</td>\n",
              "      <td>29</td>\n",
              "      <td>1</td>\n",
              "      <td>0.874640</td>\n",
              "    </tr>\n",
              "    <tr>\n",
              "      <th>4</th>\n",
              "      <td>True</td>\n",
              "      <td>92</td>\n",
              "      <td>3</td>\n",
              "      <td>0.874669</td>\n",
              "    </tr>\n",
              "    <tr>\n",
              "      <th>5</th>\n",
              "      <td>True</td>\n",
              "      <td>2</td>\n",
              "      <td>3</td>\n",
              "      <td>0.753776</td>\n",
              "    </tr>\n",
              "    <tr>\n",
              "      <th>6</th>\n",
              "      <td>True</td>\n",
              "      <td>63</td>\n",
              "      <td>3</td>\n",
              "      <td>0.874640</td>\n",
              "    </tr>\n",
              "    <tr>\n",
              "      <th>7</th>\n",
              "      <td>None</td>\n",
              "      <td>17</td>\n",
              "      <td>2</td>\n",
              "      <td>0.843285</td>\n",
              "    </tr>\n",
              "    <tr>\n",
              "      <th>8</th>\n",
              "      <td>None</td>\n",
              "      <td>15</td>\n",
              "      <td>2</td>\n",
              "      <td>0.838495</td>\n",
              "    </tr>\n",
              "    <tr>\n",
              "      <th>9</th>\n",
              "      <td>None</td>\n",
              "      <td>24</td>\n",
              "      <td>3</td>\n",
              "      <td>0.848134</td>\n",
              "    </tr>\n",
              "  </tbody>\n",
              "</table>\n",
              "</div>\n",
              "      <button class=\"colab-df-convert\" onclick=\"convertToInteractive('df-51213bff-65a1-4e58-9d27-951bf8de138e')\"\n",
              "              title=\"Convert this dataframe to an interactive table.\"\n",
              "              style=\"display:none;\">\n",
              "        \n",
              "  <svg xmlns=\"http://www.w3.org/2000/svg\" height=\"24px\"viewBox=\"0 0 24 24\"\n",
              "       width=\"24px\">\n",
              "    <path d=\"M0 0h24v24H0V0z\" fill=\"none\"/>\n",
              "    <path d=\"M18.56 5.44l.94 2.06.94-2.06 2.06-.94-2.06-.94-.94-2.06-.94 2.06-2.06.94zm-11 1L8.5 8.5l.94-2.06 2.06-.94-2.06-.94L8.5 2.5l-.94 2.06-2.06.94zm10 10l.94 2.06.94-2.06 2.06-.94-2.06-.94-.94-2.06-.94 2.06-2.06.94z\"/><path d=\"M17.41 7.96l-1.37-1.37c-.4-.4-.92-.59-1.43-.59-.52 0-1.04.2-1.43.59L10.3 9.45l-7.72 7.72c-.78.78-.78 2.05 0 2.83L4 21.41c.39.39.9.59 1.41.59.51 0 1.02-.2 1.41-.59l7.78-7.78 2.81-2.81c.8-.78.8-2.07 0-2.86zM5.41 20L4 18.59l7.72-7.72 1.47 1.35L5.41 20z\"/>\n",
              "  </svg>\n",
              "      </button>\n",
              "      \n",
              "  <style>\n",
              "    .colab-df-container {\n",
              "      display:flex;\n",
              "      flex-wrap:wrap;\n",
              "      gap: 12px;\n",
              "    }\n",
              "\n",
              "    .colab-df-convert {\n",
              "      background-color: #E8F0FE;\n",
              "      border: none;\n",
              "      border-radius: 50%;\n",
              "      cursor: pointer;\n",
              "      display: none;\n",
              "      fill: #1967D2;\n",
              "      height: 32px;\n",
              "      padding: 0 0 0 0;\n",
              "      width: 32px;\n",
              "    }\n",
              "\n",
              "    .colab-df-convert:hover {\n",
              "      background-color: #E2EBFA;\n",
              "      box-shadow: 0px 1px 2px rgba(60, 64, 67, 0.3), 0px 1px 3px 1px rgba(60, 64, 67, 0.15);\n",
              "      fill: #174EA6;\n",
              "    }\n",
              "\n",
              "    [theme=dark] .colab-df-convert {\n",
              "      background-color: #3B4455;\n",
              "      fill: #D2E3FC;\n",
              "    }\n",
              "\n",
              "    [theme=dark] .colab-df-convert:hover {\n",
              "      background-color: #434B5C;\n",
              "      box-shadow: 0px 1px 3px 1px rgba(0, 0, 0, 0.15);\n",
              "      filter: drop-shadow(0px 1px 2px rgba(0, 0, 0, 0.3));\n",
              "      fill: #FFFFFF;\n",
              "    }\n",
              "  </style>\n",
              "\n",
              "      <script>\n",
              "        const buttonEl =\n",
              "          document.querySelector('#df-51213bff-65a1-4e58-9d27-951bf8de138e button.colab-df-convert');\n",
              "        buttonEl.style.display =\n",
              "          google.colab.kernel.accessAllowed ? 'block' : 'none';\n",
              "\n",
              "        async function convertToInteractive(key) {\n",
              "          const element = document.querySelector('#df-51213bff-65a1-4e58-9d27-951bf8de138e');\n",
              "          const dataTable =\n",
              "            await google.colab.kernel.invokeFunction('convertToInteractive',\n",
              "                                                     [key], {});\n",
              "          if (!dataTable) return;\n",
              "\n",
              "          const docLinkHtml = 'Like what you see? Visit the ' +\n",
              "            '<a target=\"_blank\" href=https://colab.research.google.com/notebooks/data_table.ipynb>data table notebook</a>'\n",
              "            + ' to learn more about interactive tables.';\n",
              "          element.innerHTML = '';\n",
              "          dataTable['output_type'] = 'display_data';\n",
              "          await google.colab.output.renderOutput(dataTable, element);\n",
              "          const docLink = document.createElement('div');\n",
              "          docLink.innerHTML = docLinkHtml;\n",
              "          element.appendChild(docLink);\n",
              "        }\n",
              "      </script>\n",
              "    </div>\n",
              "  </div>\n",
              "  "
            ]
          },
          "metadata": {},
          "execution_count": 235
        }
      ]
    },
    {
      "cell_type": "markdown",
      "metadata": {
        "id": "4T41ZhrZHgeU"
      },
      "source": [
        "### Bagging Random Forest Random Search"
      ]
    },
    {
      "cell_type": "code",
      "metadata": {
        "colab": {
          "base_uri": "https://localhost:8080/"
        },
        "id": "vPYQqhtoHh2r",
        "outputId": "52795e4f-f9da-48e3-e3d1-f71d4e691626"
      },
      "source": [
        "rfgrs = RandomizedSearchCV(BaggingClassifier(),{\n",
        "    'base_estimator' : [RandomForestClassifier()],\n",
        "    'bootstrap_features': ['True','False',None],\n",
        "    'n_estimators' : [i for i in range(1,100,1)],\n",
        "    'n_jobs' : [1,2,3,4,5]\n",
        "})\n",
        "rfgrs.fit(X,Y)\n",
        "best_paramrfgrs = rfgrs.best_params_\n",
        "pd.DataFrame(rfgrs.cv_results_)[['param_bootstrap_features','param_n_estimators','param_n_jobs','mean_test_score']]"
      ],
      "execution_count": null,
      "outputs": [
        {
          "output_type": "execute_result",
          "data": {
            "text/plain": [
              "  param_bootstrap_features param_n_estimators param_n_jobs  mean_test_score\n",
              "0                     True                 26            4         0.850573\n",
              "1                     True                 58            2         0.857773\n",
              "2                     True                 50            1         0.848134\n",
              "3                    False                 76            4         0.865001\n",
              "4                    False                 89            3         0.852983\n",
              "5                    False                 62            5         0.865031\n",
              "6                     True                 40            3         0.852953\n",
              "7                     None                 55            1         0.857773\n",
              "8                     True                 21            3         0.862621\n",
              "9                     None                 80            3         0.855363"
            ],
            "text/html": [
              "\n",
              "  <div id=\"df-32f4bb41-3b0f-40c5-a8eb-3c980cb4e246\">\n",
              "    <div class=\"colab-df-container\">\n",
              "      <div>\n",
              "<style scoped>\n",
              "    .dataframe tbody tr th:only-of-type {\n",
              "        vertical-align: middle;\n",
              "    }\n",
              "\n",
              "    .dataframe tbody tr th {\n",
              "        vertical-align: top;\n",
              "    }\n",
              "\n",
              "    .dataframe thead th {\n",
              "        text-align: right;\n",
              "    }\n",
              "</style>\n",
              "<table border=\"1\" class=\"dataframe\">\n",
              "  <thead>\n",
              "    <tr style=\"text-align: right;\">\n",
              "      <th></th>\n",
              "      <th>param_bootstrap_features</th>\n",
              "      <th>param_n_estimators</th>\n",
              "      <th>param_n_jobs</th>\n",
              "      <th>mean_test_score</th>\n",
              "    </tr>\n",
              "  </thead>\n",
              "  <tbody>\n",
              "    <tr>\n",
              "      <th>0</th>\n",
              "      <td>True</td>\n",
              "      <td>26</td>\n",
              "      <td>4</td>\n",
              "      <td>0.850573</td>\n",
              "    </tr>\n",
              "    <tr>\n",
              "      <th>1</th>\n",
              "      <td>True</td>\n",
              "      <td>58</td>\n",
              "      <td>2</td>\n",
              "      <td>0.857773</td>\n",
              "    </tr>\n",
              "    <tr>\n",
              "      <th>2</th>\n",
              "      <td>True</td>\n",
              "      <td>50</td>\n",
              "      <td>1</td>\n",
              "      <td>0.848134</td>\n",
              "    </tr>\n",
              "    <tr>\n",
              "      <th>3</th>\n",
              "      <td>False</td>\n",
              "      <td>76</td>\n",
              "      <td>4</td>\n",
              "      <td>0.865001</td>\n",
              "    </tr>\n",
              "    <tr>\n",
              "      <th>4</th>\n",
              "      <td>False</td>\n",
              "      <td>89</td>\n",
              "      <td>3</td>\n",
              "      <td>0.852983</td>\n",
              "    </tr>\n",
              "    <tr>\n",
              "      <th>5</th>\n",
              "      <td>False</td>\n",
              "      <td>62</td>\n",
              "      <td>5</td>\n",
              "      <td>0.865031</td>\n",
              "    </tr>\n",
              "    <tr>\n",
              "      <th>6</th>\n",
              "      <td>True</td>\n",
              "      <td>40</td>\n",
              "      <td>3</td>\n",
              "      <td>0.852953</td>\n",
              "    </tr>\n",
              "    <tr>\n",
              "      <th>7</th>\n",
              "      <td>None</td>\n",
              "      <td>55</td>\n",
              "      <td>1</td>\n",
              "      <td>0.857773</td>\n",
              "    </tr>\n",
              "    <tr>\n",
              "      <th>8</th>\n",
              "      <td>True</td>\n",
              "      <td>21</td>\n",
              "      <td>3</td>\n",
              "      <td>0.862621</td>\n",
              "    </tr>\n",
              "    <tr>\n",
              "      <th>9</th>\n",
              "      <td>None</td>\n",
              "      <td>80</td>\n",
              "      <td>3</td>\n",
              "      <td>0.855363</td>\n",
              "    </tr>\n",
              "  </tbody>\n",
              "</table>\n",
              "</div>\n",
              "      <button class=\"colab-df-convert\" onclick=\"convertToInteractive('df-32f4bb41-3b0f-40c5-a8eb-3c980cb4e246')\"\n",
              "              title=\"Convert this dataframe to an interactive table.\"\n",
              "              style=\"display:none;\">\n",
              "        \n",
              "  <svg xmlns=\"http://www.w3.org/2000/svg\" height=\"24px\"viewBox=\"0 0 24 24\"\n",
              "       width=\"24px\">\n",
              "    <path d=\"M0 0h24v24H0V0z\" fill=\"none\"/>\n",
              "    <path d=\"M18.56 5.44l.94 2.06.94-2.06 2.06-.94-2.06-.94-.94-2.06-.94 2.06-2.06.94zm-11 1L8.5 8.5l.94-2.06 2.06-.94-2.06-.94L8.5 2.5l-.94 2.06-2.06.94zm10 10l.94 2.06.94-2.06 2.06-.94-2.06-.94-.94-2.06-.94 2.06-2.06.94z\"/><path d=\"M17.41 7.96l-1.37-1.37c-.4-.4-.92-.59-1.43-.59-.52 0-1.04.2-1.43.59L10.3 9.45l-7.72 7.72c-.78.78-.78 2.05 0 2.83L4 21.41c.39.39.9.59 1.41.59.51 0 1.02-.2 1.41-.59l7.78-7.78 2.81-2.81c.8-.78.8-2.07 0-2.86zM5.41 20L4 18.59l7.72-7.72 1.47 1.35L5.41 20z\"/>\n",
              "  </svg>\n",
              "      </button>\n",
              "      \n",
              "  <style>\n",
              "    .colab-df-container {\n",
              "      display:flex;\n",
              "      flex-wrap:wrap;\n",
              "      gap: 12px;\n",
              "    }\n",
              "\n",
              "    .colab-df-convert {\n",
              "      background-color: #E8F0FE;\n",
              "      border: none;\n",
              "      border-radius: 50%;\n",
              "      cursor: pointer;\n",
              "      display: none;\n",
              "      fill: #1967D2;\n",
              "      height: 32px;\n",
              "      padding: 0 0 0 0;\n",
              "      width: 32px;\n",
              "    }\n",
              "\n",
              "    .colab-df-convert:hover {\n",
              "      background-color: #E2EBFA;\n",
              "      box-shadow: 0px 1px 2px rgba(60, 64, 67, 0.3), 0px 1px 3px 1px rgba(60, 64, 67, 0.15);\n",
              "      fill: #174EA6;\n",
              "    }\n",
              "\n",
              "    [theme=dark] .colab-df-convert {\n",
              "      background-color: #3B4455;\n",
              "      fill: #D2E3FC;\n",
              "    }\n",
              "\n",
              "    [theme=dark] .colab-df-convert:hover {\n",
              "      background-color: #434B5C;\n",
              "      box-shadow: 0px 1px 3px 1px rgba(0, 0, 0, 0.15);\n",
              "      filter: drop-shadow(0px 1px 2px rgba(0, 0, 0, 0.3));\n",
              "      fill: #FFFFFF;\n",
              "    }\n",
              "  </style>\n",
              "\n",
              "      <script>\n",
              "        const buttonEl =\n",
              "          document.querySelector('#df-32f4bb41-3b0f-40c5-a8eb-3c980cb4e246 button.colab-df-convert');\n",
              "        buttonEl.style.display =\n",
              "          google.colab.kernel.accessAllowed ? 'block' : 'none';\n",
              "\n",
              "        async function convertToInteractive(key) {\n",
              "          const element = document.querySelector('#df-32f4bb41-3b0f-40c5-a8eb-3c980cb4e246');\n",
              "          const dataTable =\n",
              "            await google.colab.kernel.invokeFunction('convertToInteractive',\n",
              "                                                     [key], {});\n",
              "          if (!dataTable) return;\n",
              "\n",
              "          const docLinkHtml = 'Like what you see? Visit the ' +\n",
              "            '<a target=\"_blank\" href=https://colab.research.google.com/notebooks/data_table.ipynb>data table notebook</a>'\n",
              "            + ' to learn more about interactive tables.';\n",
              "          element.innerHTML = '';\n",
              "          dataTable['output_type'] = 'display_data';\n",
              "          await google.colab.output.renderOutput(dataTable, element);\n",
              "          const docLink = document.createElement('div');\n",
              "          docLink.innerHTML = docLinkHtml;\n",
              "          element.appendChild(docLink);\n",
              "        }\n",
              "      </script>\n",
              "    </div>\n",
              "  </div>\n",
              "  "
            ]
          },
          "metadata": {},
          "execution_count": 236
        }
      ]
    },
    {
      "cell_type": "markdown",
      "metadata": {
        "id": "vr5jPzY0kqIO"
      },
      "source": [
        "### Bagging Extra Tree Random Search"
      ]
    },
    {
      "cell_type": "code",
      "metadata": {
        "colab": {
          "base_uri": "https://localhost:8080/"
        },
        "id": "lyRkkdP7krgx",
        "outputId": "a9cf561a-aae1-4308-cda1-8414d0d139ef"
      },
      "source": [
        "etgrs = RandomizedSearchCV(BaggingClassifier(),{\n",
        "    'base_estimator' : [ExtraTreeClassifier()],\n",
        "    'bootstrap_features': ['True','False',None],\n",
        "    'n_estimators' : [i for i in range(1,100,1)],\n",
        "    'n_jobs' : [1,2,3,4,5]\n",
        "})\n",
        "etgrs.fit(X,Y)\n",
        "best_parametgrs = etgrs.best_params_\n",
        "pd.DataFrame(etgrs.cv_results_)[['param_bootstrap_features','param_n_estimators','param_n_jobs','mean_test_score']]"
      ],
      "execution_count": null,
      "outputs": [
        {
          "output_type": "execute_result",
          "data": {
            "text/html": [
              "<div>\n",
              "<style scoped>\n",
              "    .dataframe tbody tr th:only-of-type {\n",
              "        vertical-align: middle;\n",
              "    }\n",
              "\n",
              "    .dataframe tbody tr th {\n",
              "        vertical-align: top;\n",
              "    }\n",
              "\n",
              "    .dataframe thead th {\n",
              "        text-align: right;\n",
              "    }\n",
              "</style>\n",
              "<table border=\"1\" class=\"dataframe\">\n",
              "  <thead>\n",
              "    <tr style=\"text-align: right;\">\n",
              "      <th></th>\n",
              "      <th>param_bootstrap_features</th>\n",
              "      <th>param_n_estimators</th>\n",
              "      <th>param_n_jobs</th>\n",
              "      <th>mean_test_score</th>\n",
              "    </tr>\n",
              "  </thead>\n",
              "  <tbody>\n",
              "    <tr>\n",
              "      <th>0</th>\n",
              "      <td>None</td>\n",
              "      <td>67</td>\n",
              "      <td>5</td>\n",
              "      <td>0.964117</td>\n",
              "    </tr>\n",
              "    <tr>\n",
              "      <th>1</th>\n",
              "      <td>False</td>\n",
              "      <td>53</td>\n",
              "      <td>4</td>\n",
              "      <td>0.947603</td>\n",
              "    </tr>\n",
              "    <tr>\n",
              "      <th>2</th>\n",
              "      <td>True</td>\n",
              "      <td>5</td>\n",
              "      <td>4</td>\n",
              "      <td>0.955784</td>\n",
              "    </tr>\n",
              "    <tr>\n",
              "      <th>3</th>\n",
              "      <td>None</td>\n",
              "      <td>76</td>\n",
              "      <td>1</td>\n",
              "      <td>0.953082</td>\n",
              "    </tr>\n",
              "    <tr>\n",
              "      <th>4</th>\n",
              "      <td>False</td>\n",
              "      <td>31</td>\n",
              "      <td>5</td>\n",
              "      <td>0.947527</td>\n",
              "    </tr>\n",
              "    <tr>\n",
              "      <th>5</th>\n",
              "      <td>True</td>\n",
              "      <td>86</td>\n",
              "      <td>3</td>\n",
              "      <td>0.947527</td>\n",
              "    </tr>\n",
              "    <tr>\n",
              "      <th>6</th>\n",
              "      <td>False</td>\n",
              "      <td>48</td>\n",
              "      <td>5</td>\n",
              "      <td>0.955860</td>\n",
              "    </tr>\n",
              "    <tr>\n",
              "      <th>7</th>\n",
              "      <td>None</td>\n",
              "      <td>74</td>\n",
              "      <td>3</td>\n",
              "      <td>0.953082</td>\n",
              "    </tr>\n",
              "    <tr>\n",
              "      <th>8</th>\n",
              "      <td>None</td>\n",
              "      <td>77</td>\n",
              "      <td>4</td>\n",
              "      <td>0.955822</td>\n",
              "    </tr>\n",
              "    <tr>\n",
              "      <th>9</th>\n",
              "      <td>None</td>\n",
              "      <td>48</td>\n",
              "      <td>3</td>\n",
              "      <td>0.947565</td>\n",
              "    </tr>\n",
              "  </tbody>\n",
              "</table>\n",
              "</div>"
            ],
            "text/plain": [
              "  param_bootstrap_features param_n_estimators param_n_jobs  mean_test_score\n",
              "0                     None                 67            5         0.964117\n",
              "1                    False                 53            4         0.947603\n",
              "2                     True                  5            4         0.955784\n",
              "3                     None                 76            1         0.953082\n",
              "4                    False                 31            5         0.947527\n",
              "5                     True                 86            3         0.947527\n",
              "6                    False                 48            5         0.955860\n",
              "7                     None                 74            3         0.953082\n",
              "8                     None                 77            4         0.955822\n",
              "9                     None                 48            3         0.947565"
            ]
          },
          "metadata": {
            "tags": []
          },
          "execution_count": 128
        }
      ]
    },
    {
      "cell_type": "markdown",
      "metadata": {
        "id": "hL_xUhUHXEel"
      },
      "source": [
        "## Base estimator Logistric Regression"
      ]
    },
    {
      "cell_type": "code",
      "metadata": {
        "id": "2pbFoup82FO1"
      },
      "source": [
        "bag = BaggingClassifier(classifier,n_estimators= best_paramgrs['n_estimators'],bootstrap_features=best_paramgrs['bootstrap_features'],\n",
        "                        n_jobs=best_paramgrs['n_jobs'],random_state=42)"
      ],
      "execution_count": null,
      "outputs": []
    },
    {
      "cell_type": "code",
      "metadata": {
        "colab": {
          "base_uri": "https://localhost:8080/"
        },
        "id": "dTf_YOOjXASu",
        "outputId": "3a36e7a8-eebd-43fc-db43-ea166a8113a7"
      },
      "source": [
        "bag.fit(X,Y)"
      ],
      "execution_count": null,
      "outputs": [
        {
          "output_type": "execute_result",
          "data": {
            "text/plain": [
              "BaggingClassifier(base_estimator=LogisticRegression(C=1, random_state=42),\n",
              "                  bootstrap_features='False', n_estimators=28, n_jobs=4,\n",
              "                  random_state=42)"
            ]
          },
          "metadata": {},
          "execution_count": 238
        }
      ]
    },
    {
      "cell_type": "code",
      "metadata": {
        "id": "gryTDtf_3IUk"
      },
      "source": [
        "Y_predbglr = bag.predict(X_test)"
      ],
      "execution_count": null,
      "outputs": []
    },
    {
      "cell_type": "code",
      "metadata": {
        "id": "lPq_jKVMoCDc"
      },
      "source": [
        "Y_cvpredbglr = cross_val_predict(bag,X,Y,cv = 10)"
      ],
      "execution_count": null,
      "outputs": []
    },
    {
      "cell_type": "code",
      "metadata": {
        "colab": {
          "base_uri": "https://localhost:8080/"
        },
        "id": "b9uprMw33fxr",
        "outputId": "1783cd9b-3aa1-45fc-dbeb-475c1deb93f3"
      },
      "source": [
        "cm = confusion_matrix(Y_test,Y_predbglr)\n",
        "print(cm)"
      ],
      "execution_count": null,
      "outputs": [
        {
          "output_type": "stream",
          "name": "stdout",
          "text": [
            "[[41 12]\n",
            " [ 1 50]]\n"
          ]
        }
      ]
    },
    {
      "cell_type": "code",
      "metadata": {
        "colab": {
          "base_uri": "https://localhost:8080/"
        },
        "id": "447YXbzUobQT",
        "outputId": "9f754ab7-27cb-40ca-dde4-b5750b771aa7"
      },
      "source": [
        "cmbg = confusion_matrix(Y,Y_cvpredbglr)\n",
        "print(cmbg)"
      ],
      "execution_count": null,
      "outputs": [
        {
          "output_type": "stream",
          "name": "stdout",
          "text": [
            "[[149  58]\n",
            " [  8 199]]\n"
          ]
        }
      ]
    },
    {
      "cell_type": "code",
      "metadata": {
        "colab": {
          "base_uri": "https://localhost:8080/",
          "height": 282
        },
        "id": "oSpjV5fApAdr",
        "outputId": "03323c51-2b47-4b4c-e010-e04f3054532b"
      },
      "source": [
        "group_names = ['True Neg','False Pos','False Neg','True Pos']\n",
        "group_counts = [\"{0:0.0f}\".format(value) for value in\n",
        "                cmbg.flatten()]\n",
        "group_percentages = [\"{0:.2%}\".format(value) for value in\n",
        "                     cmbg.flatten()/np.sum(cmbg)]\n",
        "labels = [f\"{v1}\\n{v2}\\n{v3}\" for v1, v2, v3 in\n",
        "          zip(group_names,group_counts,group_percentages)]\n",
        "labels = np.asarray(labels).reshape(2,2)\n",
        "sns.heatmap(cmbg, annot=labels, fmt='', cmap='Blues')"
      ],
      "execution_count": null,
      "outputs": [
        {
          "output_type": "execute_result",
          "data": {
            "text/plain": [
              "<matplotlib.axes._subplots.AxesSubplot at 0x7f9204f39890>"
            ]
          },
          "metadata": {},
          "execution_count": 243
        },
        {
          "output_type": "display_data",
          "data": {
            "text/plain": [
              "<Figure size 432x288 with 2 Axes>"
            ],
            "image/png": "[encoded data removed]"
          },
          "metadata": {
            "needs_background": "light"
          }
        }
      ]
    },
    {
      "cell_type": "code",
      "metadata": {
        "colab": {
          "base_uri": "https://localhost:8080/"
        },
        "id": "Ob33lwWT33L0",
        "outputId": "bd62dfba-54ab-4b77-f123-32c14905701b"
      },
      "source": [
        "accuracy = cross_val_score(bag,X,Y, cv=10, scoring='accuracy')\n",
        "print('All Cross Val Accuracy :',accuracy)\n",
        "print('\\nCross Val Accuracy :',accuracy.mean())"
      ],
      "execution_count": null,
      "outputs": [
        {
          "output_type": "stream",
          "name": "stdout",
          "text": [
            "All Cross Val Accuracy : [0.52380952 0.52380952 0.61904762 0.92857143 0.97560976 1.\n",
            " 0.92682927 1.         0.95121951 0.97560976]\n",
            "\n",
            "Cross Val Accuracy : 0.842450638792102\n"
          ]
        }
      ]
    },
    {
      "cell_type": "code",
      "metadata": {
        "colab": {
          "base_uri": "https://localhost:8080/"
        },
        "id": "A1kGCF5jo299",
        "outputId": "6e42f2f1-5355-44ef-984c-263b095829d0"
      },
      "source": [
        "cvresult(Y,Y_cvpredbglr)"
      ],
      "execution_count": null,
      "outputs": [
        {
          "output_type": "stream",
          "name": "stdout",
          "text": [
            "Cross Val f1 score :  0.8577586206896551\n",
            "Cross Val Precision :  0.77431906614786\n",
            "Cross Val recall :  0.961352657004831\n",
            "Cross Val Classification Report : \n",
            "               precision    recall  f1-score   support\n",
            "\n",
            "           0       0.95      0.72      0.82       207\n",
            "           1       0.77      0.96      0.86       207\n",
            "\n",
            "    accuracy                           0.84       414\n",
            "   macro avg       0.86      0.84      0.84       414\n",
            "weighted avg       0.86      0.84      0.84       414\n",
            "\n"
          ]
        }
      ]
    },
    {
      "cell_type": "code",
      "metadata": {
        "colab": {
          "base_uri": "https://localhost:8080/"
        },
        "id": "XDfxqgyNpWbz",
        "outputId": "4736985f-6eaa-413d-9e5e-93c33cb2288b"
      },
      "source": [
        "result(Y_test,Y_predbglr)"
      ],
      "execution_count": null,
      "outputs": [
        {
          "output_type": "stream",
          "name": "stdout",
          "text": [
            "Accuracy :  0.875\n",
            "f1 score :  0.8849557522123893\n",
            "Precision :  0.8064516129032258\n",
            "recall :  0.9803921568627451\n",
            "Classification Report : \n",
            "               precision    recall  f1-score   support\n",
            "\n",
            "           0       0.98      0.77      0.86        53\n",
            "           1       0.81      0.98      0.88        51\n",
            "\n",
            "    accuracy                           0.88       104\n",
            "   macro avg       0.89      0.88      0.87       104\n",
            "weighted avg       0.89      0.88      0.87       104\n",
            "\n"
          ]
        }
      ]
    },
    {
      "cell_type": "code",
      "metadata": {
        "colab": {
          "base_uri": "https://localhost:8080/"
        },
        "id": "ai0-e6W76P9W",
        "outputId": "ec63440e-4de8-4b64-ef87-7d4e8344f38e"
      },
      "source": [
        "lrbg_prob = bag.predict_proba(X_test)\n",
        "lrbg_auc = roc_auc_score(Y_test,lrbg_prob[:,1])\n",
        "print('roc-auc score :{}'.format(lrbg_auc))"
      ],
      "execution_count": null,
      "outputs": [
        {
          "output_type": "stream",
          "name": "stdout",
          "text": [
            "roc-auc score :0.9404365519792823\n"
          ]
        }
      ]
    },
    {
      "cell_type": "markdown",
      "metadata": {
        "id": "-XQHCh898ocq"
      },
      "source": [
        "## Base estimator K-NN"
      ]
    },
    {
      "cell_type": "code",
      "metadata": {
        "id": "DCYnUx5yvqEb"
      },
      "source": [
        "kbag = BaggingClassifier(kclassifier, n_estimators= 75,bootstrap_features=False,n_jobs=3)"
      ],
      "execution_count": null,
      "outputs": []
    },
    {
      "cell_type": "code",
      "metadata": {
        "colab": {
          "base_uri": "https://localhost:8080/"
        },
        "id": "HwH_QoQx80v8",
        "outputId": "c0c6829e-82ba-44f7-d3ea-59e768992fcb"
      },
      "source": [
        "kbag.fit(X_train,Y_train)"
      ],
      "execution_count": null,
      "outputs": [
        {
          "output_type": "execute_result",
          "data": {
            "text/plain": [
              "BaggingClassifier(base_estimator=KNeighborsClassifier(algorithm='auto',\n",
              "                                                      leaf_size=1,\n",
              "                                                      metric='euclidean',\n",
              "                                                      metric_params=None,\n",
              "                                                      n_jobs=None,\n",
              "                                                      n_neighbors=5, p=1,\n",
              "                                                      weights='uniform'),\n",
              "                  bootstrap=True, bootstrap_features=False, max_features=1.0,\n",
              "                  max_samples=1.0, n_estimators=75, n_jobs=3, oob_score=False,\n",
              "                  random_state=None, verbose=0, warm_start=False)"
            ]
          },
          "metadata": {
            "tags": []
          },
          "execution_count": 727
        }
      ]
    },
    {
      "cell_type": "code",
      "metadata": {
        "id": "94HpH0mo9ole"
      },
      "source": [
        "Y_predbgk = kbag.predict(X_test)"
      ],
      "execution_count": null,
      "outputs": []
    },
    {
      "cell_type": "code",
      "metadata": {
        "id": "2hql9UR1oLtM"
      },
      "source": [
        "Y_cvpredbgk = cross_val_predict(kbag,X,Y,cv = 10)"
      ],
      "execution_count": null,
      "outputs": []
    },
    {
      "cell_type": "code",
      "metadata": {
        "colab": {
          "base_uri": "https://localhost:8080/"
        },
        "id": "EQ2qjMkO937p",
        "outputId": "12592c60-4411-41e6-83bb-56c51a74b77b"
      },
      "source": [
        "cm = confusion_matrix(Y_test,Y_predbgk)\n",
        "print(cm)"
      ],
      "execution_count": null,
      "outputs": [
        {
          "output_type": "stream",
          "text": [
            "[[36  1]\n",
            " [ 1 53]]\n"
          ],
          "name": "stdout"
        }
      ]
    },
    {
      "cell_type": "code",
      "metadata": {
        "colab": {
          "base_uri": "https://localhost:8080/"
        },
        "id": "-TRxyhrPoErN",
        "outputId": "13ac3956-35b7-473b-c4a1-15caf38d2e3b"
      },
      "source": [
        "cmbg = confusion_matrix(Y,Y_cvpredbgk)\n",
        "print(cmbg)"
      ],
      "execution_count": null,
      "outputs": [
        {
          "output_type": "stream",
          "text": [
            "[[171  10]\n",
            " [  3 178]]\n"
          ],
          "name": "stdout"
        }
      ]
    },
    {
      "cell_type": "code",
      "metadata": {
        "colab": {
          "base_uri": "https://localhost:8080/"
        },
        "id": "SP9s-kxJolsv",
        "outputId": "46ca3683-6e0b-4312-a378-3280fd9e41ea"
      },
      "source": [
        "group_names = ['True Neg','False Pos','False Neg','True Pos']\n",
        "group_counts = [\"{0:0.0f}\".format(value) for value in\n",
        "                cmbg.flatten()]\n",
        "group_percentages = [\"{0:.2%}\".format(value) for value in\n",
        "                     cmbg.flatten()/np.sum(cmbg)]\n",
        "labels = [f\"{v1}\\n{v2}\\n{v3}\" for v1, v2, v3 in\n",
        "          zip(group_names,group_counts,group_percentages)]\n",
        "labels = np.asarray(labels).reshape(2,2)\n",
        "sns.heatmap(cmbg, annot=labels, fmt='', cmap='Blues')"
      ],
      "execution_count": null,
      "outputs": [
        {
          "output_type": "execute_result",
          "data": {
            "text/plain": [
              "<matplotlib.axes._subplots.AxesSubplot at 0x7f3e3539c5d0>"
            ]
          },
          "metadata": {
            "tags": []
          },
          "execution_count": 732
        },
        {
          "output_type": "display_data",
          "data": {
            "image/png": "[encoded data removed]",
            "text/plain": [
              "<Figure size 432x288 with 2 Axes>"
            ]
          },
          "metadata": {
            "tags": [],
            "needs_background": "light"
          }
        }
      ]
    },
    {
      "cell_type": "code",
      "metadata": {
        "colab": {
          "base_uri": "https://localhost:8080/"
        },
        "id": "gO4hDMzY-N6x",
        "outputId": "77a787a7-f8bf-49cf-9c83-86a464328978"
      },
      "source": [
        "accuracy = cross_val_score(kbag,X,Y, cv=10, scoring='accuracy')\n",
        "print('All Cross Val Accuracy :',accuracy)\n",
        "print('\\nCross Val Accuracy :',accuracy.mean())"
      ],
      "execution_count": null,
      "outputs": [
        {
          "output_type": "stream",
          "text": [
            "All Cross Val Accuracy : [0.89189189 1.         0.97222222 1.         0.97222222 0.97222222\n",
            " 0.88888889 1.         0.94444444 1.        ]\n",
            "\n",
            "Cross Val Accuracy : 0.9641891891891892\n"
          ],
          "name": "stdout"
        }
      ]
    },
    {
      "cell_type": "code",
      "metadata": {
        "colab": {
          "base_uri": "https://localhost:8080/"
        },
        "id": "h3nOkizW-Yty",
        "outputId": "28480197-4895-4963-bcb0-2467a47e06cb"
      },
      "source": [
        "cvresult(Y,Y_cvpredbgk)"
      ],
      "execution_count": null,
      "outputs": [
        {
          "output_type": "stream",
          "text": [
            "Cross Val f1 score :  0.964769647696477\n",
            "Cross Val Precision :  0.9468085106382979\n",
            "Cross Val recall :  0.9834254143646409\n",
            "Cross Val Classification Report : \n",
            "               precision    recall  f1-score   support\n",
            "\n",
            "           0       0.98      0.94      0.96       181\n",
            "           1       0.95      0.98      0.96       181\n",
            "\n",
            "    accuracy                           0.96       362\n",
            "   macro avg       0.96      0.96      0.96       362\n",
            "weighted avg       0.96      0.96      0.96       362\n",
            "\n"
          ],
          "name": "stdout"
        }
      ]
    },
    {
      "cell_type": "code",
      "metadata": {
        "colab": {
          "base_uri": "https://localhost:8080/"
        },
        "id": "tJVj5dmD-VNI",
        "outputId": "b1538b6c-fb6a-4a50-c30b-027422831fc0"
      },
      "source": [
        "result(Y_test,Y_predbgk)"
      ],
      "execution_count": null,
      "outputs": [
        {
          "output_type": "stream",
          "text": [
            "Accuracy :  0.978021978021978\n",
            "f1 score :  0.9814814814814815\n",
            "Precision :  0.9814814814814815\n",
            "recall :  0.9814814814814815\n",
            "Classification Report : \n",
            "               precision    recall  f1-score   support\n",
            "\n",
            "           0       0.97      0.97      0.97        37\n",
            "           1       0.98      0.98      0.98        54\n",
            "\n",
            "    accuracy                           0.98        91\n",
            "   macro avg       0.98      0.98      0.98        91\n",
            "weighted avg       0.98      0.98      0.98        91\n",
            "\n"
          ],
          "name": "stdout"
        }
      ]
    },
    {
      "cell_type": "code",
      "metadata": {
        "colab": {
          "base_uri": "https://localhost:8080/"
        },
        "id": "pQdbPk6m-yIZ",
        "outputId": "03f8eeba-1e1d-4d88-ee2f-669c6678ae7e"
      },
      "source": [
        "knnbg_prob = kbag.predict_proba(X_test)\n",
        "knnbg_auc = roc_auc_score(Y_test,knnbg_prob[:,1])\n",
        "print('roc-auc score :{}'.format(knnbg_auc))"
      ],
      "execution_count": null,
      "outputs": [
        {
          "output_type": "stream",
          "text": [
            "roc-auc score :0.9994994994994995\n"
          ],
          "name": "stdout"
        }
      ]
    },
    {
      "cell_type": "markdown",
      "metadata": {
        "id": "7wUchELQ_StO"
      },
      "source": [
        "## Base estimator SVM"
      ]
    },
    {
      "cell_type": "code",
      "metadata": {
        "id": "bz5-9S5Z_UyZ"
      },
      "source": [
        "sbag = BaggingClassifier(sclassifier, n_estimators= best_paramsgrs['n_estimators'],bootstrap_features=best_paramsgrs['bootstrap_features'],\n",
        "                          n_jobs= best_paramsgrs['n_jobs'],random_state=42)"
      ],
      "execution_count": null,
      "outputs": []
    },
    {
      "cell_type": "code",
      "metadata": {
        "colab": {
          "base_uri": "https://localhost:8080/"
        },
        "id": "aXhAOTax_vNg",
        "outputId": "ee08b5cb-02a4-43e6-8a31-70a42200ca8d"
      },
      "source": [
        "sbag.fit(X_train,Y_train)"
      ],
      "execution_count": null,
      "outputs": [
        {
          "output_type": "execute_result",
          "data": {
            "text/plain": [
              "BaggingClassifier(base_estimator=SVC(C=50, probability=True, random_state=42),\n",
              "                  bootstrap_features=None, n_estimators=56, n_jobs=5,\n",
              "                  random_state=42)"
            ]
          },
          "metadata": {},
          "execution_count": 249
        }
      ]
    },
    {
      "cell_type": "code",
      "metadata": {
        "id": "cCrW8R6f_vqK"
      },
      "source": [
        "Y_predbgs = sbag.predict(X_test)"
      ],
      "execution_count": null,
      "outputs": []
    },
    {
      "cell_type": "code",
      "metadata": {
        "id": "XEFfuK5xsI_g"
      },
      "source": [
        "Y_cvpredbgs = cross_val_predict(sbag,X,Y,cv = 10)"
      ],
      "execution_count": null,
      "outputs": []
    },
    {
      "cell_type": "code",
      "metadata": {
        "colab": {
          "base_uri": "https://localhost:8080/"
        },
        "id": "r-KDBcmz_vf1",
        "outputId": "8f97f463-5a8e-4f91-be78-268e3d7cbc1e"
      },
      "source": [
        "cm = confusion_matrix(Y_test,Y_predbgs)\n",
        "print(cm)"
      ],
      "execution_count": null,
      "outputs": [
        {
          "output_type": "stream",
          "name": "stdout",
          "text": [
            "[[43 10]\n",
            " [ 7 44]]\n"
          ]
        }
      ]
    },
    {
      "cell_type": "code",
      "metadata": {
        "colab": {
          "base_uri": "https://localhost:8080/"
        },
        "id": "dG-0NSyhsqy0",
        "outputId": "e85b7e29-827a-4044-bd6b-213874f2f7ce"
      },
      "source": [
        "cmbg = confusion_matrix(Y,Y_cvpredbgs)\n",
        "print(cmbg)"
      ],
      "execution_count": null,
      "outputs": [
        {
          "output_type": "stream",
          "name": "stdout",
          "text": [
            "[[172  35]\n",
            " [ 11 196]]\n"
          ]
        }
      ]
    },
    {
      "cell_type": "code",
      "metadata": {
        "colab": {
          "base_uri": "https://localhost:8080/",
          "height": 282
        },
        "id": "mMB9sndPsyzG",
        "outputId": "19af636a-ca4f-49af-b81b-c97ce759a749"
      },
      "source": [
        "group_names = ['True Neg','False Pos','False Neg','True Pos']\n",
        "group_counts = [\"{0:0.0f}\".format(value) for value in\n",
        "                cmbg.flatten()]\n",
        "group_percentages = [\"{0:.2%}\".format(value) for value in\n",
        "                     cmbg.flatten()/np.sum(cmbg)]\n",
        "labels = [f\"{v1}\\n{v2}\\n{v3}\" for v1, v2, v3 in\n",
        "          zip(group_names,group_counts,group_percentages)]\n",
        "labels = np.asarray(labels).reshape(2,2)\n",
        "sns.heatmap(cmbg, annot=labels, fmt='', cmap='Blues')"
      ],
      "execution_count": null,
      "outputs": [
        {
          "output_type": "execute_result",
          "data": {
            "text/plain": [
              "<matplotlib.axes._subplots.AxesSubplot at 0x7f9204099410>"
            ]
          },
          "metadata": {},
          "execution_count": 254
        },
        {
          "output_type": "display_data",
          "data": {
            "text/plain": [
              "<Figure size 432x288 with 2 Axes>"
            ],
            "image/png": "[encoded data removed]"
          },
          "metadata": {
            "needs_background": "light"
          }
        }
      ]
    },
    {
      "cell_type": "code",
      "metadata": {
        "colab": {
          "base_uri": "https://localhost:8080/"
        },
        "id": "J0NP-GRC_vzB",
        "outputId": "73b8737e-5091-4cf6-e208-a55025197b57"
      },
      "source": [
        "accuracy = cross_val_score(sbag,X,Y, cv=10, scoring='accuracy')\n",
        "print('All Cross Val Accuracy :',accuracy)\n",
        "print('\\nCross Val Accuracy :',accuracy.mean())"
      ],
      "execution_count": null,
      "outputs": [
        {
          "output_type": "stream",
          "name": "stdout",
          "text": [
            "All Cross Val Accuracy : [0.71428571 0.71428571 0.83333333 0.9047619  0.80487805 0.97560976\n",
            " 0.97560976 0.97560976 1.         1.        ]\n",
            "\n",
            "Cross Val Accuracy : 0.8898373983739838\n"
          ]
        }
      ]
    },
    {
      "cell_type": "code",
      "metadata": {
        "colab": {
          "base_uri": "https://localhost:8080/"
        },
        "id": "rhMulJKz_v6q",
        "outputId": "8c1bf238-a360-4640-aa22-52cbd893a4a5"
      },
      "source": [
        "cvresult(Y,Y_cvpredbgs)"
      ],
      "execution_count": null,
      "outputs": [
        {
          "output_type": "stream",
          "name": "stdout",
          "text": [
            "Cross Val f1 score :  0.8949771689497718\n",
            "Cross Val Precision :  0.8484848484848485\n",
            "Cross Val recall :  0.9468599033816425\n",
            "Cross Val Classification Report : \n",
            "               precision    recall  f1-score   support\n",
            "\n",
            "           0       0.94      0.83      0.88       207\n",
            "           1       0.85      0.95      0.89       207\n",
            "\n",
            "    accuracy                           0.89       414\n",
            "   macro avg       0.89      0.89      0.89       414\n",
            "weighted avg       0.89      0.89      0.89       414\n",
            "\n"
          ]
        }
      ]
    },
    {
      "cell_type": "code",
      "metadata": {
        "colab": {
          "base_uri": "https://localhost:8080/"
        },
        "id": "bI_xDfnR-cw6",
        "outputId": "7dc58cab-c52c-473f-aaff-7121e5013d51"
      },
      "source": [
        "result(Y_test,Y_predbgs)"
      ],
      "execution_count": null,
      "outputs": [
        {
          "output_type": "stream",
          "name": "stdout",
          "text": [
            "Accuracy :  0.8365384615384616\n",
            "f1 score :  0.838095238095238\n",
            "Precision :  0.8148148148148148\n",
            "recall :  0.8627450980392157\n",
            "Classification Report : \n",
            "               precision    recall  f1-score   support\n",
            "\n",
            "           0       0.86      0.81      0.83        53\n",
            "           1       0.81      0.86      0.84        51\n",
            "\n",
            "    accuracy                           0.84       104\n",
            "   macro avg       0.84      0.84      0.84       104\n",
            "weighted avg       0.84      0.84      0.84       104\n",
            "\n"
          ]
        }
      ]
    },
    {
      "cell_type": "code",
      "metadata": {
        "colab": {
          "base_uri": "https://localhost:8080/"
        },
        "id": "F8DHLiwi_wjN",
        "outputId": "2f7979c6-fdac-4405-fbe8-5798b2b5c312"
      },
      "source": [
        "svmbg_prob = sbag.predict_proba(X_test)\n",
        "svmbg_auc = roc_auc_score(Y_test,svmbg_prob[:,1])\n",
        "print('roc-auc score :{}'.format(svmbg_auc))"
      ],
      "execution_count": null,
      "outputs": [
        {
          "output_type": "stream",
          "name": "stdout",
          "text": [
            "roc-auc score :0.9208287088420275\n"
          ]
        }
      ]
    },
    {
      "cell_type": "markdown",
      "metadata": {
        "id": "YogKKCUf_ZyZ"
      },
      "source": [
        "## Base estimator kernal SVM"
      ]
    },
    {
      "cell_type": "code",
      "metadata": {
        "id": "1a2c1Ehq_p4Y"
      },
      "source": [
        "ksbag = BaggingClassifier(ksclassifier, n_estimators= 75,bootstrap_features=True,n_jobs=3)"
      ],
      "execution_count": null,
      "outputs": []
    },
    {
      "cell_type": "code",
      "metadata": {
        "colab": {
          "base_uri": "https://localhost:8080/"
        },
        "id": "okL2NfC4_qOS",
        "outputId": "b1268952-2426-49bd-9371-fd01289b51ce"
      },
      "source": [
        "ksbag.fit(X_train,Y_train)"
      ],
      "execution_count": null,
      "outputs": [
        {
          "output_type": "execute_result",
          "data": {
            "text/plain": [
              "BaggingClassifier(base_estimator=SVC(C=1, break_ties=False, cache_size=200,\n",
              "                                     class_weight=None, coef0=0.0,\n",
              "                                     decision_function_shape='ovr', degree=3,\n",
              "                                     gamma='scale', kernel='linear',\n",
              "                                     max_iter=-1, probability=True,\n",
              "                                     random_state=0, shrinking=True, tol=0.001,\n",
              "                                     verbose=False),\n",
              "                  bootstrap=True, bootstrap_features=True, max_features=1.0,\n",
              "                  max_samples=1.0, n_estimators=75, n_jobs=3, oob_score=False,\n",
              "                  random_state=None, verbose=0, warm_start=False)"
            ]
          },
          "metadata": {
            "tags": []
          },
          "execution_count": 845
        }
      ]
    },
    {
      "cell_type": "code",
      "metadata": {
        "id": "yYlSY3pt_xwQ"
      },
      "source": [
        "Y_predbgks = ksbag.predict(X_test)"
      ],
      "execution_count": null,
      "outputs": []
    },
    {
      "cell_type": "code",
      "metadata": {
        "id": "T8Gn71kFtmRi"
      },
      "source": [
        "Y_cvpredbgks = cross_val_predict(ksbag,X,Y,cv = 10)"
      ],
      "execution_count": null,
      "outputs": []
    },
    {
      "cell_type": "code",
      "metadata": {
        "colab": {
          "base_uri": "https://localhost:8080/"
        },
        "id": "H0PYHeWR_x30",
        "outputId": "452179f0-125d-4cb3-8a23-247b8c7e9ace"
      },
      "source": [
        "cm = confusion_matrix(Y_test,Y_predbgks)\n",
        "print(cm)"
      ],
      "execution_count": null,
      "outputs": [
        {
          "output_type": "stream",
          "text": [
            "[[37  0]\n",
            " [ 0 54]]\n"
          ],
          "name": "stdout"
        }
      ]
    },
    {
      "cell_type": "code",
      "metadata": {
        "colab": {
          "base_uri": "https://localhost:8080/"
        },
        "id": "y-Z_viYttyjw",
        "outputId": "908089c4-3734-42b1-aa30-307f1595ff2a"
      },
      "source": [
        "cmbg = confusion_matrix(Y,Y_cvpredbgks)\n",
        "print(cmbg)"
      ],
      "execution_count": null,
      "outputs": [
        {
          "output_type": "stream",
          "text": [
            "[[171  10]\n",
            " [  2 179]]\n"
          ],
          "name": "stdout"
        }
      ]
    },
    {
      "cell_type": "code",
      "metadata": {
        "colab": {
          "base_uri": "https://localhost:8080/"
        },
        "id": "hhNAN-AcuMeo",
        "outputId": "45571c16-90ca-4ada-f363-3130d9f90ea1"
      },
      "source": [
        "group_names = ['True Neg','False Pos','False Neg','True Pos']\n",
        "group_counts = [\"{0:0.0f}\".format(value) for value in\n",
        "                cmbg.flatten()]\n",
        "group_percentages = [\"{0:.2%}\".format(value) for value in\n",
        "                     cmbg.flatten()/np.sum(cmbg)]\n",
        "labels = [f\"{v1}\\n{v2}\\n{v3}\" for v1, v2, v3 in\n",
        "          zip(group_names,group_counts,group_percentages)]\n",
        "labels = np.asarray(labels).reshape(2,2)\n",
        "sns.heatmap(cmbg, annot=labels, fmt='', cmap='Blues')"
      ],
      "execution_count": null,
      "outputs": [
        {
          "output_type": "execute_result",
          "data": {
            "text/plain": [
              "<matplotlib.axes._subplots.AxesSubplot at 0x7fbb51cedfd0>"
            ]
          },
          "metadata": {
            "tags": []
          },
          "execution_count": 850
        },
        {
          "output_type": "display_data",
          "data": {
            "image/png": "[encoded data removed]",
            "text/plain": [
              "<Figure size 432x288 with 2 Axes>"
            ]
          },
          "metadata": {
            "tags": [],
            "needs_background": "light"
          }
        }
      ]
    },
    {
      "cell_type": "code",
      "metadata": {
        "colab": {
          "base_uri": "https://localhost:8080/"
        },
        "id": "AUZo2bjM_x-8",
        "outputId": "e5e5cbff-691b-4d52-b4b0-f55e47e3fe43"
      },
      "source": [
        "accuracy = cross_val_score(ksbag,X,Y, cv=10, scoring='accuracy')\n",
        "print('All Cross Val Accuracy :',accuracy)\n",
        "print('\\nCross Val Accuracy :',accuracy.mean())"
      ],
      "execution_count": null,
      "outputs": [
        {
          "output_type": "stream",
          "text": [
            "All Cross Val Accuracy : [0.89189189 1.         0.97222222 1.         0.97222222 1.\n",
            " 0.88888889 1.         0.94444444 1.        ]\n",
            "\n",
            "Cross Val Accuracy : 0.9669669669669669\n"
          ],
          "name": "stdout"
        }
      ]
    },
    {
      "cell_type": "code",
      "metadata": {
        "colab": {
          "base_uri": "https://localhost:8080/"
        },
        "id": "9ZwQGS9n_yFy",
        "outputId": "a80da0da-e435-489e-eabe-e9695b0228af"
      },
      "source": [
        "cvresult(Y,Y_cvpredbgks)"
      ],
      "execution_count": null,
      "outputs": [
        {
          "output_type": "stream",
          "text": [
            "Cross Val f1 score :  0.9675675675675676\n",
            "Cross Val Precision :  0.9470899470899471\n",
            "Cross Val recall :  0.988950276243094\n",
            "Cross Val Classification Report : \n",
            "               precision    recall  f1-score   support\n",
            "\n",
            "           0       0.99      0.94      0.97       181\n",
            "           1       0.95      0.99      0.97       181\n",
            "\n",
            "    accuracy                           0.97       362\n",
            "   macro avg       0.97      0.97      0.97       362\n",
            "weighted avg       0.97      0.97      0.97       362\n",
            "\n"
          ],
          "name": "stdout"
        }
      ]
    },
    {
      "cell_type": "code",
      "metadata": {
        "colab": {
          "base_uri": "https://localhost:8080/"
        },
        "id": "ngV2vlwoANnB",
        "outputId": "8a7338d5-ba65-47b8-c56d-46a291528df9"
      },
      "source": [
        "result(Y_test,Y_predks)"
      ],
      "execution_count": null,
      "outputs": [
        {
          "output_type": "stream",
          "text": [
            "Accuracy :  1.0\n",
            "f1 score :  1.0\n",
            "Precision :  1.0\n",
            "recall :  1.0\n",
            "Classification Report : \n",
            "               precision    recall  f1-score   support\n",
            "\n",
            "           0       1.00      1.00      1.00        37\n",
            "           1       1.00      1.00      1.00        54\n",
            "\n",
            "    accuracy                           1.00        91\n",
            "   macro avg       1.00      1.00      1.00        91\n",
            "weighted avg       1.00      1.00      1.00        91\n",
            "\n"
          ],
          "name": "stdout"
        }
      ]
    },
    {
      "cell_type": "code",
      "metadata": {
        "colab": {
          "base_uri": "https://localhost:8080/"
        },
        "id": "Eytid-QA_yig",
        "outputId": "17dc59e6-53c3-4012-94b0-3750d8177dca"
      },
      "source": [
        "ksvmbg_prob = ksbag.predict_proba(X_test)\n",
        "ksvmbg_auc = roc_auc_score(Y_test,ksvmbg_prob[:,1])\n",
        "print('roc-auc score :{}'.format(ksvmbg_auc))"
      ],
      "execution_count": null,
      "outputs": [
        {
          "output_type": "stream",
          "text": [
            "roc-auc score :1.0\n"
          ],
          "name": "stdout"
        }
      ]
    },
    {
      "cell_type": "markdown",
      "metadata": {
        "id": "o-k5xcti_gmh"
      },
      "source": [
        "## Base estimator Naive Bayes"
      ]
    },
    {
      "cell_type": "code",
      "metadata": {
        "id": "dj12KVOl_zwp"
      },
      "source": [
        "nbbag = BaggingClassifier(nbclassifier, n_estimators= best_paramnbgrs['n_estimators'],\n",
        "                          bootstrap_features=best_paramnbgrs['bootstrap_features'],\n",
        "                          n_jobs=best_paramnbgrs['n_jobs'],random_state=42)"
      ],
      "execution_count": null,
      "outputs": []
    },
    {
      "cell_type": "code",
      "metadata": {
        "colab": {
          "base_uri": "https://localhost:8080/"
        },
        "id": "iSHht_b3_z6d",
        "outputId": "a4b79b11-9788-41ad-b78f-ddf01d6e663f"
      },
      "source": [
        "nbbag.fit(X_train,Y_train)"
      ],
      "execution_count": null,
      "outputs": [
        {
          "output_type": "execute_result",
          "data": {
            "text/plain": [
              "BaggingClassifier(base_estimator=GaussianNB(priors=None, var_smoothing=0.01),\n",
              "                  bootstrap=True, bootstrap_features='True', max_features=1.0,\n",
              "                  max_samples=1.0, n_estimators=72, n_jobs=4, oob_score=False,\n",
              "                  random_state=42, verbose=0, warm_start=False)"
            ]
          },
          "metadata": {
            "tags": []
          },
          "execution_count": 176
        }
      ]
    },
    {
      "cell_type": "code",
      "metadata": {
        "id": "lMs8PL9G_0Ag"
      },
      "source": [
        "Y_predbgnb = nbbag.predict(X_test)"
      ],
      "execution_count": null,
      "outputs": []
    },
    {
      "cell_type": "code",
      "metadata": {
        "id": "URBVqxsdu-nb"
      },
      "source": [
        "Y_cvpredbgnb = cross_val_predict(nbbag,X,Y,cv = 10)"
      ],
      "execution_count": null,
      "outputs": []
    },
    {
      "cell_type": "code",
      "metadata": {
        "colab": {
          "base_uri": "https://localhost:8080/"
        },
        "id": "xzAGGJq0_0HJ",
        "outputId": "69cd6201-2803-4fff-c13b-ffe5b3e68d10"
      },
      "source": [
        "cm = confusion_matrix(Y_test,Y_predbgnb)\n",
        "print(cm)"
      ],
      "execution_count": null,
      "outputs": [
        {
          "output_type": "stream",
          "text": [
            "[[37  0]\n",
            " [ 1 53]]\n"
          ],
          "name": "stdout"
        }
      ]
    },
    {
      "cell_type": "code",
      "metadata": {
        "colab": {
          "base_uri": "https://localhost:8080/"
        },
        "id": "lTtKqxHzvJqg",
        "outputId": "ebb75a6d-d331-4583-df58-37d8dd82ce9d"
      },
      "source": [
        "cmbg = confusion_matrix(Y,Y_cvpredbgnb)\n",
        "print(cmbg)"
      ],
      "execution_count": null,
      "outputs": [
        {
          "output_type": "stream",
          "text": [
            "[[173   8]\n",
            " [  4 177]]\n"
          ],
          "name": "stdout"
        }
      ]
    },
    {
      "cell_type": "code",
      "metadata": {
        "colab": {
          "base_uri": "https://localhost:8080/",
          "height": 282
        },
        "id": "bzvwyfKCvatQ",
        "outputId": "8c5e43d5-777f-4373-b1eb-8c202af53cd6"
      },
      "source": [
        "group_names = ['True Neg','False Pos','False Neg','True Pos']\n",
        "group_counts = [\"{0:0.0f}\".format(value) for value in\n",
        "                cmbg.flatten()]\n",
        "group_percentages = [\"{0:.2%}\".format(value) for value in\n",
        "                     cmbg.flatten()/np.sum(cmbg)]\n",
        "labels = [f\"{v1}\\n{v2}\\n{v3}\" for v1, v2, v3 in\n",
        "          zip(group_names,group_counts,group_percentages)]\n",
        "labels = np.asarray(labels).reshape(2,2)\n",
        "sns.heatmap(cmbg, annot=labels, fmt='', cmap='Blues')"
      ],
      "execution_count": null,
      "outputs": [
        {
          "output_type": "execute_result",
          "data": {
            "text/plain": [
              "<matplotlib.axes._subplots.AxesSubplot at 0x7f83b2164dd0>"
            ]
          },
          "metadata": {
            "tags": []
          },
          "execution_count": 181
        },
        {
          "output_type": "display_data",
          "data": {
            "image/png": "[encoded data removed]",
            "text/plain": [
              "<Figure size 432x288 with 2 Axes>"
            ]
          },
          "metadata": {
            "tags": [],
            "needs_background": "light"
          }
        }
      ]
    },
    {
      "cell_type": "code",
      "metadata": {
        "colab": {
          "base_uri": "https://localhost:8080/"
        },
        "id": "6C2zXx-z_0M0",
        "outputId": "e490a3d7-bf7e-4bfc-e2c2-3359e03e2ac4"
      },
      "source": [
        "accuracy = cross_val_score(nbbag,X,Y, cv=10, scoring='accuracy')\n",
        "print('All Cross Val Accuracy :',accuracy)\n",
        "print('\\nCross Val Accuracy :',accuracy.mean())"
      ],
      "execution_count": null,
      "outputs": [
        {
          "output_type": "stream",
          "text": [
            "All Cross Val Accuracy : [0.89189189 1.         0.97222222 1.         0.97222222 1.\n",
            " 0.94444444 0.97222222 0.94444444 0.97222222]\n",
            "\n",
            "Cross Val Accuracy : 0.9669669669669669\n"
          ],
          "name": "stdout"
        }
      ]
    },
    {
      "cell_type": "code",
      "metadata": {
        "colab": {
          "base_uri": "https://localhost:8080/"
        },
        "id": "rFcllYRT_0Tx",
        "outputId": "510cf9df-2908-428e-9d58-1d45a6e83853"
      },
      "source": [
        "cvresult(Y,Y_cvpredbgnb)"
      ],
      "execution_count": null,
      "outputs": [
        {
          "output_type": "stream",
          "text": [
            "Cross Val f1 score :  0.9672131147540983\n",
            "Cross Val Precision :  0.9567567567567568\n",
            "Cross Val recall :  0.9779005524861878\n",
            "Cross Val Classification Report : \n",
            "               precision    recall  f1-score   support\n",
            "\n",
            "           0       0.98      0.96      0.97       181\n",
            "           1       0.96      0.98      0.97       181\n",
            "\n",
            "    accuracy                           0.97       362\n",
            "   macro avg       0.97      0.97      0.97       362\n",
            "weighted avg       0.97      0.97      0.97       362\n",
            "\n"
          ],
          "name": "stdout"
        }
      ]
    },
    {
      "cell_type": "code",
      "metadata": {
        "colab": {
          "base_uri": "https://localhost:8080/"
        },
        "id": "JA9saitWAWbX",
        "outputId": "92c031c5-d229-43c4-ee52-b26b874e55c7"
      },
      "source": [
        "result(Y_test,Y_predbgnb)"
      ],
      "execution_count": null,
      "outputs": [
        {
          "output_type": "stream",
          "text": [
            "Accuracy :  0.989010989010989\n",
            "f1 score :  0.9906542056074767\n",
            "Precision :  1.0\n",
            "recall :  0.9814814814814815\n",
            "Classification Report : \n",
            "               precision    recall  f1-score   support\n",
            "\n",
            "           0       0.97      1.00      0.99        37\n",
            "           1       1.00      0.98      0.99        54\n",
            "\n",
            "    accuracy                           0.99        91\n",
            "   macro avg       0.99      0.99      0.99        91\n",
            "weighted avg       0.99      0.99      0.99        91\n",
            "\n"
          ],
          "name": "stdout"
        }
      ]
    },
    {
      "cell_type": "code",
      "metadata": {
        "colab": {
          "base_uri": "https://localhost:8080/"
        },
        "id": "8jgdspX7_0nv",
        "outputId": "102db91c-5652-4781-cd72-48686d405e67"
      },
      "source": [
        "nbbg_prob = nbbag.predict_proba(X_test)\n",
        "nbbg_auc = roc_auc_score(Y_test,nbbg_prob[:,1])\n",
        "print('roc-auc score :{}'.format(nbbg_auc))"
      ],
      "execution_count": null,
      "outputs": [
        {
          "output_type": "stream",
          "text": [
            "roc-auc score :1.0\n"
          ],
          "name": "stdout"
        }
      ]
    },
    {
      "cell_type": "markdown",
      "metadata": {
        "id": "niTlK_d__kT4"
      },
      "source": [
        "## Base estimator Decision Tree"
      ]
    },
    {
      "cell_type": "code",
      "metadata": {
        "id": "aC9ykWdx_1ah"
      },
      "source": [
        "dtbag = BaggingClassifier(dtclassifier, n_estimators= best_paramdtgrs['n_estimators'],bootstrap_features=best_paramdtgrs['bootstrap_features'],\n",
        "                          n_jobs=best_paramdtgrs['n_jobs'],random_state =42)"
      ],
      "execution_count": null,
      "outputs": []
    },
    {
      "cell_type": "code",
      "metadata": {
        "colab": {
          "base_uri": "https://localhost:8080/"
        },
        "id": "iyW0Ub50_1ge",
        "outputId": "70f80442-8a95-4aaf-f7b7-625abf83877c"
      },
      "source": [
        "dtbag.fit(X_train,Y_train)"
      ],
      "execution_count": null,
      "outputs": [
        {
          "output_type": "execute_result",
          "data": {
            "text/plain": [
              "BaggingClassifier(base_estimator=DecisionTreeClassifier(ccp_alpha=0.0,\n",
              "                                                        class_weight=None,\n",
              "                                                        criterion='gini',\n",
              "                                                        max_depth=1,\n",
              "                                                        max_features=None,\n",
              "                                                        max_leaf_nodes=70,\n",
              "                                                        min_impurity_decrease=0.0,\n",
              "                                                        min_impurity_split=None,\n",
              "                                                        min_samples_leaf=4,\n",
              "                                                        min_samples_split=2,\n",
              "                                                        min_weight_fraction_leaf=0.0,\n",
              "                                                        presort='deprecated',\n",
              "                                                        random_state=42,\n",
              "                                                        splitter='best'),\n",
              "                  bootstrap=True, bootstrap_features='False', max_features=1.0,\n",
              "                  max_samples=1.0, n_estimators=8, n_jobs=5, oob_score=False,\n",
              "                  random_state=42, verbose=0, warm_start=False)"
            ]
          },
          "metadata": {
            "tags": []
          },
          "execution_count": 187
        }
      ]
    },
    {
      "cell_type": "code",
      "metadata": {
        "id": "UvIy8Ecz_1lx"
      },
      "source": [
        "Y_predbgdt = dtbag.predict(X_test)"
      ],
      "execution_count": null,
      "outputs": []
    },
    {
      "cell_type": "code",
      "metadata": {
        "id": "97uW6_3lxdcI"
      },
      "source": [
        "Y_cvpredbgdt = cross_val_predict(dtbag,X,Y,cv = 10)"
      ],
      "execution_count": null,
      "outputs": []
    },
    {
      "cell_type": "code",
      "metadata": {
        "colab": {
          "base_uri": "https://localhost:8080/"
        },
        "id": "lqTqpr-7_1r1",
        "outputId": "76425381-c385-4f4a-b5f0-89a694292453"
      },
      "source": [
        "cm = confusion_matrix(Y_test,Y_predbgdt)\n",
        "print(cm)"
      ],
      "execution_count": null,
      "outputs": [
        {
          "output_type": "stream",
          "text": [
            "[[37  0]\n",
            " [ 2 52]]\n"
          ],
          "name": "stdout"
        }
      ]
    },
    {
      "cell_type": "code",
      "metadata": {
        "colab": {
          "base_uri": "https://localhost:8080/"
        },
        "id": "yBuudrB1xxVX",
        "outputId": "aa5235c4-cf50-458a-a376-353e9d04f835"
      },
      "source": [
        "cmbg = confusion_matrix(Y,Y_cvpredbgdt)\n",
        "print(cmbg)"
      ],
      "execution_count": null,
      "outputs": [
        {
          "output_type": "stream",
          "text": [
            "[[171  10]\n",
            " [  2 179]]\n"
          ],
          "name": "stdout"
        }
      ]
    },
    {
      "cell_type": "code",
      "metadata": {
        "colab": {
          "base_uri": "https://localhost:8080/",
          "height": 282
        },
        "id": "iXtaVbSMx5__",
        "outputId": "a2843a58-7ac8-40a8-b478-062d291f6d96"
      },
      "source": [
        "group_names = ['True Neg','False Pos','False Neg','True Pos']\n",
        "group_counts = [\"{0:0.0f}\".format(value) for value in\n",
        "                cmbg.flatten()]\n",
        "group_percentages = [\"{0:.2%}\".format(value) for value in\n",
        "                     cmbg.flatten()/np.sum(cmbg)]\n",
        "labels = [f\"{v1}\\n{v2}\\n{v3}\" for v1, v2, v3 in\n",
        "          zip(group_names,group_counts,group_percentages)]\n",
        "labels = np.asarray(labels).reshape(2,2)\n",
        "sns.heatmap(cmbg, annot=labels, fmt='', cmap='Blues')"
      ],
      "execution_count": null,
      "outputs": [
        {
          "output_type": "execute_result",
          "data": {
            "text/plain": [
              "<matplotlib.axes._subplots.AxesSubplot at 0x7f83b2493e90>"
            ]
          },
          "metadata": {
            "tags": []
          },
          "execution_count": 192
        },
        {
          "output_type": "display_data",
          "data": {
            "image/png": "[encoded data removed]",
            "text/plain": [
              "<Figure size 432x288 with 2 Axes>"
            ]
          },
          "metadata": {
            "tags": [],
            "needs_background": "light"
          }
        }
      ]
    },
    {
      "cell_type": "code",
      "metadata": {
        "colab": {
          "base_uri": "https://localhost:8080/"
        },
        "id": "CN9waUUr_1x5",
        "outputId": "dc7fc8a9-dc9b-44b0-edd0-ff759e0e971c"
      },
      "source": [
        "accuracy = cross_val_score(dtbag,X,Y, cv=10, scoring='accuracy')\n",
        "print('All Cross Val Accuracy :',accuracy)\n",
        "print('\\nCross Val Accuracy :',accuracy.mean())"
      ],
      "execution_count": null,
      "outputs": [
        {
          "output_type": "stream",
          "text": [
            "All Cross Val Accuracy : [0.89189189 1.         0.97222222 1.         0.97222222 1.\n",
            " 0.88888889 1.         0.94444444 1.        ]\n",
            "\n",
            "Cross Val Accuracy : 0.9669669669669669\n"
          ],
          "name": "stdout"
        }
      ]
    },
    {
      "cell_type": "code",
      "metadata": {
        "colab": {
          "base_uri": "https://localhost:8080/"
        },
        "id": "Nf6USK1W_13t",
        "outputId": "7657aa89-603f-47f9-8620-7a33559daa6c"
      },
      "source": [
        "cvresult(Y,Y_cvpredbgdt)"
      ],
      "execution_count": null,
      "outputs": [
        {
          "output_type": "stream",
          "text": [
            "Cross Val f1 score :  0.9675675675675676\n",
            "Cross Val Precision :  0.9470899470899471\n",
            "Cross Val recall :  0.988950276243094\n",
            "Cross Val Classification Report : \n",
            "               precision    recall  f1-score   support\n",
            "\n",
            "           0       0.99      0.94      0.97       181\n",
            "           1       0.95      0.99      0.97       181\n",
            "\n",
            "    accuracy                           0.97       362\n",
            "   macro avg       0.97      0.97      0.97       362\n",
            "weighted avg       0.97      0.97      0.97       362\n",
            "\n"
          ],
          "name": "stdout"
        }
      ]
    },
    {
      "cell_type": "code",
      "metadata": {
        "colab": {
          "base_uri": "https://localhost:8080/"
        },
        "id": "y9ouG7AMAch_",
        "outputId": "c463fe97-7f83-4720-cd9e-7fb81d8273f5"
      },
      "source": [
        "result(Y_test,Y_predbgdt)"
      ],
      "execution_count": null,
      "outputs": [
        {
          "output_type": "stream",
          "text": [
            "Accuracy :  0.978021978021978\n",
            "f1 score :  0.9811320754716981\n",
            "Precision :  1.0\n",
            "recall :  0.9629629629629629\n",
            "Classification Report : \n",
            "               precision    recall  f1-score   support\n",
            "\n",
            "           0       0.95      1.00      0.97        37\n",
            "           1       1.00      0.96      0.98        54\n",
            "\n",
            "    accuracy                           0.98        91\n",
            "   macro avg       0.97      0.98      0.98        91\n",
            "weighted avg       0.98      0.98      0.98        91\n",
            "\n"
          ],
          "name": "stdout"
        }
      ]
    },
    {
      "cell_type": "code",
      "metadata": {
        "colab": {
          "base_uri": "https://localhost:8080/"
        },
        "id": "Aq3HAPge_2Lu",
        "outputId": "4ccb8cf0-f6f4-46de-b5d6-5462c8a8af82"
      },
      "source": [
        "dtbg_prob = dtbag.predict_proba(X_test)\n",
        "dtbg_auc = roc_auc_score(Y_test,dtbg_prob[:,1])\n",
        "print('roc-auc score :{}'.format(dtbg_auc))"
      ],
      "execution_count": null,
      "outputs": [
        {
          "output_type": "stream",
          "text": [
            "roc-auc score :1.0\n"
          ],
          "name": "stdout"
        }
      ]
    },
    {
      "cell_type": "markdown",
      "metadata": {
        "id": "ZrLEKsVc6ReJ"
      },
      "source": [
        "## Base estimator Random Forest"
      ]
    },
    {
      "cell_type": "code",
      "metadata": {
        "id": "Lu75zmfv6PiN"
      },
      "source": [
        "rfbag = BaggingClassifier(rfclassifier, n_estimators= best_paramrfgrs['n_estimators'],bootstrap_features=best_paramrfgrs['bootstrap_features'],\n",
        "                          n_jobs=best_paramrfgrs['n_jobs'],random_state=42)"
      ],
      "execution_count": null,
      "outputs": []
    },
    {
      "cell_type": "code",
      "metadata": {
        "colab": {
          "base_uri": "https://localhost:8080/"
        },
        "id": "y8ULLLiH6a4a",
        "outputId": "e40900de-332f-40f9-e9bf-4f92b8e8d429"
      },
      "source": [
        "rfbag.fit(X_train,Y_train)"
      ],
      "execution_count": null,
      "outputs": [
        {
          "output_type": "execute_result",
          "data": {
            "text/plain": [
              "BaggingClassifier(base_estimator=RandomForestClassifier(bootstrap=True,\n",
              "                                                        ccp_alpha=0.0,\n",
              "                                                        class_weight=None,\n",
              "                                                        criterion='gini',\n",
              "                                                        max_depth=5,\n",
              "                                                        max_features='log2',\n",
              "                                                        max_leaf_nodes=None,\n",
              "                                                        max_samples=None,\n",
              "                                                        min_impurity_decrease=0.0,\n",
              "                                                        min_impurity_split=None,\n",
              "                                                        min_samples_leaf=1,\n",
              "                                                        min_samples_split=2,\n",
              "                                                        min_weight_fraction_leaf=0.0,\n",
              "                                                        n_estimators=8,\n",
              "                                                        n_jobs=None,\n",
              "                                                        oob_score=False,\n",
              "                                                        random_state=42,\n",
              "                                                        verbose=0,\n",
              "                                                        warm_start=False),\n",
              "                  bootstrap=True, bootstrap_features='False', max_features=1.0,\n",
              "                  max_samples=1.0, n_estimators=51, n_jobs=5, oob_score=False,\n",
              "                  random_state=42, verbose=0, warm_start=False)"
            ]
          },
          "metadata": {
            "tags": []
          },
          "execution_count": 198
        }
      ]
    },
    {
      "cell_type": "code",
      "metadata": {
        "id": "mLK5WrBF6dHw"
      },
      "source": [
        "Y_predbgrf = rfbag.predict(X_test)"
      ],
      "execution_count": null,
      "outputs": []
    },
    {
      "cell_type": "code",
      "metadata": {
        "id": "NfcVAF2-0QbT"
      },
      "source": [
        "Y_cvpredbgrf = cross_val_predict(rfbag,X,Y,cv = 10)"
      ],
      "execution_count": null,
      "outputs": []
    },
    {
      "cell_type": "code",
      "metadata": {
        "colab": {
          "base_uri": "https://localhost:8080/"
        },
        "id": "RHZW7pBx6dQR",
        "outputId": "94eabeee-a51d-4b35-cb6a-05e972cfd23a"
      },
      "source": [
        "cm = confusion_matrix(Y_test,Y_predbgrf)\n",
        "print(cm)"
      ],
      "execution_count": null,
      "outputs": [
        {
          "output_type": "stream",
          "text": [
            "[[37  0]\n",
            " [ 1 53]]\n"
          ],
          "name": "stdout"
        }
      ]
    },
    {
      "cell_type": "code",
      "metadata": {
        "colab": {
          "base_uri": "https://localhost:8080/"
        },
        "id": "imWV72Un0kuA",
        "outputId": "652173bc-257c-416b-a2b7-5a7dfbb00a53"
      },
      "source": [
        "cmbg = confusion_matrix(Y,Y_cvpredbgrf)\n",
        "print(cmbg)"
      ],
      "execution_count": null,
      "outputs": [
        {
          "output_type": "stream",
          "text": [
            "[[172   9]\n",
            " [  4 177]]\n"
          ],
          "name": "stdout"
        }
      ]
    },
    {
      "cell_type": "code",
      "metadata": {
        "colab": {
          "base_uri": "https://localhost:8080/",
          "height": 282
        },
        "id": "sO1GPsqT0u74",
        "outputId": "0afdf6c4-4330-4fcd-f1aa-27dcf5c2285a"
      },
      "source": [
        "group_names = ['True Neg','False Pos','False Neg','True Pos']\n",
        "group_counts = [\"{0:0.0f}\".format(value) for value in\n",
        "                cmbg.flatten()]\n",
        "group_percentages = [\"{0:.2%}\".format(value) for value in\n",
        "                     cmbg.flatten()/np.sum(cmbg)]\n",
        "labels = [f\"{v1}\\n{v2}\\n{v3}\" for v1, v2, v3 in\n",
        "          zip(group_names,group_counts,group_percentages)]\n",
        "labels = np.asarray(labels).reshape(2,2)\n",
        "sns.heatmap(cmbg, annot=labels, fmt='', cmap='Blues')"
      ],
      "execution_count": null,
      "outputs": [
        {
          "output_type": "execute_result",
          "data": {
            "text/plain": [
              "<matplotlib.axes._subplots.AxesSubplot at 0x7f83b2159310>"
            ]
          },
          "metadata": {
            "tags": []
          },
          "execution_count": 203
        },
        {
          "output_type": "display_data",
          "data": {
            "image/png": "[encoded data removed]",
            "text/plain": [
              "<Figure size 432x288 with 2 Axes>"
            ]
          },
          "metadata": {
            "tags": [],
            "needs_background": "light"
          }
        }
      ]
    },
    {
      "cell_type": "code",
      "metadata": {
        "colab": {
          "base_uri": "https://localhost:8080/"
        },
        "id": "JZplJJJs6dYQ",
        "outputId": "ff44a29d-2da6-4055-b045-baa92b694728"
      },
      "source": [
        "accuracy = cross_val_score(rfbag,X,Y, cv=10, scoring='accuracy')\n",
        "print('All Cross Val Accuracy :',accuracy)\n",
        "print('\\nCross Val Accuracy :',accuracy.mean())"
      ],
      "execution_count": null,
      "outputs": [
        {
          "output_type": "stream",
          "text": [
            "All Cross Val Accuracy : [0.89189189 1.         0.97222222 1.         0.97222222 0.97222222\n",
            " 0.88888889 1.         0.94444444 1.        ]\n",
            "\n",
            "Cross Val Accuracy : 0.9641891891891892\n"
          ],
          "name": "stdout"
        }
      ]
    },
    {
      "cell_type": "code",
      "metadata": {
        "colab": {
          "base_uri": "https://localhost:8080/"
        },
        "id": "ouK2bbrf6dg6",
        "outputId": "d69f7651-9a6c-4e37-f76f-af0d83b46f36"
      },
      "source": [
        "cvresult(Y,Y_cvpredbgrf)"
      ],
      "execution_count": null,
      "outputs": [
        {
          "output_type": "stream",
          "text": [
            "Cross Val f1 score :  0.9645776566757494\n",
            "Cross Val Precision :  0.9516129032258065\n",
            "Cross Val recall :  0.9779005524861878\n",
            "Cross Val Classification Report : \n",
            "               precision    recall  f1-score   support\n",
            "\n",
            "           0       0.98      0.95      0.96       181\n",
            "           1       0.95      0.98      0.96       181\n",
            "\n",
            "    accuracy                           0.96       362\n",
            "   macro avg       0.96      0.96      0.96       362\n",
            "weighted avg       0.96      0.96      0.96       362\n",
            "\n"
          ],
          "name": "stdout"
        }
      ]
    },
    {
      "cell_type": "code",
      "metadata": {
        "colab": {
          "base_uri": "https://localhost:8080/"
        },
        "id": "daPjuR4PAmvo",
        "outputId": "9e76c5fb-9811-4d0e-8c2c-8a5384e60d98"
      },
      "source": [
        "result(Y_test,Y_predbgrf)"
      ],
      "execution_count": null,
      "outputs": [
        {
          "output_type": "stream",
          "text": [
            "Accuracy :  0.989010989010989\n",
            "f1 score :  0.9906542056074767\n",
            "Precision :  1.0\n",
            "recall :  0.9814814814814815\n",
            "Classification Report : \n",
            "               precision    recall  f1-score   support\n",
            "\n",
            "           0       0.97      1.00      0.99        37\n",
            "           1       1.00      0.98      0.99        54\n",
            "\n",
            "    accuracy                           0.99        91\n",
            "   macro avg       0.99      0.99      0.99        91\n",
            "weighted avg       0.99      0.99      0.99        91\n",
            "\n"
          ],
          "name": "stdout"
        }
      ]
    },
    {
      "cell_type": "code",
      "metadata": {
        "colab": {
          "base_uri": "https://localhost:8080/"
        },
        "id": "AYBNU3Q56ePj",
        "outputId": "deeb725f-d3db-4e89-e666-16049ee36038"
      },
      "source": [
        "rfbg_prob = rfbag.predict_proba(X_test)\n",
        "rfbg_auc = roc_auc_score(Y_test,rfbg_prob[:,1])\n",
        "print('roc-auc score :{}'.format(rfbg_auc))"
      ],
      "execution_count": null,
      "outputs": [
        {
          "output_type": "stream",
          "text": [
            "roc-auc score :0.9994994994994995\n"
          ],
          "name": "stdout"
        }
      ]
    },
    {
      "cell_type": "markdown",
      "metadata": {
        "id": "LyvkevKA1cL3"
      },
      "source": [
        "## Base estimator Extra Tree"
      ]
    },
    {
      "cell_type": "code",
      "metadata": {
        "id": "j_9aQ6im1mmg"
      },
      "source": [
        "etbag = BaggingClassifier(etclassifier, n_estimators= best_parametgrs['n_estimators'],\n",
        "                          bootstrap_features=best_parametgrs['bootstrap_features'],n_jobs=best_parametgrs['n_jobs'],random_state=42)"
      ],
      "execution_count": null,
      "outputs": []
    },
    {
      "cell_type": "code",
      "metadata": {
        "colab": {
          "base_uri": "https://localhost:8080/"
        },
        "id": "BYPl27mp2EmJ",
        "outputId": "cfd9db71-cf68-43c6-bafc-d7eb97a08fd0"
      },
      "source": [
        "etbag.fit(X_train,Y_train)"
      ],
      "execution_count": null,
      "outputs": [
        {
          "output_type": "execute_result",
          "data": {
            "text/plain": [
              "BaggingClassifier(base_estimator=ExtraTreeClassifier(ccp_alpha=0.0,\n",
              "                                                     class_weight=None,\n",
              "                                                     criterion='gini',\n",
              "                                                     max_depth=19,\n",
              "                                                     max_features='auto',\n",
              "                                                     max_leaf_nodes=None,\n",
              "                                                     min_impurity_decrease=0.0,\n",
              "                                                     min_impurity_split=None,\n",
              "                                                     min_samples_leaf=1,\n",
              "                                                     min_samples_split=2,\n",
              "                                                     min_weight_fraction_leaf=0.0,\n",
              "                                                     random_state=42,\n",
              "                                                     splitter='random'),\n",
              "                  bootstrap=True, bootstrap_features=None, max_features=1.0,\n",
              "                  max_samples=1.0, n_estimators=67, n_jobs=5, oob_score=False,\n",
              "                  random_state=42, verbose=0, warm_start=False)"
            ]
          },
          "metadata": {
            "tags": []
          },
          "execution_count": 209
        }
      ]
    },
    {
      "cell_type": "code",
      "metadata": {
        "id": "yoz0-L7i2yl_"
      },
      "source": [
        "Y_predbget = etbag.predict(X_test)"
      ],
      "execution_count": null,
      "outputs": []
    },
    {
      "cell_type": "code",
      "metadata": {
        "id": "v_dsjOdm2-vg"
      },
      "source": [
        "Y_cvpredbget = cross_val_predict(etbag,X,Y,cv = 10)"
      ],
      "execution_count": null,
      "outputs": []
    },
    {
      "cell_type": "code",
      "metadata": {
        "colab": {
          "base_uri": "https://localhost:8080/"
        },
        "id": "Wr_XAmBc3LQv",
        "outputId": "9eb6d723-365a-4495-f4fd-f56565b11cb7"
      },
      "source": [
        "cm = confusion_matrix(Y_test,Y_predbget)\n",
        "print(cm)"
      ],
      "execution_count": null,
      "outputs": [
        {
          "output_type": "stream",
          "text": [
            "[[37  0]\n",
            " [ 2 52]]\n"
          ],
          "name": "stdout"
        }
      ]
    },
    {
      "cell_type": "code",
      "metadata": {
        "colab": {
          "base_uri": "https://localhost:8080/"
        },
        "id": "hP_0grRE3Sy_",
        "outputId": "10f5d497-0b55-4eed-9650-02900df8ad50"
      },
      "source": [
        "cmbg = confusion_matrix(Y,Y_cvpredbget)\n",
        "print(cmbg)"
      ],
      "execution_count": null,
      "outputs": [
        {
          "output_type": "stream",
          "text": [
            "[[173   8]\n",
            " [  8 173]]\n"
          ],
          "name": "stdout"
        }
      ]
    },
    {
      "cell_type": "code",
      "metadata": {
        "colab": {
          "base_uri": "https://localhost:8080/",
          "height": 282
        },
        "id": "dFIy5J2M3cPn",
        "outputId": "a1334390-62f1-4252-b549-5b8395788fa7"
      },
      "source": [
        "group_names = ['True Neg','False Pos','False Neg','True Pos']\n",
        "group_counts = [\"{0:0.0f}\".format(value) for value in\n",
        "                cmbg.flatten()]\n",
        "group_percentages = [\"{0:.2%}\".format(value) for value in\n",
        "                     cmbg.flatten()/np.sum(cmbg)]\n",
        "labels = [f\"{v1}\\n{v2}\\n{v3}\" for v1, v2, v3 in\n",
        "          zip(group_names,group_counts,group_percentages)]\n",
        "labels = np.asarray(labels).reshape(2,2)\n",
        "sns.heatmap(cmbg, annot=labels, fmt='', cmap='Blues')"
      ],
      "execution_count": null,
      "outputs": [
        {
          "output_type": "execute_result",
          "data": {
            "text/plain": [
              "<matplotlib.axes._subplots.AxesSubplot at 0x7f83b2b28b10>"
            ]
          },
          "metadata": {
            "tags": []
          },
          "execution_count": 214
        },
        {
          "output_type": "display_data",
          "data": {
            "image/png": "[encoded data removed]",
            "text/plain": [
              "<Figure size 432x288 with 2 Axes>"
            ]
          },
          "metadata": {
            "tags": [],
            "needs_background": "light"
          }
        }
      ]
    },
    {
      "cell_type": "code",
      "metadata": {
        "colab": {
          "base_uri": "https://localhost:8080/"
        },
        "id": "Slk6f8O83ix3",
        "outputId": "d636a629-2687-4937-f6ba-ee8ef9b7b2dd"
      },
      "source": [
        "accuracy = cross_val_score(etbag,X,Y, cv=10, scoring='accuracy')\n",
        "print('All Cross Val Accuracy :',accuracy)\n",
        "print('\\nCross Val Accuracy :',accuracy.mean())"
      ],
      "execution_count": null,
      "outputs": [
        {
          "output_type": "stream",
          "text": [
            "All Cross Val Accuracy : [0.86486486 1.         1.         0.97222222 0.91666667 0.94444444\n",
            " 0.88888889 1.         0.97222222 1.        ]\n",
            "\n",
            "Cross Val Accuracy : 0.955930930930931\n"
          ],
          "name": "stdout"
        }
      ]
    },
    {
      "cell_type": "code",
      "metadata": {
        "colab": {
          "base_uri": "https://localhost:8080/"
        },
        "id": "MB8IkudI4sEA",
        "outputId": "9eba2160-55c9-487b-e590-66071fa46992"
      },
      "source": [
        "cvresult(Y,Y_cvpredbget)"
      ],
      "execution_count": null,
      "outputs": [
        {
          "output_type": "stream",
          "text": [
            "Cross Val f1 score :  0.9558011049723757\n",
            "Cross Val Precision :  0.9558011049723757\n",
            "Cross Val recall :  0.9558011049723757\n",
            "Cross Val Classification Report : \n",
            "               precision    recall  f1-score   support\n",
            "\n",
            "           0       0.96      0.96      0.96       181\n",
            "           1       0.96      0.96      0.96       181\n",
            "\n",
            "    accuracy                           0.96       362\n",
            "   macro avg       0.96      0.96      0.96       362\n",
            "weighted avg       0.96      0.96      0.96       362\n",
            "\n"
          ],
          "name": "stdout"
        }
      ]
    },
    {
      "cell_type": "code",
      "metadata": {
        "colab": {
          "base_uri": "https://localhost:8080/"
        },
        "id": "lKbuZDdL41Qm",
        "outputId": "43004b19-d1e3-4ae3-827c-12581352b0d9"
      },
      "source": [
        "result(Y_test,Y_predbget)"
      ],
      "execution_count": null,
      "outputs": [
        {
          "output_type": "stream",
          "text": [
            "Accuracy :  0.978021978021978\n",
            "f1 score :  0.9811320754716981\n",
            "Precision :  1.0\n",
            "recall :  0.9629629629629629\n",
            "Classification Report : \n",
            "               precision    recall  f1-score   support\n",
            "\n",
            "           0       0.95      1.00      0.97        37\n",
            "           1       1.00      0.96      0.98        54\n",
            "\n",
            "    accuracy                           0.98        91\n",
            "   macro avg       0.97      0.98      0.98        91\n",
            "weighted avg       0.98      0.98      0.98        91\n",
            "\n"
          ],
          "name": "stdout"
        }
      ]
    },
    {
      "cell_type": "code",
      "metadata": {
        "colab": {
          "base_uri": "https://localhost:8080/"
        },
        "id": "PxCxOzqM49Fm",
        "outputId": "3068b017-a1c0-4d53-ef12-1d6bb1262a5a"
      },
      "source": [
        "etbg_prob = etbag.predict_proba(X_test)\n",
        "etbg_auc = roc_auc_score(Y_test,etbg_prob[:,1])\n",
        "print('roc-auc score :{}'.format(etbg_auc))"
      ],
      "execution_count": null,
      "outputs": [
        {
          "output_type": "stream",
          "text": [
            "roc-auc score :0.9997497497497497\n"
          ],
          "name": "stdout"
        }
      ]
    },
    {
      "cell_type": "markdown",
      "metadata": {
        "id": "NNIlFowjSMfn"
      },
      "source": [
        "## ROC AUC CURVE  (Bagging)"
      ]
    },
    {
      "cell_type": "code",
      "metadata": {
        "id": "ldbrMqLxSLrA"
      },
      "source": [
        "lrg_fpr,lrg_tpr,_ = roc_curve(Y_test,lrbg_prob[:,1])\n",
        "svmg_fpr,svmg_tpr,_ = roc_curve(Y_test,svmbg_prob[:,1])\n",
        "nbg_fpr,nbg_tpr,_ = roc_curve(Y_test,nbbg_prob[:,1])\n",
        "dtg_fpr,dtg_tpr,_ = roc_curve(Y_test,dtbg_prob[:,1])\n",
        "rfg_fpr,rfg_tpr,_ = roc_curve(Y_test,rfbg_prob[:,1])\n",
        "etg_fpr,etg_tpr,_ = roc_curve(Y_test,etbg_prob[:,1])"
      ],
      "execution_count": null,
      "outputs": []
    },
    {
      "cell_type": "code",
      "metadata": {
        "colab": {
          "base_uri": "https://localhost:8080/",
          "height": 295
        },
        "id": "OqyRghbHT4g6",
        "outputId": "06cc5f9e-b4cf-454e-a1f9-2738c5bd4327"
      },
      "source": [
        "plt.plot(lrg_fpr, lrg_tpr, color = 'red', linestyle='-',label='Logistic Regrassion AUROC = %0.3f'% lrbg_auc)\n",
        "plt.plot(svmg_fpr, svmg_tpr, color = 'green', linestyle='-',label='SVM AUROC = %0.3f'% svmbg_auc)\n",
        "plt.plot(nbg_fpr, nbg_tpr, color = 'orange', linestyle='-',label='Naive Bayes AUROC = %0.3f'% nbbg_auc)\n",
        "plt.plot(dtg_fpr, dtg_tpr, color = 'blue', linestyle='-',label='Decision Tree AUROC = %0.3f'% dtbg_auc)\n",
        "plt.plot(rfg_fpr, rfg_tpr, color = 'cyan', linestyle='-',label='Random Forest AUROC = %0.3f'% rfbg_auc)\n",
        "plt.plot(etg_fpr, etg_tpr, color = 'Coral', linestyle='-',label='Extra Tree AUROC = %0.3f'% etbg_auc)\n",
        "plt.xlabel('False Positive Rate')\n",
        "plt.ylabel('True Positive Rate')\n",
        "plt.title('ROC CURVE (BAGGING)')\n",
        "plt.legend(loc=4, prop={'size': 12})\n",
        "plt.show()"
      ],
      "execution_count": null,
      "outputs": [
        {
          "output_type": "display_data",
          "data": {
            "image/png": "[encoded data removed]",
            "text/plain": [
              "<Figure size 432x288 with 1 Axes>"
            ]
          },
          "metadata": {
            "tags": [],
            "needs_background": "light"
          }
        }
      ]
    }
  ]
}