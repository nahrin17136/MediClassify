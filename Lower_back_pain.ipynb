{
  "nbformat": 4,
  "nbformat_minor": 0,
  "metadata": {
    "colab": {
      "provenance": [],
      "toc_visible": true
    },
    "kernelspec": {
      "name": "python3",
      "display_name": "Python 3"
    },
    "language_info": {
      "name": "python"
    }
  },
  "cells": [
    {
      "cell_type": "code",
      "execution_count": null,
      "metadata": {
        "id": "G6zSE-REh5A3"
      },
      "outputs": [],
      "source": [
        "from google.colab import drive"
      ]
    },
    {
      "cell_type": "code",
      "source": [
        "drive.mount('/content/drive')"
      ],
      "metadata": {
        "colab": {
          "base_uri": "https://localhost:8080/"
        },
        "id": "64aZA7R3idl7",
        "outputId": "29fc637c-c8a6-45ab-c0bd-e2effdd9b309"
      },
      "execution_count": null,
      "outputs": [
        {
          "output_type": "stream",
          "name": "stdout",
          "text": [
            "Drive already mounted at /content/drive; to attempt to forcibly remount, call drive.mount(\"/content/drive\", force_remount=True).\n"
          ]
        }
      ]
    },
    {
      "cell_type": "code",
      "source": [
        "import numpy as np\n",
        "import matplotlib.pyplot as plt\n",
        "import pandas as pd\n",
        "import time\n",
        "import seaborn as sn"
      ],
      "metadata": {
        "id": "xG0e47NMimIM"
      },
      "execution_count": null,
      "outputs": []
    },
    {
      "cell_type": "code",
      "source": [
        "dataset = pd.read_csv('/content/drive/MyDrive/Dataset/datasets/Dataset_back_pain.csv')\n",
        "print('import done')"
      ],
      "metadata": {
        "colab": {
          "base_uri": "https://localhost:8080/"
        },
        "id": "08d9n4LGisZK",
        "outputId": "566a98b6-28fd-4409-b2cb-edd1b0117110"
      },
      "execution_count": null,
      "outputs": [
        {
          "output_type": "stream",
          "name": "stdout",
          "text": [
            "import done\n"
          ]
        }
      ]
    },
    {
      "cell_type": "code",
      "source": [
        "dataset.shape"
      ],
      "metadata": {
        "colab": {
          "base_uri": "https://localhost:8080/"
        },
        "id": "QUPYL9FHi9rD",
        "outputId": "e740d81e-1c88-4cd5-8b08-0fb1c3d57118"
      },
      "execution_count": null,
      "outputs": [
        {
          "output_type": "execute_result",
          "data": {
            "text/plain": [
              "(310, 13)"
            ]
          },
          "metadata": {},
          "execution_count": 150
        }
      ]
    },
    {
      "cell_type": "code",
      "source": [
        "dataset.info()"
      ],
      "metadata": {
        "colab": {
          "base_uri": "https://localhost:8080/"
        },
        "id": "ijyK5-FQjCUK",
        "outputId": "2b30bf00-a8be-44cc-f0b3-31d8a2d60712"
      },
      "execution_count": null,
      "outputs": [
        {
          "output_type": "stream",
          "name": "stdout",
          "text": [
            "<class 'pandas.core.frame.DataFrame'>\n",
            "RangeIndex: 310 entries, 0 to 309\n",
            "Data columns (total 13 columns):\n",
            " #   Column     Non-Null Count  Dtype  \n",
            "---  ------     --------------  -----  \n",
            " 0   Col1       310 non-null    float64\n",
            " 1   Col2       310 non-null    float64\n",
            " 2   Col3       310 non-null    float64\n",
            " 3   Col4       310 non-null    float64\n",
            " 4   Col5       310 non-null    float64\n",
            " 5   Col6       310 non-null    float64\n",
            " 6   Col7       310 non-null    float64\n",
            " 7   Col8       310 non-null    float64\n",
            " 8   Col9       310 non-null    float64\n",
            " 9   Col10      310 non-null    float64\n",
            " 10  Col11      310 non-null    float64\n",
            " 11  Col12      310 non-null    float64\n",
            " 12  Class_att  310 non-null    object \n",
            "dtypes: float64(12), object(1)\n",
            "memory usage: 31.6+ KB\n"
          ]
        }
      ]
    },
    {
      "cell_type": "markdown",
      "metadata": {
        "id": "Em1exKIiDCE7"
      },
      "source": [
        "## Splitting dataset by dependencies"
      ]
    },
    {
      "cell_type": "code",
      "metadata": {
        "id": "rRiQdo3KDZpC"
      },
      "source": [
        "X = dataset.drop(['Class_att'],axis=1)\n",
        "Y = dataset['Class_att']"
      ],
      "execution_count": null,
      "outputs": []
    },
    {
      "cell_type": "markdown",
      "metadata": {
        "id": "RT-KAjWMBVNp"
      },
      "source": [
        "## Finding missing value"
      ]
    },
    {
      "cell_type": "code",
      "metadata": {
        "colab": {
          "base_uri": "https://localhost:8080/"
        },
        "id": "qpr9X4tlBRfh",
        "outputId": "11103f04-64ff-468d-c314-c906e48dd713"
      },
      "source": [
        "dataset_missing = X.isna()\n",
        "dataset_missing.head()"
      ],
      "execution_count": null,
      "outputs": [
        {
          "output_type": "execute_result",
          "data": {
            "text/plain": [
              "    Col1   Col2   Col3   Col4   Col5   Col6   Col7   Col8   Col9  Col10  \\\n",
              "0  False  False  False  False  False  False  False  False  False  False   \n",
              "1  False  False  False  False  False  False  False  False  False  False   \n",
              "2  False  False  False  False  False  False  False  False  False  False   \n",
              "3  False  False  False  False  False  False  False  False  False  False   \n",
              "4  False  False  False  False  False  False  False  False  False  False   \n",
              "\n",
              "   Col11  Col12  \n",
              "0  False  False  \n",
              "1  False  False  \n",
              "2  False  False  \n",
              "3  False  False  \n",
              "4  False  False  "
            ],
            "text/html": [
              "\n",
              "  <div id=\"df-799ca429-e7a2-4e7d-80c7-65c03623c923\">\n",
              "    <div class=\"colab-df-container\">\n",
              "      <div>\n",
              "<style scoped>\n",
              "    .dataframe tbody tr th:only-of-type {\n",
              "        vertical-align: middle;\n",
              "    }\n",
              "\n",
              "    .dataframe tbody tr th {\n",
              "        vertical-align: top;\n",
              "    }\n",
              "\n",
              "    .dataframe thead th {\n",
              "        text-align: right;\n",
              "    }\n",
              "</style>\n",
              "<table border=\"1\" class=\"dataframe\">\n",
              "  <thead>\n",
              "    <tr style=\"text-align: right;\">\n",
              "      <th></th>\n",
              "      <th>Col1</th>\n",
              "      <th>Col2</th>\n",
              "      <th>Col3</th>\n",
              "      <th>Col4</th>\n",
              "      <th>Col5</th>\n",
              "      <th>Col6</th>\n",
              "      <th>Col7</th>\n",
              "      <th>Col8</th>\n",
              "      <th>Col9</th>\n",
              "      <th>Col10</th>\n",
              "      <th>Col11</th>\n",
              "      <th>Col12</th>\n",
              "    </tr>\n",
              "  </thead>\n",
              "  <tbody>\n",
              "    <tr>\n",
              "      <th>0</th>\n",
              "      <td>False</td>\n",
              "      <td>False</td>\n",
              "      <td>False</td>\n",
              "      <td>False</td>\n",
              "      <td>False</td>\n",
              "      <td>False</td>\n",
              "      <td>False</td>\n",
              "      <td>False</td>\n",
              "      <td>False</td>\n",
              "      <td>False</td>\n",
              "      <td>False</td>\n",
              "      <td>False</td>\n",
              "    </tr>\n",
              "    <tr>\n",
              "      <th>1</th>\n",
              "      <td>False</td>\n",
              "      <td>False</td>\n",
              "      <td>False</td>\n",
              "      <td>False</td>\n",
              "      <td>False</td>\n",
              "      <td>False</td>\n",
              "      <td>False</td>\n",
              "      <td>False</td>\n",
              "      <td>False</td>\n",
              "      <td>False</td>\n",
              "      <td>False</td>\n",
              "      <td>False</td>\n",
              "    </tr>\n",
              "    <tr>\n",
              "      <th>2</th>\n",
              "      <td>False</td>\n",
              "      <td>False</td>\n",
              "      <td>False</td>\n",
              "      <td>False</td>\n",
              "      <td>False</td>\n",
              "      <td>False</td>\n",
              "      <td>False</td>\n",
              "      <td>False</td>\n",
              "      <td>False</td>\n",
              "      <td>False</td>\n",
              "      <td>False</td>\n",
              "      <td>False</td>\n",
              "    </tr>\n",
              "    <tr>\n",
              "      <th>3</th>\n",
              "      <td>False</td>\n",
              "      <td>False</td>\n",
              "      <td>False</td>\n",
              "      <td>False</td>\n",
              "      <td>False</td>\n",
              "      <td>False</td>\n",
              "      <td>False</td>\n",
              "      <td>False</td>\n",
              "      <td>False</td>\n",
              "      <td>False</td>\n",
              "      <td>False</td>\n",
              "      <td>False</td>\n",
              "    </tr>\n",
              "    <tr>\n",
              "      <th>4</th>\n",
              "      <td>False</td>\n",
              "      <td>False</td>\n",
              "      <td>False</td>\n",
              "      <td>False</td>\n",
              "      <td>False</td>\n",
              "      <td>False</td>\n",
              "      <td>False</td>\n",
              "      <td>False</td>\n",
              "      <td>False</td>\n",
              "      <td>False</td>\n",
              "      <td>False</td>\n",
              "      <td>False</td>\n",
              "    </tr>\n",
              "  </tbody>\n",
              "</table>\n",
              "</div>\n",
              "      <button class=\"colab-df-convert\" onclick=\"convertToInteractive('df-799ca429-e7a2-4e7d-80c7-65c03623c923')\"\n",
              "              title=\"Convert this dataframe to an interactive table.\"\n",
              "              style=\"display:none;\">\n",
              "        \n",
              "  <svg xmlns=\"http://www.w3.org/2000/svg\" height=\"24px\"viewBox=\"0 0 24 24\"\n",
              "       width=\"24px\">\n",
              "    <path d=\"M0 0h24v24H0V0z\" fill=\"none\"/>\n",
              "    <path d=\"M18.56 5.44l.94 2.06.94-2.06 2.06-.94-2.06-.94-.94-2.06-.94 2.06-2.06.94zm-11 1L8.5 8.5l.94-2.06 2.06-.94-2.06-.94L8.5 2.5l-.94 2.06-2.06.94zm10 10l.94 2.06.94-2.06 2.06-.94-2.06-.94-.94-2.06-.94 2.06-2.06.94z\"/><path d=\"M17.41 7.96l-1.37-1.37c-.4-.4-.92-.59-1.43-.59-.52 0-1.04.2-1.43.59L10.3 9.45l-7.72 7.72c-.78.78-.78 2.05 0 2.83L4 21.41c.39.39.9.59 1.41.59.51 0 1.02-.2 1.41-.59l7.78-7.78 2.81-2.81c.8-.78.8-2.07 0-2.86zM5.41 20L4 18.59l7.72-7.72 1.47 1.35L5.41 20z\"/>\n",
              "  </svg>\n",
              "      </button>\n",
              "      \n",
              "  <style>\n",
              "    .colab-df-container {\n",
              "      display:flex;\n",
              "      flex-wrap:wrap;\n",
              "      gap: 12px;\n",
              "    }\n",
              "\n",
              "    .colab-df-convert {\n",
              "      background-color: #E8F0FE;\n",
              "      border: none;\n",
              "      border-radius: 50%;\n",
              "      cursor: pointer;\n",
              "      display: none;\n",
              "      fill: #1967D2;\n",
              "      height: 32px;\n",
              "      padding: 0 0 0 0;\n",
              "      width: 32px;\n",
              "    }\n",
              "\n",
              "    .colab-df-convert:hover {\n",
              "      background-color: #E2EBFA;\n",
              "      box-shadow: 0px 1px 2px rgba(60, 64, 67, 0.3), 0px 1px 3px 1px rgba(60, 64, 67, 0.15);\n",
              "      fill: #174EA6;\n",
              "    }\n",
              "\n",
              "    [theme=dark] .colab-df-convert {\n",
              "      background-color: #3B4455;\n",
              "      fill: #D2E3FC;\n",
              "    }\n",
              "\n",
              "    [theme=dark] .colab-df-convert:hover {\n",
              "      background-color: #434B5C;\n",
              "      box-shadow: 0px 1px 3px 1px rgba(0, 0, 0, 0.15);\n",
              "      filter: drop-shadow(0px 1px 2px rgba(0, 0, 0, 0.3));\n",
              "      fill: #FFFFFF;\n",
              "    }\n",
              "  </style>\n",
              "\n",
              "      <script>\n",
              "        const buttonEl =\n",
              "          document.querySelector('#df-799ca429-e7a2-4e7d-80c7-65c03623c923 button.colab-df-convert');\n",
              "        buttonEl.style.display =\n",
              "          google.colab.kernel.accessAllowed ? 'block' : 'none';\n",
              "\n",
              "        async function convertToInteractive(key) {\n",
              "          const element = document.querySelector('#df-799ca429-e7a2-4e7d-80c7-65c03623c923');\n",
              "          const dataTable =\n",
              "            await google.colab.kernel.invokeFunction('convertToInteractive',\n",
              "                                                     [key], {});\n",
              "          if (!dataTable) return;\n",
              "\n",
              "          const docLinkHtml = 'Like what you see? Visit the ' +\n",
              "            '<a target=\"_blank\" href=https://colab.research.google.com/notebooks/data_table.ipynb>data table notebook</a>'\n",
              "            + ' to learn more about interactive tables.';\n",
              "          element.innerHTML = '';\n",
              "          dataTable['output_type'] = 'display_data';\n",
              "          await google.colab.output.renderOutput(dataTable, element);\n",
              "          const docLink = document.createElement('div');\n",
              "          docLink.innerHTML = docLinkHtml;\n",
              "          element.appendChild(docLink);\n",
              "        }\n",
              "      </script>\n",
              "    </div>\n",
              "  </div>\n",
              "  "
            ]
          },
          "metadata": {},
          "execution_count": 153
        }
      ]
    },
    {
      "cell_type": "code",
      "metadata": {
        "colab": {
          "base_uri": "https://localhost:8080/"
        },
        "id": "jeh9wD61BZxp",
        "outputId": "fa3936cc-450d-4fa4-8c6a-c6bf970f184b"
      },
      "source": [
        "dataset_missing.dtypes"
      ],
      "execution_count": null,
      "outputs": [
        {
          "output_type": "execute_result",
          "data": {
            "text/plain": [
              "Col1     bool\n",
              "Col2     bool\n",
              "Col3     bool\n",
              "Col4     bool\n",
              "Col5     bool\n",
              "Col6     bool\n",
              "Col7     bool\n",
              "Col8     bool\n",
              "Col9     bool\n",
              "Col10    bool\n",
              "Col11    bool\n",
              "Col12    bool\n",
              "dtype: object"
            ]
          },
          "metadata": {},
          "execution_count": 154
        }
      ]
    },
    {
      "cell_type": "code",
      "metadata": {
        "colab": {
          "base_uri": "https://localhost:8080/"
        },
        "id": "tcpbAChtBfjZ",
        "outputId": "0926ac12-172f-4a56-9fa1-97d9149e7967"
      },
      "source": [
        "dataset_num_missing = dataset_missing.sum()\n",
        "dataset_num_missing"
      ],
      "execution_count": null,
      "outputs": [
        {
          "output_type": "execute_result",
          "data": {
            "text/plain": [
              "Col1     0\n",
              "Col2     0\n",
              "Col3     0\n",
              "Col4     0\n",
              "Col5     0\n",
              "Col6     0\n",
              "Col7     0\n",
              "Col8     0\n",
              "Col9     0\n",
              "Col10    0\n",
              "Col11    0\n",
              "Col12    0\n",
              "dtype: int64"
            ]
          },
          "metadata": {},
          "execution_count": 155
        }
      ]
    },
    {
      "cell_type": "code",
      "metadata": {
        "colab": {
          "base_uri": "https://localhost:8080/"
        },
        "id": "_-wralIBBkKC",
        "outputId": "60cdff12-4c05-4693-8e37-48729662d208"
      },
      "source": [
        "dataset_num_missing / len(dataset)"
      ],
      "execution_count": null,
      "outputs": [
        {
          "output_type": "execute_result",
          "data": {
            "text/plain": [
              "Col1     0.0\n",
              "Col2     0.0\n",
              "Col3     0.0\n",
              "Col4     0.0\n",
              "Col5     0.0\n",
              "Col6     0.0\n",
              "Col7     0.0\n",
              "Col8     0.0\n",
              "Col9     0.0\n",
              "Col10    0.0\n",
              "Col11    0.0\n",
              "Col12    0.0\n",
              "dtype: float64"
            ]
          },
          "metadata": {},
          "execution_count": 156
        }
      ]
    },
    {
      "cell_type": "markdown",
      "metadata": {
        "id": "pOICnsGJBuwJ"
      },
      "source": [
        "## Impute missing value By KNN"
      ]
    },
    {
      "cell_type": "code",
      "metadata": {
        "id": "3JXx4j5mBvop"
      },
      "source": [
        "from sklearn.impute import KNNImputer\n",
        "knnimp = KNNImputer(n_neighbors = 5)"
      ],
      "execution_count": null,
      "outputs": []
    },
    {
      "cell_type": "code",
      "metadata": {
        "id": "K-4uwjPtB1ex"
      },
      "source": [
        "num = [col for col in X.columns if dataset[col].dtypes != 'O']"
      ],
      "execution_count": null,
      "outputs": []
    },
    {
      "cell_type": "code",
      "metadata": {
        "colab": {
          "base_uri": "https://localhost:8080/"
        },
        "id": "AI0QPYurB_m6",
        "outputId": "5b72d133-2a5b-45b6-f781-59c1d707de2d"
      },
      "source": [
        "X[num].head()"
      ],
      "execution_count": null,
      "outputs": [
        {
          "output_type": "execute_result",
          "data": {
            "text/plain": [
              "        Col1       Col2       Col3       Col4        Col5       Col6  \\\n",
              "0  63.027817  22.552586  39.609117  40.475232   98.672917  -0.254400   \n",
              "1  39.056951  10.060991  25.015378  28.995960  114.405425   4.564259   \n",
              "2  68.832021  22.218482  50.092194  46.613539  105.985135  -3.530317   \n",
              "3  69.297008  24.652878  44.311238  44.644130  101.868495  11.211523   \n",
              "4  49.712859   9.652075  28.317406  40.060784  108.168725   7.918501   \n",
              "\n",
              "       Col7     Col8     Col9     Col10      Col11    Col12  \n",
              "0  0.744503  12.5661  14.5386  15.30468 -28.658501  43.5123  \n",
              "1  0.415186  12.8874  17.5323  16.78486 -25.530607  16.1102  \n",
              "2  0.474889  26.8343  17.4861  16.65897 -29.031888  19.2221  \n",
              "3  0.369345  23.5603  12.7074  11.42447 -30.470246  18.8329  \n",
              "4  0.543360  35.4940  15.9546   8.87237 -16.378376  24.9171  "
            ],
            "text/html": [
              "\n",
              "  <div id=\"df-3bcb3501-d424-411d-9bde-20814c248236\">\n",
              "    <div class=\"colab-df-container\">\n",
              "      <div>\n",
              "<style scoped>\n",
              "    .dataframe tbody tr th:only-of-type {\n",
              "        vertical-align: middle;\n",
              "    }\n",
              "\n",
              "    .dataframe tbody tr th {\n",
              "        vertical-align: top;\n",
              "    }\n",
              "\n",
              "    .dataframe thead th {\n",
              "        text-align: right;\n",
              "    }\n",
              "</style>\n",
              "<table border=\"1\" class=\"dataframe\">\n",
              "  <thead>\n",
              "    <tr style=\"text-align: right;\">\n",
              "      <th></th>\n",
              "      <th>Col1</th>\n",
              "      <th>Col2</th>\n",
              "      <th>Col3</th>\n",
              "      <th>Col4</th>\n",
              "      <th>Col5</th>\n",
              "      <th>Col6</th>\n",
              "      <th>Col7</th>\n",
              "      <th>Col8</th>\n",
              "      <th>Col9</th>\n",
              "      <th>Col10</th>\n",
              "      <th>Col11</th>\n",
              "      <th>Col12</th>\n",
              "    </tr>\n",
              "  </thead>\n",
              "  <tbody>\n",
              "    <tr>\n",
              "      <th>0</th>\n",
              "      <td>63.027817</td>\n",
              "      <td>22.552586</td>\n",
              "      <td>39.609117</td>\n",
              "      <td>40.475232</td>\n",
              "      <td>98.672917</td>\n",
              "      <td>-0.254400</td>\n",
              "      <td>0.744503</td>\n",
              "      <td>12.5661</td>\n",
              "      <td>14.5386</td>\n",
              "      <td>15.30468</td>\n",
              "      <td>-28.658501</td>\n",
              "      <td>43.5123</td>\n",
              "    </tr>\n",
              "    <tr>\n",
              "      <th>1</th>\n",
              "      <td>39.056951</td>\n",
              "      <td>10.060991</td>\n",
              "      <td>25.015378</td>\n",
              "      <td>28.995960</td>\n",
              "      <td>114.405425</td>\n",
              "      <td>4.564259</td>\n",
              "      <td>0.415186</td>\n",
              "      <td>12.8874</td>\n",
              "      <td>17.5323</td>\n",
              "      <td>16.78486</td>\n",
              "      <td>-25.530607</td>\n",
              "      <td>16.1102</td>\n",
              "    </tr>\n",
              "    <tr>\n",
              "      <th>2</th>\n",
              "      <td>68.832021</td>\n",
              "      <td>22.218482</td>\n",
              "      <td>50.092194</td>\n",
              "      <td>46.613539</td>\n",
              "      <td>105.985135</td>\n",
              "      <td>-3.530317</td>\n",
              "      <td>0.474889</td>\n",
              "      <td>26.8343</td>\n",
              "      <td>17.4861</td>\n",
              "      <td>16.65897</td>\n",
              "      <td>-29.031888</td>\n",
              "      <td>19.2221</td>\n",
              "    </tr>\n",
              "    <tr>\n",
              "      <th>3</th>\n",
              "      <td>69.297008</td>\n",
              "      <td>24.652878</td>\n",
              "      <td>44.311238</td>\n",
              "      <td>44.644130</td>\n",
              "      <td>101.868495</td>\n",
              "      <td>11.211523</td>\n",
              "      <td>0.369345</td>\n",
              "      <td>23.5603</td>\n",
              "      <td>12.7074</td>\n",
              "      <td>11.42447</td>\n",
              "      <td>-30.470246</td>\n",
              "      <td>18.8329</td>\n",
              "    </tr>\n",
              "    <tr>\n",
              "      <th>4</th>\n",
              "      <td>49.712859</td>\n",
              "      <td>9.652075</td>\n",
              "      <td>28.317406</td>\n",
              "      <td>40.060784</td>\n",
              "      <td>108.168725</td>\n",
              "      <td>7.918501</td>\n",
              "      <td>0.543360</td>\n",
              "      <td>35.4940</td>\n",
              "      <td>15.9546</td>\n",
              "      <td>8.87237</td>\n",
              "      <td>-16.378376</td>\n",
              "      <td>24.9171</td>\n",
              "    </tr>\n",
              "  </tbody>\n",
              "</table>\n",
              "</div>\n",
              "      <button class=\"colab-df-convert\" onclick=\"convertToInteractive('df-3bcb3501-d424-411d-9bde-20814c248236')\"\n",
              "              title=\"Convert this dataframe to an interactive table.\"\n",
              "              style=\"display:none;\">\n",
              "        \n",
              "  <svg xmlns=\"http://www.w3.org/2000/svg\" height=\"24px\"viewBox=\"0 0 24 24\"\n",
              "       width=\"24px\">\n",
              "    <path d=\"M0 0h24v24H0V0z\" fill=\"none\"/>\n",
              "    <path d=\"M18.56 5.44l.94 2.06.94-2.06 2.06-.94-2.06-.94-.94-2.06-.94 2.06-2.06.94zm-11 1L8.5 8.5l.94-2.06 2.06-.94-2.06-.94L8.5 2.5l-.94 2.06-2.06.94zm10 10l.94 2.06.94-2.06 2.06-.94-2.06-.94-.94-2.06-.94 2.06-2.06.94z\"/><path d=\"M17.41 7.96l-1.37-1.37c-.4-.4-.92-.59-1.43-.59-.52 0-1.04.2-1.43.59L10.3 9.45l-7.72 7.72c-.78.78-.78 2.05 0 2.83L4 21.41c.39.39.9.59 1.41.59.51 0 1.02-.2 1.41-.59l7.78-7.78 2.81-2.81c.8-.78.8-2.07 0-2.86zM5.41 20L4 18.59l7.72-7.72 1.47 1.35L5.41 20z\"/>\n",
              "  </svg>\n",
              "      </button>\n",
              "      \n",
              "  <style>\n",
              "    .colab-df-container {\n",
              "      display:flex;\n",
              "      flex-wrap:wrap;\n",
              "      gap: 12px;\n",
              "    }\n",
              "\n",
              "    .colab-df-convert {\n",
              "      background-color: #E8F0FE;\n",
              "      border: none;\n",
              "      border-radius: 50%;\n",
              "      cursor: pointer;\n",
              "      display: none;\n",
              "      fill: #1967D2;\n",
              "      height: 32px;\n",
              "      padding: 0 0 0 0;\n",
              "      width: 32px;\n",
              "    }\n",
              "\n",
              "    .colab-df-convert:hover {\n",
              "      background-color: #E2EBFA;\n",
              "      box-shadow: 0px 1px 2px rgba(60, 64, 67, 0.3), 0px 1px 3px 1px rgba(60, 64, 67, 0.15);\n",
              "      fill: #174EA6;\n",
              "    }\n",
              "\n",
              "    [theme=dark] .colab-df-convert {\n",
              "      background-color: #3B4455;\n",
              "      fill: #D2E3FC;\n",
              "    }\n",
              "\n",
              "    [theme=dark] .colab-df-convert:hover {\n",
              "      background-color: #434B5C;\n",
              "      box-shadow: 0px 1px 3px 1px rgba(0, 0, 0, 0.15);\n",
              "      filter: drop-shadow(0px 1px 2px rgba(0, 0, 0, 0.3));\n",
              "      fill: #FFFFFF;\n",
              "    }\n",
              "  </style>\n",
              "\n",
              "      <script>\n",
              "        const buttonEl =\n",
              "          document.querySelector('#df-3bcb3501-d424-411d-9bde-20814c248236 button.colab-df-convert');\n",
              "        buttonEl.style.display =\n",
              "          google.colab.kernel.accessAllowed ? 'block' : 'none';\n",
              "\n",
              "        async function convertToInteractive(key) {\n",
              "          const element = document.querySelector('#df-3bcb3501-d424-411d-9bde-20814c248236');\n",
              "          const dataTable =\n",
              "            await google.colab.kernel.invokeFunction('convertToInteractive',\n",
              "                                                     [key], {});\n",
              "          if (!dataTable) return;\n",
              "\n",
              "          const docLinkHtml = 'Like what you see? Visit the ' +\n",
              "            '<a target=\"_blank\" href=https://colab.research.google.com/notebooks/data_table.ipynb>data table notebook</a>'\n",
              "            + ' to learn more about interactive tables.';\n",
              "          element.innerHTML = '';\n",
              "          dataTable['output_type'] = 'display_data';\n",
              "          await google.colab.output.renderOutput(dataTable, element);\n",
              "          const docLink = document.createElement('div');\n",
              "          docLink.innerHTML = docLinkHtml;\n",
              "          element.appendChild(docLink);\n",
              "        }\n",
              "      </script>\n",
              "    </div>\n",
              "  </div>\n",
              "  "
            ]
          },
          "metadata": {},
          "execution_count": 159
        }
      ]
    },
    {
      "cell_type": "code",
      "metadata": {
        "colab": {
          "base_uri": "https://localhost:8080/"
        },
        "id": "EmZek7YZCBuh",
        "outputId": "6223ecfe-6f22-4f14-ee4f-e667817f6cbd"
      },
      "source": [
        "knnimp.fit(X[num])"
      ],
      "execution_count": null,
      "outputs": [
        {
          "output_type": "execute_result",
          "data": {
            "text/plain": [
              "KNNImputer()"
            ]
          },
          "metadata": {},
          "execution_count": 160
        }
      ]
    },
    {
      "cell_type": "code",
      "metadata": {
        "id": "Ed1XozudCNqz"
      },
      "source": [
        "X[num]  = knnimp.transform(X[num])"
      ],
      "execution_count": null,
      "outputs": []
    },
    {
      "cell_type": "code",
      "metadata": {
        "colab": {
          "base_uri": "https://localhost:8080/"
        },
        "id": "h_uYHGPECVka",
        "outputId": "9075e842-7645-41c1-da0e-f0d7abb33967"
      },
      "source": [
        "X.isna().sum()"
      ],
      "execution_count": null,
      "outputs": [
        {
          "output_type": "execute_result",
          "data": {
            "text/plain": [
              "Col1     0\n",
              "Col2     0\n",
              "Col3     0\n",
              "Col4     0\n",
              "Col5     0\n",
              "Col6     0\n",
              "Col7     0\n",
              "Col8     0\n",
              "Col9     0\n",
              "Col10    0\n",
              "Col11    0\n",
              "Col12    0\n",
              "dtype: int64"
            ]
          },
          "metadata": {},
          "execution_count": 162
        }
      ]
    },
    {
      "cell_type": "markdown",
      "metadata": {
        "id": "8XxtY6QTGJNZ"
      },
      "source": [
        "## Feature Encoding"
      ]
    },
    {
      "cell_type": "code",
      "metadata": {
        "id": "GXytoCDaGIWq"
      },
      "source": [
        "from sklearn.preprocessing import LabelEncoder\n",
        "le = LabelEncoder()"
      ],
      "execution_count": null,
      "outputs": []
    },
    {
      "cell_type": "code",
      "metadata": {
        "colab": {
          "base_uri": "https://localhost:8080/"
        },
        "id": "L0fvF2-UGq8Z",
        "outputId": "37ae28da-b68e-45d7-c75c-0581f5dd2560"
      },
      "source": [
        "le.fit(Y)"
      ],
      "execution_count": null,
      "outputs": [
        {
          "output_type": "execute_result",
          "data": {
            "text/plain": [
              "LabelEncoder()"
            ]
          },
          "metadata": {},
          "execution_count": 164
        }
      ]
    },
    {
      "cell_type": "code",
      "metadata": {
        "colab": {
          "base_uri": "https://localhost:8080/"
        },
        "id": "ak5lI-5BJuIg",
        "outputId": "d82f1a3d-8aab-46b2-93e2-97cd0ac04c17"
      },
      "source": [
        "le.classes_"
      ],
      "execution_count": null,
      "outputs": [
        {
          "output_type": "execute_result",
          "data": {
            "text/plain": [
              "array(['Abnormal', 'Normal'], dtype=object)"
            ]
          },
          "metadata": {},
          "execution_count": 165
        }
      ]
    },
    {
      "cell_type": "code",
      "metadata": {
        "id": "PrxdCjJeJ32Z"
      },
      "source": [
        "Y = le.transform(Y)"
      ],
      "execution_count": null,
      "outputs": []
    },
    {
      "cell_type": "code",
      "metadata": {
        "colab": {
          "base_uri": "https://localhost:8080/"
        },
        "id": "yNtHNPkIJ9Ag",
        "outputId": "dc96498a-438d-4dca-d107-d822b2961480"
      },
      "source": [
        "obj = [col for col in X.columns if dataset[col].dtypes == 'O']\n",
        "X[obj]"
      ],
      "execution_count": null,
      "outputs": [
        {
          "output_type": "execute_result",
          "data": {
            "text/plain": [
              "Empty DataFrame\n",
              "Columns: []\n",
              "Index: [0, 1, 2, 3, 4, 5, 6, 7, 8, 9, 10, 11, 12, 13, 14, 15, 16, 17, 18, 19, 20, 21, 22, 23, 24, 25, 26, 27, 28, 29, 30, 31, 32, 33, 34, 35, 36, 37, 38, 39, 40, 41, 42, 43, 44, 45, 46, 47, 48, 49, 50, 51, 52, 53, 54, 55, 56, 57, 58, 59, 60, 61, 62, 63, 64, 65, 66, 67, 68, 69, 70, 71, 72, 73, 74, 75, 76, 77, 78, 79, 80, 81, 82, 83, 84, 85, 86, 87, 88, 89, 90, 91, 92, 93, 94, 95, 96, 97, 98, 99, ...]\n",
              "\n",
              "[310 rows x 0 columns]"
            ],
            "text/html": [
              "\n",
              "  <div id=\"df-5baa3cb6-ee54-4305-bc7a-27069987b102\">\n",
              "    <div class=\"colab-df-container\">\n",
              "      <div>\n",
              "<style scoped>\n",
              "    .dataframe tbody tr th:only-of-type {\n",
              "        vertical-align: middle;\n",
              "    }\n",
              "\n",
              "    .dataframe tbody tr th {\n",
              "        vertical-align: top;\n",
              "    }\n",
              "\n",
              "    .dataframe thead th {\n",
              "        text-align: right;\n",
              "    }\n",
              "</style>\n",
              "<table border=\"1\" class=\"dataframe\">\n",
              "  <thead>\n",
              "    <tr style=\"text-align: right;\">\n",
              "      <th></th>\n",
              "    </tr>\n",
              "  </thead>\n",
              "  <tbody>\n",
              "    <tr>\n",
              "      <th>0</th>\n",
              "    </tr>\n",
              "    <tr>\n",
              "      <th>1</th>\n",
              "    </tr>\n",
              "    <tr>\n",
              "      <th>2</th>\n",
              "    </tr>\n",
              "    <tr>\n",
              "      <th>3</th>\n",
              "    </tr>\n",
              "    <tr>\n",
              "      <th>4</th>\n",
              "    </tr>\n",
              "    <tr>\n",
              "      <th>...</th>\n",
              "    </tr>\n",
              "    <tr>\n",
              "      <th>305</th>\n",
              "    </tr>\n",
              "    <tr>\n",
              "      <th>306</th>\n",
              "    </tr>\n",
              "    <tr>\n",
              "      <th>307</th>\n",
              "    </tr>\n",
              "    <tr>\n",
              "      <th>308</th>\n",
              "    </tr>\n",
              "    <tr>\n",
              "      <th>309</th>\n",
              "    </tr>\n",
              "  </tbody>\n",
              "</table>\n",
              "<p>310 rows × 0 columns</p>\n",
              "</div>\n",
              "      <button class=\"colab-df-convert\" onclick=\"convertToInteractive('df-5baa3cb6-ee54-4305-bc7a-27069987b102')\"\n",
              "              title=\"Convert this dataframe to an interactive table.\"\n",
              "              style=\"display:none;\">\n",
              "        \n",
              "  <svg xmlns=\"http://www.w3.org/2000/svg\" height=\"24px\"viewBox=\"0 0 24 24\"\n",
              "       width=\"24px\">\n",
              "    <path d=\"M0 0h24v24H0V0z\" fill=\"none\"/>\n",
              "    <path d=\"M18.56 5.44l.94 2.06.94-2.06 2.06-.94-2.06-.94-.94-2.06-.94 2.06-2.06.94zm-11 1L8.5 8.5l.94-2.06 2.06-.94-2.06-.94L8.5 2.5l-.94 2.06-2.06.94zm10 10l.94 2.06.94-2.06 2.06-.94-2.06-.94-.94-2.06-.94 2.06-2.06.94z\"/><path d=\"M17.41 7.96l-1.37-1.37c-.4-.4-.92-.59-1.43-.59-.52 0-1.04.2-1.43.59L10.3 9.45l-7.72 7.72c-.78.78-.78 2.05 0 2.83L4 21.41c.39.39.9.59 1.41.59.51 0 1.02-.2 1.41-.59l7.78-7.78 2.81-2.81c.8-.78.8-2.07 0-2.86zM5.41 20L4 18.59l7.72-7.72 1.47 1.35L5.41 20z\"/>\n",
              "  </svg>\n",
              "      </button>\n",
              "      \n",
              "  <style>\n",
              "    .colab-df-container {\n",
              "      display:flex;\n",
              "      flex-wrap:wrap;\n",
              "      gap: 12px;\n",
              "    }\n",
              "\n",
              "    .colab-df-convert {\n",
              "      background-color: #E8F0FE;\n",
              "      border: none;\n",
              "      border-radius: 50%;\n",
              "      cursor: pointer;\n",
              "      display: none;\n",
              "      fill: #1967D2;\n",
              "      height: 32px;\n",
              "      padding: 0 0 0 0;\n",
              "      width: 32px;\n",
              "    }\n",
              "\n",
              "    .colab-df-convert:hover {\n",
              "      background-color: #E2EBFA;\n",
              "      box-shadow: 0px 1px 2px rgba(60, 64, 67, 0.3), 0px 1px 3px 1px rgba(60, 64, 67, 0.15);\n",
              "      fill: #174EA6;\n",
              "    }\n",
              "\n",
              "    [theme=dark] .colab-df-convert {\n",
              "      background-color: #3B4455;\n",
              "      fill: #D2E3FC;\n",
              "    }\n",
              "\n",
              "    [theme=dark] .colab-df-convert:hover {\n",
              "      background-color: #434B5C;\n",
              "      box-shadow: 0px 1px 3px 1px rgba(0, 0, 0, 0.15);\n",
              "      filter: drop-shadow(0px 1px 2px rgba(0, 0, 0, 0.3));\n",
              "      fill: #FFFFFF;\n",
              "    }\n",
              "  </style>\n",
              "\n",
              "      <script>\n",
              "        const buttonEl =\n",
              "          document.querySelector('#df-5baa3cb6-ee54-4305-bc7a-27069987b102 button.colab-df-convert');\n",
              "        buttonEl.style.display =\n",
              "          google.colab.kernel.accessAllowed ? 'block' : 'none';\n",
              "\n",
              "        async function convertToInteractive(key) {\n",
              "          const element = document.querySelector('#df-5baa3cb6-ee54-4305-bc7a-27069987b102');\n",
              "          const dataTable =\n",
              "            await google.colab.kernel.invokeFunction('convertToInteractive',\n",
              "                                                     [key], {});\n",
              "          if (!dataTable) return;\n",
              "\n",
              "          const docLinkHtml = 'Like what you see? Visit the ' +\n",
              "            '<a target=\"_blank\" href=https://colab.research.google.com/notebooks/data_table.ipynb>data table notebook</a>'\n",
              "            + ' to learn more about interactive tables.';\n",
              "          element.innerHTML = '';\n",
              "          dataTable['output_type'] = 'display_data';\n",
              "          await google.colab.output.renderOutput(dataTable, element);\n",
              "          const docLink = document.createElement('div');\n",
              "          docLink.innerHTML = docLinkHtml;\n",
              "          element.appendChild(docLink);\n",
              "        }\n",
              "      </script>\n",
              "    </div>\n",
              "  </div>\n",
              "  "
            ]
          },
          "metadata": {},
          "execution_count": 167
        }
      ]
    },
    {
      "cell_type": "code",
      "metadata": {
        "colab": {
          "base_uri": "https://localhost:8080/"
        },
        "id": "fPwDeWKvMfqg",
        "outputId": "a6965f5f-c3c0-483a-e54b-250822691292"
      },
      "source": [
        "Y"
      ],
      "execution_count": null,
      "outputs": [
        {
          "output_type": "execute_result",
          "data": {
            "text/plain": [
              "array([0, 0, 0, 0, 0, 0, 0, 0, 0, 0, 0, 0, 0, 0, 0, 0, 0, 0, 0, 0, 0, 0,\n",
              "       0, 0, 0, 0, 0, 0, 0, 0, 0, 0, 0, 0, 0, 0, 0, 0, 0, 0, 0, 0, 0, 0,\n",
              "       0, 0, 0, 0, 0, 0, 0, 0, 0, 0, 0, 0, 0, 0, 0, 0, 0, 0, 0, 0, 0, 0,\n",
              "       0, 0, 0, 0, 0, 0, 0, 0, 0, 0, 0, 0, 0, 0, 0, 0, 0, 0, 0, 0, 0, 0,\n",
              "       0, 0, 0, 0, 0, 0, 0, 0, 0, 0, 0, 0, 0, 0, 0, 0, 0, 0, 0, 0, 0, 0,\n",
              "       0, 0, 0, 0, 0, 0, 0, 0, 0, 0, 0, 0, 0, 0, 0, 0, 0, 0, 0, 0, 0, 0,\n",
              "       0, 0, 0, 0, 0, 0, 0, 0, 0, 0, 0, 0, 0, 0, 0, 0, 0, 0, 0, 0, 0, 0,\n",
              "       0, 0, 0, 0, 0, 0, 0, 0, 0, 0, 0, 0, 0, 0, 0, 0, 0, 0, 0, 0, 0, 0,\n",
              "       0, 0, 0, 0, 0, 0, 0, 0, 0, 0, 0, 0, 0, 0, 0, 0, 0, 0, 0, 0, 0, 0,\n",
              "       0, 0, 0, 0, 0, 0, 0, 0, 0, 0, 0, 0, 1, 1, 1, 1, 1, 1, 1, 1, 1, 1,\n",
              "       1, 1, 1, 1, 1, 1, 1, 1, 1, 1, 1, 1, 1, 1, 1, 1, 1, 1, 1, 1, 1, 1,\n",
              "       1, 1, 1, 1, 1, 1, 1, 1, 1, 1, 1, 1, 1, 1, 1, 1, 1, 1, 1, 1, 1, 1,\n",
              "       1, 1, 1, 1, 1, 1, 1, 1, 1, 1, 1, 1, 1, 1, 1, 1, 1, 1, 1, 1, 1, 1,\n",
              "       1, 1, 1, 1, 1, 1, 1, 1, 1, 1, 1, 1, 1, 1, 1, 1, 1, 1, 1, 1, 1, 1,\n",
              "       1, 1])"
            ]
          },
          "metadata": {},
          "execution_count": 168
        }
      ]
    },
    {
      "cell_type": "markdown",
      "metadata": {
        "id": "pEUPQ9bsLkzy"
      },
      "source": [
        "## Feature transformation or Scalling"
      ]
    },
    {
      "cell_type": "code",
      "metadata": {
        "id": "6rJBcvXhLwm6"
      },
      "source": [
        "from sklearn.preprocessing import StandardScaler\n",
        "sc = StandardScaler()\n",
        "X = sc.fit_transform(X)"
      ],
      "execution_count": null,
      "outputs": []
    },
    {
      "cell_type": "code",
      "metadata": {
        "colab": {
          "base_uri": "https://localhost:8080/"
        },
        "id": "PYGwNjBSLFYn",
        "outputId": "74392c04-1d7b-49de-9943-4b41251c1b51"
      },
      "source": [
        "X"
      ],
      "execution_count": null,
      "outputs": [
        {
          "output_type": "execute_result",
          "data": {
            "text/plain": [
              "array([[ 0.14708636,  0.50136873, -0.6651769 , ...,  1.1671291 ,\n",
              "        -1.19658726,  1.71236843],\n",
              "       [-1.24586434, -0.74876898, -1.45300075, ...,  1.67955123,\n",
              "        -0.94032533, -0.91394145],\n",
              "       [ 0.4843695 ,  0.46793218, -0.09926175, ...,  1.63596949,\n",
              "        -1.22717809, -0.61568643],\n",
              "       ...,\n",
              "       [ 0.05520137,  0.51561812, -0.31097748, ..., -1.05158278,\n",
              "         1.44337397, -0.69303204],\n",
              "       [-0.88582307, -0.88565951, -0.55861259, ..., -0.75264852,\n",
              "         1.62384854,  0.77376463],\n",
              "       [-1.54892681, -1.24785954, -0.82539423, ...,  0.62174631,\n",
              "         1.29742294,  1.43371339]])"
            ]
          },
          "metadata": {},
          "execution_count": 170
        }
      ]
    },
    {
      "cell_type": "markdown",
      "metadata": {
        "id": "UeJuukU5MFNo"
      },
      "source": [
        "## Handling Imbalanced Dataset"
      ]
    },
    {
      "cell_type": "code",
      "metadata": {
        "colab": {
          "base_uri": "https://localhost:8080/"
        },
        "id": "R-LScV4sMyhb",
        "outputId": "d20a6b1c-ed43-4058-a0ff-501fd730e63b"
      },
      "source": [
        "count_classes = pd.value_counts(dataset['Class_att'])\n",
        "count_classes.plot(kind = 'bar', rot = 0)\n",
        "plt.title(\"Rating\")\n",
        "plt.xticks(range(3))\n",
        "plt.xlabel(\"Group\")\n",
        "plt.ylabel(\"No of patients\")"
      ],
      "execution_count": null,
      "outputs": [
        {
          "output_type": "execute_result",
          "data": {
            "text/plain": [
              "Text(0, 0.5, 'No of patients')"
            ]
          },
          "metadata": {},
          "execution_count": 171
        },
        {
          "output_type": "display_data",
          "data": {
            "text/plain": [
              "<Figure size 432x288 with 1 Axes>"
            ],
            "image/png": "[encoded data removed]"
          },
          "metadata": {
            "needs_background": "light"
          }
        }
      ]
    },
    {
      "cell_type": "code",
      "metadata": {
        "id": "7HvoNLzSfAj6"
      },
      "source": [
        "nondemented = Y[Y== 1]\n",
        "demented = Y[Y== 0]"
      ],
      "execution_count": null,
      "outputs": []
    },
    {
      "cell_type": "code",
      "metadata": {
        "colab": {
          "base_uri": "https://localhost:8080/"
        },
        "id": "HXVIqwd-fsRF",
        "outputId": "3225f002-f751-477f-86af-f2fb705661f1"
      },
      "source": [
        "print(nondemented.shape, demented.shape)"
      ],
      "execution_count": null,
      "outputs": [
        {
          "output_type": "stream",
          "name": "stdout",
          "text": [
            "(100,) (210,)\n"
          ]
        }
      ]
    },
    {
      "cell_type": "markdown",
      "metadata": {
        "id": "WEO7Z8rInA_z"
      },
      "source": [
        "## SMOTE Sampling"
      ]
    },
    {
      "cell_type": "code",
      "metadata": {
        "id": "7T3enV_ilkPy"
      },
      "source": [
        "from imblearn.combine import SMOTETomek\n",
        "smk = SMOTETomek(random_state = 10)"
      ],
      "execution_count": null,
      "outputs": []
    },
    {
      "cell_type": "code",
      "metadata": {
        "id": "Js_g5PHCmE-B"
      },
      "source": [
        "X,Y = smk.fit_resample(X,Y)"
      ],
      "execution_count": null,
      "outputs": []
    },
    {
      "cell_type": "code",
      "metadata": {
        "colab": {
          "base_uri": "https://localhost:8080/"
        },
        "id": "1lN86_bUmZrU",
        "outputId": "1d00c2c1-1765-414c-a987-4d221e26f0ad"
      },
      "source": [
        "X.shape,Y.shape"
      ],
      "execution_count": null,
      "outputs": [
        {
          "output_type": "execute_result",
          "data": {
            "text/plain": [
              "((412, 12), (412,))"
            ]
          },
          "metadata": {},
          "execution_count": 176
        }
      ]
    },
    {
      "cell_type": "markdown",
      "metadata": {
        "id": "CjTxCoHPu-40"
      },
      "source": [
        "## Feature Correlation and Dimension Reduction(LDA)"
      ]
    },
    {
      "cell_type": "code",
      "metadata": {
        "id": "kdLRSW5evDHx"
      },
      "source": [
        "from sklearn.preprocessing import Normalizer\n",
        "X = Normalizer().fit_transform(X)\n",
        "X = pd.DataFrame(X)"
      ],
      "execution_count": null,
      "outputs": []
    },
    {
      "cell_type": "code",
      "metadata": {
        "colab": {
          "base_uri": "https://localhost:8080/",
          "height": 378
        },
        "id": "q-MJ5-B6vIwa",
        "outputId": "7c7f60ea-beca-433d-9a28-8aecbe72671c"
      },
      "source": [
        "import seaborn as sns\n",
        "plt.figure(figsize=(10,6))\n",
        "cor = X.corr()\n",
        "sns.heatmap(cor, annot=True, cmap=plt.cm.CMRmap_r)\n",
        "plt.show()"
      ],
      "execution_count": null,
      "outputs": [
        {
          "output_type": "display_data",
          "data": {
            "text/plain": [
              "<Figure size 720x432 with 2 Axes>"
            ],
            "image/png": "[encoded data removed]"
          },
          "metadata": {
            "needs_background": "light"
          }
        }
      ]
    },
    {
      "cell_type": "code",
      "metadata": {
        "id": "GXJgNZJ8vk2z"
      },
      "source": [
        "from sklearn.discriminant_analysis import LinearDiscriminantAnalysis as LDA\n",
        "lda = LDA(n_components =-1 )\n",
        "X = lda.fit_transform(X,Y)"
      ],
      "execution_count": null,
      "outputs": []
    },
    {
      "cell_type": "markdown",
      "metadata": {
        "id": "8K-NEd05dooA"
      },
      "source": [
        "## Splitting dataset into training set and test set"
      ]
    },
    {
      "cell_type": "code",
      "metadata": {
        "id": "V8NmruLHMBfY"
      },
      "source": [
        "from sklearn.model_selection import train_test_split\n",
        "X_train, X_test, Y_train,Y_test = train_test_split(X, Y, test_size = 0.25, random_state = 0)"
      ],
      "execution_count": null,
      "outputs": []
    },
    {
      "cell_type": "markdown",
      "metadata": {
        "id": "wVLVrQUYok0o"
      },
      "source": [
        "## Import libraries and Function"
      ]
    },
    {
      "cell_type": "code",
      "metadata": {
        "id": "roZtSUTmooF4"
      },
      "source": [
        "from sklearn.metrics import roc_curve\n",
        "from sklearn.metrics import roc_auc_score\n",
        "from sklearn.model_selection import cross_val_score\n",
        "from sklearn.model_selection import cross_val_predict\n",
        "from sklearn.metrics import accuracy_score\n",
        "from sklearn.metrics import confusion_matrix\n",
        "from sklearn.metrics import f1_score\n",
        "from sklearn.metrics import precision_score\n",
        "from sklearn.metrics import classification_report\n",
        "from sklearn.metrics import recall_score\n",
        "import seaborn as sns"
      ],
      "execution_count": null,
      "outputs": []
    },
    {
      "cell_type": "code",
      "metadata": {
        "id": "7NuMsNswewLt"
      },
      "source": [
        "def cvresult(y,pred):\n",
        "  print('Cross Val f1 score : ',f1_score(y,pred))\n",
        "  print('Cross Val Precision : ',precision_score(y,pred))\n",
        "  print('Cross Val recall : ',recall_score(y,pred))\n",
        "  print('Cross Val Classification Report : \\n',classification_report(y,pred))"
      ],
      "execution_count": null,
      "outputs": []
    },
    {
      "cell_type": "code",
      "metadata": {
        "id": "dzBctz9myUwD"
      },
      "source": [
        "def result(y,p):\n",
        "  print('Accuracy : ',accuracy_score(y,p))\n",
        "  print('f1 score : ',f1_score(y,p))\n",
        "  print('Precision : ',precision_score(y,p))\n",
        "  print('recall : ',recall_score(y,p))\n",
        "  print('Classification Report : \\n',classification_report(y,p))"
      ],
      "execution_count": null,
      "outputs": []
    },
    {
      "cell_type": "code",
      "metadata": {
        "id": "GTdf2dBRd56Y"
      },
      "source": [
        "from sklearn.model_selection import cross_val_predict\n",
        "from sklearn.metrics import classification_report"
      ],
      "execution_count": null,
      "outputs": []
    },
    {
      "cell_type": "markdown",
      "metadata": {
        "id": "j7DbeuRRqa6_"
      },
      "source": [
        "## K-Fold Validation Import"
      ]
    },
    {
      "cell_type": "code",
      "metadata": {
        "id": "jiekc7NwqaCS"
      },
      "source": [
        "from sklearn.model_selection import cross_val_score"
      ],
      "execution_count": null,
      "outputs": []
    },
    {
      "cell_type": "code",
      "source": [
        "def Kfold_result(X,Y,model,foldnum):\n",
        "   print(\"\\ncross validation\")\n",
        "   from sklearn.model_selection import cross_val_score, cross_validate,cross_val_predict\n",
        "   from sklearn.metrics import make_scorer, accuracy_score, precision_score, recall_score, f1_score\n",
        "   scoring = {'accuracy' : make_scorer(accuracy_score),\n",
        "           'precision' : make_scorer(precision_score),\n",
        "           'recall' : make_scorer(recall_score),\n",
        "           'f1_score' : make_scorer(f1_score)}\n",
        "\n",
        "   results = cross_validate(estimator=model,\n",
        "                                          X=X,\n",
        "                                          y=Y,\n",
        "                                          cv=10,\n",
        "                                          scoring=scoring)\n",
        "   print('cross accuracy:',np.mean(results['test_accuracy']))\n",
        "   print('cross precision:',np.mean(results['test_precision']))\n",
        "   print('cross recall:',np.mean(results['test_recall']))\n",
        "   print('cross f1 score:', np.mean(results['test_f1_score']))\n",
        "   cross_pred_test = cross_val_predict(model,X,Y,cv = 10)\n",
        "   cm = confusion_matrix(Y,cross_pred_test)\n",
        "   group_names = ['','','','']\n",
        "   group_counts = [\"{0:0.0f}\".format(value) for value in\n",
        "                cm.flatten()]\n",
        "   group_percentages = [\"{0:.2%}\".format(value) for value in\n",
        "                     cm.flatten()/np.sum(cm)]\n",
        "   labels = [f\"{v1}\\n{v2}\\n{v3}\" for v1, v2, v3 in\n",
        "          zip(group_names,group_counts,group_percentages)]\n",
        "   labels = np.asarray(labels).reshape(2,2)\n",
        "   sns.heatmap(cm, annot=labels, fmt='', cmap='Purples')\n",
        "\n",
        "   pass"
      ],
      "metadata": {
        "id": "OyX0DRqsTiT4"
      },
      "execution_count": null,
      "outputs": []
    },
    {
      "cell_type": "markdown",
      "metadata": {
        "id": "xJlBT0pxRhEx"
      },
      "source": [
        "## Import Classifier Model"
      ]
    },
    {
      "cell_type": "code",
      "metadata": {
        "id": "2YQ6s38FRofI"
      },
      "source": [
        "from sklearn.linear_model import LogisticRegression\n",
        "from sklearn.neighbors import KNeighborsClassifier\n",
        "from sklearn.svm import SVC\n",
        "from sklearn.naive_bayes import GaussianNB\n",
        "from sklearn.tree import  DecisionTreeClassifier\n",
        "from sklearn.ensemble import RandomForestClassifier\n",
        "from sklearn.tree import ExtraTreeClassifier"
      ],
      "execution_count": null,
      "outputs": []
    },
    {
      "cell_type": "markdown",
      "metadata": {
        "id": "4RVRNpSWF8UU"
      },
      "source": [
        "# Hyper Parameter Tuning"
      ]
    },
    {
      "cell_type": "markdown",
      "metadata": {
        "id": "lrhVrlk5OYhP"
      },
      "source": [
        "###  Random search Grid search"
      ]
    },
    {
      "cell_type": "code",
      "metadata": {
        "id": "D1-GBiEiF38m"
      },
      "source": [
        "from sklearn.model_selection import RandomizedSearchCV\n",
        "from sklearn.model_selection import GridSearchCV"
      ],
      "execution_count": null,
      "outputs": []
    },
    {
      "cell_type": "markdown",
      "metadata": {
        "id": "mhrc8Xf5HlZR"
      },
      "source": [
        "### Linear Regression Random Search"
      ]
    },
    {
      "cell_type": "code",
      "metadata": {
        "colab": {
          "base_uri": "https://localhost:8080/"
        },
        "id": "NLeyXiAfGhht",
        "outputId": "715fa71f-807b-403d-f108-21e753240460"
      },
      "source": [
        "rs = RandomizedSearchCV(LogisticRegression(solver='liblinear',multi_class='auto'),{ 'C' : [1,5,10]}, cv = 10,return_train_score=False, n_iter=2)\n",
        "rs.fit(X,Y)\n",
        "best_paramlr = rs.best_params_\n",
        "pd.DataFrame(rs.cv_results_)[['param_C','mean_test_score']]\n",
        "print(best_paramlr)"
      ],
      "execution_count": null,
      "outputs": [
        {
          "output_type": "stream",
          "name": "stdout",
          "text": [
            "{'C': 1}\n"
          ]
        }
      ]
    },
    {
      "cell_type": "markdown",
      "metadata": {
        "id": "RUu2K79y1Hs1"
      },
      "source": [
        "###KNN Random Search"
      ]
    },
    {
      "cell_type": "code",
      "metadata": {
        "colab": {
          "base_uri": "https://localhost:8080/"
        },
        "outputId": "8fe5b3e1-1f95-4969-c949-a68079e41c59",
        "id": "xPdDQpta1Hs_"
      },
      "source": [
        "rs = RandomizedSearchCV(KNeighborsClassifier(), {\n",
        "            'leaf_size' : [1,5,10,15,20,50],\n",
        "            'n_neighbors' : [1,5,10,15],\n",
        "            'p' : [1,2,3]\n",
        "        })\n",
        "rs.fit(X,Y)\n",
        "best_paramknn = rs.best_params_\n",
        "pd.DataFrame(rs.cv_results_)[['param_leaf_size','param_n_neighbors','param_p','mean_test_score']]\n",
        "print(best_paramknn)"
      ],
      "execution_count": null,
      "outputs": [
        {
          "output_type": "stream",
          "name": "stdout",
          "text": [
            "{'p': 2, 'n_neighbors': 1, 'leaf_size': 10}\n"
          ]
        }
      ]
    },
    {
      "cell_type": "markdown",
      "metadata": {
        "id": "EsBCRAfJcITl"
      },
      "source": [
        "### SVM Random Search"
      ]
    },
    {
      "cell_type": "code",
      "metadata": {
        "id": "JagM1ezecOIT",
        "colab": {
          "base_uri": "https://localhost:8080/"
        },
        "outputId": "9f1bf63e-e756-404d-f6c0-c9d44649f670"
      },
      "source": [
        "srs = RandomizedSearchCV(SVC(gamma='auto'),\n",
        "            {\n",
        "            'C' : [1,5,10,20,50],\n",
        "            'kernel': ['rbf','linear']\n",
        "        })\n",
        "srs.fit(X,Y)\n",
        "best_params = srs.best_params_\n",
        "pd.DataFrame(srs.cv_results_)[['param_C','param_kernel','mean_test_score']]"
      ],
      "execution_count": null,
      "outputs": [
        {
          "output_type": "execute_result",
          "data": {
            "text/plain": [
              "  param_C param_kernel  mean_test_score\n",
              "0       1          rbf         0.847811\n",
              "1       1       linear         0.833324\n",
              "2       5          rbf         0.864737\n",
              "3       5       linear         0.838113\n",
              "4      10          rbf         0.881663\n",
              "5      10       linear         0.840552\n",
              "6      20          rbf         0.881693\n",
              "7      20       linear         0.840552\n",
              "8      50          rbf         0.891390\n",
              "9      50       linear         0.842933"
            ],
            "text/html": [
              "\n",
              "  <div id=\"df-e504c602-bfe5-4612-9a8c-afb217818e64\">\n",
              "    <div class=\"colab-df-container\">\n",
              "      <div>\n",
              "<style scoped>\n",
              "    .dataframe tbody tr th:only-of-type {\n",
              "        vertical-align: middle;\n",
              "    }\n",
              "\n",
              "    .dataframe tbody tr th {\n",
              "        vertical-align: top;\n",
              "    }\n",
              "\n",
              "    .dataframe thead th {\n",
              "        text-align: right;\n",
              "    }\n",
              "</style>\n",
              "<table border=\"1\" class=\"dataframe\">\n",
              "  <thead>\n",
              "    <tr style=\"text-align: right;\">\n",
              "      <th></th>\n",
              "      <th>param_C</th>\n",
              "      <th>param_kernel</th>\n",
              "      <th>mean_test_score</th>\n",
              "    </tr>\n",
              "  </thead>\n",
              "  <tbody>\n",
              "    <tr>\n",
              "      <th>0</th>\n",
              "      <td>1</td>\n",
              "      <td>rbf</td>\n",
              "      <td>0.847811</td>\n",
              "    </tr>\n",
              "    <tr>\n",
              "      <th>1</th>\n",
              "      <td>1</td>\n",
              "      <td>linear</td>\n",
              "      <td>0.833324</td>\n",
              "    </tr>\n",
              "    <tr>\n",
              "      <th>2</th>\n",
              "      <td>5</td>\n",
              "      <td>rbf</td>\n",
              "      <td>0.864737</td>\n",
              "    </tr>\n",
              "    <tr>\n",
              "      <th>3</th>\n",
              "      <td>5</td>\n",
              "      <td>linear</td>\n",
              "      <td>0.838113</td>\n",
              "    </tr>\n",
              "    <tr>\n",
              "      <th>4</th>\n",
              "      <td>10</td>\n",
              "      <td>rbf</td>\n",
              "      <td>0.881663</td>\n",
              "    </tr>\n",
              "    <tr>\n",
              "      <th>5</th>\n",
              "      <td>10</td>\n",
              "      <td>linear</td>\n",
              "      <td>0.840552</td>\n",
              "    </tr>\n",
              "    <tr>\n",
              "      <th>6</th>\n",
              "      <td>20</td>\n",
              "      <td>rbf</td>\n",
              "      <td>0.881693</td>\n",
              "    </tr>\n",
              "    <tr>\n",
              "      <th>7</th>\n",
              "      <td>20</td>\n",
              "      <td>linear</td>\n",
              "      <td>0.840552</td>\n",
              "    </tr>\n",
              "    <tr>\n",
              "      <th>8</th>\n",
              "      <td>50</td>\n",
              "      <td>rbf</td>\n",
              "      <td>0.891390</td>\n",
              "    </tr>\n",
              "    <tr>\n",
              "      <th>9</th>\n",
              "      <td>50</td>\n",
              "      <td>linear</td>\n",
              "      <td>0.842933</td>\n",
              "    </tr>\n",
              "  </tbody>\n",
              "</table>\n",
              "</div>\n",
              "      <button class=\"colab-df-convert\" onclick=\"convertToInteractive('df-e504c602-bfe5-4612-9a8c-afb217818e64')\"\n",
              "              title=\"Convert this dataframe to an interactive table.\"\n",
              "              style=\"display:none;\">\n",
              "        \n",
              "  <svg xmlns=\"http://www.w3.org/2000/svg\" height=\"24px\"viewBox=\"0 0 24 24\"\n",
              "       width=\"24px\">\n",
              "    <path d=\"M0 0h24v24H0V0z\" fill=\"none\"/>\n",
              "    <path d=\"M18.56 5.44l.94 2.06.94-2.06 2.06-.94-2.06-.94-.94-2.06-.94 2.06-2.06.94zm-11 1L8.5 8.5l.94-2.06 2.06-.94-2.06-.94L8.5 2.5l-.94 2.06-2.06.94zm10 10l.94 2.06.94-2.06 2.06-.94-2.06-.94-.94-2.06-.94 2.06-2.06.94z\"/><path d=\"M17.41 7.96l-1.37-1.37c-.4-.4-.92-.59-1.43-.59-.52 0-1.04.2-1.43.59L10.3 9.45l-7.72 7.72c-.78.78-.78 2.05 0 2.83L4 21.41c.39.39.9.59 1.41.59.51 0 1.02-.2 1.41-.59l7.78-7.78 2.81-2.81c.8-.78.8-2.07 0-2.86zM5.41 20L4 18.59l7.72-7.72 1.47 1.35L5.41 20z\"/>\n",
              "  </svg>\n",
              "      </button>\n",
              "      \n",
              "  <style>\n",
              "    .colab-df-container {\n",
              "      display:flex;\n",
              "      flex-wrap:wrap;\n",
              "      gap: 12px;\n",
              "    }\n",
              "\n",
              "    .colab-df-convert {\n",
              "      background-color: #E8F0FE;\n",
              "      border: none;\n",
              "      border-radius: 50%;\n",
              "      cursor: pointer;\n",
              "      display: none;\n",
              "      fill: #1967D2;\n",
              "      height: 32px;\n",
              "      padding: 0 0 0 0;\n",
              "      width: 32px;\n",
              "    }\n",
              "\n",
              "    .colab-df-convert:hover {\n",
              "      background-color: #E2EBFA;\n",
              "      box-shadow: 0px 1px 2px rgba(60, 64, 67, 0.3), 0px 1px 3px 1px rgba(60, 64, 67, 0.15);\n",
              "      fill: #174EA6;\n",
              "    }\n",
              "\n",
              "    [theme=dark] .colab-df-convert {\n",
              "      background-color: #3B4455;\n",
              "      fill: #D2E3FC;\n",
              "    }\n",
              "\n",
              "    [theme=dark] .colab-df-convert:hover {\n",
              "      background-color: #434B5C;\n",
              "      box-shadow: 0px 1px 3px 1px rgba(0, 0, 0, 0.15);\n",
              "      filter: drop-shadow(0px 1px 2px rgba(0, 0, 0, 0.3));\n",
              "      fill: #FFFFFF;\n",
              "    }\n",
              "  </style>\n",
              "\n",
              "      <script>\n",
              "        const buttonEl =\n",
              "          document.querySelector('#df-e504c602-bfe5-4612-9a8c-afb217818e64 button.colab-df-convert');\n",
              "        buttonEl.style.display =\n",
              "          google.colab.kernel.accessAllowed ? 'block' : 'none';\n",
              "\n",
              "        async function convertToInteractive(key) {\n",
              "          const element = document.querySelector('#df-e504c602-bfe5-4612-9a8c-afb217818e64');\n",
              "          const dataTable =\n",
              "            await google.colab.kernel.invokeFunction('convertToInteractive',\n",
              "                                                     [key], {});\n",
              "          if (!dataTable) return;\n",
              "\n",
              "          const docLinkHtml = 'Like what you see? Visit the ' +\n",
              "            '<a target=\"_blank\" href=https://colab.research.google.com/notebooks/data_table.ipynb>data table notebook</a>'\n",
              "            + ' to learn more about interactive tables.';\n",
              "          element.innerHTML = '';\n",
              "          dataTable['output_type'] = 'display_data';\n",
              "          await google.colab.output.renderOutput(dataTable, element);\n",
              "          const docLink = document.createElement('div');\n",
              "          docLink.innerHTML = docLinkHtml;\n",
              "          element.appendChild(docLink);\n",
              "        }\n",
              "      </script>\n",
              "    </div>\n",
              "  </div>\n",
              "  "
            ]
          },
          "metadata": {},
          "execution_count": 187
        }
      ]
    },
    {
      "cell_type": "markdown",
      "metadata": {
        "id": "twDHo-ncfpzf"
      },
      "source": [
        "### Naive Bayes Random Search"
      ]
    },
    {
      "cell_type": "code",
      "metadata": {
        "colab": {
          "base_uri": "https://localhost:8080/"
        },
        "id": "84EXYsjrfuCk",
        "outputId": "b4c56bf5-2612-4b5b-e101-6f62f98e4761"
      },
      "source": [
        "nbrs = RandomizedSearchCV(GaussianNB(),\n",
        "            {\n",
        "            'var_smoothing' : [0.01,0.02,0.026,0.0265,0.0258,0.03]\n",
        "        })\n",
        "nbrs.fit(X,Y)\n",
        "best_paramnb = nbrs.best_params_\n",
        "pd.DataFrame(nbrs.cv_results_)[['param_var_smoothing','mean_test_score']]\n",
        "print(best_paramnb)"
      ],
      "execution_count": null,
      "outputs": [
        {
          "output_type": "stream",
          "name": "stdout",
          "text": [
            "{'var_smoothing': 0.01}\n"
          ]
        },
        {
          "output_type": "stream",
          "name": "stderr",
          "text": [
            "/usr/local/lib/python3.7/dist-packages/sklearn/model_selection/_search.py:296: UserWarning: The total space of parameters 6 is smaller than n_iter=10. Running 6 iterations. For exhaustive searches, use GridSearchCV.\n",
            "  UserWarning,\n"
          ]
        }
      ]
    },
    {
      "cell_type": "markdown",
      "metadata": {
        "id": "PltpZ740hMe2"
      },
      "source": [
        "### Decision tree Random Search"
      ]
    },
    {
      "cell_type": "code",
      "metadata": {
        "colab": {
          "base_uri": "https://localhost:8080/"
        },
        "id": "wprXrv-ghUv8",
        "outputId": "92135223-df5d-45eb-b37c-2ca2e7643c28"
      },
      "source": [
        "dtrs = RandomizedSearchCV(DecisionTreeClassifier(),{\n",
        "            'splitter':['best','random'],\n",
        "            'max_depth' : [1,3,5],\n",
        "            'min_samples_leaf':[1,2,3,4,5],\n",
        "            'max_features':['auto','log2','sqrt',None],\n",
        "            'max_leaf_nodes':[None,10,20,30,40,50,60,70,80,90]\n",
        "        })\n",
        "dtrs.fit(X,Y)\n",
        "best_paramdt = dtrs.best_params_\n",
        "pd.DataFrame(dtrs.cv_results_)[['param_splitter','param_max_depth','param_min_samples_leaf','param_max_features','param_max_leaf_nodes','mean_test_score']]"
      ],
      "execution_count": null,
      "outputs": [
        {
          "output_type": "execute_result",
          "data": {
            "text/plain": [
              "  param_splitter param_max_depth param_min_samples_leaf param_max_features  \\\n",
              "0         random               1                      3               auto   \n",
              "1         random               5                      4               None   \n",
              "2         random               3                      5               sqrt   \n",
              "3           best               3                      1               None   \n",
              "4         random               3                      2               None   \n",
              "5           best               5                      4               auto   \n",
              "6           best               3                      4               sqrt   \n",
              "7           best               1                      2               auto   \n",
              "8         random               3                      4               auto   \n",
              "9         random               5                      3               None   \n",
              "\n",
              "  param_max_leaf_nodes  mean_test_score  \n",
              "0                   30         0.573230  \n",
              "1                   10         0.765148  \n",
              "2                   50         0.611960  \n",
              "3                   30         0.826036  \n",
              "4                   50         0.792242  \n",
              "5                   80         0.784484  \n",
              "6                   30         0.828416  \n",
              "7                   80         0.629033  \n",
              "8                   20         0.670555  \n",
              "9                   60         0.774904  "
            ],
            "text/html": [
              "\n",
              "  <div id=\"df-7a900f35-d159-40c6-be6d-caa7bcf03bcb\">\n",
              "    <div class=\"colab-df-container\">\n",
              "      <div>\n",
              "<style scoped>\n",
              "    .dataframe tbody tr th:only-of-type {\n",
              "        vertical-align: middle;\n",
              "    }\n",
              "\n",
              "    .dataframe tbody tr th {\n",
              "        vertical-align: top;\n",
              "    }\n",
              "\n",
              "    .dataframe thead th {\n",
              "        text-align: right;\n",
              "    }\n",
              "</style>\n",
              "<table border=\"1\" class=\"dataframe\">\n",
              "  <thead>\n",
              "    <tr style=\"text-align: right;\">\n",
              "      <th></th>\n",
              "      <th>param_splitter</th>\n",
              "      <th>param_max_depth</th>\n",
              "      <th>param_min_samples_leaf</th>\n",
              "      <th>param_max_features</th>\n",
              "      <th>param_max_leaf_nodes</th>\n",
              "      <th>mean_test_score</th>\n",
              "    </tr>\n",
              "  </thead>\n",
              "  <tbody>\n",
              "    <tr>\n",
              "      <th>0</th>\n",
              "      <td>random</td>\n",
              "      <td>1</td>\n",
              "      <td>3</td>\n",
              "      <td>auto</td>\n",
              "      <td>30</td>\n",
              "      <td>0.573230</td>\n",
              "    </tr>\n",
              "    <tr>\n",
              "      <th>1</th>\n",
              "      <td>random</td>\n",
              "      <td>5</td>\n",
              "      <td>4</td>\n",
              "      <td>None</td>\n",
              "      <td>10</td>\n",
              "      <td>0.765148</td>\n",
              "    </tr>\n",
              "    <tr>\n",
              "      <th>2</th>\n",
              "      <td>random</td>\n",
              "      <td>3</td>\n",
              "      <td>5</td>\n",
              "      <td>sqrt</td>\n",
              "      <td>50</td>\n",
              "      <td>0.611960</td>\n",
              "    </tr>\n",
              "    <tr>\n",
              "      <th>3</th>\n",
              "      <td>best</td>\n",
              "      <td>3</td>\n",
              "      <td>1</td>\n",
              "      <td>None</td>\n",
              "      <td>30</td>\n",
              "      <td>0.826036</td>\n",
              "    </tr>\n",
              "    <tr>\n",
              "      <th>4</th>\n",
              "      <td>random</td>\n",
              "      <td>3</td>\n",
              "      <td>2</td>\n",
              "      <td>None</td>\n",
              "      <td>50</td>\n",
              "      <td>0.792242</td>\n",
              "    </tr>\n",
              "    <tr>\n",
              "      <th>5</th>\n",
              "      <td>best</td>\n",
              "      <td>5</td>\n",
              "      <td>4</td>\n",
              "      <td>auto</td>\n",
              "      <td>80</td>\n",
              "      <td>0.784484</td>\n",
              "    </tr>\n",
              "    <tr>\n",
              "      <th>6</th>\n",
              "      <td>best</td>\n",
              "      <td>3</td>\n",
              "      <td>4</td>\n",
              "      <td>sqrt</td>\n",
              "      <td>30</td>\n",
              "      <td>0.828416</td>\n",
              "    </tr>\n",
              "    <tr>\n",
              "      <th>7</th>\n",
              "      <td>best</td>\n",
              "      <td>1</td>\n",
              "      <td>2</td>\n",
              "      <td>auto</td>\n",
              "      <td>80</td>\n",
              "      <td>0.629033</td>\n",
              "    </tr>\n",
              "    <tr>\n",
              "      <th>8</th>\n",
              "      <td>random</td>\n",
              "      <td>3</td>\n",
              "      <td>4</td>\n",
              "      <td>auto</td>\n",
              "      <td>20</td>\n",
              "      <td>0.670555</td>\n",
              "    </tr>\n",
              "    <tr>\n",
              "      <th>9</th>\n",
              "      <td>random</td>\n",
              "      <td>5</td>\n",
              "      <td>3</td>\n",
              "      <td>None</td>\n",
              "      <td>60</td>\n",
              "      <td>0.774904</td>\n",
              "    </tr>\n",
              "  </tbody>\n",
              "</table>\n",
              "</div>\n",
              "      <button class=\"colab-df-convert\" onclick=\"convertToInteractive('df-7a900f35-d159-40c6-be6d-caa7bcf03bcb')\"\n",
              "              title=\"Convert this dataframe to an interactive table.\"\n",
              "              style=\"display:none;\">\n",
              "        \n",
              "  <svg xmlns=\"http://www.w3.org/2000/svg\" height=\"24px\"viewBox=\"0 0 24 24\"\n",
              "       width=\"24px\">\n",
              "    <path d=\"M0 0h24v24H0V0z\" fill=\"none\"/>\n",
              "    <path d=\"M18.56 5.44l.94 2.06.94-2.06 2.06-.94-2.06-.94-.94-2.06-.94 2.06-2.06.94zm-11 1L8.5 8.5l.94-2.06 2.06-.94-2.06-.94L8.5 2.5l-.94 2.06-2.06.94zm10 10l.94 2.06.94-2.06 2.06-.94-2.06-.94-.94-2.06-.94 2.06-2.06.94z\"/><path d=\"M17.41 7.96l-1.37-1.37c-.4-.4-.92-.59-1.43-.59-.52 0-1.04.2-1.43.59L10.3 9.45l-7.72 7.72c-.78.78-.78 2.05 0 2.83L4 21.41c.39.39.9.59 1.41.59.51 0 1.02-.2 1.41-.59l7.78-7.78 2.81-2.81c.8-.78.8-2.07 0-2.86zM5.41 20L4 18.59l7.72-7.72 1.47 1.35L5.41 20z\"/>\n",
              "  </svg>\n",
              "      </button>\n",
              "      \n",
              "  <style>\n",
              "    .colab-df-container {\n",
              "      display:flex;\n",
              "      flex-wrap:wrap;\n",
              "      gap: 12px;\n",
              "    }\n",
              "\n",
              "    .colab-df-convert {\n",
              "      background-color: #E8F0FE;\n",
              "      border: none;\n",
              "      border-radius: 50%;\n",
              "      cursor: pointer;\n",
              "      display: none;\n",
              "      fill: #1967D2;\n",
              "      height: 32px;\n",
              "      padding: 0 0 0 0;\n",
              "      width: 32px;\n",
              "    }\n",
              "\n",
              "    .colab-df-convert:hover {\n",
              "      background-color: #E2EBFA;\n",
              "      box-shadow: 0px 1px 2px rgba(60, 64, 67, 0.3), 0px 1px 3px 1px rgba(60, 64, 67, 0.15);\n",
              "      fill: #174EA6;\n",
              "    }\n",
              "\n",
              "    [theme=dark] .colab-df-convert {\n",
              "      background-color: #3B4455;\n",
              "      fill: #D2E3FC;\n",
              "    }\n",
              "\n",
              "    [theme=dark] .colab-df-convert:hover {\n",
              "      background-color: #434B5C;\n",
              "      box-shadow: 0px 1px 3px 1px rgba(0, 0, 0, 0.15);\n",
              "      filter: drop-shadow(0px 1px 2px rgba(0, 0, 0, 0.3));\n",
              "      fill: #FFFFFF;\n",
              "    }\n",
              "  </style>\n",
              "\n",
              "      <script>\n",
              "        const buttonEl =\n",
              "          document.querySelector('#df-7a900f35-d159-40c6-be6d-caa7bcf03bcb button.colab-df-convert');\n",
              "        buttonEl.style.display =\n",
              "          google.colab.kernel.accessAllowed ? 'block' : 'none';\n",
              "\n",
              "        async function convertToInteractive(key) {\n",
              "          const element = document.querySelector('#df-7a900f35-d159-40c6-be6d-caa7bcf03bcb');\n",
              "          const dataTable =\n",
              "            await google.colab.kernel.invokeFunction('convertToInteractive',\n",
              "                                                     [key], {});\n",
              "          if (!dataTable) return;\n",
              "\n",
              "          const docLinkHtml = 'Like what you see? Visit the ' +\n",
              "            '<a target=\"_blank\" href=https://colab.research.google.com/notebooks/data_table.ipynb>data table notebook</a>'\n",
              "            + ' to learn more about interactive tables.';\n",
              "          element.innerHTML = '';\n",
              "          dataTable['output_type'] = 'display_data';\n",
              "          await google.colab.output.renderOutput(dataTable, element);\n",
              "          const docLink = document.createElement('div');\n",
              "          docLink.innerHTML = docLinkHtml;\n",
              "          element.appendChild(docLink);\n",
              "        }\n",
              "      </script>\n",
              "    </div>\n",
              "  </div>\n",
              "  "
            ]
          },
          "metadata": {},
          "execution_count": 189
        }
      ]
    },
    {
      "cell_type": "markdown",
      "metadata": {
        "id": "coMatoOFH0nP"
      },
      "source": [
        "### Random Forest Random Search"
      ]
    },
    {
      "cell_type": "code",
      "metadata": {
        "colab": {
          "base_uri": "https://localhost:8080/"
        },
        "id": "Lq-ZpmNQQczv",
        "outputId": "ab22d160-7d79-40d6-97d2-8741491f01f9"
      },
      "source": [
        "rfrs = RandomizedSearchCV(RandomForestClassifier(),{\n",
        "            'bootstrap': [True],\n",
        "            'max_depth': [5, 10, None],\n",
        "            'max_features': ['auto', 'log2'],\n",
        "            'n_estimators': [5, 6, 7, 8, 9, 10, 11, 12, 13, 15]\n",
        "        })\n",
        "rfrs.fit(X,Y)\n",
        "best_paramrf = rfrs.best_params_\n",
        "pd.DataFrame(rfrs.cv_results_)[['param_bootstrap','param_max_depth','param_max_features','param_n_estimators','mean_test_score']]"
      ],
      "execution_count": null,
      "outputs": [
        {
          "output_type": "execute_result",
          "data": {
            "text/plain": [
              "  param_bootstrap param_max_depth param_max_features param_n_estimators  \\\n",
              "0            True            None               auto                 11   \n",
              "1            True              10               log2                 10   \n",
              "2            True              10               auto                 15   \n",
              "3            True              10               log2                 15   \n",
              "4            True               5               log2                  6   \n",
              "5            True            None               log2                  9   \n",
              "6            True            None               auto                  8   \n",
              "7            True               5               auto                 10   \n",
              "8            True               5               auto                  5   \n",
              "9            True              10               log2                  6   \n",
              "\n",
              "   mean_test_score  \n",
              "0         0.859947  \n",
              "1         0.864678  \n",
              "2         0.884161  \n",
              "3         0.876932  \n",
              "4         0.886629  \n",
              "5         0.864766  \n",
              "6         0.884190  \n",
              "7         0.855216  \n",
              "8         0.845489  \n",
              "9         0.859771  "
            ],
            "text/html": [
              "\n",
              "  <div id=\"df-1c6c52fc-5339-41de-bc37-ad37f720a8eb\">\n",
              "    <div class=\"colab-df-container\">\n",
              "      <div>\n",
              "<style scoped>\n",
              "    .dataframe tbody tr th:only-of-type {\n",
              "        vertical-align: middle;\n",
              "    }\n",
              "\n",
              "    .dataframe tbody tr th {\n",
              "        vertical-align: top;\n",
              "    }\n",
              "\n",
              "    .dataframe thead th {\n",
              "        text-align: right;\n",
              "    }\n",
              "</style>\n",
              "<table border=\"1\" class=\"dataframe\">\n",
              "  <thead>\n",
              "    <tr style=\"text-align: right;\">\n",
              "      <th></th>\n",
              "      <th>param_bootstrap</th>\n",
              "      <th>param_max_depth</th>\n",
              "      <th>param_max_features</th>\n",
              "      <th>param_n_estimators</th>\n",
              "      <th>mean_test_score</th>\n",
              "    </tr>\n",
              "  </thead>\n",
              "  <tbody>\n",
              "    <tr>\n",
              "      <th>0</th>\n",
              "      <td>True</td>\n",
              "      <td>None</td>\n",
              "      <td>auto</td>\n",
              "      <td>11</td>\n",
              "      <td>0.859947</td>\n",
              "    </tr>\n",
              "    <tr>\n",
              "      <th>1</th>\n",
              "      <td>True</td>\n",
              "      <td>10</td>\n",
              "      <td>log2</td>\n",
              "      <td>10</td>\n",
              "      <td>0.864678</td>\n",
              "    </tr>\n",
              "    <tr>\n",
              "      <th>2</th>\n",
              "      <td>True</td>\n",
              "      <td>10</td>\n",
              "      <td>auto</td>\n",
              "      <td>15</td>\n",
              "      <td>0.884161</td>\n",
              "    </tr>\n",
              "    <tr>\n",
              "      <th>3</th>\n",
              "      <td>True</td>\n",
              "      <td>10</td>\n",
              "      <td>log2</td>\n",
              "      <td>15</td>\n",
              "      <td>0.876932</td>\n",
              "    </tr>\n",
              "    <tr>\n",
              "      <th>4</th>\n",
              "      <td>True</td>\n",
              "      <td>5</td>\n",
              "      <td>log2</td>\n",
              "      <td>6</td>\n",
              "      <td>0.886629</td>\n",
              "    </tr>\n",
              "    <tr>\n",
              "      <th>5</th>\n",
              "      <td>True</td>\n",
              "      <td>None</td>\n",
              "      <td>log2</td>\n",
              "      <td>9</td>\n",
              "      <td>0.864766</td>\n",
              "    </tr>\n",
              "    <tr>\n",
              "      <th>6</th>\n",
              "      <td>True</td>\n",
              "      <td>None</td>\n",
              "      <td>auto</td>\n",
              "      <td>8</td>\n",
              "      <td>0.884190</td>\n",
              "    </tr>\n",
              "    <tr>\n",
              "      <th>7</th>\n",
              "      <td>True</td>\n",
              "      <td>5</td>\n",
              "      <td>auto</td>\n",
              "      <td>10</td>\n",
              "      <td>0.855216</td>\n",
              "    </tr>\n",
              "    <tr>\n",
              "      <th>8</th>\n",
              "      <td>True</td>\n",
              "      <td>5</td>\n",
              "      <td>auto</td>\n",
              "      <td>5</td>\n",
              "      <td>0.845489</td>\n",
              "    </tr>\n",
              "    <tr>\n",
              "      <th>9</th>\n",
              "      <td>True</td>\n",
              "      <td>10</td>\n",
              "      <td>log2</td>\n",
              "      <td>6</td>\n",
              "      <td>0.859771</td>\n",
              "    </tr>\n",
              "  </tbody>\n",
              "</table>\n",
              "</div>\n",
              "      <button class=\"colab-df-convert\" onclick=\"convertToInteractive('df-1c6c52fc-5339-41de-bc37-ad37f720a8eb')\"\n",
              "              title=\"Convert this dataframe to an interactive table.\"\n",
              "              style=\"display:none;\">\n",
              "        \n",
              "  <svg xmlns=\"http://www.w3.org/2000/svg\" height=\"24px\"viewBox=\"0 0 24 24\"\n",
              "       width=\"24px\">\n",
              "    <path d=\"M0 0h24v24H0V0z\" fill=\"none\"/>\n",
              "    <path d=\"M18.56 5.44l.94 2.06.94-2.06 2.06-.94-2.06-.94-.94-2.06-.94 2.06-2.06.94zm-11 1L8.5 8.5l.94-2.06 2.06-.94-2.06-.94L8.5 2.5l-.94 2.06-2.06.94zm10 10l.94 2.06.94-2.06 2.06-.94-2.06-.94-.94-2.06-.94 2.06-2.06.94z\"/><path d=\"M17.41 7.96l-1.37-1.37c-.4-.4-.92-.59-1.43-.59-.52 0-1.04.2-1.43.59L10.3 9.45l-7.72 7.72c-.78.78-.78 2.05 0 2.83L4 21.41c.39.39.9.59 1.41.59.51 0 1.02-.2 1.41-.59l7.78-7.78 2.81-2.81c.8-.78.8-2.07 0-2.86zM5.41 20L4 18.59l7.72-7.72 1.47 1.35L5.41 20z\"/>\n",
              "  </svg>\n",
              "      </button>\n",
              "      \n",
              "  <style>\n",
              "    .colab-df-container {\n",
              "      display:flex;\n",
              "      flex-wrap:wrap;\n",
              "      gap: 12px;\n",
              "    }\n",
              "\n",
              "    .colab-df-convert {\n",
              "      background-color: #E8F0FE;\n",
              "      border: none;\n",
              "      border-radius: 50%;\n",
              "      cursor: pointer;\n",
              "      display: none;\n",
              "      fill: #1967D2;\n",
              "      height: 32px;\n",
              "      padding: 0 0 0 0;\n",
              "      width: 32px;\n",
              "    }\n",
              "\n",
              "    .colab-df-convert:hover {\n",
              "      background-color: #E2EBFA;\n",
              "      box-shadow: 0px 1px 2px rgba(60, 64, 67, 0.3), 0px 1px 3px 1px rgba(60, 64, 67, 0.15);\n",
              "      fill: #174EA6;\n",
              "    }\n",
              "\n",
              "    [theme=dark] .colab-df-convert {\n",
              "      background-color: #3B4455;\n",
              "      fill: #D2E3FC;\n",
              "    }\n",
              "\n",
              "    [theme=dark] .colab-df-convert:hover {\n",
              "      background-color: #434B5C;\n",
              "      box-shadow: 0px 1px 3px 1px rgba(0, 0, 0, 0.15);\n",
              "      filter: drop-shadow(0px 1px 2px rgba(0, 0, 0, 0.3));\n",
              "      fill: #FFFFFF;\n",
              "    }\n",
              "  </style>\n",
              "\n",
              "      <script>\n",
              "        const buttonEl =\n",
              "          document.querySelector('#df-1c6c52fc-5339-41de-bc37-ad37f720a8eb button.colab-df-convert');\n",
              "        buttonEl.style.display =\n",
              "          google.colab.kernel.accessAllowed ? 'block' : 'none';\n",
              "\n",
              "        async function convertToInteractive(key) {\n",
              "          const element = document.querySelector('#df-1c6c52fc-5339-41de-bc37-ad37f720a8eb');\n",
              "          const dataTable =\n",
              "            await google.colab.kernel.invokeFunction('convertToInteractive',\n",
              "                                                     [key], {});\n",
              "          if (!dataTable) return;\n",
              "\n",
              "          const docLinkHtml = 'Like what you see? Visit the ' +\n",
              "            '<a target=\"_blank\" href=https://colab.research.google.com/notebooks/data_table.ipynb>data table notebook</a>'\n",
              "            + ' to learn more about interactive tables.';\n",
              "          element.innerHTML = '';\n",
              "          dataTable['output_type'] = 'display_data';\n",
              "          await google.colab.output.renderOutput(dataTable, element);\n",
              "          const docLink = document.createElement('div');\n",
              "          docLink.innerHTML = docLinkHtml;\n",
              "          element.appendChild(docLink);\n",
              "        }\n",
              "      </script>\n",
              "    </div>\n",
              "  </div>\n",
              "  "
            ]
          },
          "metadata": {},
          "execution_count": 190
        }
      ]
    },
    {
      "cell_type": "markdown",
      "metadata": {
        "id": "r8bjLDpHH7AH"
      },
      "source": [
        "### Extra Tree Random Search"
      ]
    },
    {
      "cell_type": "code",
      "metadata": {
        "colab": {
          "base_uri": "https://localhost:8080/"
        },
        "id": "XdWeksw6aiOH",
        "outputId": "6f5b3288-2663-4f49-ca35-8bab4f1a8bd9"
      },
      "source": [
        "etrs = RandomizedSearchCV(ExtraTreeClassifier(),{\n",
        "            'criterion': ['gini','entropy'],\n",
        "            'max_depth': [i for i in range(1,50,1)],\n",
        "            'max_features': ['auto', 'log2','sqrt']\n",
        "        })\n",
        "etrs.fit(X,Y)\n",
        "best_paramet = etrs.best_params_\n",
        "pd.DataFrame(etrs.cv_results_)[['param_criterion','param_max_depth','param_max_features',\n",
        "                              'mean_test_score']]"
      ],
      "execution_count": null,
      "outputs": [
        {
          "output_type": "execute_result",
          "data": {
            "text/plain": [
              "  param_criterion param_max_depth param_max_features  mean_test_score\n",
              "0         entropy               8               auto         0.745724\n",
              "1         entropy              14               sqrt         0.782251\n",
              "2            gini               8               log2         0.784690\n",
              "3         entropy              33               auto         0.777402\n",
              "4            gini              49               sqrt         0.748281\n",
              "5            gini              28               sqrt         0.774758\n",
              "6            gini              44               auto         0.767529\n",
              "7            gini               6               auto         0.660858\n",
              "8         entropy              19               log2         0.825742\n",
              "9         entropy              45               log2         0.760359"
            ],
            "text/html": [
              "\n",
              "  <div id=\"df-ca04a07d-78fb-4e59-8661-094283927904\">\n",
              "    <div class=\"colab-df-container\">\n",
              "      <div>\n",
              "<style scoped>\n",
              "    .dataframe tbody tr th:only-of-type {\n",
              "        vertical-align: middle;\n",
              "    }\n",
              "\n",
              "    .dataframe tbody tr th {\n",
              "        vertical-align: top;\n",
              "    }\n",
              "\n",
              "    .dataframe thead th {\n",
              "        text-align: right;\n",
              "    }\n",
              "</style>\n",
              "<table border=\"1\" class=\"dataframe\">\n",
              "  <thead>\n",
              "    <tr style=\"text-align: right;\">\n",
              "      <th></th>\n",
              "      <th>param_criterion</th>\n",
              "      <th>param_max_depth</th>\n",
              "      <th>param_max_features</th>\n",
              "      <th>mean_test_score</th>\n",
              "    </tr>\n",
              "  </thead>\n",
              "  <tbody>\n",
              "    <tr>\n",
              "      <th>0</th>\n",
              "      <td>entropy</td>\n",
              "      <td>8</td>\n",
              "      <td>auto</td>\n",
              "      <td>0.745724</td>\n",
              "    </tr>\n",
              "    <tr>\n",
              "      <th>1</th>\n",
              "      <td>entropy</td>\n",
              "      <td>14</td>\n",
              "      <td>sqrt</td>\n",
              "      <td>0.782251</td>\n",
              "    </tr>\n",
              "    <tr>\n",
              "      <th>2</th>\n",
              "      <td>gini</td>\n",
              "      <td>8</td>\n",
              "      <td>log2</td>\n",
              "      <td>0.784690</td>\n",
              "    </tr>\n",
              "    <tr>\n",
              "      <th>3</th>\n",
              "      <td>entropy</td>\n",
              "      <td>33</td>\n",
              "      <td>auto</td>\n",
              "      <td>0.777402</td>\n",
              "    </tr>\n",
              "    <tr>\n",
              "      <th>4</th>\n",
              "      <td>gini</td>\n",
              "      <td>49</td>\n",
              "      <td>sqrt</td>\n",
              "      <td>0.748281</td>\n",
              "    </tr>\n",
              "    <tr>\n",
              "      <th>5</th>\n",
              "      <td>gini</td>\n",
              "      <td>28</td>\n",
              "      <td>sqrt</td>\n",
              "      <td>0.774758</td>\n",
              "    </tr>\n",
              "    <tr>\n",
              "      <th>6</th>\n",
              "      <td>gini</td>\n",
              "      <td>44</td>\n",
              "      <td>auto</td>\n",
              "      <td>0.767529</td>\n",
              "    </tr>\n",
              "    <tr>\n",
              "      <th>7</th>\n",
              "      <td>gini</td>\n",
              "      <td>6</td>\n",
              "      <td>auto</td>\n",
              "      <td>0.660858</td>\n",
              "    </tr>\n",
              "    <tr>\n",
              "      <th>8</th>\n",
              "      <td>entropy</td>\n",
              "      <td>19</td>\n",
              "      <td>log2</td>\n",
              "      <td>0.825742</td>\n",
              "    </tr>\n",
              "    <tr>\n",
              "      <th>9</th>\n",
              "      <td>entropy</td>\n",
              "      <td>45</td>\n",
              "      <td>log2</td>\n",
              "      <td>0.760359</td>\n",
              "    </tr>\n",
              "  </tbody>\n",
              "</table>\n",
              "</div>\n",
              "      <button class=\"colab-df-convert\" onclick=\"convertToInteractive('df-ca04a07d-78fb-4e59-8661-094283927904')\"\n",
              "              title=\"Convert this dataframe to an interactive table.\"\n",
              "              style=\"display:none;\">\n",
              "        \n",
              "  <svg xmlns=\"http://www.w3.org/2000/svg\" height=\"24px\"viewBox=\"0 0 24 24\"\n",
              "       width=\"24px\">\n",
              "    <path d=\"M0 0h24v24H0V0z\" fill=\"none\"/>\n",
              "    <path d=\"M18.56 5.44l.94 2.06.94-2.06 2.06-.94-2.06-.94-.94-2.06-.94 2.06-2.06.94zm-11 1L8.5 8.5l.94-2.06 2.06-.94-2.06-.94L8.5 2.5l-.94 2.06-2.06.94zm10 10l.94 2.06.94-2.06 2.06-.94-2.06-.94-.94-2.06-.94 2.06-2.06.94z\"/><path d=\"M17.41 7.96l-1.37-1.37c-.4-.4-.92-.59-1.43-.59-.52 0-1.04.2-1.43.59L10.3 9.45l-7.72 7.72c-.78.78-.78 2.05 0 2.83L4 21.41c.39.39.9.59 1.41.59.51 0 1.02-.2 1.41-.59l7.78-7.78 2.81-2.81c.8-.78.8-2.07 0-2.86zM5.41 20L4 18.59l7.72-7.72 1.47 1.35L5.41 20z\"/>\n",
              "  </svg>\n",
              "      </button>\n",
              "      \n",
              "  <style>\n",
              "    .colab-df-container {\n",
              "      display:flex;\n",
              "      flex-wrap:wrap;\n",
              "      gap: 12px;\n",
              "    }\n",
              "\n",
              "    .colab-df-convert {\n",
              "      background-color: #E8F0FE;\n",
              "      border: none;\n",
              "      border-radius: 50%;\n",
              "      cursor: pointer;\n",
              "      display: none;\n",
              "      fill: #1967D2;\n",
              "      height: 32px;\n",
              "      padding: 0 0 0 0;\n",
              "      width: 32px;\n",
              "    }\n",
              "\n",
              "    .colab-df-convert:hover {\n",
              "      background-color: #E2EBFA;\n",
              "      box-shadow: 0px 1px 2px rgba(60, 64, 67, 0.3), 0px 1px 3px 1px rgba(60, 64, 67, 0.15);\n",
              "      fill: #174EA6;\n",
              "    }\n",
              "\n",
              "    [theme=dark] .colab-df-convert {\n",
              "      background-color: #3B4455;\n",
              "      fill: #D2E3FC;\n",
              "    }\n",
              "\n",
              "    [theme=dark] .colab-df-convert:hover {\n",
              "      background-color: #434B5C;\n",
              "      box-shadow: 0px 1px 3px 1px rgba(0, 0, 0, 0.15);\n",
              "      filter: drop-shadow(0px 1px 2px rgba(0, 0, 0, 0.3));\n",
              "      fill: #FFFFFF;\n",
              "    }\n",
              "  </style>\n",
              "\n",
              "      <script>\n",
              "        const buttonEl =\n",
              "          document.querySelector('#df-ca04a07d-78fb-4e59-8661-094283927904 button.colab-df-convert');\n",
              "        buttonEl.style.display =\n",
              "          google.colab.kernel.accessAllowed ? 'block' : 'none';\n",
              "\n",
              "        async function convertToInteractive(key) {\n",
              "          const element = document.querySelector('#df-ca04a07d-78fb-4e59-8661-094283927904');\n",
              "          const dataTable =\n",
              "            await google.colab.kernel.invokeFunction('convertToInteractive',\n",
              "                                                     [key], {});\n",
              "          if (!dataTable) return;\n",
              "\n",
              "          const docLinkHtml = 'Like what you see? Visit the ' +\n",
              "            '<a target=\"_blank\" href=https://colab.research.google.com/notebooks/data_table.ipynb>data table notebook</a>'\n",
              "            + ' to learn more about interactive tables.';\n",
              "          element.innerHTML = '';\n",
              "          dataTable['output_type'] = 'display_data';\n",
              "          await google.colab.output.renderOutput(dataTable, element);\n",
              "          const docLink = document.createElement('div');\n",
              "          docLink.innerHTML = docLinkHtml;\n",
              "          element.appendChild(docLink);\n",
              "        }\n",
              "      </script>\n",
              "    </div>\n",
              "  </div>\n",
              "  "
            ]
          },
          "metadata": {},
          "execution_count": 191
        }
      ]
    },
    {
      "cell_type": "markdown",
      "metadata": {
        "id": "-b7gvnuxOhme"
      },
      "source": [
        "# Find best parameters"
      ]
    },
    {
      "cell_type": "code",
      "metadata": {
        "id": "dGqD5_-YOtgH"
      },
      "source": [
        "model_params = {\n",
        "    'logistic_regression' :{\n",
        "        'model': LogisticRegression(solver='liblinear',multi_class='auto'),\n",
        "        'params': {\n",
        "            'C' : [1,5,10,20,50]\n",
        "        }\n",
        "    },\n",
        "    'KNN' :{\n",
        "        'model': KNeighborsClassifier(),\n",
        "        'params': {\n",
        "            'leaf_size' : [1,5,10,15,20,50],\n",
        "            'n_neighbors' : [1,5,10,15],\n",
        "            'p' : [1,2,3]\n",
        "        }\n",
        "    },\n",
        "    'SVM' :{\n",
        "        'model': SVC(gamma='auto'),\n",
        "        'params': {\n",
        "            'C' : [1,5,10,20,50],\n",
        "            'kernel': ['rbf','linear']\n",
        "        }\n",
        "    },\n",
        "    'Naive Bayes' :{\n",
        "        'model': GaussianNB(),\n",
        "        'params': {\n",
        "            'var_smoothing' : [0.01,0.02,0.026,0.0265,0.0258,0.03]\n",
        "        }\n",
        "    },\n",
        "    'Decision Tree' :{\n",
        "        'model': DecisionTreeClassifier(),\n",
        "        'params': {\n",
        "            'splitter':['best','random'],\n",
        "            'max_depth' : [1,3,5],\n",
        "            'min_samples_leaf':[1,2,3,4,5],\n",
        "            'max_features':['auto','log2','sqrt',None],\n",
        "            'max_leaf_nodes':[None,10,20,30,40,50,60,70,80,90]\n",
        "        }\n",
        "    },\n",
        "    'Random Forest' :{\n",
        "        'model': RandomForestClassifier(),\n",
        "        'params': {\n",
        "            'bootstrap': [True],\n",
        "            'max_depth': [5, 10, None],\n",
        "            'max_features': ['auto', 'log2'],\n",
        "            'n_estimators': [5, 6, 7, 8, 9, 10, 11, 12, 13, 15]\n",
        "        }\n",
        "    }\n",
        "}"
      ],
      "execution_count": null,
      "outputs": []
    },
    {
      "cell_type": "code",
      "metadata": {
        "id": "lXTTO6yMT47w"
      },
      "source": [
        "scores = []\n",
        "for model_name,mp in model_params.items():\n",
        "  clf= GridSearchCV(mp['model'],mp['params'],cv=10, return_train_score=False)\n",
        "  clf.fit(X_train,Y_train)\n",
        "  scores.append({\n",
        "      'model' : model_name,\n",
        "      'best_score' : clf.best_score_,\n",
        "      'best_params' : clf.best_params_\n",
        "\n",
        "  })"
      ],
      "execution_count": null,
      "outputs": []
    },
    {
      "cell_type": "code",
      "metadata": {
        "colab": {
          "base_uri": "https://localhost:8080/",
          "height": 237
        },
        "id": "R1EE_e7tV8Fb",
        "outputId": "3cf9ab41-d251-4752-cde4-493144d7d363"
      },
      "source": [
        "df = pd.DataFrame(scores, columns=['model','best_score','best_params'])\n",
        "df"
      ],
      "execution_count": null,
      "outputs": [
        {
          "output_type": "execute_result",
          "data": {
            "text/plain": [
              "                 model  best_score  \\\n",
              "0  logistic_regression    0.845161   \n",
              "1                  KNN    0.867742   \n",
              "2                  SVM    0.900000   \n",
              "3          Naive Bayes    0.835484   \n",
              "4        Decision Tree    0.861290   \n",
              "5        Random Forest    0.903226   \n",
              "\n",
              "                                         best_params  \n",
              "0                                           {'C': 1}  \n",
              "1         {'leaf_size': 1, 'n_neighbors': 1, 'p': 3}  \n",
              "2                         {'C': 50, 'kernel': 'rbf'}  \n",
              "3                            {'var_smoothing': 0.01}  \n",
              "4  {'max_depth': 5, 'max_features': 'sqrt', 'max_...  \n",
              "5  {'bootstrap': True, 'max_depth': None, 'max_fe...  "
            ],
            "text/html": [
              "\n",
              "  <div id=\"df-5ca7e1ba-da5c-4cbc-92b5-6062eec192a6\">\n",
              "    <div class=\"colab-df-container\">\n",
              "      <div>\n",
              "<style scoped>\n",
              "    .dataframe tbody tr th:only-of-type {\n",
              "        vertical-align: middle;\n",
              "    }\n",
              "\n",
              "    .dataframe tbody tr th {\n",
              "        vertical-align: top;\n",
              "    }\n",
              "\n",
              "    .dataframe thead th {\n",
              "        text-align: right;\n",
              "    }\n",
              "</style>\n",
              "<table border=\"1\" class=\"dataframe\">\n",
              "  <thead>\n",
              "    <tr style=\"text-align: right;\">\n",
              "      <th></th>\n",
              "      <th>model</th>\n",
              "      <th>best_score</th>\n",
              "      <th>best_params</th>\n",
              "    </tr>\n",
              "  </thead>\n",
              "  <tbody>\n",
              "    <tr>\n",
              "      <th>0</th>\n",
              "      <td>logistic_regression</td>\n",
              "      <td>0.845161</td>\n",
              "      <td>{'C': 1}</td>\n",
              "    </tr>\n",
              "    <tr>\n",
              "      <th>1</th>\n",
              "      <td>KNN</td>\n",
              "      <td>0.867742</td>\n",
              "      <td>{'leaf_size': 1, 'n_neighbors': 1, 'p': 3}</td>\n",
              "    </tr>\n",
              "    <tr>\n",
              "      <th>2</th>\n",
              "      <td>SVM</td>\n",
              "      <td>0.900000</td>\n",
              "      <td>{'C': 50, 'kernel': 'rbf'}</td>\n",
              "    </tr>\n",
              "    <tr>\n",
              "      <th>3</th>\n",
              "      <td>Naive Bayes</td>\n",
              "      <td>0.835484</td>\n",
              "      <td>{'var_smoothing': 0.01}</td>\n",
              "    </tr>\n",
              "    <tr>\n",
              "      <th>4</th>\n",
              "      <td>Decision Tree</td>\n",
              "      <td>0.861290</td>\n",
              "      <td>{'max_depth': 5, 'max_features': 'sqrt', 'max_...</td>\n",
              "    </tr>\n",
              "    <tr>\n",
              "      <th>5</th>\n",
              "      <td>Random Forest</td>\n",
              "      <td>0.903226</td>\n",
              "      <td>{'bootstrap': True, 'max_depth': None, 'max_fe...</td>\n",
              "    </tr>\n",
              "  </tbody>\n",
              "</table>\n",
              "</div>\n",
              "      <button class=\"colab-df-convert\" onclick=\"convertToInteractive('df-5ca7e1ba-da5c-4cbc-92b5-6062eec192a6')\"\n",
              "              title=\"Convert this dataframe to an interactive table.\"\n",
              "              style=\"display:none;\">\n",
              "        \n",
              "  <svg xmlns=\"http://www.w3.org/2000/svg\" height=\"24px\"viewBox=\"0 0 24 24\"\n",
              "       width=\"24px\">\n",
              "    <path d=\"M0 0h24v24H0V0z\" fill=\"none\"/>\n",
              "    <path d=\"M18.56 5.44l.94 2.06.94-2.06 2.06-.94-2.06-.94-.94-2.06-.94 2.06-2.06.94zm-11 1L8.5 8.5l.94-2.06 2.06-.94-2.06-.94L8.5 2.5l-.94 2.06-2.06.94zm10 10l.94 2.06.94-2.06 2.06-.94-2.06-.94-.94-2.06-.94 2.06-2.06.94z\"/><path d=\"M17.41 7.96l-1.37-1.37c-.4-.4-.92-.59-1.43-.59-.52 0-1.04.2-1.43.59L10.3 9.45l-7.72 7.72c-.78.78-.78 2.05 0 2.83L4 21.41c.39.39.9.59 1.41.59.51 0 1.02-.2 1.41-.59l7.78-7.78 2.81-2.81c.8-.78.8-2.07 0-2.86zM5.41 20L4 18.59l7.72-7.72 1.47 1.35L5.41 20z\"/>\n",
              "  </svg>\n",
              "      </button>\n",
              "      \n",
              "  <style>\n",
              "    .colab-df-container {\n",
              "      display:flex;\n",
              "      flex-wrap:wrap;\n",
              "      gap: 12px;\n",
              "    }\n",
              "\n",
              "    .colab-df-convert {\n",
              "      background-color: #E8F0FE;\n",
              "      border: none;\n",
              "      border-radius: 50%;\n",
              "      cursor: pointer;\n",
              "      display: none;\n",
              "      fill: #1967D2;\n",
              "      height: 32px;\n",
              "      padding: 0 0 0 0;\n",
              "      width: 32px;\n",
              "    }\n",
              "\n",
              "    .colab-df-convert:hover {\n",
              "      background-color: #E2EBFA;\n",
              "      box-shadow: 0px 1px 2px rgba(60, 64, 67, 0.3), 0px 1px 3px 1px rgba(60, 64, 67, 0.15);\n",
              "      fill: #174EA6;\n",
              "    }\n",
              "\n",
              "    [theme=dark] .colab-df-convert {\n",
              "      background-color: #3B4455;\n",
              "      fill: #D2E3FC;\n",
              "    }\n",
              "\n",
              "    [theme=dark] .colab-df-convert:hover {\n",
              "      background-color: #434B5C;\n",
              "      box-shadow: 0px 1px 3px 1px rgba(0, 0, 0, 0.15);\n",
              "      filter: drop-shadow(0px 1px 2px rgba(0, 0, 0, 0.3));\n",
              "      fill: #FFFFFF;\n",
              "    }\n",
              "  </style>\n",
              "\n",
              "      <script>\n",
              "        const buttonEl =\n",
              "          document.querySelector('#df-5ca7e1ba-da5c-4cbc-92b5-6062eec192a6 button.colab-df-convert');\n",
              "        buttonEl.style.display =\n",
              "          google.colab.kernel.accessAllowed ? 'block' : 'none';\n",
              "\n",
              "        async function convertToInteractive(key) {\n",
              "          const element = document.querySelector('#df-5ca7e1ba-da5c-4cbc-92b5-6062eec192a6');\n",
              "          const dataTable =\n",
              "            await google.colab.kernel.invokeFunction('convertToInteractive',\n",
              "                                                     [key], {});\n",
              "          if (!dataTable) return;\n",
              "\n",
              "          const docLinkHtml = 'Like what you see? Visit the ' +\n",
              "            '<a target=\"_blank\" href=https://colab.research.google.com/notebooks/data_table.ipynb>data table notebook</a>'\n",
              "            + ' to learn more about interactive tables.';\n",
              "          element.innerHTML = '';\n",
              "          dataTable['output_type'] = 'display_data';\n",
              "          await google.colab.output.renderOutput(dataTable, element);\n",
              "          const docLink = document.createElement('div');\n",
              "          docLink.innerHTML = docLinkHtml;\n",
              "          element.appendChild(docLink);\n",
              "        }\n",
              "      </script>\n",
              "    </div>\n",
              "  </div>\n",
              "  "
            ]
          },
          "metadata": {},
          "execution_count": 115
        }
      ]
    },
    {
      "cell_type": "markdown",
      "metadata": {
        "id": "Iv5ylvBg_p33"
      },
      "source": [
        "# Traditional Algorithm"
      ]
    },
    {
      "cell_type": "markdown",
      "metadata": {
        "id": "t3FtNhZHpR3a"
      },
      "source": [
        "##Logistic Regression"
      ]
    },
    {
      "cell_type": "code",
      "metadata": {
        "colab": {
          "base_uri": "https://localhost:8080/"
        },
        "id": "KGbtQVLopUlx",
        "outputId": "d242ee8e-d522-4513-efcd-a3da858942fa"
      },
      "source": [
        "classifier = LogisticRegression(random_state=42,C=best_paramlr['C'])\n",
        "classifier.fit(X, Y)"
      ],
      "execution_count": null,
      "outputs": [
        {
          "output_type": "execute_result",
          "data": {
            "text/plain": [
              "LogisticRegression(C=1, random_state=42)"
            ]
          },
          "metadata": {},
          "execution_count": 204
        }
      ]
    },
    {
      "cell_type": "code",
      "metadata": {
        "id": "pG6sSa-kreRe"
      },
      "source": [
        "r_prob = [0 for _ in range(len(Y_test))]"
      ],
      "execution_count": null,
      "outputs": []
    },
    {
      "cell_type": "code",
      "metadata": {
        "id": "l3SGtFt9p7DI"
      },
      "source": [
        "Y_predlr = classifier.predict(X_test)"
      ],
      "execution_count": null,
      "outputs": []
    },
    {
      "cell_type": "code",
      "metadata": {
        "id": "pXh-EUgMb9tU"
      },
      "source": [
        "ytest_pred = classifier.predict_proba(X_test)\n",
        "lr_prob = classifier.predict_proba(X_test)"
      ],
      "execution_count": null,
      "outputs": []
    },
    {
      "cell_type": "code",
      "metadata": {
        "id": "01ZEkUG7EVjv"
      },
      "source": [
        "Y_cvpredlr = cross_val_predict(classifier, X, Y, cv=10)"
      ],
      "execution_count": null,
      "outputs": []
    },
    {
      "cell_type": "code",
      "metadata": {
        "colab": {
          "base_uri": "https://localhost:8080/"
        },
        "id": "BftSrEuY8n5p",
        "outputId": "320be443-019f-411c-986d-caa94a14a330"
      },
      "source": [
        "cm = confusion_matrix(Y_test,Y_predlr)\n",
        "print(cm)"
      ],
      "execution_count": null,
      "outputs": [
        {
          "output_type": "stream",
          "name": "stdout",
          "text": [
            "[[43 10]\n",
            " [ 2 48]]\n"
          ]
        }
      ]
    },
    {
      "cell_type": "code",
      "metadata": {
        "colab": {
          "base_uri": "https://localhost:8080/"
        },
        "id": "17_9eQsLp8-y",
        "outputId": "2423388c-c48c-4570-f413-b5d62168ca76"
      },
      "source": [
        "cm = confusion_matrix(Y,Y_cvpredlr)\n",
        "print(cm)"
      ],
      "execution_count": null,
      "outputs": [
        {
          "output_type": "stream",
          "name": "stdout",
          "text": [
            "[[161  45]\n",
            " [ 17 189]]\n"
          ]
        }
      ]
    },
    {
      "cell_type": "code",
      "metadata": {
        "colab": {
          "base_uri": "https://localhost:8080/",
          "height": 282
        },
        "id": "D4qOUqMGlXzT",
        "outputId": "a1791235-15f0-42b4-da0d-3a51c6bb62ee"
      },
      "source": [
        "labels = [\"{0:0.0f}\".format(value) for value in\n",
        "                cm.flatten()]\n",
        "labels = np.asarray(labels).reshape(2,2)\n",
        "sns.heatmap(cm, annot=labels, fmt='', cmap='Blues')"
      ],
      "execution_count": null,
      "outputs": [
        {
          "output_type": "execute_result",
          "data": {
            "text/plain": [
              "<matplotlib.axes._subplots.AxesSubplot at 0x7f0f63df9610>"
            ]
          },
          "metadata": {},
          "execution_count": 211
        },
        {
          "output_type": "display_data",
          "data": {
            "text/plain": [
              "<Figure size 432x288 with 2 Axes>"
            ],
            "image/png": "[encoded data removed]"
          },
          "metadata": {
            "needs_background": "light"
          }
        }
      ]
    },
    {
      "cell_type": "code",
      "metadata": {
        "colab": {
          "base_uri": "https://localhost:8080/"
        },
        "id": "ZpDDXMloq8If",
        "outputId": "e216cff0-16b5-497e-b015-7f321c0366f9"
      },
      "source": [
        "accuracy = cross_val_score(classifier,X,Y, cv=10, scoring='accuracy')\n",
        "print('All Cross Val Accuracy :',accuracy)\n",
        "print('\\nCross Val Accuracy :',accuracy.mean())"
      ],
      "execution_count": null,
      "outputs": [
        {
          "output_type": "stream",
          "name": "stdout",
          "text": [
            "All Cross Val Accuracy : [0.5952381  0.64285714 0.63414634 0.90243902 0.95121951 0.95121951\n",
            " 0.92682927 0.97560976 0.95121951 0.97560976]\n",
            "\n",
            "Cross Val Accuracy : 0.8506387921022067\n"
          ]
        }
      ]
    },
    {
      "cell_type": "code",
      "metadata": {
        "colab": {
          "base_uri": "https://localhost:8080/"
        },
        "id": "FeZEmx0nHcx8",
        "outputId": "f55ce927-0386-4b7a-d054-d1117f6c39b4"
      },
      "source": [
        "cvresult(Y,Y_cvpredlr)"
      ],
      "execution_count": null,
      "outputs": [
        {
          "output_type": "stream",
          "name": "stdout",
          "text": [
            "Cross Val f1 score :  0.8590909090909091\n",
            "Cross Val Precision :  0.8076923076923077\n",
            "Cross Val recall :  0.9174757281553398\n",
            "Cross Val Classification Report : \n",
            "               precision    recall  f1-score   support\n",
            "\n",
            "           0       0.90      0.78      0.84       206\n",
            "           1       0.81      0.92      0.86       206\n",
            "\n",
            "    accuracy                           0.85       412\n",
            "   macro avg       0.86      0.85      0.85       412\n",
            "weighted avg       0.86      0.85      0.85       412\n",
            "\n"
          ]
        }
      ]
    },
    {
      "cell_type": "code",
      "metadata": {
        "colab": {
          "base_uri": "https://localhost:8080/"
        },
        "id": "ge5yumrV0qs8",
        "outputId": "4fe9b59a-5fec-4609-a250-f6bf5ab88e1b"
      },
      "source": [
        "result(Y_test,Y_predlr)"
      ],
      "execution_count": null,
      "outputs": [
        {
          "output_type": "stream",
          "name": "stdout",
          "text": [
            "Accuracy :  0.883495145631068\n",
            "f1 score :  0.888888888888889\n",
            "Precision :  0.8275862068965517\n",
            "recall :  0.96\n",
            "Classification Report : \n",
            "               precision    recall  f1-score   support\n",
            "\n",
            "           0       0.96      0.81      0.88        53\n",
            "           1       0.83      0.96      0.89        50\n",
            "\n",
            "    accuracy                           0.88       103\n",
            "   macro avg       0.89      0.89      0.88       103\n",
            "weighted avg       0.89      0.88      0.88       103\n",
            "\n"
          ]
        }
      ]
    },
    {
      "cell_type": "code",
      "metadata": {
        "colab": {
          "base_uri": "https://localhost:8080/"
        },
        "id": "kr58ISgTyayl",
        "outputId": "14ce5b5e-6f26-4a6f-cd99-90de548bbda0"
      },
      "source": [
        "lr_auc = roc_auc_score(Y_test,lr_prob[:,1])\n",
        "print('roc-auc score :{}'.format(lr_auc))"
      ],
      "execution_count": null,
      "outputs": [
        {
          "output_type": "stream",
          "name": "stdout",
          "text": [
            "roc-auc score :0.9411320754716981\n"
          ]
        }
      ]
    },
    {
      "cell_type": "markdown",
      "metadata": {
        "id": "G215SLZPILmb"
      },
      "source": [
        "##K-NN"
      ]
    },
    {
      "cell_type": "code",
      "metadata": {
        "colab": {
          "base_uri": "https://localhost:8080/"
        },
        "id": "tG8WxNCtIOqt",
        "outputId": "011330d9-d5da-4826-974e-551f406bfc3e"
      },
      "source": [
        "import math\n",
        "math.sqrt(len(Y_test))"
      ],
      "execution_count": null,
      "outputs": [
        {
          "output_type": "execute_result",
          "data": {
            "text/plain": [
              "10.198039027185569"
            ]
          },
          "metadata": {},
          "execution_count": 253
        }
      ]
    },
    {
      "cell_type": "code",
      "metadata": {
        "colab": {
          "base_uri": "https://localhost:8080/"
        },
        "id": "L6cRDBAaIXti",
        "outputId": "283f918e-da13-439f-e9ed-aa2a75da8e60"
      },
      "source": [
        "kclassifier = KNeighborsClassifier(n_neighbors = 5, p=best_paramknn['p'],leaf_size=best_paramknn['leaf_size'], metric = 'euclidean')\n",
        "kclassifier.fit(X,Y)"
      ],
      "execution_count": null,
      "outputs": [
        {
          "output_type": "execute_result",
          "data": {
            "text/plain": [
              "KNeighborsClassifier(leaf_size=10, metric='euclidean')"
            ]
          },
          "metadata": {},
          "execution_count": 254
        }
      ]
    },
    {
      "cell_type": "code",
      "metadata": {
        "id": "c4A8xYyDIaqB"
      },
      "source": [
        "Y_predk = kclassifier.predict(X_test)"
      ],
      "execution_count": null,
      "outputs": []
    },
    {
      "cell_type": "code",
      "metadata": {
        "id": "WqsViuE9IYvz"
      },
      "source": [
        "Y_cvpredk = cross_val_predict(kclassifier, X, Y, cv=10)"
      ],
      "execution_count": null,
      "outputs": []
    },
    {
      "cell_type": "code",
      "metadata": {
        "id": "VSED1BOCcQQN"
      },
      "source": [
        "ytest_pred = kclassifier.predict_proba(X_test)\n",
        "knn_prob = kclassifier.predict_proba(X_test)"
      ],
      "execution_count": null,
      "outputs": []
    },
    {
      "cell_type": "code",
      "metadata": {
        "colab": {
          "base_uri": "https://localhost:8080/"
        },
        "id": "SuFW1Iw_8bD5",
        "outputId": "e4dba037-6e0f-4487-82e9-1b337a651397"
      },
      "source": [
        "cmk = confusion_matrix(Y_test,Y_predk)\n",
        "print(cmk)"
      ],
      "execution_count": null,
      "outputs": [
        {
          "output_type": "stream",
          "name": "stdout",
          "text": [
            "[[44  9]\n",
            " [ 0 51]]\n"
          ]
        }
      ]
    },
    {
      "cell_type": "code",
      "metadata": {
        "colab": {
          "base_uri": "https://localhost:8080/"
        },
        "id": "u4Asb5K1Ilmz",
        "outputId": "c444d7c8-7950-4239-a6f1-aa6867b41c9b"
      },
      "source": [
        "cmk = confusion_matrix(Y,Y_cvpredk)\n",
        "print(cmk)"
      ],
      "execution_count": null,
      "outputs": [
        {
          "output_type": "stream",
          "name": "stdout",
          "text": [
            "[[138  69]\n",
            " [  9 198]]\n"
          ]
        }
      ]
    },
    {
      "cell_type": "code",
      "metadata": {
        "colab": {
          "base_uri": "https://localhost:8080/",
          "height": 282
        },
        "id": "06c65eeOtyF9",
        "outputId": "3fada3ba-86e6-4e29-c6c6-b8c65c855c6c"
      },
      "source": [
        "group_names = ['True Neg','False Pos','False Neg','True Pos']\n",
        "group_counts = [\"{0:0.0f}\".format(value) for value in\n",
        "                cmk.flatten()]\n",
        "group_percentages = [\"{0:.2%}\".format(value) for value in\n",
        "                     cmk.flatten()/np.sum(cmk)]\n",
        "labels = [f\"{v1}\\n{v2}\\n{v3}\" for v1, v2, v3 in\n",
        "          zip(group_names,group_counts,group_percentages)]\n",
        "labels = np.asarray(labels).reshape(2,2)\n",
        "sns.heatmap(cmk, annot=labels, fmt='', cmap='Blues')"
      ],
      "execution_count": null,
      "outputs": [
        {
          "output_type": "execute_result",
          "data": {
            "text/plain": [
              "<matplotlib.axes._subplots.AxesSubplot at 0x7f71b6d7d910>"
            ]
          },
          "metadata": {},
          "execution_count": 260
        },
        {
          "output_type": "display_data",
          "data": {
            "text/plain": [
              "<Figure size 432x288 with 2 Axes>"
            ],
            "image/png": "[encoded data removed]"
          },
          "metadata": {
            "needs_background": "light"
          }
        }
      ]
    },
    {
      "cell_type": "code",
      "metadata": {
        "colab": {
          "base_uri": "https://localhost:8080/"
        },
        "id": "9sBemxOrIyVC",
        "outputId": "e60d3e48-a4f0-4d32-d6f1-44f5cd5e8f49"
      },
      "source": [
        "accuracy = cross_val_score(kclassifier,X,Y, cv=10, scoring='accuracy')\n",
        "print('All Cross Val Accuracy :',accuracy)\n",
        "print('\\nCross Val Accuracy :',accuracy.mean())"
      ],
      "execution_count": null,
      "outputs": [
        {
          "output_type": "stream",
          "name": "stdout",
          "text": [
            "All Cross Val Accuracy : [0.54761905 0.61904762 0.61904762 0.88095238 0.85365854 0.90243902\n",
            " 0.92682927 0.87804878 0.95121951 0.95121951]\n",
            "\n",
            "Cross Val Accuracy : 0.8130081300813009\n"
          ]
        }
      ]
    },
    {
      "cell_type": "code",
      "metadata": {
        "colab": {
          "base_uri": "https://localhost:8080/"
        },
        "id": "QbjhnXav29v8",
        "outputId": "49f0f66c-2665-4af1-8784-01a7853a68ac"
      },
      "source": [
        "cvresult(Y,Y_cvpredk)"
      ],
      "execution_count": null,
      "outputs": [
        {
          "output_type": "stream",
          "name": "stdout",
          "text": [
            "Cross Val f1 score :  0.8354430379746837\n",
            "Cross Val Precision :  0.7415730337078652\n",
            "Cross Val recall :  0.9565217391304348\n",
            "Cross Val Classification Report : \n",
            "               precision    recall  f1-score   support\n",
            "\n",
            "           0       0.94      0.67      0.78       207\n",
            "           1       0.74      0.96      0.84       207\n",
            "\n",
            "    accuracy                           0.81       414\n",
            "   macro avg       0.84      0.81      0.81       414\n",
            "weighted avg       0.84      0.81      0.81       414\n",
            "\n"
          ]
        }
      ]
    },
    {
      "cell_type": "code",
      "metadata": {
        "colab": {
          "base_uri": "https://localhost:8080/"
        },
        "id": "2D-QV1sd3YH-",
        "outputId": "899e7bbe-753e-4f12-b8eb-92780a1bcfec"
      },
      "source": [
        "result(Y_test,Y_predk)"
      ],
      "execution_count": null,
      "outputs": [
        {
          "output_type": "stream",
          "name": "stdout",
          "text": [
            "Accuracy :  0.9134615384615384\n",
            "f1 score :  0.9189189189189189\n",
            "Precision :  0.85\n",
            "recall :  1.0\n",
            "Classification Report : \n",
            "               precision    recall  f1-score   support\n",
            "\n",
            "           0       1.00      0.83      0.91        53\n",
            "           1       0.85      1.00      0.92        51\n",
            "\n",
            "    accuracy                           0.91       104\n",
            "   macro avg       0.93      0.92      0.91       104\n",
            "weighted avg       0.93      0.91      0.91       104\n",
            "\n"
          ]
        }
      ]
    },
    {
      "cell_type": "code",
      "metadata": {
        "colab": {
          "base_uri": "https://localhost:8080/"
        },
        "id": "PyUgpWzbJh5D",
        "outputId": "949c6064-ae7d-4d0c-cbeb-527a7e1f0ae8"
      },
      "source": [
        "knn_auc = roc_auc_score(Y_test,knn_prob[:,1])\n",
        "print('roc-auc score :{}'.format(knn_auc))"
      ],
      "execution_count": null,
      "outputs": [
        {
          "output_type": "stream",
          "name": "stdout",
          "text": [
            "roc-auc score :0.9829818719940806\n"
          ]
        }
      ]
    },
    {
      "cell_type": "markdown",
      "metadata": {
        "id": "jUIOcnFZJ4t7"
      },
      "source": [
        "##SVM"
      ]
    },
    {
      "cell_type": "code",
      "metadata": {
        "colab": {
          "base_uri": "https://localhost:8080/"
        },
        "id": "pYYxgDh8J5xt",
        "outputId": "a8fbf661-7597-4f49-b03d-729eee85bb33"
      },
      "source": [
        "sclassifier = SVC(kernel = best_params['kernel'],random_state = 42,C=best_params['C'], probability=True)\n",
        "sclassifier.fit(X,Y)"
      ],
      "execution_count": null,
      "outputs": [
        {
          "output_type": "execute_result",
          "data": {
            "text/plain": [
              "SVC(C=50, probability=True, random_state=42)"
            ]
          },
          "metadata": {},
          "execution_count": 216
        }
      ]
    },
    {
      "cell_type": "code",
      "metadata": {
        "id": "bS0WEfjrKBhB"
      },
      "source": [
        "Y_preds = sclassifier.predict(X_test)"
      ],
      "execution_count": null,
      "outputs": []
    },
    {
      "cell_type": "code",
      "metadata": {
        "id": "jdnJlSXNcUhq"
      },
      "source": [
        "ytest_pred = sclassifier.predict_proba(X_test)\n",
        "svm_prob = sclassifier.predict_proba(X_test)"
      ],
      "execution_count": null,
      "outputs": []
    },
    {
      "cell_type": "code",
      "metadata": {
        "id": "-43FRxdi4Epb"
      },
      "source": [
        "Y_cvpreds = cross_val_predict(sclassifier, X, Y, cv=10)"
      ],
      "execution_count": null,
      "outputs": []
    },
    {
      "cell_type": "code",
      "metadata": {
        "colab": {
          "base_uri": "https://localhost:8080/"
        },
        "id": "ZWga9uQi8SHI",
        "outputId": "75cf3645-72cf-4f33-ca7d-0dd045bce066"
      },
      "source": [
        "cms = confusion_matrix(Y_test,Y_preds)\n",
        "print(cms)"
      ],
      "execution_count": null,
      "outputs": [
        {
          "output_type": "stream",
          "name": "stdout",
          "text": [
            "[[53  0]\n",
            " [ 0 50]]\n"
          ]
        }
      ]
    },
    {
      "cell_type": "code",
      "metadata": {
        "colab": {
          "base_uri": "https://localhost:8080/"
        },
        "id": "yLMwtb12KGIz",
        "outputId": "cfc48f3b-8c9c-4ce5-9e65-6a67afef66f5"
      },
      "source": [
        "cms = confusion_matrix(Y,Y_cvpreds)\n",
        "print(cms)"
      ],
      "execution_count": null,
      "outputs": [
        {
          "output_type": "stream",
          "name": "stdout",
          "text": [
            "[[171  35]\n",
            " [  6 200]]\n"
          ]
        }
      ]
    },
    {
      "cell_type": "code",
      "metadata": {
        "colab": {
          "base_uri": "https://localhost:8080/",
          "height": 286
        },
        "id": "ZuO9Asbp4WbK",
        "outputId": "7a6ed7c1-e696-4513-a7ea-afdf90079dca"
      },
      "source": [
        "group_names = ['True Neg','False Pos','False Neg','True Pos']\n",
        "group_counts = [\"{0:0.0f}\".format(value) for value in\n",
        "                cms.flatten()]\n",
        "group_percentages = [\"{0:.2%}\".format(value) for value in\n",
        "                     cms.flatten()/np.sum(cms)]\n",
        "labels = [f\"{v1}\\n{v2}\\n{v3}\" for v1, v2, v3 in\n",
        "          zip(group_names,group_counts,group_percentages)]\n",
        "labels = np.asarray(labels).reshape(2,2)\n",
        "sns.heatmap(cms, annot=labels, fmt='', cmap='Blues')"
      ],
      "execution_count": null,
      "outputs": [
        {
          "output_type": "execute_result",
          "data": {
            "text/plain": [
              "<matplotlib.axes._subplots.AxesSubplot at 0x7f0f63f7f8d0>"
            ]
          },
          "metadata": {},
          "execution_count": 222
        },
        {
          "output_type": "display_data",
          "data": {
            "text/plain": [
              "<Figure size 432x288 with 2 Axes>"
            ],
            "image/png": "[encoded data removed]"
          },
          "metadata": {
            "needs_background": "light"
          }
        }
      ]
    },
    {
      "cell_type": "code",
      "metadata": {
        "colab": {
          "base_uri": "https://localhost:8080/"
        },
        "id": "hTCnwfXaKLlm",
        "outputId": "97ba5b8b-ff67-45a9-9c59-2080377525d2"
      },
      "source": [
        "accuracy = cross_val_score(sclassifier,X,Y, cv=10, scoring='accuracy')\n",
        "print('All Cross Val Accuracy :',accuracy)\n",
        "print('\\nCross Val Accuracy :',accuracy.mean())"
      ],
      "execution_count": null,
      "outputs": [
        {
          "output_type": "stream",
          "name": "stdout",
          "text": [
            "All Cross Val Accuracy : [0.73809524 0.73809524 0.80487805 0.87804878 0.92682927 0.97560976\n",
            " 0.97560976 0.97560976 1.         1.        ]\n",
            "\n",
            "Cross Val Accuracy : 0.9012775842044135\n"
          ]
        }
      ]
    },
    {
      "cell_type": "code",
      "metadata": {
        "colab": {
          "base_uri": "https://localhost:8080/"
        },
        "id": "sh5PoPbl4r22",
        "outputId": "0f74a414-9cd4-48b4-e9f5-e7eadc906d2c"
      },
      "source": [
        "cvresult(Y,Y_cvpreds)"
      ],
      "execution_count": null,
      "outputs": [
        {
          "output_type": "stream",
          "name": "stdout",
          "text": [
            "Cross Val f1 score :  0.9070294784580499\n",
            "Cross Val Precision :  0.851063829787234\n",
            "Cross Val recall :  0.970873786407767\n",
            "Cross Val Classification Report : \n",
            "               precision    recall  f1-score   support\n",
            "\n",
            "           0       0.97      0.83      0.89       206\n",
            "           1       0.85      0.97      0.91       206\n",
            "\n",
            "    accuracy                           0.90       412\n",
            "   macro avg       0.91      0.90      0.90       412\n",
            "weighted avg       0.91      0.90      0.90       412\n",
            "\n"
          ]
        }
      ]
    },
    {
      "cell_type": "code",
      "metadata": {
        "colab": {
          "base_uri": "https://localhost:8080/"
        },
        "id": "XpDb_sXP5EKT",
        "outputId": "279b3100-4057-480b-a55f-ea3529b86d31"
      },
      "source": [
        "result(Y_test,Y_preds)"
      ],
      "execution_count": null,
      "outputs": [
        {
          "output_type": "stream",
          "name": "stdout",
          "text": [
            "Accuracy :  1.0\n",
            "f1 score :  1.0\n",
            "Precision :  1.0\n",
            "recall :  1.0\n",
            "Classification Report : \n",
            "               precision    recall  f1-score   support\n",
            "\n",
            "           0       1.00      1.00      1.00        53\n",
            "           1       1.00      1.00      1.00        50\n",
            "\n",
            "    accuracy                           1.00       103\n",
            "   macro avg       1.00      1.00      1.00       103\n",
            "weighted avg       1.00      1.00      1.00       103\n",
            "\n"
          ]
        }
      ]
    },
    {
      "cell_type": "code",
      "metadata": {
        "colab": {
          "base_uri": "https://localhost:8080/"
        },
        "id": "qoIiU1CuLCgS",
        "outputId": "e3456d9b-7b92-4ae4-f464-012d6ed60143"
      },
      "source": [
        "svm_auc = roc_auc_score(Y_test,svm_prob[:,1])\n",
        "print('roc-auc score :{}'.format(svm_auc))"
      ],
      "execution_count": null,
      "outputs": [
        {
          "output_type": "stream",
          "name": "stdout",
          "text": [
            "roc-auc score :1.0\n"
          ]
        }
      ]
    },
    {
      "cell_type": "markdown",
      "metadata": {
        "id": "46fCk_YoLbDD"
      },
      "source": [
        "##kernel SVM"
      ]
    },
    {
      "cell_type": "code",
      "metadata": {
        "colab": {
          "base_uri": "https://localhost:8080/"
        },
        "id": "ja3os9g7LcB-",
        "outputId": "11b8ddd3-40c3-4b6f-ba09-980cc1b23478"
      },
      "source": [
        "ksclassifier = SVC(kernel = 'linear',C=1,random_state = 0, probability=True)\n",
        "ksclassifier.fit(X,Y)"
      ],
      "execution_count": null,
      "outputs": [
        {
          "output_type": "execute_result",
          "data": {
            "text/plain": [
              "SVC(C=1, kernel='linear', probability=True, random_state=0)"
            ]
          },
          "metadata": {},
          "execution_count": 195
        }
      ]
    },
    {
      "cell_type": "code",
      "metadata": {
        "id": "6yMiQyl-LhUr"
      },
      "source": [
        "Y_predks = ksclassifier.predict(X_test)"
      ],
      "execution_count": null,
      "outputs": []
    },
    {
      "cell_type": "code",
      "metadata": {
        "id": "gUDoHPDPc6u8"
      },
      "source": [
        " ytest_pred = ksclassifier.predict_proba(X_test)\n",
        " ksvm_prob = ksclassifier.predict_proba(X_test)"
      ],
      "execution_count": null,
      "outputs": []
    },
    {
      "cell_type": "code",
      "metadata": {
        "id": "7so5cXcx5YFe"
      },
      "source": [
        "Y_cvpredks = cross_val_predict(ksclassifier, X, Y, cv=10)"
      ],
      "execution_count": null,
      "outputs": []
    },
    {
      "cell_type": "code",
      "metadata": {
        "colab": {
          "base_uri": "https://localhost:8080/"
        },
        "id": "hTif6-B-8Bvp",
        "outputId": "95d9f899-fef9-404a-fd00-1800f9bb5545"
      },
      "source": [
        "cm = confusion_matrix(Y_test,Y_predks)\n",
        "print(cm)"
      ],
      "execution_count": null,
      "outputs": [
        {
          "output_type": "stream",
          "name": "stdout",
          "text": [
            "[[45  8]\n",
            " [ 3 48]]\n"
          ]
        }
      ]
    },
    {
      "cell_type": "code",
      "metadata": {
        "colab": {
          "base_uri": "https://localhost:8080/"
        },
        "id": "uabzihNZLp9R",
        "outputId": "a0ab1486-07e6-4c34-e42a-c5d9547b5fa2"
      },
      "source": [
        "cmks = confusion_matrix(Y,Y_cvpredks)\n",
        "print(cmks)"
      ],
      "execution_count": null,
      "outputs": [
        {
          "output_type": "stream",
          "name": "stdout",
          "text": [
            "[[158  49]\n",
            " [ 18 189]]\n"
          ]
        }
      ]
    },
    {
      "cell_type": "code",
      "metadata": {
        "colab": {
          "base_uri": "https://localhost:8080/"
        },
        "id": "A_yXZ_hg7sM1",
        "outputId": "4cc2999c-2f07-4737-b34e-c85b31e9bef8"
      },
      "source": [
        "group_names = ['True Neg','False Pos','False Neg','True Pos']\n",
        "group_counts = [\"{0:0.0f}\".format(value) for value in\n",
        "                cmks.flatten()]\n",
        "group_percentages = [\"{0:.2%}\".format(value) for value in\n",
        "                     cmks.flatten()/np.sum(cmks)]\n",
        "labels = [f\"{v1}\\n{v2}\\n{v3}\" for v1, v2, v3 in\n",
        "          zip(group_names,group_counts,group_percentages)]\n",
        "labels = np.asarray(labels).reshape(2,2)\n",
        "sns.heatmap(cmks, annot=labels, fmt='', cmap='Blues')"
      ],
      "execution_count": null,
      "outputs": [
        {
          "output_type": "execute_result",
          "data": {
            "text/plain": [
              "<matplotlib.axes._subplots.AxesSubplot at 0x7f71b722f5d0>"
            ]
          },
          "metadata": {},
          "execution_count": 201
        },
        {
          "output_type": "display_data",
          "data": {
            "text/plain": [
              "<Figure size 432x288 with 2 Axes>"
            ],
            "image/png": "[encoded data removed]"
          },
          "metadata": {
            "needs_background": "light"
          }
        }
      ]
    },
    {
      "cell_type": "code",
      "metadata": {
        "colab": {
          "base_uri": "https://localhost:8080/"
        },
        "id": "LkzG25NaLslR",
        "outputId": "db985e59-95ae-46f5-bb46-42e6640d7d34"
      },
      "source": [
        "accuracy = cross_val_score(ksclassifier,X,Y, cv=10, scoring='accuracy')\n",
        "print('All Cross Val Accuracy :',accuracy)\n",
        "print('\\nCross Val Accuracy :',accuracy.mean())"
      ],
      "execution_count": null,
      "outputs": [
        {
          "output_type": "stream",
          "name": "stdout",
          "text": [
            "All Cross Val Accuracy : [0.5952381  0.5952381  0.61904762 0.9047619  0.95121951 0.95121951\n",
            " 0.92682927 1.         0.90243902 0.95121951]\n",
            "\n",
            "Cross Val Accuracy : 0.8397212543554007\n"
          ]
        }
      ]
    },
    {
      "cell_type": "code",
      "metadata": {
        "colab": {
          "base_uri": "https://localhost:8080/"
        },
        "id": "1vJxMU955_Yz",
        "outputId": "d69333a0-35e0-4f88-8098-22e617c91aca"
      },
      "source": [
        "cvresult(Y,Y_cvpredks)"
      ],
      "execution_count": null,
      "outputs": [
        {
          "output_type": "stream",
          "name": "stdout",
          "text": [
            "Cross Val f1 score :  0.8494382022471909\n",
            "Cross Val Precision :  0.7941176470588235\n",
            "Cross Val recall :  0.9130434782608695\n",
            "Cross Val Classification Report : \n",
            "               precision    recall  f1-score   support\n",
            "\n",
            "           0       0.90      0.76      0.83       207\n",
            "           1       0.79      0.91      0.85       207\n",
            "\n",
            "    accuracy                           0.84       414\n",
            "   macro avg       0.85      0.84      0.84       414\n",
            "weighted avg       0.85      0.84      0.84       414\n",
            "\n"
          ]
        }
      ]
    },
    {
      "cell_type": "code",
      "metadata": {
        "colab": {
          "base_uri": "https://localhost:8080/"
        },
        "id": "b5vS6OKF5_jw",
        "outputId": "f1ad1712-3790-4f29-ac65-c651d7ff3eb5"
      },
      "source": [
        "result(Y_test,Y_predks)"
      ],
      "execution_count": null,
      "outputs": [
        {
          "output_type": "stream",
          "name": "stdout",
          "text": [
            "Accuracy :  0.8942307692307693\n",
            "f1 score :  0.897196261682243\n",
            "Precision :  0.8571428571428571\n",
            "recall :  0.9411764705882353\n",
            "Classification Report : \n",
            "               precision    recall  f1-score   support\n",
            "\n",
            "           0       0.94      0.85      0.89        53\n",
            "           1       0.86      0.94      0.90        51\n",
            "\n",
            "    accuracy                           0.89       104\n",
            "   macro avg       0.90      0.90      0.89       104\n",
            "weighted avg       0.90      0.89      0.89       104\n",
            "\n"
          ]
        }
      ]
    },
    {
      "cell_type": "code",
      "metadata": {
        "colab": {
          "base_uri": "https://localhost:8080/"
        },
        "id": "dzXZNfS-MmHK",
        "outputId": "9b2df7cb-ef95-4503-b464-f890cf9179e4"
      },
      "source": [
        "ksvm_auc = roc_auc_score(Y_test,ksvm_prob[:,1])\n",
        "print('roc-auc score :{}'.format(ksvm_auc))"
      ],
      "execution_count": null,
      "outputs": [
        {
          "output_type": "stream",
          "name": "stdout",
          "text": [
            "roc-auc score :0.9500554938956715\n"
          ]
        }
      ]
    },
    {
      "cell_type": "markdown",
      "metadata": {
        "id": "1KW4y7rOMrsC"
      },
      "source": [
        "## Naive Bays"
      ]
    },
    {
      "cell_type": "code",
      "metadata": {
        "colab": {
          "base_uri": "https://localhost:8080/"
        },
        "id": "bQ_ZZwCqMxuQ",
        "outputId": "7c0bf387-6e07-4fdf-8f0c-ee815f032c9d"
      },
      "source": [
        "nbclassifier = GaussianNB(var_smoothing=best_paramnb['var_smoothing'])\n",
        "nbclassifier.fit(X,Y)"
      ],
      "execution_count": null,
      "outputs": [
        {
          "output_type": "execute_result",
          "data": {
            "text/plain": [
              "GaussianNB(var_smoothing=0.01)"
            ]
          },
          "metadata": {},
          "execution_count": 227
        }
      ]
    },
    {
      "cell_type": "code",
      "metadata": {
        "id": "ilCH9DhhM_Fj"
      },
      "source": [
        "Y_prednb = nbclassifier.predict(X_test)"
      ],
      "execution_count": null,
      "outputs": []
    },
    {
      "cell_type": "code",
      "metadata": {
        "id": "lhqtTeUddOHs"
      },
      "source": [
        "ytest_pred = nbclassifier.predict_proba(X_test)\n",
        "nb_prob = nbclassifier.predict_proba(X_test)"
      ],
      "execution_count": null,
      "outputs": []
    },
    {
      "cell_type": "code",
      "metadata": {
        "id": "iosGQi0Xu_mU"
      },
      "source": [
        "Y_cvprednb = cross_val_predict(nbclassifier,X,Y,cv = 10)"
      ],
      "execution_count": null,
      "outputs": []
    },
    {
      "cell_type": "code",
      "metadata": {
        "colab": {
          "base_uri": "https://localhost:8080/"
        },
        "id": "spU-tPE-NEKS",
        "outputId": "efe243f1-ce0f-402c-f9cf-74959a8d1180"
      },
      "source": [
        "cms = confusion_matrix(Y_test,Y_prednb)\n",
        "print(cms)"
      ],
      "execution_count": null,
      "outputs": [
        {
          "output_type": "stream",
          "name": "stdout",
          "text": [
            "[[35 18]\n",
            " [ 4 46]]\n"
          ]
        }
      ]
    },
    {
      "cell_type": "code",
      "metadata": {
        "colab": {
          "base_uri": "https://localhost:8080/"
        },
        "id": "OM13v4CPvnHd",
        "outputId": "d862ad07-7962-4fd6-ee6f-6b4ec49db04c"
      },
      "source": [
        "cvcms = confusion_matrix(Y, Y_cvprednb)\n",
        "print(cvcms)"
      ],
      "execution_count": null,
      "outputs": [
        {
          "output_type": "stream",
          "name": "stdout",
          "text": [
            "[[153  53]\n",
            " [ 17 189]]\n"
          ]
        }
      ]
    },
    {
      "cell_type": "code",
      "metadata": {
        "colab": {
          "base_uri": "https://localhost:8080/",
          "height": 282
        },
        "id": "S5-_-orGuirs",
        "outputId": "9323e380-ee04-4ab5-ce66-a30f5716e786"
      },
      "source": [
        "labels = [\"{0:0.0f}\".format(value) for value in\n",
        "                cvcms.flatten()]\n",
        "labels = np.asarray(labels).reshape(2,2)\n",
        "sns.heatmap(cvcms, annot=labels, fmt='', cmap='Blues')"
      ],
      "execution_count": null,
      "outputs": [
        {
          "output_type": "execute_result",
          "data": {
            "text/plain": [
              "<matplotlib.axes._subplots.AxesSubplot at 0x7f0f64109690>"
            ]
          },
          "metadata": {},
          "execution_count": 233
        },
        {
          "output_type": "display_data",
          "data": {
            "text/plain": [
              "<Figure size 432x288 with 2 Axes>"
            ],
            "image/png": "[encoded data removed]"
          },
          "metadata": {
            "needs_background": "light"
          }
        }
      ]
    },
    {
      "cell_type": "code",
      "metadata": {
        "colab": {
          "base_uri": "https://localhost:8080/"
        },
        "id": "JT5dLMwSNIvq",
        "outputId": "4ca4f0b3-2abb-40a0-d715-d0ee68daece0"
      },
      "source": [
        "accuracy = cross_val_score(nbclassifier,X,Y, cv=10, scoring='accuracy')\n",
        "print('All Cross Val Accuracy :',accuracy)\n",
        "print('\\nCross Val Accuracy :',accuracy.mean())"
      ],
      "execution_count": null,
      "outputs": [
        {
          "output_type": "stream",
          "name": "stdout",
          "text": [
            "All Cross Val Accuracy : [0.52380952 0.54761905 0.51219512 0.95121951 0.97560976 0.95121951\n",
            " 0.97560976 0.95121951 0.95121951 0.97560976]\n",
            "\n",
            "Cross Val Accuracy : 0.8315331010452962\n"
          ]
        }
      ]
    },
    {
      "cell_type": "code",
      "metadata": {
        "colab": {
          "base_uri": "https://localhost:8080/"
        },
        "id": "5GuoElwHw2y4",
        "outputId": "3e7ea62a-b4b4-4c66-e410-8ef418207b3c"
      },
      "source": [
        "cvresult(Y,Y_cvprednb)"
      ],
      "execution_count": null,
      "outputs": [
        {
          "output_type": "stream",
          "name": "stdout",
          "text": [
            "Cross Val f1 score :  0.8437499999999999\n",
            "Cross Val Precision :  0.78099173553719\n",
            "Cross Val recall :  0.9174757281553398\n",
            "Cross Val Classification Report : \n",
            "               precision    recall  f1-score   support\n",
            "\n",
            "           0       0.90      0.74      0.81       206\n",
            "           1       0.78      0.92      0.84       206\n",
            "\n",
            "    accuracy                           0.83       412\n",
            "   macro avg       0.84      0.83      0.83       412\n",
            "weighted avg       0.84      0.83      0.83       412\n",
            "\n"
          ]
        }
      ]
    },
    {
      "cell_type": "code",
      "metadata": {
        "colab": {
          "base_uri": "https://localhost:8080/"
        },
        "id": "xnZyDas87Lvy",
        "outputId": "cabf8f35-8bc1-46b4-fa73-d7f7b2369dc9"
      },
      "source": [
        "result(Y_test,Y_prednb)"
      ],
      "execution_count": null,
      "outputs": [
        {
          "output_type": "stream",
          "name": "stdout",
          "text": [
            "Accuracy :  0.7864077669902912\n",
            "f1 score :  0.8070175438596492\n",
            "Precision :  0.71875\n",
            "recall :  0.92\n",
            "Classification Report : \n",
            "               precision    recall  f1-score   support\n",
            "\n",
            "           0       0.90      0.66      0.76        53\n",
            "           1       0.72      0.92      0.81        50\n",
            "\n",
            "    accuracy                           0.79       103\n",
            "   macro avg       0.81      0.79      0.78       103\n",
            "weighted avg       0.81      0.79      0.78       103\n",
            "\n"
          ]
        }
      ]
    },
    {
      "cell_type": "code",
      "metadata": {
        "colab": {
          "base_uri": "https://localhost:8080/"
        },
        "id": "NKn-gQBbNmWi",
        "outputId": "441890b9-ed9e-4bd4-e269-ffe4523d687b"
      },
      "source": [
        "nb_auc = roc_auc_score(Y_test,nb_prob[:,1])\n",
        "print('roc-auc score :{}'.format(nb_auc))"
      ],
      "execution_count": null,
      "outputs": [
        {
          "output_type": "stream",
          "name": "stdout",
          "text": [
            "roc-auc score :0.8864150943396227\n"
          ]
        }
      ]
    },
    {
      "cell_type": "markdown",
      "metadata": {
        "id": "AbK-PvhxOSsS"
      },
      "source": [
        "## Decision Tree"
      ]
    },
    {
      "cell_type": "code",
      "metadata": {
        "id": "bifdTQeWOR3J",
        "colab": {
          "base_uri": "https://localhost:8080/"
        },
        "outputId": "69d7a8cc-a0f4-4c67-9add-68bf00d4cdc1"
      },
      "source": [
        "dtclassifier = DecisionTreeClassifier(splitter=best_paramdt['splitter'],max_depth=best_paramdt['max_depth'],\n",
        "                                      min_samples_leaf=best_paramdt['min_samples_leaf'],max_features=best_paramdt['max_features'],\n",
        "                                      max_leaf_nodes=best_paramdt['max_leaf_nodes'], random_state = 42)\n",
        "dtclassifier.fit(X,Y)"
      ],
      "execution_count": null,
      "outputs": [
        {
          "output_type": "execute_result",
          "data": {
            "text/plain": [
              "DecisionTreeClassifier(max_depth=3, max_features='sqrt', max_leaf_nodes=30,\n",
              "                       min_samples_leaf=4, random_state=42)"
            ]
          },
          "metadata": {},
          "execution_count": 238
        }
      ]
    },
    {
      "cell_type": "code",
      "metadata": {
        "id": "Unh5W2igOZTo"
      },
      "source": [
        "Y_preddt = dtclassifier.predict(X_test)"
      ],
      "execution_count": null,
      "outputs": []
    },
    {
      "cell_type": "code",
      "metadata": {
        "id": "x2-22OMxdThi"
      },
      "source": [
        "ytest_pred = dtclassifier.predict_proba(X_test)\n",
        "dt_prob = dtclassifier.predict_proba(X_test)"
      ],
      "execution_count": null,
      "outputs": []
    },
    {
      "cell_type": "code",
      "metadata": {
        "id": "MRxi_VVAfSd8"
      },
      "source": [
        "Y_cvpreddt = cross_val_predict(dtclassifier,X,Y,cv = 10)"
      ],
      "execution_count": null,
      "outputs": []
    },
    {
      "cell_type": "code",
      "metadata": {
        "colab": {
          "base_uri": "https://localhost:8080/"
        },
        "id": "YZfDSvUZOhII",
        "outputId": "c28a0d84-556c-4f8d-a248-9bd7f1650228"
      },
      "source": [
        "cms = confusion_matrix(Y_test,Y_preddt)\n",
        "print(cms)"
      ],
      "execution_count": null,
      "outputs": [
        {
          "output_type": "stream",
          "name": "stdout",
          "text": [
            "[[43 10]\n",
            " [ 7 43]]\n"
          ]
        }
      ]
    },
    {
      "cell_type": "code",
      "metadata": {
        "colab": {
          "base_uri": "https://localhost:8080/"
        },
        "id": "bmBFazPLfYIQ",
        "outputId": "18d2f8b5-b2c0-4d45-af79-f66b3a5a4ace"
      },
      "source": [
        "cvcmsdt = confusion_matrix(Y, Y_cvpreddt)\n",
        "print(cvcmsdt)"
      ],
      "execution_count": null,
      "outputs": [
        {
          "output_type": "stream",
          "name": "stdout",
          "text": [
            "[[144  62]\n",
            " [ 47 159]]\n"
          ]
        }
      ]
    },
    {
      "cell_type": "code",
      "metadata": {
        "colab": {
          "base_uri": "https://localhost:8080/",
          "height": 282
        },
        "id": "T1SlMjPMffml",
        "outputId": "2edd9685-8f8c-422c-f70b-938971624d18"
      },
      "source": [
        "group_names = ['True Neg','False Pos','False Neg','True Pos']\n",
        "group_counts = [\"{0:0.0f}\".format(value) for value in\n",
        "                cvcmsdt.flatten()]\n",
        "group_percentages = [\"{0:.2%}\".format(value) for value in\n",
        "                     cvcmsdt.flatten()/np.sum(cvcmsdt)]\n",
        "labels = [f\"{v1}\\n{v2}\\n{v3}\" for v1, v2, v3 in\n",
        "          zip(group_names,group_counts,group_percentages)]\n",
        "labels = np.asarray(labels).reshape(2,2)\n",
        "sns.heatmap(cvcmsdt, annot=labels, fmt='', cmap='Blues')"
      ],
      "execution_count": null,
      "outputs": [
        {
          "output_type": "execute_result",
          "data": {
            "text/plain": [
              "<matplotlib.axes._subplots.AxesSubplot at 0x7f0f631e8550>"
            ]
          },
          "metadata": {},
          "execution_count": 244
        },
        {
          "output_type": "display_data",
          "data": {
            "text/plain": [
              "<Figure size 432x288 with 2 Axes>"
            ],
            "image/png": "[encoded data removed]"
          },
          "metadata": {
            "needs_background": "light"
          }
        }
      ]
    },
    {
      "cell_type": "code",
      "metadata": {
        "colab": {
          "base_uri": "https://localhost:8080/"
        },
        "id": "3Z9-J-OsOuFJ",
        "outputId": "46e61e16-2154-4fbd-88e8-b6a60ebfadce"
      },
      "source": [
        "accuracy = cross_val_score(dtclassifier,X,Y, cv=10, scoring='accuracy')\n",
        "print('All Cross Val Accuracy :',accuracy)\n",
        "print('\\nCross Val Accuracy :',accuracy.mean())"
      ],
      "execution_count": null,
      "outputs": [
        {
          "output_type": "stream",
          "name": "stdout",
          "text": [
            "All Cross Val Accuracy : [0.57142857 0.57142857 0.58536585 0.80487805 0.63414634 0.75609756\n",
            " 0.82926829 0.92682927 0.90243902 0.7804878 ]\n",
            "\n",
            "Cross Val Accuracy : 0.7362369337979093\n"
          ]
        }
      ]
    },
    {
      "cell_type": "code",
      "metadata": {
        "colab": {
          "base_uri": "https://localhost:8080/"
        },
        "id": "q-3s9fCgf56X",
        "outputId": "27ada09c-b8ac-4133-ebbd-355931dc0788"
      },
      "source": [
        "cvresult(Y,Y_cvpreddt)"
      ],
      "execution_count": null,
      "outputs": [
        {
          "output_type": "stream",
          "name": "stdout",
          "text": [
            "Cross Val f1 score :  0.7447306791569087\n",
            "Cross Val Precision :  0.7194570135746606\n",
            "Cross Val recall :  0.7718446601941747\n",
            "Cross Val Classification Report : \n",
            "               precision    recall  f1-score   support\n",
            "\n",
            "           0       0.75      0.70      0.73       206\n",
            "           1       0.72      0.77      0.74       206\n",
            "\n",
            "    accuracy                           0.74       412\n",
            "   macro avg       0.74      0.74      0.74       412\n",
            "weighted avg       0.74      0.74      0.74       412\n",
            "\n"
          ]
        }
      ]
    },
    {
      "cell_type": "code",
      "metadata": {
        "colab": {
          "base_uri": "https://localhost:8080/"
        },
        "id": "rY2_x-UigJPF",
        "outputId": "bb69f42a-544c-48aa-de42-64539d10ae7e"
      },
      "source": [
        "result(Y_test,Y_preddt)"
      ],
      "execution_count": null,
      "outputs": [
        {
          "output_type": "stream",
          "name": "stdout",
          "text": [
            "Accuracy :  0.8349514563106796\n",
            "f1 score :  0.8349514563106797\n",
            "Precision :  0.8113207547169812\n",
            "recall :  0.86\n",
            "Classification Report : \n",
            "               precision    recall  f1-score   support\n",
            "\n",
            "           0       0.86      0.81      0.83        53\n",
            "           1       0.81      0.86      0.83        50\n",
            "\n",
            "    accuracy                           0.83       103\n",
            "   macro avg       0.84      0.84      0.83       103\n",
            "weighted avg       0.84      0.83      0.83       103\n",
            "\n"
          ]
        }
      ]
    },
    {
      "cell_type": "code",
      "metadata": {
        "colab": {
          "base_uri": "https://localhost:8080/"
        },
        "id": "CG1PUd9dPDFC",
        "outputId": "7e0bc48f-5afa-4214-fa63-9a11ed21a8ff"
      },
      "source": [
        "dt_auc = roc_auc_score(Y_test,dt_prob[:,1])\n",
        "print('roc-auc score :{}'.format(dt_auc))"
      ],
      "execution_count": null,
      "outputs": [
        {
          "output_type": "stream",
          "name": "stdout",
          "text": [
            "roc-auc score :0.8784905660377358\n"
          ]
        }
      ]
    },
    {
      "cell_type": "markdown",
      "metadata": {
        "id": "8Zg0eRU32_2K"
      },
      "source": [
        "## Random forest"
      ]
    },
    {
      "cell_type": "code",
      "metadata": {
        "colab": {
          "base_uri": "https://localhost:8080/"
        },
        "id": "VmrWe0RL3BXs",
        "outputId": "ec0d28b9-7c37-4ac3-d93d-1435f3482c7a"
      },
      "source": [
        "rfclassifier = RandomForestClassifier(n_estimators = best_paramrf['n_estimators'],bootstrap=best_paramrf['bootstrap'],\n",
        "                                      max_depth=best_paramrf['max_depth'],\n",
        "                                      max_features=best_paramrf['max_features'], random_state = 42)\n",
        "rfclassifier.fit(X,Y)"
      ],
      "execution_count": null,
      "outputs": [
        {
          "output_type": "execute_result",
          "data": {
            "text/plain": [
              "RandomForestClassifier(max_depth=5, max_features='log2', n_estimators=6,\n",
              "                       random_state=42)"
            ]
          },
          "metadata": {},
          "execution_count": 249
        }
      ]
    },
    {
      "cell_type": "code",
      "metadata": {
        "id": "HsoLbmVE3CKI"
      },
      "source": [
        "Y_predrf = rfclassifier.predict(X_test)"
      ],
      "execution_count": null,
      "outputs": []
    },
    {
      "cell_type": "code",
      "metadata": {
        "id": "YnAwnlW33C4z"
      },
      "source": [
        "ytest_pred = rfclassifier.predict_proba(X_test)\n",
        "rf_prob = rfclassifier.predict_proba(X_test)"
      ],
      "execution_count": null,
      "outputs": []
    },
    {
      "cell_type": "code",
      "metadata": {
        "id": "qDlzObpYgj8L"
      },
      "source": [
        "Y_cvpredrf = cross_val_predict(rfclassifier,X,Y,cv = 10)"
      ],
      "execution_count": null,
      "outputs": []
    },
    {
      "cell_type": "code",
      "metadata": {
        "colab": {
          "base_uri": "https://localhost:8080/"
        },
        "id": "b03C1JFt3CU5",
        "outputId": "f1f5192e-7a69-4ada-ec82-a501af04325a"
      },
      "source": [
        "cms = confusion_matrix(Y_test,Y_predrf)\n",
        "print(cms)"
      ],
      "execution_count": null,
      "outputs": [
        {
          "output_type": "stream",
          "name": "stdout",
          "text": [
            "[[46  7]\n",
            " [ 1 49]]\n"
          ]
        }
      ]
    },
    {
      "cell_type": "code",
      "metadata": {
        "colab": {
          "base_uri": "https://localhost:8080/"
        },
        "id": "cIw-43Crgysi",
        "outputId": "02555f4a-9fdc-4d10-d8af-9f2b5caf0bd4"
      },
      "source": [
        "cvcmsrf = confusion_matrix(Y, Y_cvpredrf)\n",
        "print(cvcmsrf)"
      ],
      "execution_count": null,
      "outputs": [
        {
          "output_type": "stream",
          "name": "stdout",
          "text": [
            "[[163  43]\n",
            " [ 17 189]]\n"
          ]
        }
      ]
    },
    {
      "cell_type": "code",
      "metadata": {
        "colab": {
          "base_uri": "https://localhost:8080/",
          "height": 282
        },
        "id": "SwGT8K49g9A7",
        "outputId": "580bb82b-42a0-4427-b1d2-0ada583f2b69"
      },
      "source": [
        "group_names = ['True Neg','False Pos','False Neg','True Pos']\n",
        "group_counts = [\"{0:0.0f}\".format(value) for value in\n",
        "                cvcmsrf.flatten()]\n",
        "group_percentages = [\"{0:.2%}\".format(value) for value in\n",
        "                     cvcmsrf.flatten()/np.sum(cvcmsrf)]\n",
        "labels = [f\"{v1}\\n{v2}\\n{v3}\" for v1, v2, v3 in\n",
        "          zip(group_names,group_counts,group_percentages)]\n",
        "labels = np.asarray(labels).reshape(2,2)\n",
        "sns.heatmap(cvcmsrf, annot=labels, fmt='', cmap='Blues')"
      ],
      "execution_count": null,
      "outputs": [
        {
          "output_type": "execute_result",
          "data": {
            "text/plain": [
              "<matplotlib.axes._subplots.AxesSubplot at 0x7f0f6400fa90>"
            ]
          },
          "metadata": {},
          "execution_count": 255
        },
        {
          "output_type": "display_data",
          "data": {
            "text/plain": [
              "<Figure size 432x288 with 2 Axes>"
            ],
            "image/png": "[encoded data removed]"
          },
          "metadata": {
            "needs_background": "light"
          }
        }
      ]
    },
    {
      "cell_type": "code",
      "metadata": {
        "colab": {
          "base_uri": "https://localhost:8080/"
        },
        "id": "ywWPNnb93Cca",
        "outputId": "56bb0378-cf23-46a1-9ddf-2d40da052a17"
      },
      "source": [
        "accuracy = cross_val_score(rfclassifier,X,Y, cv=10, scoring='accuracy')\n",
        "print('All Cross Val Accuracy :',accuracy)\n",
        "print('\\nCross Val Accuracy :',accuracy.mean())"
      ],
      "execution_count": null,
      "outputs": [
        {
          "output_type": "stream",
          "name": "stdout",
          "text": [
            "All Cross Val Accuracy : [0.54761905 0.69047619 0.63414634 0.85365854 0.97560976 1.\n",
            " 0.95121951 0.95121951 0.97560976 0.97560976]\n",
            "\n",
            "Cross Val Accuracy : 0.8555168408826945\n"
          ]
        }
      ]
    },
    {
      "cell_type": "code",
      "metadata": {
        "colab": {
          "base_uri": "https://localhost:8080/"
        },
        "id": "XTqAFcIShKZy",
        "outputId": "a0091850-c7a5-4fa1-9e4a-06774c284c3f"
      },
      "source": [
        "cvresult(Y,Y_cvpredrf)"
      ],
      "execution_count": null,
      "outputs": [
        {
          "output_type": "stream",
          "name": "stdout",
          "text": [
            "Cross Val f1 score :  0.863013698630137\n",
            "Cross Val Precision :  0.8146551724137931\n",
            "Cross Val recall :  0.9174757281553398\n",
            "Cross Val Classification Report : \n",
            "               precision    recall  f1-score   support\n",
            "\n",
            "           0       0.91      0.79      0.84       206\n",
            "           1       0.81      0.92      0.86       206\n",
            "\n",
            "    accuracy                           0.85       412\n",
            "   macro avg       0.86      0.85      0.85       412\n",
            "weighted avg       0.86      0.85      0.85       412\n",
            "\n"
          ]
        }
      ]
    },
    {
      "cell_type": "code",
      "metadata": {
        "colab": {
          "base_uri": "https://localhost:8080/"
        },
        "id": "J9SR2Pj8hWnD",
        "outputId": "5232d3c8-bd44-4d7e-9bdd-831d7318ae40"
      },
      "source": [
        "result(Y_test,Y_predrf)"
      ],
      "execution_count": null,
      "outputs": [
        {
          "output_type": "stream",
          "name": "stdout",
          "text": [
            "Accuracy :  0.9223300970873787\n",
            "f1 score :  0.9245283018867924\n",
            "Precision :  0.875\n",
            "recall :  0.98\n",
            "Classification Report : \n",
            "               precision    recall  f1-score   support\n",
            "\n",
            "           0       0.98      0.87      0.92        53\n",
            "           1       0.88      0.98      0.92        50\n",
            "\n",
            "    accuracy                           0.92       103\n",
            "   macro avg       0.93      0.92      0.92       103\n",
            "weighted avg       0.93      0.92      0.92       103\n",
            "\n"
          ]
        }
      ]
    },
    {
      "cell_type": "code",
      "metadata": {
        "colab": {
          "base_uri": "https://localhost:8080/"
        },
        "id": "qbrZVVp43DcA",
        "outputId": "1189ec77-339b-454a-fbd8-99c61b48362c"
      },
      "source": [
        "rf_auc = roc_auc_score(Y_test,rf_prob[:,1])\n",
        "print('roc-auc score :{}'.format(rf_auc))"
      ],
      "execution_count": null,
      "outputs": [
        {
          "output_type": "stream",
          "name": "stdout",
          "text": [
            "roc-auc score :0.9762264150943396\n"
          ]
        }
      ]
    },
    {
      "cell_type": "markdown",
      "metadata": {
        "id": "Pz-0blHX3zVx"
      },
      "source": [
        "## Extra Tree"
      ]
    },
    {
      "cell_type": "code",
      "metadata": {
        "colab": {
          "base_uri": "https://localhost:8080/"
        },
        "id": "qxZZYphd39NR",
        "outputId": "ec167431-cebd-4a7d-b64c-b854d0f5a198"
      },
      "source": [
        "etclassifier = ExtraTreeClassifier(criterion=best_paramet['criterion'],max_depth=best_paramet['max_depth'],\n",
        "                                   max_features=best_paramet['max_features'],random_state=42)\n",
        "etclassifier.fit(X,Y)"
      ],
      "execution_count": null,
      "outputs": [
        {
          "output_type": "execute_result",
          "data": {
            "text/plain": [
              "ExtraTreeClassifier(criterion='entropy', max_depth=19, max_features='log2',\n",
              "                    random_state=42)"
            ]
          },
          "metadata": {},
          "execution_count": 260
        }
      ]
    },
    {
      "cell_type": "code",
      "metadata": {
        "id": "KNePSufskzAp"
      },
      "source": [
        "Y_predet = etclassifier.predict(X_test)"
      ],
      "execution_count": null,
      "outputs": []
    },
    {
      "cell_type": "code",
      "metadata": {
        "id": "C_AQtcv-4b56"
      },
      "source": [
        "ytest_pred = etclassifier.predict_proba(X_test)\n",
        "et_prob = etclassifier.predict_proba(X_test)"
      ],
      "execution_count": null,
      "outputs": []
    },
    {
      "cell_type": "code",
      "metadata": {
        "id": "njt6qPke4nNh"
      },
      "source": [
        "Y_cvpredet = cross_val_predict(etclassifier,X,Y,cv = 10)"
      ],
      "execution_count": null,
      "outputs": []
    },
    {
      "cell_type": "code",
      "metadata": {
        "colab": {
          "base_uri": "https://localhost:8080/"
        },
        "id": "Fp4-0PB54wIy",
        "outputId": "6d66917c-2580-4687-b60f-16187726dde3"
      },
      "source": [
        "cms = confusion_matrix(Y_test,Y_predet)\n",
        "print(cms)"
      ],
      "execution_count": null,
      "outputs": [
        {
          "output_type": "stream",
          "name": "stdout",
          "text": [
            "[[52  1]\n",
            " [ 0 50]]\n"
          ]
        }
      ]
    },
    {
      "cell_type": "code",
      "metadata": {
        "colab": {
          "base_uri": "https://localhost:8080/"
        },
        "id": "cXUGsdAJ432K",
        "outputId": "15863c79-eec7-4582-b8fb-a985357354ab"
      },
      "source": [
        "cvcmset = confusion_matrix(Y, Y_cvpredet)\n",
        "print(cvcmset)"
      ],
      "execution_count": null,
      "outputs": [
        {
          "output_type": "stream",
          "name": "stdout",
          "text": [
            "[[159  47]\n",
            " [ 37 169]]\n"
          ]
        }
      ]
    },
    {
      "cell_type": "code",
      "metadata": {
        "colab": {
          "base_uri": "https://localhost:8080/",
          "height": 282
        },
        "id": "JwVJO-r35CnZ",
        "outputId": "b97c159c-c4d9-477e-dc24-366a48b52961"
      },
      "source": [
        "group_names = ['True Neg','False Pos','False Neg','True Pos']\n",
        "group_counts = [\"{0:0.0f}\".format(value) for value in\n",
        "                cvcmset.flatten()]\n",
        "group_percentages = [\"{0:.2%}\".format(value) for value in\n",
        "                     cvcmset.flatten()/np.sum(cvcmset)]\n",
        "labels = [f\"{v1}\\n{v2}\\n{v3}\" for v1, v2, v3 in\n",
        "          zip(group_names,group_counts,group_percentages)]\n",
        "labels = np.asarray(labels).reshape(2,2)\n",
        "sns.heatmap(cvcmset, annot=labels, fmt='', cmap='Blues')"
      ],
      "execution_count": null,
      "outputs": [
        {
          "output_type": "execute_result",
          "data": {
            "text/plain": [
              "<matplotlib.axes._subplots.AxesSubplot at 0x7f0f641a8c10>"
            ]
          },
          "metadata": {},
          "execution_count": 266
        },
        {
          "output_type": "display_data",
          "data": {
            "text/plain": [
              "<Figure size 432x288 with 2 Axes>"
            ],
            "image/png": "[encoded data removed]"
          },
          "metadata": {
            "needs_background": "light"
          }
        }
      ]
    },
    {
      "cell_type": "code",
      "metadata": {
        "colab": {
          "base_uri": "https://localhost:8080/"
        },
        "id": "7xDACeg25RbB",
        "outputId": "5af2e80b-db12-4a34-fbe0-6509f1e8af44"
      },
      "source": [
        "accuracy = cross_val_score(etclassifier,X,Y, cv=10, scoring='accuracy')\n",
        "print('All Cross Val Accuracy :',accuracy)\n",
        "print('\\nCross Val Accuracy :',accuracy.mean())"
      ],
      "execution_count": null,
      "outputs": [
        {
          "output_type": "stream",
          "name": "stdout",
          "text": [
            "All Cross Val Accuracy : [0.66666667 0.64285714 0.63414634 0.90243902 0.7804878  0.92682927\n",
            " 0.87804878 0.87804878 0.85365854 0.80487805]\n",
            "\n",
            "Cross Val Accuracy : 0.7968060394889663\n"
          ]
        }
      ]
    },
    {
      "cell_type": "code",
      "metadata": {
        "colab": {
          "base_uri": "https://localhost:8080/"
        },
        "id": "XfXXvvjH5ZrT",
        "outputId": "3e785288-64fd-44f9-d217-3beb2ad36eee"
      },
      "source": [
        "cvresult(Y,Y_cvpredet)"
      ],
      "execution_count": null,
      "outputs": [
        {
          "output_type": "stream",
          "name": "stdout",
          "text": [
            "Cross Val f1 score :  0.8009478672985781\n",
            "Cross Val Precision :  0.7824074074074074\n",
            "Cross Val recall :  0.8203883495145631\n",
            "Cross Val Classification Report : \n",
            "               precision    recall  f1-score   support\n",
            "\n",
            "           0       0.81      0.77      0.79       206\n",
            "           1       0.78      0.82      0.80       206\n",
            "\n",
            "    accuracy                           0.80       412\n",
            "   macro avg       0.80      0.80      0.80       412\n",
            "weighted avg       0.80      0.80      0.80       412\n",
            "\n"
          ]
        }
      ]
    },
    {
      "cell_type": "code",
      "metadata": {
        "colab": {
          "base_uri": "https://localhost:8080/"
        },
        "id": "YPGJjmbj5gkx",
        "outputId": "420d513e-2e4a-434e-9b87-4d085dd5776a"
      },
      "source": [
        "result(Y_test,Y_predet)"
      ],
      "execution_count": null,
      "outputs": [
        {
          "output_type": "stream",
          "name": "stdout",
          "text": [
            "Accuracy :  0.9902912621359223\n",
            "f1 score :  0.99009900990099\n",
            "Precision :  0.9803921568627451\n",
            "recall :  1.0\n",
            "Classification Report : \n",
            "               precision    recall  f1-score   support\n",
            "\n",
            "           0       1.00      0.98      0.99        53\n",
            "           1       0.98      1.00      0.99        50\n",
            "\n",
            "    accuracy                           0.99       103\n",
            "   macro avg       0.99      0.99      0.99       103\n",
            "weighted avg       0.99      0.99      0.99       103\n",
            "\n"
          ]
        }
      ]
    },
    {
      "cell_type": "code",
      "metadata": {
        "colab": {
          "base_uri": "https://localhost:8080/"
        },
        "id": "6hf5dz1X5o7s",
        "outputId": "38b8decf-6908-4403-ddc8-0dfd30eef3ec"
      },
      "source": [
        "et_auc = roc_auc_score(Y_test,et_prob[:,1])\n",
        "print('roc-auc score :{}'.format(et_auc))"
      ],
      "execution_count": null,
      "outputs": [
        {
          "output_type": "stream",
          "name": "stdout",
          "text": [
            "roc-auc score :1.0\n"
          ]
        }
      ]
    },
    {
      "cell_type": "markdown",
      "metadata": {
        "id": "Po9cA8tcXbBn"
      },
      "source": [
        "## ROC-AUC Curve"
      ]
    },
    {
      "cell_type": "code",
      "metadata": {
        "colab": {
          "base_uri": "https://localhost:8080/"
        },
        "id": "0RG_heTuXZdT",
        "outputId": "0cc38ab7-0e8b-4eaa-b5f6-98ee67190908"
      },
      "source": [
        "pred = []\n",
        "for model in [classifier, kclassifier, sclassifier, ksclassifier, nbclassifier, dtclassifier,rfclassifier] :\n",
        "  pred.append(pd.Series(model.predict_proba(X_test)[:,1]))\n",
        "final_prediction = pd.concat(pred,axis=1).mean(axis=1)\n",
        "print('Final roc-auc score :{}'.format(roc_auc_score(Y_test,final_prediction)))"
      ],
      "execution_count": null,
      "outputs": [
        {
          "output_type": "stream",
          "name": "stdout",
          "text": [
            "Final roc-auc score :0.9992600813910469\n"
          ]
        }
      ]
    },
    {
      "cell_type": "code",
      "metadata": {
        "colab": {
          "base_uri": "https://localhost:8080/",
          "height": 424
        },
        "id": "XZ1dcCZZdgdh",
        "outputId": "76e8a339-999a-4ea5-8cc6-af995ca4b4c1"
      },
      "source": [
        "pd.concat(pred,axis=1)"
      ],
      "execution_count": null,
      "outputs": [
        {
          "output_type": "execute_result",
          "data": {
            "text/plain": [
              "            0    1         2         3         4         5         6\n",
              "0    0.666244  1.0  0.828458  0.722626  0.993031  0.850467  0.914336\n",
              "1    0.016146  0.0  0.006163  0.009853  0.000030  0.000000  0.000000\n",
              "2    0.752140  0.6  0.828422  0.749601  0.996622  0.850467  0.995951\n",
              "3    0.797049  1.0  0.828355  0.789770  0.996566  0.850467  0.993204\n",
              "4    0.669810  1.0  0.843506  0.666235  0.993695  0.850467  0.923077\n",
              "..        ...  ...       ...       ...       ...       ...       ...\n",
              "99   0.562780  0.8  0.828462  0.561091  0.993016  0.850467  0.870330\n",
              "100  0.963229  0.8  0.846488  0.976840  0.995830  0.850467  1.000000\n",
              "101  0.893336  1.0  0.991054  0.926248  0.997809  0.850467  1.000000\n",
              "102  0.962934  0.8  0.947869  0.967447  0.974456  0.850467  0.912315\n",
              "103  0.504608  1.0  0.828410  0.404025  0.995616  0.850467  0.914533\n",
              "\n",
              "[104 rows x 7 columns]"
            ],
            "text/html": [
              "\n",
              "  <div id=\"df-abe03c18-75f6-4d05-be09-628b27230b40\">\n",
              "    <div class=\"colab-df-container\">\n",
              "      <div>\n",
              "<style scoped>\n",
              "    .dataframe tbody tr th:only-of-type {\n",
              "        vertical-align: middle;\n",
              "    }\n",
              "\n",
              "    .dataframe tbody tr th {\n",
              "        vertical-align: top;\n",
              "    }\n",
              "\n",
              "    .dataframe thead th {\n",
              "        text-align: right;\n",
              "    }\n",
              "</style>\n",
              "<table border=\"1\" class=\"dataframe\">\n",
              "  <thead>\n",
              "    <tr style=\"text-align: right;\">\n",
              "      <th></th>\n",
              "      <th>0</th>\n",
              "      <th>1</th>\n",
              "      <th>2</th>\n",
              "      <th>3</th>\n",
              "      <th>4</th>\n",
              "      <th>5</th>\n",
              "      <th>6</th>\n",
              "    </tr>\n",
              "  </thead>\n",
              "  <tbody>\n",
              "    <tr>\n",
              "      <th>0</th>\n",
              "      <td>0.666244</td>\n",
              "      <td>1.0</td>\n",
              "      <td>0.828458</td>\n",
              "      <td>0.722626</td>\n",
              "      <td>0.993031</td>\n",
              "      <td>0.850467</td>\n",
              "      <td>0.914336</td>\n",
              "    </tr>\n",
              "    <tr>\n",
              "      <th>1</th>\n",
              "      <td>0.016146</td>\n",
              "      <td>0.0</td>\n",
              "      <td>0.006163</td>\n",
              "      <td>0.009853</td>\n",
              "      <td>0.000030</td>\n",
              "      <td>0.000000</td>\n",
              "      <td>0.000000</td>\n",
              "    </tr>\n",
              "    <tr>\n",
              "      <th>2</th>\n",
              "      <td>0.752140</td>\n",
              "      <td>0.6</td>\n",
              "      <td>0.828422</td>\n",
              "      <td>0.749601</td>\n",
              "      <td>0.996622</td>\n",
              "      <td>0.850467</td>\n",
              "      <td>0.995951</td>\n",
              "    </tr>\n",
              "    <tr>\n",
              "      <th>3</th>\n",
              "      <td>0.797049</td>\n",
              "      <td>1.0</td>\n",
              "      <td>0.828355</td>\n",
              "      <td>0.789770</td>\n",
              "      <td>0.996566</td>\n",
              "      <td>0.850467</td>\n",
              "      <td>0.993204</td>\n",
              "    </tr>\n",
              "    <tr>\n",
              "      <th>4</th>\n",
              "      <td>0.669810</td>\n",
              "      <td>1.0</td>\n",
              "      <td>0.843506</td>\n",
              "      <td>0.666235</td>\n",
              "      <td>0.993695</td>\n",
              "      <td>0.850467</td>\n",
              "      <td>0.923077</td>\n",
              "    </tr>\n",
              "    <tr>\n",
              "      <th>...</th>\n",
              "      <td>...</td>\n",
              "      <td>...</td>\n",
              "      <td>...</td>\n",
              "      <td>...</td>\n",
              "      <td>...</td>\n",
              "      <td>...</td>\n",
              "      <td>...</td>\n",
              "    </tr>\n",
              "    <tr>\n",
              "      <th>99</th>\n",
              "      <td>0.562780</td>\n",
              "      <td>0.8</td>\n",
              "      <td>0.828462</td>\n",
              "      <td>0.561091</td>\n",
              "      <td>0.993016</td>\n",
              "      <td>0.850467</td>\n",
              "      <td>0.870330</td>\n",
              "    </tr>\n",
              "    <tr>\n",
              "      <th>100</th>\n",
              "      <td>0.963229</td>\n",
              "      <td>0.8</td>\n",
              "      <td>0.846488</td>\n",
              "      <td>0.976840</td>\n",
              "      <td>0.995830</td>\n",
              "      <td>0.850467</td>\n",
              "      <td>1.000000</td>\n",
              "    </tr>\n",
              "    <tr>\n",
              "      <th>101</th>\n",
              "      <td>0.893336</td>\n",
              "      <td>1.0</td>\n",
              "      <td>0.991054</td>\n",
              "      <td>0.926248</td>\n",
              "      <td>0.997809</td>\n",
              "      <td>0.850467</td>\n",
              "      <td>1.000000</td>\n",
              "    </tr>\n",
              "    <tr>\n",
              "      <th>102</th>\n",
              "      <td>0.962934</td>\n",
              "      <td>0.8</td>\n",
              "      <td>0.947869</td>\n",
              "      <td>0.967447</td>\n",
              "      <td>0.974456</td>\n",
              "      <td>0.850467</td>\n",
              "      <td>0.912315</td>\n",
              "    </tr>\n",
              "    <tr>\n",
              "      <th>103</th>\n",
              "      <td>0.504608</td>\n",
              "      <td>1.0</td>\n",
              "      <td>0.828410</td>\n",
              "      <td>0.404025</td>\n",
              "      <td>0.995616</td>\n",
              "      <td>0.850467</td>\n",
              "      <td>0.914533</td>\n",
              "    </tr>\n",
              "  </tbody>\n",
              "</table>\n",
              "<p>104 rows × 7 columns</p>\n",
              "</div>\n",
              "      <button class=\"colab-df-convert\" onclick=\"convertToInteractive('df-abe03c18-75f6-4d05-be09-628b27230b40')\"\n",
              "              title=\"Convert this dataframe to an interactive table.\"\n",
              "              style=\"display:none;\">\n",
              "        \n",
              "  <svg xmlns=\"http://www.w3.org/2000/svg\" height=\"24px\"viewBox=\"0 0 24 24\"\n",
              "       width=\"24px\">\n",
              "    <path d=\"M0 0h24v24H0V0z\" fill=\"none\"/>\n",
              "    <path d=\"M18.56 5.44l.94 2.06.94-2.06 2.06-.94-2.06-.94-.94-2.06-.94 2.06-2.06.94zm-11 1L8.5 8.5l.94-2.06 2.06-.94-2.06-.94L8.5 2.5l-.94 2.06-2.06.94zm10 10l.94 2.06.94-2.06 2.06-.94-2.06-.94-.94-2.06-.94 2.06-2.06.94z\"/><path d=\"M17.41 7.96l-1.37-1.37c-.4-.4-.92-.59-1.43-.59-.52 0-1.04.2-1.43.59L10.3 9.45l-7.72 7.72c-.78.78-.78 2.05 0 2.83L4 21.41c.39.39.9.59 1.41.59.51 0 1.02-.2 1.41-.59l7.78-7.78 2.81-2.81c.8-.78.8-2.07 0-2.86zM5.41 20L4 18.59l7.72-7.72 1.47 1.35L5.41 20z\"/>\n",
              "  </svg>\n",
              "      </button>\n",
              "      \n",
              "  <style>\n",
              "    .colab-df-container {\n",
              "      display:flex;\n",
              "      flex-wrap:wrap;\n",
              "      gap: 12px;\n",
              "    }\n",
              "\n",
              "    .colab-df-convert {\n",
              "      background-color: #E8F0FE;\n",
              "      border: none;\n",
              "      border-radius: 50%;\n",
              "      cursor: pointer;\n",
              "      display: none;\n",
              "      fill: #1967D2;\n",
              "      height: 32px;\n",
              "      padding: 0 0 0 0;\n",
              "      width: 32px;\n",
              "    }\n",
              "\n",
              "    .colab-df-convert:hover {\n",
              "      background-color: #E2EBFA;\n",
              "      box-shadow: 0px 1px 2px rgba(60, 64, 67, 0.3), 0px 1px 3px 1px rgba(60, 64, 67, 0.15);\n",
              "      fill: #174EA6;\n",
              "    }\n",
              "\n",
              "    [theme=dark] .colab-df-convert {\n",
              "      background-color: #3B4455;\n",
              "      fill: #D2E3FC;\n",
              "    }\n",
              "\n",
              "    [theme=dark] .colab-df-convert:hover {\n",
              "      background-color: #434B5C;\n",
              "      box-shadow: 0px 1px 3px 1px rgba(0, 0, 0, 0.15);\n",
              "      filter: drop-shadow(0px 1px 2px rgba(0, 0, 0, 0.3));\n",
              "      fill: #FFFFFF;\n",
              "    }\n",
              "  </style>\n",
              "\n",
              "      <script>\n",
              "        const buttonEl =\n",
              "          document.querySelector('#df-abe03c18-75f6-4d05-be09-628b27230b40 button.colab-df-convert');\n",
              "        buttonEl.style.display =\n",
              "          google.colab.kernel.accessAllowed ? 'block' : 'none';\n",
              "\n",
              "        async function convertToInteractive(key) {\n",
              "          const element = document.querySelector('#df-abe03c18-75f6-4d05-be09-628b27230b40');\n",
              "          const dataTable =\n",
              "            await google.colab.kernel.invokeFunction('convertToInteractive',\n",
              "                                                     [key], {});\n",
              "          if (!dataTable) return;\n",
              "\n",
              "          const docLinkHtml = 'Like what you see? Visit the ' +\n",
              "            '<a target=\"_blank\" href=https://colab.research.google.com/notebooks/data_table.ipynb>data table notebook</a>'\n",
              "            + ' to learn more about interactive tables.';\n",
              "          element.innerHTML = '';\n",
              "          dataTable['output_type'] = 'display_data';\n",
              "          await google.colab.output.renderOutput(dataTable, element);\n",
              "          const docLink = document.createElement('div');\n",
              "          docLink.innerHTML = docLinkHtml;\n",
              "          element.appendChild(docLink);\n",
              "        }\n",
              "      </script>\n",
              "    </div>\n",
              "  </div>\n",
              "  "
            ]
          },
          "metadata": {},
          "execution_count": 222
        }
      ]
    },
    {
      "cell_type": "code",
      "metadata": {
        "colab": {
          "base_uri": "https://localhost:8080/"
        },
        "id": "gbwTwAKEeAPc",
        "outputId": "134ea0d5-512f-4e77-a43c-ae6ff9b24503"
      },
      "source": [
        "final_prediction"
      ],
      "execution_count": null,
      "outputs": [
        {
          "output_type": "execute_result",
          "data": {
            "text/plain": [
              "0      0.853595\n",
              "1      0.004599\n",
              "2      0.824744\n",
              "3      0.893630\n",
              "4      0.849541\n",
              "         ...   \n",
              "99     0.780878\n",
              "100    0.918979\n",
              "101    0.951273\n",
              "102    0.916498\n",
              "103    0.785380\n",
              "Length: 104, dtype: float64"
            ]
          },
          "metadata": {},
          "execution_count": 223
        }
      ]
    },
    {
      "cell_type": "code",
      "metadata": {
        "colab": {
          "base_uri": "https://localhost:8080/"
        },
        "id": "-R5RM6theDgK",
        "outputId": "7b285c60-dac6-47ba-f349-2b9ce1d75615"
      },
      "source": [
        "fpr, tpr, thresholds = roc_curve(Y_test, final_prediction)\n",
        "thresholds"
      ],
      "execution_count": null,
      "outputs": [
        {
          "output_type": "execute_result",
          "data": {
            "text/plain": [
              "array([1.97273895e+00, 9.72738952e-01, 6.56454457e-01, 6.44146298e-01,\n",
              "       6.42774035e-01, 1.19646324e-03])"
            ]
          },
          "metadata": {},
          "execution_count": 224
        }
      ]
    },
    {
      "cell_type": "code",
      "metadata": {
        "colab": {
          "base_uri": "https://localhost:8080/",
          "height": 206
        },
        "id": "qBS7TL-2euBi",
        "outputId": "f840dc4e-ebc5-409a-f090-a5469e9dc45e"
      },
      "source": [
        "from sklearn.metrics import accuracy_score\n",
        "accuracy_ls=[]\n",
        "for thres in thresholds:\n",
        "  y_pred = np.where(final_prediction>thres,1,0)\n",
        "  accuracy_ls.append(accuracy_score(Y_test,y_pred, normalize=True))\n",
        "accuracy_ls = pd.concat([pd.Series(thresholds), pd.Series(accuracy_ls)], axis=1)\n",
        "accuracy_ls.columns = ['Thresholds','Accuracy']\n",
        "accuracy_ls.sort_values(by='Accuracy', ascending = False, inplace=True)\n",
        "accuracy_ls.head()"
      ],
      "execution_count": null,
      "outputs": [
        {
          "output_type": "execute_result",
          "data": {
            "text/plain": [
              "   Thresholds  Accuracy\n",
              "2    0.656454  0.980769\n",
              "3    0.644146  0.980769\n",
              "4    0.642774  0.971154\n",
              "0    1.972739  0.509615\n",
              "1    0.972739  0.509615"
            ],
            "text/html": [
              "\n",
              "  <div id=\"df-752a9656-daa7-49c3-9791-2c92ef0d85de\">\n",
              "    <div class=\"colab-df-container\">\n",
              "      <div>\n",
              "<style scoped>\n",
              "    .dataframe tbody tr th:only-of-type {\n",
              "        vertical-align: middle;\n",
              "    }\n",
              "\n",
              "    .dataframe tbody tr th {\n",
              "        vertical-align: top;\n",
              "    }\n",
              "\n",
              "    .dataframe thead th {\n",
              "        text-align: right;\n",
              "    }\n",
              "</style>\n",
              "<table border=\"1\" class=\"dataframe\">\n",
              "  <thead>\n",
              "    <tr style=\"text-align: right;\">\n",
              "      <th></th>\n",
              "      <th>Thresholds</th>\n",
              "      <th>Accuracy</th>\n",
              "    </tr>\n",
              "  </thead>\n",
              "  <tbody>\n",
              "    <tr>\n",
              "      <th>2</th>\n",
              "      <td>0.656454</td>\n",
              "      <td>0.980769</td>\n",
              "    </tr>\n",
              "    <tr>\n",
              "      <th>3</th>\n",
              "      <td>0.644146</td>\n",
              "      <td>0.980769</td>\n",
              "    </tr>\n",
              "    <tr>\n",
              "      <th>4</th>\n",
              "      <td>0.642774</td>\n",
              "      <td>0.971154</td>\n",
              "    </tr>\n",
              "    <tr>\n",
              "      <th>0</th>\n",
              "      <td>1.972739</td>\n",
              "      <td>0.509615</td>\n",
              "    </tr>\n",
              "    <tr>\n",
              "      <th>1</th>\n",
              "      <td>0.972739</td>\n",
              "      <td>0.509615</td>\n",
              "    </tr>\n",
              "  </tbody>\n",
              "</table>\n",
              "</div>\n",
              "      <button class=\"colab-df-convert\" onclick=\"convertToInteractive('df-752a9656-daa7-49c3-9791-2c92ef0d85de')\"\n",
              "              title=\"Convert this dataframe to an interactive table.\"\n",
              "              style=\"display:none;\">\n",
              "        \n",
              "  <svg xmlns=\"http://www.w3.org/2000/svg\" height=\"24px\"viewBox=\"0 0 24 24\"\n",
              "       width=\"24px\">\n",
              "    <path d=\"M0 0h24v24H0V0z\" fill=\"none\"/>\n",
              "    <path d=\"M18.56 5.44l.94 2.06.94-2.06 2.06-.94-2.06-.94-.94-2.06-.94 2.06-2.06.94zm-11 1L8.5 8.5l.94-2.06 2.06-.94-2.06-.94L8.5 2.5l-.94 2.06-2.06.94zm10 10l.94 2.06.94-2.06 2.06-.94-2.06-.94-.94-2.06-.94 2.06-2.06.94z\"/><path d=\"M17.41 7.96l-1.37-1.37c-.4-.4-.92-.59-1.43-.59-.52 0-1.04.2-1.43.59L10.3 9.45l-7.72 7.72c-.78.78-.78 2.05 0 2.83L4 21.41c.39.39.9.59 1.41.59.51 0 1.02-.2 1.41-.59l7.78-7.78 2.81-2.81c.8-.78.8-2.07 0-2.86zM5.41 20L4 18.59l7.72-7.72 1.47 1.35L5.41 20z\"/>\n",
              "  </svg>\n",
              "      </button>\n",
              "      \n",
              "  <style>\n",
              "    .colab-df-container {\n",
              "      display:flex;\n",
              "      flex-wrap:wrap;\n",
              "      gap: 12px;\n",
              "    }\n",
              "\n",
              "    .colab-df-convert {\n",
              "      background-color: #E8F0FE;\n",
              "      border: none;\n",
              "      border-radius: 50%;\n",
              "      cursor: pointer;\n",
              "      display: none;\n",
              "      fill: #1967D2;\n",
              "      height: 32px;\n",
              "      padding: 0 0 0 0;\n",
              "      width: 32px;\n",
              "    }\n",
              "\n",
              "    .colab-df-convert:hover {\n",
              "      background-color: #E2EBFA;\n",
              "      box-shadow: 0px 1px 2px rgba(60, 64, 67, 0.3), 0px 1px 3px 1px rgba(60, 64, 67, 0.15);\n",
              "      fill: #174EA6;\n",
              "    }\n",
              "\n",
              "    [theme=dark] .colab-df-convert {\n",
              "      background-color: #3B4455;\n",
              "      fill: #D2E3FC;\n",
              "    }\n",
              "\n",
              "    [theme=dark] .colab-df-convert:hover {\n",
              "      background-color: #434B5C;\n",
              "      box-shadow: 0px 1px 3px 1px rgba(0, 0, 0, 0.15);\n",
              "      filter: drop-shadow(0px 1px 2px rgba(0, 0, 0, 0.3));\n",
              "      fill: #FFFFFF;\n",
              "    }\n",
              "  </style>\n",
              "\n",
              "      <script>\n",
              "        const buttonEl =\n",
              "          document.querySelector('#df-752a9656-daa7-49c3-9791-2c92ef0d85de button.colab-df-convert');\n",
              "        buttonEl.style.display =\n",
              "          google.colab.kernel.accessAllowed ? 'block' : 'none';\n",
              "\n",
              "        async function convertToInteractive(key) {\n",
              "          const element = document.querySelector('#df-752a9656-daa7-49c3-9791-2c92ef0d85de');\n",
              "          const dataTable =\n",
              "            await google.colab.kernel.invokeFunction('convertToInteractive',\n",
              "                                                     [key], {});\n",
              "          if (!dataTable) return;\n",
              "\n",
              "          const docLinkHtml = 'Like what you see? Visit the ' +\n",
              "            '<a target=\"_blank\" href=https://colab.research.google.com/notebooks/data_table.ipynb>data table notebook</a>'\n",
              "            + ' to learn more about interactive tables.';\n",
              "          element.innerHTML = '';\n",
              "          dataTable['output_type'] = 'display_data';\n",
              "          await google.colab.output.renderOutput(dataTable, element);\n",
              "          const docLink = document.createElement('div');\n",
              "          docLink.innerHTML = docLinkHtml;\n",
              "          element.appendChild(docLink);\n",
              "        }\n",
              "      </script>\n",
              "    </div>\n",
              "  </div>\n",
              "  "
            ]
          },
          "metadata": {},
          "execution_count": 225
        }
      ]
    },
    {
      "cell_type": "code",
      "metadata": {
        "id": "BuCqcA-Dhw7h"
      },
      "source": [
        "def plot_roc_curve(fpr, tpr):\n",
        "  plt.plot(fpr, tpr, color = 'red', label='ROC')\n",
        "  plt.plot([0,1], [0,1], color= 'blue', linestyle='--' )\n",
        "  plt.xlabel('False Positive Rate')\n",
        "  plt.ylabel('True Positive Rate')\n",
        "  plt.title('ROC CURVE')\n",
        "  plt.legend()\n",
        "  plt.show()"
      ],
      "execution_count": null,
      "outputs": []
    },
    {
      "cell_type": "code",
      "metadata": {
        "colab": {
          "base_uri": "https://localhost:8080/",
          "height": 295
        },
        "id": "zI3PRNQwj-po",
        "outputId": "307110f7-875d-4aea-83c6-d7d0ca300922"
      },
      "source": [
        "plot_roc_curve(fpr, tpr)"
      ],
      "execution_count": null,
      "outputs": [
        {
          "output_type": "display_data",
          "data": {
            "text/plain": [
              "<Figure size 432x288 with 1 Axes>"
            ],
            "image/png": "[encoded data removed]"
          },
          "metadata": {
            "needs_background": "light"
          }
        }
      ]
    },
    {
      "cell_type": "code",
      "metadata": {
        "id": "sezE1yLhllYe"
      },
      "source": [
        "lr_fpr,lr_tpr,_ = roc_curve(Y_test,lr_prob[:,1])\n",
        "svm_fpr,svm_tpr,_ = roc_curve(Y_test,svm_prob[:,1])\n",
        "nb_fpr,nb_tpr,_ = roc_curve(Y_test,nb_prob[:,1])\n",
        "dt_fpr,dt_tpr,_ = roc_curve(Y_test,dt_prob[:,1])\n",
        "rf_fpr,rf_tpr,_ = roc_curve(Y_test,rf_prob[:,1])\n",
        "et_fpr,et_tpr,_ = roc_curve(Y_test,et_prob[:,1])"
      ],
      "execution_count": null,
      "outputs": []
    },
    {
      "cell_type": "code",
      "metadata": {
        "colab": {
          "base_uri": "https://localhost:8080/",
          "height": 295
        },
        "id": "OljrLQCAtdxD",
        "outputId": "3b213ad2-ea7e-423f-c3e4-228d2f4ecc3c"
      },
      "source": [
        "plt.plot(lr_fpr, lr_tpr, color = 'red', linestyle='-',label='Logistric Regrassion AUROC = %0.3f'% lr_auc)\n",
        "plt.plot(svm_fpr, svm_tpr, color = 'green', linestyle='-',label='SVM AUROC = %0.3f'% svm_auc)\n",
        "plt.plot(nb_fpr, nb_tpr, color = 'orange', linestyle='-',label='Naive Bayes AUROC = %0.3f'% nb_auc)\n",
        "plt.plot(dt_fpr, dt_tpr, color = 'blue', linestyle='-',label='Decision Tree  AUROC = %0.3f'% dt_auc)\n",
        "plt.plot(rf_fpr, rf_tpr, color = 'cyan', linestyle='-',label='Random Forest AUROC = %0.3f'% rf_auc)\n",
        "plt.plot(et_fpr, et_tpr, color = 'coral', linestyle='-',label='Extra Tree AUROC = %0.3f'% et_auc)\n",
        "plt.xlabel('False Positive Rate')\n",
        "plt.ylabel('True Positive Rate')\n",
        "plt.title('ROC CURVE (Traditional)')\n",
        "plt.legend(loc=4, prop={'size': 12})\n",
        "plt.show()"
      ],
      "execution_count": null,
      "outputs": [
        {
          "output_type": "display_data",
          "data": {
            "text/plain": [
              "<Figure size 432x288 with 1 Axes>"
            ],
            "image/png": "[encoded data removed]"
          },
          "metadata": {
            "needs_background": "light"
          }
        }
      ]
    },
    {
      "cell_type": "markdown",
      "source": [
        "# Stacking"
      ],
      "metadata": {
        "id": "BsKU3aMsCpEt"
      }
    },
    {
      "cell_type": "code",
      "source": [
        "from sklearn.ensemble import StackingClassifier"
      ],
      "metadata": {
        "id": "sil6emE3JbdC"
      },
      "execution_count": null,
      "outputs": []
    },
    {
      "cell_type": "code",
      "source": [
        "estimators = [('SVM', sclassifier),('RF', rfclassifier)]\n",
        "stackclassifier = StackingClassifier(estimators=estimators)"
      ],
      "metadata": {
        "id": "3nf9B9nJOmHy"
      },
      "execution_count": null,
      "outputs": []
    },
    {
      "cell_type": "code",
      "source": [
        "Kfold_result(X,Y,stackclassifier,10)"
      ],
      "metadata": {
        "colab": {
          "base_uri": "https://localhost:8080/",
          "height": 369
        },
        "id": "ZmiMZwDeQLzL",
        "outputId": "f47b3479-81ab-491e-d2e3-99f9dd3cdae5"
      },
      "execution_count": null,
      "outputs": [
        {
          "output_type": "stream",
          "name": "stdout",
          "text": [
            "\n",
            "cross validation\n",
            "cross accuracy: 0.9133565621370499\n",
            "cross precision: 0.8969913900040941\n",
            "cross recall: 0.9507142857142856\n",
            "cross f1 score: 0.9200832694437345\n"
          ]
        },
        {
          "output_type": "display_data",
          "data": {
            "text/plain": [
              "<Figure size 432x288 with 2 Axes>"
            ],
            "image/png": "[encoded data removed]"
          },
          "metadata": {
            "needs_background": "light"
          }
        }
      ]
    },
    {
      "cell_type": "code",
      "source": [
        "# AUC\n",
        "from sklearn.metrics import roc_auc_score, roc_curve\n",
        "stackclassifier.fit(X,Y)\n",
        "st_probs_y = stackclassifier.predict_proba(X)\n",
        "st_auc_y = roc_auc_score(Y, st_probs_y[:,1])\n",
        "st_fpr, st_tpr, threshold = roc_curve(Y,st_probs_y[:,1])\n",
        "print(st_auc_y)"
      ],
      "metadata": {
        "colab": {
          "base_uri": "https://localhost:8080/"
        },
        "id": "_fu5r94skHkT",
        "outputId": "056c5581-214a-4dfd-f5eb-54b41771b0b3"
      },
      "execution_count": null,
      "outputs": [
        {
          "output_type": "stream",
          "name": "stdout",
          "text": [
            "1.0\n"
          ]
        }
      ]
    },
    {
      "cell_type": "code",
      "source": [
        "from sklearn.metrics import roc_auc_score,roc_curve\n",
        "\n",
        "plt.figure(figsize=(5,5),dpi = 100)\n",
        "plt.plot(st_fpr,st_tpr,linestyle='-',label='Stacking(ROC:%0.3f)' % st_auc_y)\n",
        "lw=2\n",
        "plt.plot([0, 1], [0, 1], color='black', lw=lw, linestyle='--')\n",
        "plt.title(\"ROC Curve\")\n",
        "plt.xlabel(\"False Positive Rate ---->\")\n",
        "plt.ylabel(\"True Positive Rate ---->\")\n",
        "plt.legend()\n",
        "plt.show()"
      ],
      "metadata": {
        "colab": {
          "base_uri": "https://localhost:8080/",
          "height": 480
        },
        "id": "ZbyayqufkIWy",
        "outputId": "4089f37f-2e21-4154-d577-2368273d9b1f"
      },
      "execution_count": null,
      "outputs": [
        {
          "output_type": "display_data",
          "data": {
            "text/plain": [
              "<Figure size 500x500 with 1 Axes>"
            ],
            "image/png": "[encoded data removed]"
          },
          "metadata": {
            "needs_background": "light"
          }
        }
      ]
    },
    {
      "cell_type": "markdown",
      "metadata": {
        "id": "qgYJhFpzj3DL"
      },
      "source": [
        "#Hard Ensemble"
      ]
    },
    {
      "cell_type": "code",
      "execution_count": null,
      "metadata": {
        "id": "L3g9t5TcXeXM",
        "colab": {
          "base_uri": "https://localhost:8080/"
        },
        "outputId": "236f4d50-eb33-4807-a405-4f0ef62f9b8c"
      },
      "outputs": [
        {
          "output_type": "stream",
          "name": "stdout",
          "text": [
            "Accuracy: 0.8397 (+/- 0.153) [LR Classifier]\n",
            "Accuracy: 0.8923 (+/- 0.107) [SVM]\n",
            "Accuracy: 0.8803 (+/- 0.111) [RF]\n",
            "Accuracy: 0.8852 (+/- 0.126) [Ensemble_hard]\n",
            "Precision: 0.8400 (+/- 0.178) [LR Classifier]\n",
            "Precision: 0.8781 (+/- 0.131) [SVM]\n",
            "Precision: 0.8851 (+/- 0.150) [RF]\n",
            "Precision: 0.8820 (+/- 0.158) [Ensemble]\n",
            "Recall: 0.9033 (+/- 0.053) [LR Classifier]\n",
            "Recall: 0.9417 (+/- 0.079) [SVM]\n",
            "Recall: 0.9183 (+/- 0.057) [RF]\n",
            "Recall: 0.9371 (+/- 0.044) [Ensemble]\n"
          ]
        }
      ],
      "source": [
        "from sklearn.ensemble import VotingClassifier\n",
        "eclfh = VotingClassifier(estimators=[('LRmodel', classifier), ('SVM', sclassifier), ('rf', rfclassifier)],voting='hard')\n",
        "\n",
        "for clf, label in zip([classifier, sclassifier, rfclassifier, eclfh], ['LR Classifier', 'SVM', 'RF', 'Ensemble_hard']):\n",
        "      scores = cross_val_score(clf, X, Y, scoring='accuracy', cv=10)\n",
        "      print(\"Accuracy: %0.4f (+/- %0.3f) [%s]\" % (scores.mean(), scores.std(), label))\n",
        "for clf, label in zip([classifier, sclassifier, rfclassifier, eclfh], ['LR Classifier', 'SVM', 'RF', 'Ensemble']):\n",
        "      scores = cross_val_score(clf, X, Y, scoring='precision', cv=10)\n",
        "      print(\"Precision: %0.4f (+/- %0.3f) [%s]\" % (scores.mean(), scores.std(), label))\n",
        "for clf, label in zip([classifier, sclassifier, rfclassifier, eclfh], ['LR Classifier', 'SVM', 'RF', 'Ensemble']):\n",
        "      scores = cross_val_score(clf, X, Y, scoring='recall', cv=10)\n",
        "      print(\"Recall: %0.4f (+/- %0.3f) [%s]\" % (scores.mean(), scores.std(), label))\n",
        "\n"
      ]
    },
    {
      "cell_type": "markdown",
      "source": [
        "# Soft ensemble"
      ],
      "metadata": {
        "id": "c7KyMejs53Bq"
      }
    },
    {
      "cell_type": "code",
      "execution_count": null,
      "metadata": {
        "id": "exlmGEMA5v18",
        "colab": {
          "base_uri": "https://localhost:8080/"
        },
        "outputId": "a878137d-9c88-452d-d4ee-0e8aac728564"
      },
      "outputs": [
        {
          "output_type": "stream",
          "name": "stdout",
          "text": [
            "Accuracy: 0.8397 (+/- 0.153) [LR]\n",
            "Accuracy: 0.8923 (+/- 0.107) [SVM]\n",
            "Accuracy: 0.8803 (+/- 0.111) [RF]\n",
            "Accuracy: 0.8852 (+/- 0.126) [Ensemble_soft]\n",
            "Precision: 0.8400 (+/- 0.178) [LR]\n",
            "Precision: 0.8781 (+/- 0.131) [SVM]\n",
            "Precision: 0.8851 (+/- 0.150) [RF]\n",
            "Precision: 0.8820 (+/- 0.158) [Ensemble_soft]\n",
            "Recall: 0.9033 (+/- 0.053) [LR]\n",
            "Recall: 0.9417 (+/- 0.079) [SVM]\n",
            "Recall: 0.9183 (+/- 0.057) [RF]\n",
            "Recall: 0.9371 (+/- 0.044) [Ensemble_soft]\n"
          ]
        }
      ],
      "source": [
        "from sklearn.ensemble import VotingClassifier\n",
        "eclfs = VotingClassifier(estimators=[('LR', classifier), ('SVM', sclassifier), ('RF', rfclassifier)],voting='soft')\n",
        "\n",
        "for clf, label in zip([classifier, sclassifier, rfclassifier, eclfh], ['LR', 'SVM', 'RF', 'Ensemble_soft']):\n",
        "      scores = cross_val_score(clf, X, Y, scoring='accuracy', cv=10)\n",
        "      print(\"Accuracy: %0.4f (+/- %0.3f) [%s]\" % (scores.mean(), scores.std(), label))\n",
        "for clf, label in zip([classifier, sclassifier, rfclassifier, eclfh], ['LR', 'SVM', 'RF', 'Ensemble_soft']):\n",
        "      scores = cross_val_score(clf, X, Y, scoring='precision', cv=10)\n",
        "      print(\"Precision: %0.4f (+/- %0.3f) [%s]\" % (scores.mean(), scores.std(), label))\n",
        "for clf, label in zip([classifier, sclassifier, rfclassifier, eclfh], ['LR', 'SVM', 'RF', 'Ensemble_soft']):\n",
        "      scores = cross_val_score(clf, X, Y, scoring='recall', cv=10)\n",
        "      print(\"Recall: %0.4f (+/- %0.3f) [%s]\" % (scores.mean(), scores.std(), label))\n"
      ]
    },
    {
      "cell_type": "code",
      "source": [
        "def Kfold_result(X,Y,model,foldnum):\n",
        "   print(\"\\ncross validation\")\n",
        "   from sklearn.model_selection import cross_val_score, cross_validate,cross_val_predict\n",
        "   from sklearn.metrics import make_scorer, accuracy_score, precision_score, recall_score, f1_score\n",
        "   scoring = {'accuracy' : make_scorer(accuracy_score),\n",
        "           'precision' : make_scorer(precision_score),\n",
        "           'recall' : make_scorer(recall_score),\n",
        "           'f1_score' : make_scorer(f1_score)}\n",
        "\n",
        "   results = cross_validate(estimator=model,\n",
        "                                          X=X,\n",
        "                                          y=Y,\n",
        "                                          cv=10,\n",
        "                                          scoring=scoring)\n",
        "   print('cross accuracy:',np.mean(results['test_accuracy']))\n",
        "   print('cross precision:',np.mean(results['test_precision']))\n",
        "   print('cross recall:',np.mean(results['test_recall']))\n",
        "   print('cross f1 score:', np.mean(results['test_f1_score']))\n",
        "   cross_pred_test = cross_val_predict(model,X,Y,cv = 10)\n",
        "   cm = confusion_matrix(Y,cross_pred_test)\n",
        "   group_names = ['','','','']\n",
        "   group_counts = [\"{0:0.0f}\".format(value) for value in\n",
        "                cm.flatten()]\n",
        "   group_percentages = [\"{0:.2%}\".format(value) for value in\n",
        "                     cm.flatten()/np.sum(cm)]\n",
        "   labels = [f\"{v1}\\n{v2}\\n{v3}\" for v1, v2, v3 in\n",
        "          zip(group_names,group_counts,group_percentages)]\n",
        "   labels = np.asarray(labels).reshape(2,2)\n",
        "   sns.heatmap(cm, annot=labels, fmt='', cmap='Purples')\n",
        "\n",
        "   pass"
      ],
      "metadata": {
        "id": "qcymjsYJ-CR5"
      },
      "execution_count": null,
      "outputs": []
    },
    {
      "cell_type": "code",
      "source": [
        "Kfold_result(X,Y,eclfs,10)"
      ],
      "metadata": {
        "colab": {
          "base_uri": "https://localhost:8080/",
          "height": 369
        },
        "id": "yjNWNIZgEgn-",
        "outputId": "fe0915a5-2010-49fb-a351-ae9dfbf60bf1"
      },
      "execution_count": null,
      "outputs": [
        {
          "output_type": "stream",
          "name": "stdout",
          "text": [
            "\n",
            "cross validation\n",
            "cross accuracy: 0.897212543554007\n",
            "cross precision: 0.8866498316498316\n",
            "cross recall: 0.9561904761904761\n",
            "cross f1 score: 0.9118018048077104\n"
          ]
        },
        {
          "output_type": "display_data",
          "data": {
            "text/plain": [
              "<Figure size 432x288 with 2 Axes>"
            ],
            "image/png": "[encoded data removed]"
          },
          "metadata": {
            "needs_background": "light"
          }
        }
      ]
    },
    {
      "cell_type": "code",
      "source": [
        "# AUC\n",
        "from sklearn.metrics import roc_auc_score, roc_curve\n",
        "eclfs.fit(X,Y)\n",
        "es_probs_y = eclfs.predict_proba(X)\n",
        "es_auc_y = roc_auc_score(Y, es_probs_y[:,1])\n",
        "es_fpr, es_tpr, threshold = roc_curve(Y,es_probs_y[:,1])\n",
        "print(es_auc_y)"
      ],
      "metadata": {
        "colab": {
          "base_uri": "https://localhost:8080/"
        },
        "id": "qhY2b9LhFMDW",
        "outputId": "2232027d-6850-4795-fdea-85d796b1ba6f"
      },
      "execution_count": null,
      "outputs": [
        {
          "output_type": "stream",
          "name": "stdout",
          "text": [
            "1.0\n"
          ]
        }
      ]
    },
    {
      "cell_type": "code",
      "source": [
        "from sklearn.metrics import roc_auc_score,roc_curve\n",
        "plt.figure(figsize=(5,5),dpi = 100)\n",
        "plt.plot(es_fpr,es_tpr,linestyle='-',label='Soft Voting(ROC:%0.3f)' % es_auc_y)\n",
        "lw=2\n",
        "plt.plot([0, 1], [0, 1], color='black', lw=lw, linestyle='--')\n",
        "plt.title(\"ROC Curve\")\n",
        "plt.xlabel(\"False Positive Rate ---->\")\n",
        "plt.ylabel(\"True Positive Rate ---->\")\n",
        "plt.legend()\n",
        "plt.show()"
      ],
      "metadata": {
        "id": "q-_jbTQBqQU5",
        "colab": {
          "base_uri": "https://localhost:8080/",
          "height": 480
        },
        "outputId": "c15afd45-032a-4d7b-d100-e8d3913322c8"
      },
      "execution_count": null,
      "outputs": [
        {
          "output_type": "display_data",
          "data": {
            "text/plain": [
              "<Figure size 500x500 with 1 Axes>"
            ],
            "image/png": "[encoded data removed]"
          },
          "metadata": {
            "needs_background": "light"
          }
        }
      ]
    },
    {
      "cell_type": "markdown",
      "source": [
        "# ROC"
      ],
      "metadata": {
        "id": "Z4WsxiM6UYNX"
      }
    },
    {
      "cell_type": "code",
      "source": [
        "lr_fpr,lr_tpr,_ = roc_curve(Y_test,lr_prob[:,1])\n",
        "svm_fpr,svm_tpr,_ = roc_curve(Y_test,svm_prob[:,1])\n",
        "nb_fpr,nb_tpr,_ = roc_curve(Y_test,nb_prob[:,1])\n",
        "dt_fpr,dt_tpr,_ = roc_curve(Y_test,dt_prob[:,1])\n",
        "rf_fpr,rf_tpr,_ = roc_curve(Y_test,rf_prob[:,1])\n",
        "et_fpr,et_tpr,_ = roc_curve(Y_test,et_prob[:,1])\n"
      ],
      "metadata": {
        "id": "S7eOZus4Uell"
      },
      "execution_count": null,
      "outputs": []
    },
    {
      "cell_type": "code",
      "source": [
        "plt.figure(figsize=(4,4),dpi = 100)\n",
        "plt.plot(lr_fpr, lr_tpr, color = 'red', linestyle='-',label='Logistric Regrassion AUROC = %0.3f'% lr_auc)\n",
        "plt.plot(svm_fpr, svm_tpr, color = 'green', linestyle='-',label='SVM AUROC = %0.3f'% svm_auc)\n",
        "plt.plot(nb_fpr, nb_tpr, color = 'orange', linestyle='-',label='Naive Bayes AUROC = %0.3f'% nb_auc)\n",
        "plt.plot(dt_fpr, dt_tpr, color = 'blue', linestyle='-',label='Decision Tree  AUROC = %0.3f'% dt_auc)\n",
        "plt.plot(rf_fpr, rf_tpr, color = 'cyan', linestyle='-',label='Random Forest AUROC = %0.3f'% rf_auc)\n",
        "plt.plot(et_fpr, et_tpr, color = 'coral', linestyle='-',label='Extra Tree AUROC = %0.3f'% et_auc)\n",
        "plt.plot(es_fpr,es_tpr,linestyle='-',label='Voting AUROC = %0.3f' % es_auc_y)\n",
        "plt.plot(st_fpr,st_tpr,color = 'purple', linestyle='-',label='Stacking AUROC = %0.3f' % st_auc_y)\n",
        "plt.xlabel('False Positive Rate')\n",
        "plt.ylabel('True Positive Rate')\n",
        "plt.title('ROC CURVE (Traditional)')\n",
        "plt.legend(loc=4, prop={'size': 8.5})\n",
        "plt.show()"
      ],
      "metadata": {
        "colab": {
          "base_uri": "https://localhost:8080/",
          "height": 404
        },
        "id": "LKovp8yvUaoX",
        "outputId": "6e3b1c95-2ada-45c2-da11-176dce33ec42"
      },
      "execution_count": null,
      "outputs": [
        {
          "output_type": "display_data",
          "data": {
            "text/plain": [
              "<Figure size 400x400 with 1 Axes>"
            ],
            "image/png": "[encoded data removed]"
          },
          "metadata": {
            "needs_background": "light"
          }
        }
      ]
    },
    {
      "cell_type": "markdown",
      "metadata": {
        "id": "QSfztBUHW9Xn"
      },
      "source": [
        "# Bagging"
      ]
    },
    {
      "cell_type": "code",
      "metadata": {
        "id": "c1RCKChq1zd3"
      },
      "source": [
        "from sklearn.ensemble import BaggingClassifier"
      ],
      "execution_count": null,
      "outputs": []
    },
    {
      "cell_type": "markdown",
      "metadata": {
        "id": "2nmqGdqtCCxE"
      },
      "source": [
        "## Hyper parameter Tuning"
      ]
    },
    {
      "cell_type": "markdown",
      "metadata": {
        "id": "Z1o_WJigCGbC"
      },
      "source": [
        "### Bagging Logistic Regression Random Search"
      ]
    },
    {
      "cell_type": "code",
      "metadata": {
        "colab": {
          "base_uri": "https://localhost:8080/"
        },
        "id": "BsLolpYTCELT",
        "outputId": "851b3b4e-c1d3-4688-cd4c-4f0b362febd3"
      },
      "source": [
        "grs = RandomizedSearchCV(BaggingClassifier(),{\n",
        "    'base_estimator' : [LogisticRegression(solver='liblinear',multi_class='auto')],\n",
        "    'bootstrap_features': ['True','False',None],\n",
        "    'n_estimators' : [i for i in range(1,100,1)],\n",
        "    'n_jobs' : [1,2,3,4,5]\n",
        "})\n",
        "grs.fit(X,Y)\n",
        "best_paramgrs = grs.best_params_\n",
        "pd.DataFrame(grs.cv_results_)[['param_bootstrap_features','param_n_estimators','param_n_jobs','mean_test_score']]"
      ],
      "execution_count": null,
      "outputs": [
        {
          "output_type": "execute_result",
          "data": {
            "text/plain": [
              "  param_bootstrap_features param_n_estimators param_n_jobs  mean_test_score\n",
              "0                    False                 28            4         0.821599\n",
              "1                     None                 13            3         0.802175\n",
              "2                     None                 14            1         0.816632\n",
              "3                    False                 34            1         0.804702\n",
              "4                    False                 84            5         0.814370\n",
              "5                     None                 51            1         0.814223\n",
              "6                     None                 90            3         0.816632\n",
              "7                     None                 18            3         0.814223\n",
              "8                    False                 47            4         0.816779\n",
              "9                     True                 62            2         0.819160"
            ],
            "text/html": [
              "\n",
              "  <div id=\"df-684bebf4-9489-4cd4-b1c2-a1b1b122d80c\">\n",
              "    <div class=\"colab-df-container\">\n",
              "      <div>\n",
              "<style scoped>\n",
              "    .dataframe tbody tr th:only-of-type {\n",
              "        vertical-align: middle;\n",
              "    }\n",
              "\n",
              "    .dataframe tbody tr th {\n",
              "        vertical-align: top;\n",
              "    }\n",
              "\n",
              "    .dataframe thead th {\n",
              "        text-align: right;\n",
              "    }\n",
              "</style>\n",
              "<table border=\"1\" class=\"dataframe\">\n",
              "  <thead>\n",
              "    <tr style=\"text-align: right;\">\n",
              "      <th></th>\n",
              "      <th>param_bootstrap_features</th>\n",
              "      <th>param_n_estimators</th>\n",
              "      <th>param_n_jobs</th>\n",
              "      <th>mean_test_score</th>\n",
              "    </tr>\n",
              "  </thead>\n",
              "  <tbody>\n",
              "    <tr>\n",
              "      <th>0</th>\n",
              "      <td>False</td>\n",
              "      <td>28</td>\n",
              "      <td>4</td>\n",
              "      <td>0.821599</td>\n",
              "    </tr>\n",
              "    <tr>\n",
              "      <th>1</th>\n",
              "      <td>None</td>\n",
              "      <td>13</td>\n",
              "      <td>3</td>\n",
              "      <td>0.802175</td>\n",
              "    </tr>\n",
              "    <tr>\n",
              "      <th>2</th>\n",
              "      <td>None</td>\n",
              "      <td>14</td>\n",
              "      <td>1</td>\n",
              "      <td>0.816632</td>\n",
              "    </tr>\n",
              "    <tr>\n",
              "      <th>3</th>\n",
              "      <td>False</td>\n",
              "      <td>34</td>\n",
              "      <td>1</td>\n",
              "      <td>0.804702</td>\n",
              "    </tr>\n",
              "    <tr>\n",
              "      <th>4</th>\n",
              "      <td>False</td>\n",
              "      <td>84</td>\n",
              "      <td>5</td>\n",
              "      <td>0.814370</td>\n",
              "    </tr>\n",
              "    <tr>\n",
              "      <th>5</th>\n",
              "      <td>None</td>\n",
              "      <td>51</td>\n",
              "      <td>1</td>\n",
              "      <td>0.814223</td>\n",
              "    </tr>\n",
              "    <tr>\n",
              "      <th>6</th>\n",
              "      <td>None</td>\n",
              "      <td>90</td>\n",
              "      <td>3</td>\n",
              "      <td>0.816632</td>\n",
              "    </tr>\n",
              "    <tr>\n",
              "      <th>7</th>\n",
              "      <td>None</td>\n",
              "      <td>18</td>\n",
              "      <td>3</td>\n",
              "      <td>0.814223</td>\n",
              "    </tr>\n",
              "    <tr>\n",
              "      <th>8</th>\n",
              "      <td>False</td>\n",
              "      <td>47</td>\n",
              "      <td>4</td>\n",
              "      <td>0.816779</td>\n",
              "    </tr>\n",
              "    <tr>\n",
              "      <th>9</th>\n",
              "      <td>True</td>\n",
              "      <td>62</td>\n",
              "      <td>2</td>\n",
              "      <td>0.819160</td>\n",
              "    </tr>\n",
              "  </tbody>\n",
              "</table>\n",
              "</div>\n",
              "      <button class=\"colab-df-convert\" onclick=\"convertToInteractive('df-684bebf4-9489-4cd4-b1c2-a1b1b122d80c')\"\n",
              "              title=\"Convert this dataframe to an interactive table.\"\n",
              "              style=\"display:none;\">\n",
              "        \n",
              "  <svg xmlns=\"http://www.w3.org/2000/svg\" height=\"24px\"viewBox=\"0 0 24 24\"\n",
              "       width=\"24px\">\n",
              "    <path d=\"M0 0h24v24H0V0z\" fill=\"none\"/>\n",
              "    <path d=\"M18.56 5.44l.94 2.06.94-2.06 2.06-.94-2.06-.94-.94-2.06-.94 2.06-2.06.94zm-11 1L8.5 8.5l.94-2.06 2.06-.94-2.06-.94L8.5 2.5l-.94 2.06-2.06.94zm10 10l.94 2.06.94-2.06 2.06-.94-2.06-.94-.94-2.06-.94 2.06-2.06.94z\"/><path d=\"M17.41 7.96l-1.37-1.37c-.4-.4-.92-.59-1.43-.59-.52 0-1.04.2-1.43.59L10.3 9.45l-7.72 7.72c-.78.78-.78 2.05 0 2.83L4 21.41c.39.39.9.59 1.41.59.51 0 1.02-.2 1.41-.59l7.78-7.78 2.81-2.81c.8-.78.8-2.07 0-2.86zM5.41 20L4 18.59l7.72-7.72 1.47 1.35L5.41 20z\"/>\n",
              "  </svg>\n",
              "      </button>\n",
              "      \n",
              "  <style>\n",
              "    .colab-df-container {\n",
              "      display:flex;\n",
              "      flex-wrap:wrap;\n",
              "      gap: 12px;\n",
              "    }\n",
              "\n",
              "    .colab-df-convert {\n",
              "      background-color: #E8F0FE;\n",
              "      border: none;\n",
              "      border-radius: 50%;\n",
              "      cursor: pointer;\n",
              "      display: none;\n",
              "      fill: #1967D2;\n",
              "      height: 32px;\n",
              "      padding: 0 0 0 0;\n",
              "      width: 32px;\n",
              "    }\n",
              "\n",
              "    .colab-df-convert:hover {\n",
              "      background-color: #E2EBFA;\n",
              "      box-shadow: 0px 1px 2px rgba(60, 64, 67, 0.3), 0px 1px 3px 1px rgba(60, 64, 67, 0.15);\n",
              "      fill: #174EA6;\n",
              "    }\n",
              "\n",
              "    [theme=dark] .colab-df-convert {\n",
              "      background-color: #3B4455;\n",
              "      fill: #D2E3FC;\n",
              "    }\n",
              "\n",
              "    [theme=dark] .colab-df-convert:hover {\n",
              "      background-color: #434B5C;\n",
              "      box-shadow: 0px 1px 3px 1px rgba(0, 0, 0, 0.15);\n",
              "      filter: drop-shadow(0px 1px 2px rgba(0, 0, 0, 0.3));\n",
              "      fill: #FFFFFF;\n",
              "    }\n",
              "  </style>\n",
              "\n",
              "      <script>\n",
              "        const buttonEl =\n",
              "          document.querySelector('#df-684bebf4-9489-4cd4-b1c2-a1b1b122d80c button.colab-df-convert');\n",
              "        buttonEl.style.display =\n",
              "          google.colab.kernel.accessAllowed ? 'block' : 'none';\n",
              "\n",
              "        async function convertToInteractive(key) {\n",
              "          const element = document.querySelector('#df-684bebf4-9489-4cd4-b1c2-a1b1b122d80c');\n",
              "          const dataTable =\n",
              "            await google.colab.kernel.invokeFunction('convertToInteractive',\n",
              "                                                     [key], {});\n",
              "          if (!dataTable) return;\n",
              "\n",
              "          const docLinkHtml = 'Like what you see? Visit the ' +\n",
              "            '<a target=\"_blank\" href=https://colab.research.google.com/notebooks/data_table.ipynb>data table notebook</a>'\n",
              "            + ' to learn more about interactive tables.';\n",
              "          element.innerHTML = '';\n",
              "          dataTable['output_type'] = 'display_data';\n",
              "          await google.colab.output.renderOutput(dataTable, element);\n",
              "          const docLink = document.createElement('div');\n",
              "          docLink.innerHTML = docLinkHtml;\n",
              "          element.appendChild(docLink);\n",
              "        }\n",
              "      </script>\n",
              "    </div>\n",
              "  </div>\n",
              "  "
            ]
          },
          "metadata": {},
          "execution_count": 231
        }
      ]
    },
    {
      "cell_type": "markdown",
      "metadata": {
        "id": "IqZOD0ByEVd0"
      },
      "source": [
        "### Bagging KNN Random Search"
      ]
    },
    {
      "cell_type": "code",
      "metadata": {
        "colab": {
          "base_uri": "https://localhost:8080/"
        },
        "id": "nqFLfqcIEgY7",
        "outputId": "60ff9e44-2086-44ed-c6ff-1f325679585a"
      },
      "source": [
        "kgrs = RandomizedSearchCV(BaggingClassifier(),{\n",
        "    'base_estimator' : [KNeighborsClassifier()],\n",
        "    'bootstrap_features': ['True','False',None],\n",
        "    'n_estimators' : [i for i in range(1,100,1)],\n",
        "    'n_jobs' : [1,2,3,4,5]\n",
        "})\n",
        "kgrs.fit(X_train,Y_train)\n",
        "pd.DataFrame(kgrs.cv_results_)[['param_bootstrap_features','param_n_estimators','param_n_jobs','mean_test_score']]\n"
      ],
      "execution_count": null,
      "outputs": [
        {
          "output_type": "execute_result",
          "data": {
            "text/plain": [
              "  param_bootstrap_features param_n_estimators param_n_jobs  mean_test_score\n",
              "0                     True                 52            4         0.809677\n",
              "1                     True                 35            2         0.819355\n",
              "2                     True                 70            1         0.809677\n",
              "3                     None                 64            4         0.800000\n",
              "4                    False                  6            3         0.803226\n",
              "5                    False                  2            2         0.754839\n",
              "6                    False                 54            4         0.806452\n",
              "7                    False                  8            1         0.838710\n",
              "8                     None                 10            3         0.809677\n",
              "9                     None                 64            3         0.803226"
            ],
            "text/html": [
              "\n",
              "  <div id=\"df-32a79ea8-7954-4228-9c5b-91555bb1db2d\">\n",
              "    <div class=\"colab-df-container\">\n",
              "      <div>\n",
              "<style scoped>\n",
              "    .dataframe tbody tr th:only-of-type {\n",
              "        vertical-align: middle;\n",
              "    }\n",
              "\n",
              "    .dataframe tbody tr th {\n",
              "        vertical-align: top;\n",
              "    }\n",
              "\n",
              "    .dataframe thead th {\n",
              "        text-align: right;\n",
              "    }\n",
              "</style>\n",
              "<table border=\"1\" class=\"dataframe\">\n",
              "  <thead>\n",
              "    <tr style=\"text-align: right;\">\n",
              "      <th></th>\n",
              "      <th>param_bootstrap_features</th>\n",
              "      <th>param_n_estimators</th>\n",
              "      <th>param_n_jobs</th>\n",
              "      <th>mean_test_score</th>\n",
              "    </tr>\n",
              "  </thead>\n",
              "  <tbody>\n",
              "    <tr>\n",
              "      <th>0</th>\n",
              "      <td>True</td>\n",
              "      <td>52</td>\n",
              "      <td>4</td>\n",
              "      <td>0.809677</td>\n",
              "    </tr>\n",
              "    <tr>\n",
              "      <th>1</th>\n",
              "      <td>True</td>\n",
              "      <td>35</td>\n",
              "      <td>2</td>\n",
              "      <td>0.819355</td>\n",
              "    </tr>\n",
              "    <tr>\n",
              "      <th>2</th>\n",
              "      <td>True</td>\n",
              "      <td>70</td>\n",
              "      <td>1</td>\n",
              "      <td>0.809677</td>\n",
              "    </tr>\n",
              "    <tr>\n",
              "      <th>3</th>\n",
              "      <td>None</td>\n",
              "      <td>64</td>\n",
              "      <td>4</td>\n",
              "      <td>0.800000</td>\n",
              "    </tr>\n",
              "    <tr>\n",
              "      <th>4</th>\n",
              "      <td>False</td>\n",
              "      <td>6</td>\n",
              "      <td>3</td>\n",
              "      <td>0.803226</td>\n",
              "    </tr>\n",
              "    <tr>\n",
              "      <th>5</th>\n",
              "      <td>False</td>\n",
              "      <td>2</td>\n",
              "      <td>2</td>\n",
              "      <td>0.754839</td>\n",
              "    </tr>\n",
              "    <tr>\n",
              "      <th>6</th>\n",
              "      <td>False</td>\n",
              "      <td>54</td>\n",
              "      <td>4</td>\n",
              "      <td>0.806452</td>\n",
              "    </tr>\n",
              "    <tr>\n",
              "      <th>7</th>\n",
              "      <td>False</td>\n",
              "      <td>8</td>\n",
              "      <td>1</td>\n",
              "      <td>0.838710</td>\n",
              "    </tr>\n",
              "    <tr>\n",
              "      <th>8</th>\n",
              "      <td>None</td>\n",
              "      <td>10</td>\n",
              "      <td>3</td>\n",
              "      <td>0.809677</td>\n",
              "    </tr>\n",
              "    <tr>\n",
              "      <th>9</th>\n",
              "      <td>None</td>\n",
              "      <td>64</td>\n",
              "      <td>3</td>\n",
              "      <td>0.803226</td>\n",
              "    </tr>\n",
              "  </tbody>\n",
              "</table>\n",
              "</div>\n",
              "      <button class=\"colab-df-convert\" onclick=\"convertToInteractive('df-32a79ea8-7954-4228-9c5b-91555bb1db2d')\"\n",
              "              title=\"Convert this dataframe to an interactive table.\"\n",
              "              style=\"display:none;\">\n",
              "        \n",
              "  <svg xmlns=\"http://www.w3.org/2000/svg\" height=\"24px\"viewBox=\"0 0 24 24\"\n",
              "       width=\"24px\">\n",
              "    <path d=\"M0 0h24v24H0V0z\" fill=\"none\"/>\n",
              "    <path d=\"M18.56 5.44l.94 2.06.94-2.06 2.06-.94-2.06-.94-.94-2.06-.94 2.06-2.06.94zm-11 1L8.5 8.5l.94-2.06 2.06-.94-2.06-.94L8.5 2.5l-.94 2.06-2.06.94zm10 10l.94 2.06.94-2.06 2.06-.94-2.06-.94-.94-2.06-.94 2.06-2.06.94z\"/><path d=\"M17.41 7.96l-1.37-1.37c-.4-.4-.92-.59-1.43-.59-.52 0-1.04.2-1.43.59L10.3 9.45l-7.72 7.72c-.78.78-.78 2.05 0 2.83L4 21.41c.39.39.9.59 1.41.59.51 0 1.02-.2 1.41-.59l7.78-7.78 2.81-2.81c.8-.78.8-2.07 0-2.86zM5.41 20L4 18.59l7.72-7.72 1.47 1.35L5.41 20z\"/>\n",
              "  </svg>\n",
              "      </button>\n",
              "      \n",
              "  <style>\n",
              "    .colab-df-container {\n",
              "      display:flex;\n",
              "      flex-wrap:wrap;\n",
              "      gap: 12px;\n",
              "    }\n",
              "\n",
              "    .colab-df-convert {\n",
              "      background-color: #E8F0FE;\n",
              "      border: none;\n",
              "      border-radius: 50%;\n",
              "      cursor: pointer;\n",
              "      display: none;\n",
              "      fill: #1967D2;\n",
              "      height: 32px;\n",
              "      padding: 0 0 0 0;\n",
              "      width: 32px;\n",
              "    }\n",
              "\n",
              "    .colab-df-convert:hover {\n",
              "      background-color: #E2EBFA;\n",
              "      box-shadow: 0px 1px 2px rgba(60, 64, 67, 0.3), 0px 1px 3px 1px rgba(60, 64, 67, 0.15);\n",
              "      fill: #174EA6;\n",
              "    }\n",
              "\n",
              "    [theme=dark] .colab-df-convert {\n",
              "      background-color: #3B4455;\n",
              "      fill: #D2E3FC;\n",
              "    }\n",
              "\n",
              "    [theme=dark] .colab-df-convert:hover {\n",
              "      background-color: #434B5C;\n",
              "      box-shadow: 0px 1px 3px 1px rgba(0, 0, 0, 0.15);\n",
              "      filter: drop-shadow(0px 1px 2px rgba(0, 0, 0, 0.3));\n",
              "      fill: #FFFFFF;\n",
              "    }\n",
              "  </style>\n",
              "\n",
              "      <script>\n",
              "        const buttonEl =\n",
              "          document.querySelector('#df-32a79ea8-7954-4228-9c5b-91555bb1db2d button.colab-df-convert');\n",
              "        buttonEl.style.display =\n",
              "          google.colab.kernel.accessAllowed ? 'block' : 'none';\n",
              "\n",
              "        async function convertToInteractive(key) {\n",
              "          const element = document.querySelector('#df-32a79ea8-7954-4228-9c5b-91555bb1db2d');\n",
              "          const dataTable =\n",
              "            await google.colab.kernel.invokeFunction('convertToInteractive',\n",
              "                                                     [key], {});\n",
              "          if (!dataTable) return;\n",
              "\n",
              "          const docLinkHtml = 'Like what you see? Visit the ' +\n",
              "            '<a target=\"_blank\" href=https://colab.research.google.com/notebooks/data_table.ipynb>data table notebook</a>'\n",
              "            + ' to learn more about interactive tables.';\n",
              "          element.innerHTML = '';\n",
              "          dataTable['output_type'] = 'display_data';\n",
              "          await google.colab.output.renderOutput(dataTable, element);\n",
              "          const docLink = document.createElement('div');\n",
              "          docLink.innerHTML = docLinkHtml;\n",
              "          element.appendChild(docLink);\n",
              "        }\n",
              "      </script>\n",
              "    </div>\n",
              "  </div>\n",
              "  "
            ]
          },
          "metadata": {},
          "execution_count": 232
        }
      ]
    },
    {
      "cell_type": "markdown",
      "metadata": {
        "id": "UBO2fSm8FLj0"
      },
      "source": [
        "### Bagging SVM Random Search"
      ]
    },
    {
      "cell_type": "code",
      "metadata": {
        "colab": {
          "base_uri": "https://localhost:8080/"
        },
        "id": "HNjXCP-pFT_r",
        "outputId": "f03371b9-1137-49b1-bbd7-a29605f41363"
      },
      "source": [
        "sgrs = RandomizedSearchCV(BaggingClassifier(),{\n",
        "    'base_estimator' : [SVC()],\n",
        "    'bootstrap_features': ['True','False',None],\n",
        "    'n_estimators' : [i for i in range(1,100,1)],\n",
        "    'n_jobs' : [1,2,3,4,5]\n",
        "})\n",
        "sgrs.fit(X,Y)\n",
        "best_paramsgrs = sgrs.best_params_\n",
        "pd.DataFrame(grs.cv_results_)[['param_bootstrap_features','param_n_estimators','param_n_jobs','mean_test_score']]\n",
        "print(best_paramsgrs)"
      ],
      "execution_count": null,
      "outputs": [
        {
          "output_type": "stream",
          "name": "stdout",
          "text": [
            "{'n_jobs': 5, 'n_estimators': 56, 'bootstrap_features': None, 'base_estimator': SVC()}\n"
          ]
        }
      ]
    },
    {
      "cell_type": "markdown",
      "metadata": {
        "id": "2Hnb7rCyGMi9"
      },
      "source": [
        "### Bagging Naive Bayes Random Search"
      ]
    },
    {
      "cell_type": "code",
      "metadata": {
        "colab": {
          "base_uri": "https://localhost:8080/"
        },
        "id": "2e2r6mf3GTQS",
        "outputId": "5e6d0742-84fc-42b0-b466-bee5639b85d5"
      },
      "source": [
        "nbgrs = RandomizedSearchCV(BaggingClassifier(),{\n",
        "    'base_estimator' : [GaussianNB()],\n",
        "    'bootstrap_features': ['True','False',None],\n",
        "    'n_estimators' : [i for i in range(1,100,1)],\n",
        "    'n_jobs' : [1,2,3,4,5]\n",
        "})\n",
        "nbgrs.fit(X,Y)\n",
        "best_paramnbgrs = nbgrs.best_params_\n",
        "pd.DataFrame(nbgrs.cv_results_)[['param_bootstrap_features','param_n_estimators','param_n_jobs','mean_test_score']]"
      ],
      "execution_count": null,
      "outputs": [
        {
          "output_type": "execute_result",
          "data": {
            "text/plain": [
              "  param_bootstrap_features param_n_estimators param_n_jobs  mean_test_score\n",
              "0                    False                 99            2         0.826418\n",
              "1                    False                 53            3         0.816779\n",
              "2                     True                 71            1         0.824008\n",
              "3                     True                 56            4         0.826418\n",
              "4                     None                 95            5         0.824008\n",
              "5                     None                 49            4         0.821599\n",
              "6                     True                 17            4         0.811960\n",
              "7                    False                 86            2         0.824008\n",
              "8                     None                 35            2         0.824008\n",
              "9                     True                 39            3         0.819189"
            ],
            "text/html": [
              "\n",
              "  <div id=\"df-4029b82c-a0f7-44aa-b647-651776f94bce\">\n",
              "    <div class=\"colab-df-container\">\n",
              "      <div>\n",
              "<style scoped>\n",
              "    .dataframe tbody tr th:only-of-type {\n",
              "        vertical-align: middle;\n",
              "    }\n",
              "\n",
              "    .dataframe tbody tr th {\n",
              "        vertical-align: top;\n",
              "    }\n",
              "\n",
              "    .dataframe thead th {\n",
              "        text-align: right;\n",
              "    }\n",
              "</style>\n",
              "<table border=\"1\" class=\"dataframe\">\n",
              "  <thead>\n",
              "    <tr style=\"text-align: right;\">\n",
              "      <th></th>\n",
              "      <th>param_bootstrap_features</th>\n",
              "      <th>param_n_estimators</th>\n",
              "      <th>param_n_jobs</th>\n",
              "      <th>mean_test_score</th>\n",
              "    </tr>\n",
              "  </thead>\n",
              "  <tbody>\n",
              "    <tr>\n",
              "      <th>0</th>\n",
              "      <td>False</td>\n",
              "      <td>99</td>\n",
              "      <td>2</td>\n",
              "      <td>0.826418</td>\n",
              "    </tr>\n",
              "    <tr>\n",
              "      <th>1</th>\n",
              "      <td>False</td>\n",
              "      <td>53</td>\n",
              "      <td>3</td>\n",
              "      <td>0.816779</td>\n",
              "    </tr>\n",
              "    <tr>\n",
              "      <th>2</th>\n",
              "      <td>True</td>\n",
              "      <td>71</td>\n",
              "      <td>1</td>\n",
              "      <td>0.824008</td>\n",
              "    </tr>\n",
              "    <tr>\n",
              "      <th>3</th>\n",
              "      <td>True</td>\n",
              "      <td>56</td>\n",
              "      <td>4</td>\n",
              "      <td>0.826418</td>\n",
              "    </tr>\n",
              "    <tr>\n",
              "      <th>4</th>\n",
              "      <td>None</td>\n",
              "      <td>95</td>\n",
              "      <td>5</td>\n",
              "      <td>0.824008</td>\n",
              "    </tr>\n",
              "    <tr>\n",
              "      <th>5</th>\n",
              "      <td>None</td>\n",
              "      <td>49</td>\n",
              "      <td>4</td>\n",
              "      <td>0.821599</td>\n",
              "    </tr>\n",
              "    <tr>\n",
              "      <th>6</th>\n",
              "      <td>True</td>\n",
              "      <td>17</td>\n",
              "      <td>4</td>\n",
              "      <td>0.811960</td>\n",
              "    </tr>\n",
              "    <tr>\n",
              "      <th>7</th>\n",
              "      <td>False</td>\n",
              "      <td>86</td>\n",
              "      <td>2</td>\n",
              "      <td>0.824008</td>\n",
              "    </tr>\n",
              "    <tr>\n",
              "      <th>8</th>\n",
              "      <td>None</td>\n",
              "      <td>35</td>\n",
              "      <td>2</td>\n",
              "      <td>0.824008</td>\n",
              "    </tr>\n",
              "    <tr>\n",
              "      <th>9</th>\n",
              "      <td>True</td>\n",
              "      <td>39</td>\n",
              "      <td>3</td>\n",
              "      <td>0.819189</td>\n",
              "    </tr>\n",
              "  </tbody>\n",
              "</table>\n",
              "</div>\n",
              "      <button class=\"colab-df-convert\" onclick=\"convertToInteractive('df-4029b82c-a0f7-44aa-b647-651776f94bce')\"\n",
              "              title=\"Convert this dataframe to an interactive table.\"\n",
              "              style=\"display:none;\">\n",
              "        \n",
              "  <svg xmlns=\"http://www.w3.org/2000/svg\" height=\"24px\"viewBox=\"0 0 24 24\"\n",
              "       width=\"24px\">\n",
              "    <path d=\"M0 0h24v24H0V0z\" fill=\"none\"/>\n",
              "    <path d=\"M18.56 5.44l.94 2.06.94-2.06 2.06-.94-2.06-.94-.94-2.06-.94 2.06-2.06.94zm-11 1L8.5 8.5l.94-2.06 2.06-.94-2.06-.94L8.5 2.5l-.94 2.06-2.06.94zm10 10l.94 2.06.94-2.06 2.06-.94-2.06-.94-.94-2.06-.94 2.06-2.06.94z\"/><path d=\"M17.41 7.96l-1.37-1.37c-.4-.4-.92-.59-1.43-.59-.52 0-1.04.2-1.43.59L10.3 9.45l-7.72 7.72c-.78.78-.78 2.05 0 2.83L4 21.41c.39.39.9.59 1.41.59.51 0 1.02-.2 1.41-.59l7.78-7.78 2.81-2.81c.8-.78.8-2.07 0-2.86zM5.41 20L4 18.59l7.72-7.72 1.47 1.35L5.41 20z\"/>\n",
              "  </svg>\n",
              "      </button>\n",
              "      \n",
              "  <style>\n",
              "    .colab-df-container {\n",
              "      display:flex;\n",
              "      flex-wrap:wrap;\n",
              "      gap: 12px;\n",
              "    }\n",
              "\n",
              "    .colab-df-convert {\n",
              "      background-color: #E8F0FE;\n",
              "      border: none;\n",
              "      border-radius: 50%;\n",
              "      cursor: pointer;\n",
              "      display: none;\n",
              "      fill: #1967D2;\n",
              "      height: 32px;\n",
              "      padding: 0 0 0 0;\n",
              "      width: 32px;\n",
              "    }\n",
              "\n",
              "    .colab-df-convert:hover {\n",
              "      background-color: #E2EBFA;\n",
              "      box-shadow: 0px 1px 2px rgba(60, 64, 67, 0.3), 0px 1px 3px 1px rgba(60, 64, 67, 0.15);\n",
              "      fill: #174EA6;\n",
              "    }\n",
              "\n",
              "    [theme=dark] .colab-df-convert {\n",
              "      background-color: #3B4455;\n",
              "      fill: #D2E3FC;\n",
              "    }\n",
              "\n",
              "    [theme=dark] .colab-df-convert:hover {\n",
              "      background-color: #434B5C;\n",
              "      box-shadow: 0px 1px 3px 1px rgba(0, 0, 0, 0.15);\n",
              "      filter: drop-shadow(0px 1px 2px rgba(0, 0, 0, 0.3));\n",
              "      fill: #FFFFFF;\n",
              "    }\n",
              "  </style>\n",
              "\n",
              "      <script>\n",
              "        const buttonEl =\n",
              "          document.querySelector('#df-4029b82c-a0f7-44aa-b647-651776f94bce button.colab-df-convert');\n",
              "        buttonEl.style.display =\n",
              "          google.colab.kernel.accessAllowed ? 'block' : 'none';\n",
              "\n",
              "        async function convertToInteractive(key) {\n",
              "          const element = document.querySelector('#df-4029b82c-a0f7-44aa-b647-651776f94bce');\n",
              "          const dataTable =\n",
              "            await google.colab.kernel.invokeFunction('convertToInteractive',\n",
              "                                                     [key], {});\n",
              "          if (!dataTable) return;\n",
              "\n",
              "          const docLinkHtml = 'Like what you see? Visit the ' +\n",
              "            '<a target=\"_blank\" href=https://colab.research.google.com/notebooks/data_table.ipynb>data table notebook</a>'\n",
              "            + ' to learn more about interactive tables.';\n",
              "          element.innerHTML = '';\n",
              "          dataTable['output_type'] = 'display_data';\n",
              "          await google.colab.output.renderOutput(dataTable, element);\n",
              "          const docLink = document.createElement('div');\n",
              "          docLink.innerHTML = docLinkHtml;\n",
              "          element.appendChild(docLink);\n",
              "        }\n",
              "      </script>\n",
              "    </div>\n",
              "  </div>\n",
              "  "
            ]
          },
          "metadata": {},
          "execution_count": 234
        }
      ]
    },
    {
      "cell_type": "markdown",
      "metadata": {
        "id": "-LA6m7fqGxM9"
      },
      "source": [
        "### Bagging Decision Tree Random Search"
      ]
    },
    {
      "cell_type": "code",
      "metadata": {
        "colab": {
          "base_uri": "https://localhost:8080/"
        },
        "id": "ZKo2wihHG6nN",
        "outputId": "f33954fe-d5f1-469c-c824-d10bfde41c55"
      },
      "source": [
        "dtgrs = RandomizedSearchCV(BaggingClassifier(),{\n",
        "    'base_estimator' : [DecisionTreeClassifier()],\n",
        "    'bootstrap_features': ['True','False',None],\n",
        "    'n_estimators' : [i for i in range(1,100,1)],\n",
        "    'n_jobs' : [1,2,3,4,5]\n",
        "})\n",
        "dtgrs.fit(X,Y)\n",
        "best_paramdtgrs = dtgrs.best_params_\n",
        "pd.DataFrame(dtgrs.cv_results_)[['param_bootstrap_features','param_n_estimators','param_n_jobs','mean_test_score']]"
      ],
      "execution_count": null,
      "outputs": [
        {
          "output_type": "execute_result",
          "data": {
            "text/plain": [
              "  param_bootstrap_features param_n_estimators param_n_jobs  mean_test_score\n",
              "0                     None                 81            1         0.855304\n",
              "1                     None                 27            4         0.848105\n",
              "2                     None                 33            2         0.852924\n",
              "3                    False                 29            1         0.874640\n",
              "4                     True                 92            3         0.874669\n",
              "5                     True                  2            3         0.753776\n",
              "6                     True                 63            3         0.874640\n",
              "7                     None                 17            2         0.843285\n",
              "8                     None                 15            2         0.838495\n",
              "9                     None                 24            3         0.848134"
            ],
            "text/html": [
              "\n",
              "  <div id=\"df-51213bff-65a1-4e58-9d27-951bf8de138e\">\n",
              "    <div class=\"colab-df-container\">\n",
              "      <div>\n",
              "<style scoped>\n",
              "    .dataframe tbody tr th:only-of-type {\n",
              "        vertical-align: middle;\n",
              "    }\n",
              "\n",
              "    .dataframe tbody tr th {\n",
              "        vertical-align: top;\n",
              "    }\n",
              "\n",
              "    .dataframe thead th {\n",
              "        text-align: right;\n",
              "    }\n",
              "</style>\n",
              "<table border=\"1\" class=\"dataframe\">\n",
              "  <thead>\n",
              "    <tr style=\"text-align: right;\">\n",
              "      <th></th>\n",
              "      <th>param_bootstrap_features</th>\n",
              "      <th>param_n_estimators</th>\n",
              "      <th>param_n_jobs</th>\n",
              "      <th>mean_test_score</th>\n",
              "    </tr>\n",
              "  </thead>\n",
              "  <tbody>\n",
              "    <tr>\n",
              "      <th>0</th>\n",
              "      <td>None</td>\n",
              "      <td>81</td>\n",
              "      <td>1</td>\n",
              "      <td>0.855304</td>\n",
              "    </tr>\n",
              "    <tr>\n",
              "      <th>1</th>\n",
              "      <td>None</td>\n",
              "      <td>27</td>\n",
              "      <td>4</td>\n",
              "      <td>0.848105</td>\n",
              "    </tr>\n",
              "    <tr>\n",
              "      <th>2</th>\n",
              "      <td>None</td>\n",
              "      <td>33</td>\n",
              "      <td>2</td>\n",
              "      <td>0.852924</td>\n",
              "    </tr>\n",
              "    <tr>\n",
              "      <th>3</th>\n",
              "      <td>False</td>\n",
              "      <td>29</td>\n",
              "      <td>1</td>\n",
              "      <td>0.874640</td>\n",
              "    </tr>\n",
              "    <tr>\n",
              "      <th>4</th>\n",
              "      <td>True</td>\n",
              "      <td>92</td>\n",
              "      <td>3</td>\n",
              "      <td>0.874669</td>\n",
              "    </tr>\n",
              "    <tr>\n",
              "      <th>5</th>\n",
              "      <td>True</td>\n",
              "      <td>2</td>\n",
              "      <td>3</td>\n",
              "      <td>0.753776</td>\n",
              "    </tr>\n",
              "    <tr>\n",
              "      <th>6</th>\n",
              "      <td>True</td>\n",
              "      <td>63</td>\n",
              "      <td>3</td>\n",
              "      <td>0.874640</td>\n",
              "    </tr>\n",
              "    <tr>\n",
              "      <th>7</th>\n",
              "      <td>None</td>\n",
              "      <td>17</td>\n",
              "      <td>2</td>\n",
              "      <td>0.843285</td>\n",
              "    </tr>\n",
              "    <tr>\n",
              "      <th>8</th>\n",
              "      <td>None</td>\n",
              "      <td>15</td>\n",
              "      <td>2</td>\n",
              "      <td>0.838495</td>\n",
              "    </tr>\n",
              "    <tr>\n",
              "      <th>9</th>\n",
              "      <td>None</td>\n",
              "      <td>24</td>\n",
              "      <td>3</td>\n",
              "      <td>0.848134</td>\n",
              "    </tr>\n",
              "  </tbody>\n",
              "</table>\n",
              "</div>\n",
              "      <button class=\"colab-df-convert\" onclick=\"convertToInteractive('df-51213bff-65a1-4e58-9d27-951bf8de138e')\"\n",
              "              title=\"Convert this dataframe to an interactive table.\"\n",
              "              style=\"display:none;\">\n",
              "        \n",
              "  <svg xmlns=\"http://www.w3.org/2000/svg\" height=\"24px\"viewBox=\"0 0 24 24\"\n",
              "       width=\"24px\">\n",
              "    <path d=\"M0 0h24v24H0V0z\" fill=\"none\"/>\n",
              "    <path d=\"M18.56 5.44l.94 2.06.94-2.06 2.06-.94-2.06-.94-.94-2.06-.94 2.06-2.06.94zm-11 1L8.5 8.5l.94-2.06 2.06-.94-2.06-.94L8.5 2.5l-.94 2.06-2.06.94zm10 10l.94 2.06.94-2.06 2.06-.94-2.06-.94-.94-2.06-.94 2.06-2.06.94z\"/><path d=\"M17.41 7.96l-1.37-1.37c-.4-.4-.92-.59-1.43-.59-.52 0-1.04.2-1.43.59L10.3 9.45l-7.72 7.72c-.78.78-.78 2.05 0 2.83L4 21.41c.39.39.9.59 1.41.59.51 0 1.02-.2 1.41-.59l7.78-7.78 2.81-2.81c.8-.78.8-2.07 0-2.86zM5.41 20L4 18.59l7.72-7.72 1.47 1.35L5.41 20z\"/>\n",
              "  </svg>\n",
              "      </button>\n",
              "      \n",
              "  <style>\n",
              "    .colab-df-container {\n",
              "      display:flex;\n",
              "      flex-wrap:wrap;\n",
              "      gap: 12px;\n",
              "    }\n",
              "\n",
              "    .colab-df-convert {\n",
              "      background-color: #E8F0FE;\n",
              "      border: none;\n",
              "      border-radius: 50%;\n",
              "      cursor: pointer;\n",
              "      display: none;\n",
              "      fill: #1967D2;\n",
              "      height: 32px;\n",
              "      padding: 0 0 0 0;\n",
              "      width: 32px;\n",
              "    }\n",
              "\n",
              "    .colab-df-convert:hover {\n",
              "      background-color: #E2EBFA;\n",
              "      box-shadow: 0px 1px 2px rgba(60, 64, 67, 0.3), 0px 1px 3px 1px rgba(60, 64, 67, 0.15);\n",
              "      fill: #174EA6;\n",
              "    }\n",
              "\n",
              "    [theme=dark] .colab-df-convert {\n",
              "      background-color: #3B4455;\n",
              "      fill: #D2E3FC;\n",
              "    }\n",
              "\n",
              "    [theme=dark] .colab-df-convert:hover {\n",
              "      background-color: #434B5C;\n",
              "      box-shadow: 0px 1px 3px 1px rgba(0, 0, 0, 0.15);\n",
              "      filter: drop-shadow(0px 1px 2px rgba(0, 0, 0, 0.3));\n",
              "      fill: #FFFFFF;\n",
              "    }\n",
              "  </style>\n",
              "\n",
              "      <script>\n",
              "        const buttonEl =\n",
              "          document.querySelector('#df-51213bff-65a1-4e58-9d27-951bf8de138e button.colab-df-convert');\n",
              "        buttonEl.style.display =\n",
              "          google.colab.kernel.accessAllowed ? 'block' : 'none';\n",
              "\n",
              "        async function convertToInteractive(key) {\n",
              "          const element = document.querySelector('#df-51213bff-65a1-4e58-9d27-951bf8de138e');\n",
              "          const dataTable =\n",
              "            await google.colab.kernel.invokeFunction('convertToInteractive',\n",
              "                                                     [key], {});\n",
              "          if (!dataTable) return;\n",
              "\n",
              "          const docLinkHtml = 'Like what you see? Visit the ' +\n",
              "            '<a target=\"_blank\" href=https://colab.research.google.com/notebooks/data_table.ipynb>data table notebook</a>'\n",
              "            + ' to learn more about interactive tables.';\n",
              "          element.innerHTML = '';\n",
              "          dataTable['output_type'] = 'display_data';\n",
              "          await google.colab.output.renderOutput(dataTable, element);\n",
              "          const docLink = document.createElement('div');\n",
              "          docLink.innerHTML = docLinkHtml;\n",
              "          element.appendChild(docLink);\n",
              "        }\n",
              "      </script>\n",
              "    </div>\n",
              "  </div>\n",
              "  "
            ]
          },
          "metadata": {},
          "execution_count": 235
        }
      ]
    },
    {
      "cell_type": "markdown",
      "metadata": {
        "id": "4T41ZhrZHgeU"
      },
      "source": [
        "### Bagging Random Forest Random Search"
      ]
    },
    {
      "cell_type": "code",
      "metadata": {
        "colab": {
          "base_uri": "https://localhost:8080/"
        },
        "id": "vPYQqhtoHh2r",
        "outputId": "52795e4f-f9da-48e3-e3d1-f71d4e691626"
      },
      "source": [
        "rfgrs = RandomizedSearchCV(BaggingClassifier(),{\n",
        "    'base_estimator' : [RandomForestClassifier()],\n",
        "    'bootstrap_features': ['True','False',None],\n",
        "    'n_estimators' : [i for i in range(1,100,1)],\n",
        "    'n_jobs' : [1,2,3,4,5]\n",
        "})\n",
        "rfgrs.fit(X,Y)\n",
        "best_paramrfgrs = rfgrs.best_params_\n",
        "pd.DataFrame(rfgrs.cv_results_)[['param_bootstrap_features','param_n_estimators','param_n_jobs','mean_test_score']]"
      ],
      "execution_count": null,
      "outputs": [
        {
          "output_type": "execute_result",
          "data": {
            "text/plain": [
              "  param_bootstrap_features param_n_estimators param_n_jobs  mean_test_score\n",
              "0                     True                 26            4         0.850573\n",
              "1                     True                 58            2         0.857773\n",
              "2                     True                 50            1         0.848134\n",
              "3                    False                 76            4         0.865001\n",
              "4                    False                 89            3         0.852983\n",
              "5                    False                 62            5         0.865031\n",
              "6                     True                 40            3         0.852953\n",
              "7                     None                 55            1         0.857773\n",
              "8                     True                 21            3         0.862621\n",
              "9                     None                 80            3         0.855363"
            ],
            "text/html": [
              "\n",
              "  <div id=\"df-32f4bb41-3b0f-40c5-a8eb-3c980cb4e246\">\n",
              "    <div class=\"colab-df-container\">\n",
              "      <div>\n",
              "<style scoped>\n",
              "    .dataframe tbody tr th:only-of-type {\n",
              "        vertical-align: middle;\n",
              "    }\n",
              "\n",
              "    .dataframe tbody tr th {\n",
              "        vertical-align: top;\n",
              "    }\n",
              "\n",
              "    .dataframe thead th {\n",
              "        text-align: right;\n",
              "    }\n",
              "</style>\n",
              "<table border=\"1\" class=\"dataframe\">\n",
              "  <thead>\n",
              "    <tr style=\"text-align: right;\">\n",
              "      <th></th>\n",
              "      <th>param_bootstrap_features</th>\n",
              "      <th>param_n_estimators</th>\n",
              "      <th>param_n_jobs</th>\n",
              "      <th>mean_test_score</th>\n",
              "    </tr>\n",
              "  </thead>\n",
              "  <tbody>\n",
              "    <tr>\n",
              "      <th>0</th>\n",
              "      <td>True</td>\n",
              "      <td>26</td>\n",
              "      <td>4</td>\n",
              "      <td>0.850573</td>\n",
              "    </tr>\n",
              "    <tr>\n",
              "      <th>1</th>\n",
              "      <td>True</td>\n",
              "      <td>58</td>\n",
              "      <td>2</td>\n",
              "      <td>0.857773</td>\n",
              "    </tr>\n",
              "    <tr>\n",
              "      <th>2</th>\n",
              "      <td>True</td>\n",
              "      <td>50</td>\n",
              "      <td>1</td>\n",
              "      <td>0.848134</td>\n",
              "    </tr>\n",
              "    <tr>\n",
              "      <th>3</th>\n",
              "      <td>False</td>\n",
              "      <td>76</td>\n",
              "      <td>4</td>\n",
              "      <td>0.865001</td>\n",
              "    </tr>\n",
              "    <tr>\n",
              "      <th>4</th>\n",
              "      <td>False</td>\n",
              "      <td>89</td>\n",
              "      <td>3</td>\n",
              "      <td>0.852983</td>\n",
              "    </tr>\n",
              "    <tr>\n",
              "      <th>5</th>\n",
              "      <td>False</td>\n",
              "      <td>62</td>\n",
              "      <td>5</td>\n",
              "      <td>0.865031</td>\n",
              "    </tr>\n",
              "    <tr>\n",
              "      <th>6</th>\n",
              "      <td>True</td>\n",
              "      <td>40</td>\n",
              "      <td>3</td>\n",
              "      <td>0.852953</td>\n",
              "    </tr>\n",
              "    <tr>\n",
              "      <th>7</th>\n",
              "      <td>None</td>\n",
              "      <td>55</td>\n",
              "      <td>1</td>\n",
              "      <td>0.857773</td>\n",
              "    </tr>\n",
              "    <tr>\n",
              "      <th>8</th>\n",
              "      <td>True</td>\n",
              "      <td>21</td>\n",
              "      <td>3</td>\n",
              "      <td>0.862621</td>\n",
              "    </tr>\n",
              "    <tr>\n",
              "      <th>9</th>\n",
              "      <td>None</td>\n",
              "      <td>80</td>\n",
              "      <td>3</td>\n",
              "      <td>0.855363</td>\n",
              "    </tr>\n",
              "  </tbody>\n",
              "</table>\n",
              "</div>\n",
              "      <button class=\"colab-df-convert\" onclick=\"convertToInteractive('df-32f4bb41-3b0f-40c5-a8eb-3c980cb4e246')\"\n",
              "              title=\"Convert this dataframe to an interactive table.\"\n",
              "              style=\"display:none;\">\n",
              "        \n",
              "  <svg xmlns=\"http://www.w3.org/2000/svg\" height=\"24px\"viewBox=\"0 0 24 24\"\n",
              "       width=\"24px\">\n",
              "    <path d=\"M0 0h24v24H0V0z\" fill=\"none\"/>\n",
              "    <path d=\"M18.56 5.44l.94 2.06.94-2.06 2.06-.94-2.06-.94-.94-2.06-.94 2.06-2.06.94zm-11 1L8.5 8.5l.94-2.06 2.06-.94-2.06-.94L8.5 2.5l-.94 2.06-2.06.94zm10 10l.94 2.06.94-2.06 2.06-.94-2.06-.94-.94-2.06-.94 2.06-2.06.94z\"/><path d=\"M17.41 7.96l-1.37-1.37c-.4-.4-.92-.59-1.43-.59-.52 0-1.04.2-1.43.59L10.3 9.45l-7.72 7.72c-.78.78-.78 2.05 0 2.83L4 21.41c.39.39.9.59 1.41.59.51 0 1.02-.2 1.41-.59l7.78-7.78 2.81-2.81c.8-.78.8-2.07 0-2.86zM5.41 20L4 18.59l7.72-7.72 1.47 1.35L5.41 20z\"/>\n",
              "  </svg>\n",
              "      </button>\n",
              "      \n",
              "  <style>\n",
              "    .colab-df-container {\n",
              "      display:flex;\n",
              "      flex-wrap:wrap;\n",
              "      gap: 12px;\n",
              "    }\n",
              "\n",
              "    .colab-df-convert {\n",
              "      background-color: #E8F0FE;\n",
              "      border: none;\n",
              "      border-radius: 50%;\n",
              "      cursor: pointer;\n",
              "      display: none;\n",
              "      fill: #1967D2;\n",
              "      height: 32px;\n",
              "      padding: 0 0 0 0;\n",
              "      width: 32px;\n",
              "    }\n",
              "\n",
              "    .colab-df-convert:hover {\n",
              "      background-color: #E2EBFA;\n",
              "      box-shadow: 0px 1px 2px rgba(60, 64, 67, 0.3), 0px 1px 3px 1px rgba(60, 64, 67, 0.15);\n",
              "      fill: #174EA6;\n",
              "    }\n",
              "\n",
              "    [theme=dark] .colab-df-convert {\n",
              "      background-color: #3B4455;\n",
              "      fill: #D2E3FC;\n",
              "    }\n",
              "\n",
              "    [theme=dark] .colab-df-convert:hover {\n",
              "      background-color: #434B5C;\n",
              "      box-shadow: 0px 1px 3px 1px rgba(0, 0, 0, 0.15);\n",
              "      filter: drop-shadow(0px 1px 2px rgba(0, 0, 0, 0.3));\n",
              "      fill: #FFFFFF;\n",
              "    }\n",
              "  </style>\n",
              "\n",
              "      <script>\n",
              "        const buttonEl =\n",
              "          document.querySelector('#df-32f4bb41-3b0f-40c5-a8eb-3c980cb4e246 button.colab-df-convert');\n",
              "        buttonEl.style.display =\n",
              "          google.colab.kernel.accessAllowed ? 'block' : 'none';\n",
              "\n",
              "        async function convertToInteractive(key) {\n",
              "          const element = document.querySelector('#df-32f4bb41-3b0f-40c5-a8eb-3c980cb4e246');\n",
              "          const dataTable =\n",
              "            await google.colab.kernel.invokeFunction('convertToInteractive',\n",
              "                                                     [key], {});\n",
              "          if (!dataTable) return;\n",
              "\n",
              "          const docLinkHtml = 'Like what you see? Visit the ' +\n",
              "            '<a target=\"_blank\" href=https://colab.research.google.com/notebooks/data_table.ipynb>data table notebook</a>'\n",
              "            + ' to learn more about interactive tables.';\n",
              "          element.innerHTML = '';\n",
              "          dataTable['output_type'] = 'display_data';\n",
              "          await google.colab.output.renderOutput(dataTable, element);\n",
              "          const docLink = document.createElement('div');\n",
              "          docLink.innerHTML = docLinkHtml;\n",
              "          element.appendChild(docLink);\n",
              "        }\n",
              "      </script>\n",
              "    </div>\n",
              "  </div>\n",
              "  "
            ]
          },
          "metadata": {},
          "execution_count": 236
        }
      ]
    },
    {
      "cell_type": "markdown",
      "metadata": {
        "id": "vr5jPzY0kqIO"
      },
      "source": [
        "### Bagging Extra Tree Random Search"
      ]
    },
    {
      "cell_type": "code",
      "metadata": {
        "colab": {
          "base_uri": "https://localhost:8080/"
        },
        "id": "lyRkkdP7krgx",
        "outputId": "a9cf561a-aae1-4308-cda1-8414d0d139ef"
      },
      "source": [
        "etgrs = RandomizedSearchCV(BaggingClassifier(),{\n",
        "    'base_estimator' : [ExtraTreeClassifier()],\n",
        "    'bootstrap_features': ['True','False',None],\n",
        "    'n_estimators' : [i for i in range(1,100,1)],\n",
        "    'n_jobs' : [1,2,3,4,5]\n",
        "})\n",
        "etgrs.fit(X,Y)\n",
        "best_parametgrs = etgrs.best_params_\n",
        "pd.DataFrame(etgrs.cv_results_)[['param_bootstrap_features','param_n_estimators','param_n_jobs','mean_test_score']]"
      ],
      "execution_count": null,
      "outputs": [
        {
          "output_type": "execute_result",
          "data": {
            "text/html": [
              "<div>\n",
              "<style scoped>\n",
              "    .dataframe tbody tr th:only-of-type {\n",
              "        vertical-align: middle;\n",
              "    }\n",
              "\n",
              "    .dataframe tbody tr th {\n",
              "        vertical-align: top;\n",
              "    }\n",
              "\n",
              "    .dataframe thead th {\n",
              "        text-align: right;\n",
              "    }\n",
              "</style>\n",
              "<table border=\"1\" class=\"dataframe\">\n",
              "  <thead>\n",
              "    <tr style=\"text-align: right;\">\n",
              "      <th></th>\n",
              "      <th>param_bootstrap_features</th>\n",
              "      <th>param_n_estimators</th>\n",
              "      <th>param_n_jobs</th>\n",
              "      <th>mean_test_score</th>\n",
              "    </tr>\n",
              "  </thead>\n",
              "  <tbody>\n",
              "    <tr>\n",
              "      <th>0</th>\n",
              "      <td>None</td>\n",
              "      <td>67</td>\n",
              "      <td>5</td>\n",
              "      <td>0.964117</td>\n",
              "    </tr>\n",
              "    <tr>\n",
              "      <th>1</th>\n",
              "      <td>False</td>\n",
              "      <td>53</td>\n",
              "      <td>4</td>\n",
              "      <td>0.947603</td>\n",
              "    </tr>\n",
              "    <tr>\n",
              "      <th>2</th>\n",
              "      <td>True</td>\n",
              "      <td>5</td>\n",
              "      <td>4</td>\n",
              "      <td>0.955784</td>\n",
              "    </tr>\n",
              "    <tr>\n",
              "      <th>3</th>\n",
              "      <td>None</td>\n",
              "      <td>76</td>\n",
              "      <td>1</td>\n",
              "      <td>0.953082</td>\n",
              "    </tr>\n",
              "    <tr>\n",
              "      <th>4</th>\n",
              "      <td>False</td>\n",
              "      <td>31</td>\n",
              "      <td>5</td>\n",
              "      <td>0.947527</td>\n",
              "    </tr>\n",
              "    <tr>\n",
              "      <th>5</th>\n",
              "      <td>True</td>\n",
              "      <td>86</td>\n",
              "      <td>3</td>\n",
              "      <td>0.947527</td>\n",
              "    </tr>\n",
              "    <tr>\n",
              "      <th>6</th>\n",
              "      <td>False</td>\n",
              "      <td>48</td>\n",
              "      <td>5</td>\n",
              "      <td>0.955860</td>\n",
              "    </tr>\n",
              "    <tr>\n",
              "      <th>7</th>\n",
              "      <td>None</td>\n",
              "      <td>74</td>\n",
              "      <td>3</td>\n",
              "      <td>0.953082</td>\n",
              "    </tr>\n",
              "    <tr>\n",
              "      <th>8</th>\n",
              "      <td>None</td>\n",
              "      <td>77</td>\n",
              "      <td>4</td>\n",
              "      <td>0.955822</td>\n",
              "    </tr>\n",
              "    <tr>\n",
              "      <th>9</th>\n",
              "      <td>None</td>\n",
              "      <td>48</td>\n",
              "      <td>3</td>\n",
              "      <td>0.947565</td>\n",
              "    </tr>\n",
              "  </tbody>\n",
              "</table>\n",
              "</div>"
            ],
            "text/plain": [
              "  param_bootstrap_features param_n_estimators param_n_jobs  mean_test_score\n",
              "0                     None                 67            5         0.964117\n",
              "1                    False                 53            4         0.947603\n",
              "2                     True                  5            4         0.955784\n",
              "3                     None                 76            1         0.953082\n",
              "4                    False                 31            5         0.947527\n",
              "5                     True                 86            3         0.947527\n",
              "6                    False                 48            5         0.955860\n",
              "7                     None                 74            3         0.953082\n",
              "8                     None                 77            4         0.955822\n",
              "9                     None                 48            3         0.947565"
            ]
          },
          "metadata": {
            "tags": []
          },
          "execution_count": 128
        }
      ]
    },
    {
      "cell_type": "markdown",
      "metadata": {
        "id": "hL_xUhUHXEel"
      },
      "source": [
        "## Base estimator Logistric Regression"
      ]
    },
    {
      "cell_type": "code",
      "metadata": {
        "id": "2pbFoup82FO1"
      },
      "source": [
        "bag = BaggingClassifier(classifier,n_estimators= best_paramgrs['n_estimators'],bootstrap_features=best_paramgrs['bootstrap_features'],\n",
        "                        n_jobs=best_paramgrs['n_jobs'],random_state=42)"
      ],
      "execution_count": null,
      "outputs": []
    },
    {
      "cell_type": "code",
      "metadata": {
        "colab": {
          "base_uri": "https://localhost:8080/"
        },
        "id": "dTf_YOOjXASu",
        "outputId": "3a36e7a8-eebd-43fc-db43-ea166a8113a7"
      },
      "source": [
        "bag.fit(X,Y)"
      ],
      "execution_count": null,
      "outputs": [
        {
          "output_type": "execute_result",
          "data": {
            "text/plain": [
              "BaggingClassifier(base_estimator=LogisticRegression(C=1, random_state=42),\n",
              "                  bootstrap_features='False', n_estimators=28, n_jobs=4,\n",
              "                  random_state=42)"
            ]
          },
          "metadata": {},
          "execution_count": 238
        }
      ]
    },
    {
      "cell_type": "code",
      "metadata": {
        "id": "gryTDtf_3IUk"
      },
      "source": [
        "Y_predbglr = bag.predict(X_test)"
      ],
      "execution_count": null,
      "outputs": []
    },
    {
      "cell_type": "code",
      "metadata": {
        "id": "lPq_jKVMoCDc"
      },
      "source": [
        "Y_cvpredbglr = cross_val_predict(bag,X,Y,cv = 10)"
      ],
      "execution_count": null,
      "outputs": []
    },
    {
      "cell_type": "code",
      "metadata": {
        "colab": {
          "base_uri": "https://localhost:8080/"
        },
        "id": "b9uprMw33fxr",
        "outputId": "1783cd9b-3aa1-45fc-dbeb-475c1deb93f3"
      },
      "source": [
        "cm = confusion_matrix(Y_test,Y_predbglr)\n",
        "print(cm)"
      ],
      "execution_count": null,
      "outputs": [
        {
          "output_type": "stream",
          "name": "stdout",
          "text": [
            "[[41 12]\n",
            " [ 1 50]]\n"
          ]
        }
      ]
    },
    {
      "cell_type": "code",
      "metadata": {
        "colab": {
          "base_uri": "https://localhost:8080/"
        },
        "id": "447YXbzUobQT",
        "outputId": "9f754ab7-27cb-40ca-dde4-b5750b771aa7"
      },
      "source": [
        "cmbg = confusion_matrix(Y,Y_cvpredbglr)\n",
        "print(cmbg)"
      ],
      "execution_count": null,
      "outputs": [
        {
          "output_type": "stream",
          "name": "stdout",
          "text": [
            "[[149  58]\n",
            " [  8 199]]\n"
          ]
        }
      ]
    },
    {
      "cell_type": "code",
      "metadata": {
        "colab": {
          "base_uri": "https://localhost:8080/",
          "height": 282
        },
        "id": "oSpjV5fApAdr",
        "outputId": "03323c51-2b47-4b4c-e010-e04f3054532b"
      },
      "source": [
        "group_names = ['True Neg','False Pos','False Neg','True Pos']\n",
        "group_counts = [\"{0:0.0f}\".format(value) for value in\n",
        "                cmbg.flatten()]\n",
        "group_percentages = [\"{0:.2%}\".format(value) for value in\n",
        "                     cmbg.flatten()/np.sum(cmbg)]\n",
        "labels = [f\"{v1}\\n{v2}\\n{v3}\" for v1, v2, v3 in\n",
        "          zip(group_names,group_counts,group_percentages)]\n",
        "labels = np.asarray(labels).reshape(2,2)\n",
        "sns.heatmap(cmbg, annot=labels, fmt='', cmap='Blues')"
      ],
      "execution_count": null,
      "outputs": [
        {
          "output_type": "execute_result",
          "data": {
            "text/plain": [
              "<matplotlib.axes._subplots.AxesSubplot at 0x7f9204f39890>"
            ]
          },
          "metadata": {},
          "execution_count": 243
        },
        {
          "output_type": "display_data",
          "data": {
            "text/plain": [
              "<Figure size 432x288 with 2 Axes>"
            ],
            "image/png": "[encoded data removed]"
          },
          "metadata": {
            "needs_background": "light"
          }
        }
      ]
    },
    {
      "cell_type": "code",
      "metadata": {
        "colab": {
          "base_uri": "https://localhost:8080/"
        },
        "id": "Ob33lwWT33L0",
        "outputId": "bd62dfba-54ab-4b77-f123-32c14905701b"
      },
      "source": [
        "accuracy = cross_val_score(bag,X,Y, cv=10, scoring='accuracy')\n",
        "print('All Cross Val Accuracy :',accuracy)\n",
        "print('\\nCross Val Accuracy :',accuracy.mean())"
      ],
      "execution_count": null,
      "outputs": [
        {
          "output_type": "stream",
          "name": "stdout",
          "text": [
            "All Cross Val Accuracy : [0.52380952 0.52380952 0.61904762 0.92857143 0.97560976 1.\n",
            " 0.92682927 1.         0.95121951 0.97560976]\n",
            "\n",
            "Cross Val Accuracy : 0.842450638792102\n"
          ]
        }
      ]
    },
    {
      "cell_type": "code",
      "metadata": {
        "colab": {
          "base_uri": "https://localhost:8080/"
        },
        "id": "A1kGCF5jo299",
        "outputId": "6e42f2f1-5355-44ef-984c-263b095829d0"
      },
      "source": [
        "cvresult(Y,Y_cvpredbglr)"
      ],
      "execution_count": null,
      "outputs": [
        {
          "output_type": "stream",
          "name": "stdout",
          "text": [
            "Cross Val f1 score :  0.8577586206896551\n",
            "Cross Val Precision :  0.77431906614786\n",
            "Cross Val recall :  0.961352657004831\n",
            "Cross Val Classification Report : \n",
            "               precision    recall  f1-score   support\n",
            "\n",
            "           0       0.95      0.72      0.82       207\n",
            "           1       0.77      0.96      0.86       207\n",
            "\n",
            "    accuracy                           0.84       414\n",
            "   macro avg       0.86      0.84      0.84       414\n",
            "weighted avg       0.86      0.84      0.84       414\n",
            "\n"
          ]
        }
      ]
    },
    {
      "cell_type": "code",
      "metadata": {
        "colab": {
          "base_uri": "https://localhost:8080/"
        },
        "id": "XDfxqgyNpWbz",
        "outputId": "4736985f-6eaa-413d-9e5e-93c33cb2288b"
      },
      "source": [
        "result(Y_test,Y_predbglr)"
      ],
      "execution_count": null,
      "outputs": [
        {
          "output_type": "stream",
          "name": "stdout",
          "text": [
            "Accuracy :  0.875\n",
            "f1 score :  0.8849557522123893\n",
            "Precision :  0.8064516129032258\n",
            "recall :  0.9803921568627451\n",
            "Classification Report : \n",
            "               precision    recall  f1-score   support\n",
            "\n",
            "           0       0.98      0.77      0.86        53\n",
            "           1       0.81      0.98      0.88        51\n",
            "\n",
            "    accuracy                           0.88       104\n",
            "   macro avg       0.89      0.88      0.87       104\n",
            "weighted avg       0.89      0.88      0.87       104\n",
            "\n"
          ]
        }
      ]
    },
    {
      "cell_type": "code",
      "metadata": {
        "colab": {
          "base_uri": "https://localhost:8080/"
        },
        "id": "ai0-e6W76P9W",
        "outputId": "ec63440e-4de8-4b64-ef87-7d4e8344f38e"
      },
      "source": [
        "lrbg_prob = bag.predict_proba(X_test)\n",
        "lrbg_auc = roc_auc_score(Y_test,lrbg_prob[:,1])\n",
        "print('roc-auc score :{}'.format(lrbg_auc))"
      ],
      "execution_count": null,
      "outputs": [
        {
          "output_type": "stream",
          "name": "stdout",
          "text": [
            "roc-auc score :0.9404365519792823\n"
          ]
        }
      ]
    },
    {
      "cell_type": "markdown",
      "metadata": {
        "id": "-XQHCh898ocq"
      },
      "source": [
        "## Base estimator K-NN"
      ]
    },
    {
      "cell_type": "code",
      "metadata": {
        "id": "DCYnUx5yvqEb"
      },
      "source": [
        "kbag = BaggingClassifier(kclassifier, n_estimators= 75,bootstrap_features=False,n_jobs=3)"
      ],
      "execution_count": null,
      "outputs": []
    },
    {
      "cell_type": "code",
      "metadata": {
        "colab": {
          "base_uri": "https://localhost:8080/"
        },
        "id": "HwH_QoQx80v8",
        "outputId": "c0c6829e-82ba-44f7-d3ea-59e768992fcb"
      },
      "source": [
        "kbag.fit(X_train,Y_train)"
      ],
      "execution_count": null,
      "outputs": [
        {
          "output_type": "execute_result",
          "data": {
            "text/plain": [
              "BaggingClassifier(base_estimator=KNeighborsClassifier(algorithm='auto',\n",
              "                                                      leaf_size=1,\n",
              "                                                      metric='euclidean',\n",
              "                                                      metric_params=None,\n",
              "                                                      n_jobs=None,\n",
              "                                                      n_neighbors=5, p=1,\n",
              "                                                      weights='uniform'),\n",
              "                  bootstrap=True, bootstrap_features=False, max_features=1.0,\n",
              "                  max_samples=1.0, n_estimators=75, n_jobs=3, oob_score=False,\n",
              "                  random_state=None, verbose=0, warm_start=False)"
            ]
          },
          "metadata": {
            "tags": []
          },
          "execution_count": 727
        }
      ]
    },
    {
      "cell_type": "code",
      "metadata": {
        "id": "94HpH0mo9ole"
      },
      "source": [
        "Y_predbgk = kbag.predict(X_test)"
      ],
      "execution_count": null,
      "outputs": []
    },
    {
      "cell_type": "code",
      "metadata": {
        "id": "2hql9UR1oLtM"
      },
      "source": [
        "Y_cvpredbgk = cross_val_predict(kbag,X,Y,cv = 10)"
      ],
      "execution_count": null,
      "outputs": []
    },
    {
      "cell_type": "code",
      "metadata": {
        "colab": {
          "base_uri": "https://localhost:8080/"
        },
        "id": "EQ2qjMkO937p",
        "outputId": "12592c60-4411-41e6-83bb-56c51a74b77b"
      },
      "source": [
        "cm = confusion_matrix(Y_test,Y_predbgk)\n",
        "print(cm)"
      ],
      "execution_count": null,
      "outputs": [
        {
          "output_type": "stream",
          "text": [
            "[[36  1]\n",
            " [ 1 53]]\n"
          ],
          "name": "stdout"
        }
      ]
    },
    {
      "cell_type": "code",
      "metadata": {
        "colab": {
          "base_uri": "https://localhost:8080/"
        },
        "id": "-TRxyhrPoErN",
        "outputId": "13ac3956-35b7-473b-c4a1-15caf38d2e3b"
      },
      "source": [
        "cmbg = confusion_matrix(Y,Y_cvpredbgk)\n",
        "print(cmbg)"
      ],
      "execution_count": null,
      "outputs": [
        {
          "output_type": "stream",
          "text": [
            "[[171  10]\n",
            " [  3 178]]\n"
          ],
          "name": "stdout"
        }
      ]
    },
    {
      "cell_type": "code",
      "metadata": {
        "colab": {
          "base_uri": "https://localhost:8080/"
        },
        "id": "SP9s-kxJolsv",
        "outputId": "46ca3683-6e0b-4312-a378-3280fd9e41ea"
      },
      "source": [
        "group_names = ['True Neg','False Pos','False Neg','True Pos']\n",
        "group_counts = [\"{0:0.0f}\".format(value) for value in\n",
        "                cmbg.flatten()]\n",
        "group_percentages = [\"{0:.2%}\".format(value) for value in\n",
        "                     cmbg.flatten()/np.sum(cmbg)]\n",
        "labels = [f\"{v1}\\n{v2}\\n{v3}\" for v1, v2, v3 in\n",
        "          zip(group_names,group_counts,group_percentages)]\n",
        "labels = np.asarray(labels).reshape(2,2)\n",
        "sns.heatmap(cmbg, annot=labels, fmt='', cmap='Blues')"
      ],
      "execution_count": null,
      "outputs": [
        {
          "output_type": "execute_result",
          "data": {
            "text/plain": [
              "<matplotlib.axes._subplots.AxesSubplot at 0x7f3e3539c5d0>"
            ]
          },
          "metadata": {
            "tags": []
          },
          "execution_count": 732
        },
        {
          "output_type": "display_data",
          "data": {
            "image/png": "[encoded data removed]",
            "text/plain": [
              "<Figure size 432x288 with 2 Axes>"
            ]
          },
          "metadata": {
            "tags": [],
            "needs_background": "light"
          }
        }
      ]
    },
    {
      "cell_type": "code",
      "metadata": {
        "colab": {
          "base_uri": "https://localhost:8080/"
        },
        "id": "gO4hDMzY-N6x",
        "outputId": "77a787a7-f8bf-49cf-9c83-86a464328978"
      },
      "source": [
        "accuracy = cross_val_score(kbag,X,Y, cv=10, scoring='accuracy')\n",
        "print('All Cross Val Accuracy :',accuracy)\n",
        "print('\\nCross Val Accuracy :',accuracy.mean())"
      ],
      "execution_count": null,
      "outputs": [
        {
          "output_type": "stream",
          "text": [
            "All Cross Val Accuracy : [0.89189189 1.         0.97222222 1.         0.97222222 0.97222222\n",
            " 0.88888889 1.         0.94444444 1.        ]\n",
            "\n",
            "Cross Val Accuracy : 0.9641891891891892\n"
          ],
          "name": "stdout"
        }
      ]
    },
    {
      "cell_type": "code",
      "metadata": {
        "colab": {
          "base_uri": "https://localhost:8080/"
        },
        "id": "h3nOkizW-Yty",
        "outputId": "28480197-4895-4963-bcb0-2467a47e06cb"
      },
      "source": [
        "cvresult(Y,Y_cvpredbgk)"
      ],
      "execution_count": null,
      "outputs": [
        {
          "output_type": "stream",
          "text": [
            "Cross Val f1 score :  0.964769647696477\n",
            "Cross Val Precision :  0.9468085106382979\n",
            "Cross Val recall :  0.9834254143646409\n",
            "Cross Val Classification Report : \n",
            "               precision    recall  f1-score   support\n",
            "\n",
            "           0       0.98      0.94      0.96       181\n",
            "           1       0.95      0.98      0.96       181\n",
            "\n",
            "    accuracy                           0.96       362\n",
            "   macro avg       0.96      0.96      0.96       362\n",
            "weighted avg       0.96      0.96      0.96       362\n",
            "\n"
          ],
          "name": "stdout"
        }
      ]
    },
    {
      "cell_type": "code",
      "metadata": {
        "colab": {
          "base_uri": "https://localhost:8080/"
        },
        "id": "tJVj5dmD-VNI",
        "outputId": "b1538b6c-fb6a-4a50-c30b-027422831fc0"
      },
      "source": [
        "result(Y_test,Y_predbgk)"
      ],
      "execution_count": null,
      "outputs": [
        {
          "output_type": "stream",
          "text": [
            "Accuracy :  0.978021978021978\n",
            "f1 score :  0.9814814814814815\n",
            "Precision :  0.9814814814814815\n",
            "recall :  0.9814814814814815\n",
            "Classification Report : \n",
            "               precision    recall  f1-score   support\n",
            "\n",
            "           0       0.97      0.97      0.97        37\n",
            "           1       0.98      0.98      0.98        54\n",
            "\n",
            "    accuracy                           0.98        91\n",
            "   macro avg       0.98      0.98      0.98        91\n",
            "weighted avg       0.98      0.98      0.98        91\n",
            "\n"
          ],
          "name": "stdout"
        }
      ]
    },
    {
      "cell_type": "code",
      "metadata": {
        "colab": {
          "base_uri": "https://localhost:8080/"
        },
        "id": "pQdbPk6m-yIZ",
        "outputId": "03f8eeba-1e1d-4d88-ee2f-669c6678ae7e"
      },
      "source": [
        "knnbg_prob = kbag.predict_proba(X_test)\n",
        "knnbg_auc = roc_auc_score(Y_test,knnbg_prob[:,1])\n",
        "print('roc-auc score :{}'.format(knnbg_auc))"
      ],
      "execution_count": null,
      "outputs": [
        {
          "output_type": "stream",
          "text": [
            "roc-auc score :0.9994994994994995\n"
          ],
          "name": "stdout"
        }
      ]
    },
    {
      "cell_type": "markdown",
      "metadata": {
        "id": "7wUchELQ_StO"
      },
      "source": [
        "## Base estimator SVM"
      ]
    },
    {
      "cell_type": "code",
      "metadata": {
        "id": "bz5-9S5Z_UyZ"
      },
      "source": [
        "sbag = BaggingClassifier(sclassifier, n_estimators= best_paramsgrs['n_estimators'],bootstrap_features=best_paramsgrs['bootstrap_features'],\n",
        "                          n_jobs= best_paramsgrs['n_jobs'],random_state=42)"
      ],
      "execution_count": null,
      "outputs": []
    },
    {
      "cell_type": "code",
      "metadata": {
        "colab": {
          "base_uri": "https://localhost:8080/"
        },
        "id": "aXhAOTax_vNg",
        "outputId": "ee08b5cb-02a4-43e6-8a31-70a42200ca8d"
      },
      "source": [
        "sbag.fit(X_train,Y_train)"
      ],
      "execution_count": null,
      "outputs": [
        {
          "output_type": "execute_result",
          "data": {
            "text/plain": [
              "BaggingClassifier(base_estimator=SVC(C=50, probability=True, random_state=42),\n",
              "                  bootstrap_features=None, n_estimators=56, n_jobs=5,\n",
              "                  random_state=42)"
            ]
          },
          "metadata": {},
          "execution_count": 249
        }
      ]
    },
    {
      "cell_type": "code",
      "metadata": {
        "id": "cCrW8R6f_vqK"
      },
      "source": [
        "Y_predbgs = sbag.predict(X_test)"
      ],
      "execution_count": null,
      "outputs": []
    },
    {
      "cell_type": "code",
      "metadata": {
        "id": "XEFfuK5xsI_g"
      },
      "source": [
        "Y_cvpredbgs = cross_val_predict(sbag,X,Y,cv = 10)"
      ],
      "execution_count": null,
      "outputs": []
    },
    {
      "cell_type": "code",
      "metadata": {
        "colab": {
          "base_uri": "https://localhost:8080/"
        },
        "id": "r-KDBcmz_vf1",
        "outputId": "8f97f463-5a8e-4f91-be78-268e3d7cbc1e"
      },
      "source": [
        "cm = confusion_matrix(Y_test,Y_predbgs)\n",
        "print(cm)"
      ],
      "execution_count": null,
      "outputs": [
        {
          "output_type": "stream",
          "name": "stdout",
          "text": [
            "[[43 10]\n",
            " [ 7 44]]\n"
          ]
        }
      ]
    },
    {
      "cell_type": "code",
      "metadata": {
        "colab": {
          "base_uri": "https://localhost:8080/"
        },
        "id": "dG-0NSyhsqy0",
        "outputId": "e85b7e29-827a-4044-bd6b-213874f2f7ce"
      },
      "source": [
        "cmbg = confusion_matrix(Y,Y_cvpredbgs)\n",
        "print(cmbg)"
      ],
      "execution_count": null,
      "outputs": [
        {
          "output_type": "stream",
          "name": "stdout",
          "text": [
            "[[172  35]\n",
            " [ 11 196]]\n"
          ]
        }
      ]
    },
    {
      "cell_type": "code",
      "metadata": {
        "colab": {
          "base_uri": "https://localhost:8080/",
          "height": 282
        },
        "id": "mMB9sndPsyzG",
        "outputId": "19af636a-ca4f-49af-b81b-c97ce759a749"
      },
      "source": [
        "group_names = ['True Neg','False Pos','False Neg','True Pos']\n",
        "group_counts = [\"{0:0.0f}\".format(value) for value in\n",
        "                cmbg.flatten()]\n",
        "group_percentages = [\"{0:.2%}\".format(value) for value in\n",
        "                     cmbg.flatten()/np.sum(cmbg)]\n",
        "labels = [f\"{v1}\\n{v2}\\n{v3}\" for v1, v2, v3 in\n",
        "          zip(group_names,group_counts,group_percentages)]\n",
        "labels = np.asarray(labels).reshape(2,2)\n",
        "sns.heatmap(cmbg, annot=labels, fmt='', cmap='Blues')"
      ],
      "execution_count": null,
      "outputs": [
        {
          "output_type": "execute_result",
          "data": {
            "text/plain": [
              "<matplotlib.axes._subplots.AxesSubplot at 0x7f9204099410>"
            ]
          },
          "metadata": {},
          "execution_count": 254
        },
        {
          "output_type": "display_data",
          "data": {
            "text/plain": [
              "<Figure size 432x288 with 2 Axes>"
            ],
            "image/png": "[encoded data removed]"
          },
          "metadata": {
            "needs_background": "light"
          }
        }
      ]
    },
    {
      "cell_type": "code",
      "metadata": {
        "colab": {
          "base_uri": "https://localhost:8080/"
        },
        "id": "J0NP-GRC_vzB",
        "outputId": "73b8737e-5091-4cf6-e208-a55025197b57"
      },
      "source": [
        "accuracy = cross_val_score(sbag,X,Y, cv=10, scoring='accuracy')\n",
        "print('All Cross Val Accuracy :',accuracy)\n",
        "print('\\nCross Val Accuracy :',accuracy.mean())"
      ],
      "execution_count": null,
      "outputs": [
        {
          "output_type": "stream",
          "name": "stdout",
          "text": [
            "All Cross Val Accuracy : [0.71428571 0.71428571 0.83333333 0.9047619  0.80487805 0.97560976\n",
            " 0.97560976 0.97560976 1.         1.        ]\n",
            "\n",
            "Cross Val Accuracy : 0.8898373983739838\n"
          ]
        }
      ]
    },
    {
      "cell_type": "code",
      "metadata": {
        "colab": {
          "base_uri": "https://localhost:8080/"
        },
        "id": "rhMulJKz_v6q",
        "outputId": "8c1bf238-a360-4640-aa22-52cbd893a4a5"
      },
      "source": [
        "cvresult(Y,Y_cvpredbgs)"
      ],
      "execution_count": null,
      "outputs": [
        {
          "output_type": "stream",
          "name": "stdout",
          "text": [
            "Cross Val f1 score :  0.8949771689497718\n",
            "Cross Val Precision :  0.8484848484848485\n",
            "Cross Val recall :  0.9468599033816425\n",
            "Cross Val Classification Report : \n",
            "               precision    recall  f1-score   support\n",
            "\n",
            "           0       0.94      0.83      0.88       207\n",
            "           1       0.85      0.95      0.89       207\n",
            "\n",
            "    accuracy                           0.89       414\n",
            "   macro avg       0.89      0.89      0.89       414\n",
            "weighted avg       0.89      0.89      0.89       414\n",
            "\n"
          ]
        }
      ]
    },
    {
      "cell_type": "code",
      "metadata": {
        "colab": {
          "base_uri": "https://localhost:8080/"
        },
        "id": "bI_xDfnR-cw6",
        "outputId": "7dc58cab-c52c-473f-aaff-7121e5013d51"
      },
      "source": [
        "result(Y_test,Y_predbgs)"
      ],
      "execution_count": null,
      "outputs": [
        {
          "output_type": "stream",
          "name": "stdout",
          "text": [
            "Accuracy :  0.8365384615384616\n",
            "f1 score :  0.838095238095238\n",
            "Precision :  0.8148148148148148\n",
            "recall :  0.8627450980392157\n",
            "Classification Report : \n",
            "               precision    recall  f1-score   support\n",
            "\n",
            "           0       0.86      0.81      0.83        53\n",
            "           1       0.81      0.86      0.84        51\n",
            "\n",
            "    accuracy                           0.84       104\n",
            "   macro avg       0.84      0.84      0.84       104\n",
            "weighted avg       0.84      0.84      0.84       104\n",
            "\n"
          ]
        }
      ]
    },
    {
      "cell_type": "code",
      "metadata": {
        "colab": {
          "base_uri": "https://localhost:8080/"
        },
        "id": "F8DHLiwi_wjN",
        "outputId": "2f7979c6-fdac-4405-fbe8-5798b2b5c312"
      },
      "source": [
        "svmbg_prob = sbag.predict_proba(X_test)\n",
        "svmbg_auc = roc_auc_score(Y_test,svmbg_prob[:,1])\n",
        "print('roc-auc score :{}'.format(svmbg_auc))"
      ],
      "execution_count": null,
      "outputs": [
        {
          "output_type": "stream",
          "name": "stdout",
          "text": [
            "roc-auc score :0.9208287088420275\n"
          ]
        }
      ]
    },
    {
      "cell_type": "markdown",
      "metadata": {
        "id": "YogKKCUf_ZyZ"
      },
      "source": [
        "## Base estimator kernal SVM"
      ]
    },
    {
      "cell_type": "code",
      "metadata": {
        "id": "1a2c1Ehq_p4Y"
      },
      "source": [
        "ksbag = BaggingClassifier(ksclassifier, n_estimators= 75,bootstrap_features=True,n_jobs=3)"
      ],
      "execution_count": null,
      "outputs": []
    },
    {
      "cell_type": "code",
      "metadata": {
        "colab": {
          "base_uri": "https://localhost:8080/"
        },
        "id": "okL2NfC4_qOS",
        "outputId": "b1268952-2426-49bd-9371-fd01289b51ce"
      },
      "source": [
        "ksbag.fit(X_train,Y_train)"
      ],
      "execution_count": null,
      "outputs": [
        {
          "output_type": "execute_result",
          "data": {
            "text/plain": [
              "BaggingClassifier(base_estimator=SVC(C=1, break_ties=False, cache_size=200,\n",
              "                                     class_weight=None, coef0=0.0,\n",
              "                                     decision_function_shape='ovr', degree=3,\n",
              "                                     gamma='scale', kernel='linear',\n",
              "                                     max_iter=-1, probability=True,\n",
              "                                     random_state=0, shrinking=True, tol=0.001,\n",
              "                                     verbose=False),\n",
              "                  bootstrap=True, bootstrap_features=True, max_features=1.0,\n",
              "                  max_samples=1.0, n_estimators=75, n_jobs=3, oob_score=False,\n",
              "                  random_state=None, verbose=0, warm_start=False)"
            ]
          },
          "metadata": {
            "tags": []
          },
          "execution_count": 845
        }
      ]
    },
    {
      "cell_type": "code",
      "metadata": {
        "id": "yYlSY3pt_xwQ"
      },
      "source": [
        "Y_predbgks = ksbag.predict(X_test)"
      ],
      "execution_count": null,
      "outputs": []
    },
    {
      "cell_type": "code",
      "metadata": {
        "id": "T8Gn71kFtmRi"
      },
      "source": [
        "Y_cvpredbgks = cross_val_predict(ksbag,X,Y,cv = 10)"
      ],
      "execution_count": null,
      "outputs": []
    },
    {
      "cell_type": "code",
      "metadata": {
        "colab": {
          "base_uri": "https://localhost:8080/"
        },
        "id": "H0PYHeWR_x30",
        "outputId": "452179f0-125d-4cb3-8a23-247b8c7e9ace"
      },
      "source": [
        "cm = confusion_matrix(Y_test,Y_predbgks)\n",
        "print(cm)"
      ],
      "execution_count": null,
      "outputs": [
        {
          "output_type": "stream",
          "text": [
            "[[37  0]\n",
            " [ 0 54]]\n"
          ],
          "name": "stdout"
        }
      ]
    },
    {
      "cell_type": "code",
      "metadata": {
        "colab": {
          "base_uri": "https://localhost:8080/"
        },
        "id": "y-Z_viYttyjw",
        "outputId": "908089c4-3734-42b1-aa30-307f1595ff2a"
      },
      "source": [
        "cmbg = confusion_matrix(Y,Y_cvpredbgks)\n",
        "print(cmbg)"
      ],
      "execution_count": null,
      "outputs": [
        {
          "output_type": "stream",
          "text": [
            "[[171  10]\n",
            " [  2 179]]\n"
          ],
          "name": "stdout"
        }
      ]
    },
    {
      "cell_type": "code",
      "metadata": {
        "colab": {
          "base_uri": "https://localhost:8080/"
        },
        "id": "hhNAN-AcuMeo",
        "outputId": "45571c16-90ca-4ada-f363-3130d9f90ea1"
      },
      "source": [
        "group_names = ['True Neg','False Pos','False Neg','True Pos']\n",
        "group_counts = [\"{0:0.0f}\".format(value) for value in\n",
        "                cmbg.flatten()]\n",
        "group_percentages = [\"{0:.2%}\".format(value) for value in\n",
        "                     cmbg.flatten()/np.sum(cmbg)]\n",
        "labels = [f\"{v1}\\n{v2}\\n{v3}\" for v1, v2, v3 in\n",
        "          zip(group_names,group_counts,group_percentages)]\n",
        "labels = np.asarray(labels).reshape(2,2)\n",
        "sns.heatmap(cmbg, annot=labels, fmt='', cmap='Blues')"
      ],
      "execution_count": null,
      "outputs": [
        {
          "output_type": "execute_result",
          "data": {
            "text/plain": [
              "<matplotlib.axes._subplots.AxesSubplot at 0x7fbb51cedfd0>"
            ]
          },
          "metadata": {
            "tags": []
          },
          "execution_count": 850
        },
        {
          "output_type": "display_data",
          "data": {
            "image/png": "[encoded data removed]",
            "text/plain": [
              "<Figure size 432x288 with 2 Axes>"
            ]
          },
          "metadata": {
            "tags": [],
            "needs_background": "light"
          }
        }
      ]
    },
    {
      "cell_type": "code",
      "metadata": {
        "colab": {
          "base_uri": "https://localhost:8080/"
        },
        "id": "AUZo2bjM_x-8",
        "outputId": "e5e5cbff-691b-4d52-b4b0-f55e47e3fe43"
      },
      "source": [
        "accuracy = cross_val_score(ksbag,X,Y, cv=10, scoring='accuracy')\n",
        "print('All Cross Val Accuracy :',accuracy)\n",
        "print('\\nCross Val Accuracy :',accuracy.mean())"
      ],
      "execution_count": null,
      "outputs": [
        {
          "output_type": "stream",
          "text": [
            "All Cross Val Accuracy : [0.89189189 1.         0.97222222 1.         0.97222222 1.\n",
            " 0.88888889 1.         0.94444444 1.        ]\n",
            "\n",
            "Cross Val Accuracy : 0.9669669669669669\n"
          ],
          "name": "stdout"
        }
      ]
    },
    {
      "cell_type": "code",
      "metadata": {
        "colab": {
          "base_uri": "https://localhost:8080/"
        },
        "id": "9ZwQGS9n_yFy",
        "outputId": "a80da0da-e435-489e-eabe-e9695b0228af"
      },
      "source": [
        "cvresult(Y,Y_cvpredbgks)"
      ],
      "execution_count": null,
      "outputs": [
        {
          "output_type": "stream",
          "text": [
            "Cross Val f1 score :  0.9675675675675676\n",
            "Cross Val Precision :  0.9470899470899471\n",
            "Cross Val recall :  0.988950276243094\n",
            "Cross Val Classification Report : \n",
            "               precision    recall  f1-score   support\n",
            "\n",
            "           0       0.99      0.94      0.97       181\n",
            "           1       0.95      0.99      0.97       181\n",
            "\n",
            "    accuracy                           0.97       362\n",
            "   macro avg       0.97      0.97      0.97       362\n",
            "weighted avg       0.97      0.97      0.97       362\n",
            "\n"
          ],
          "name": "stdout"
        }
      ]
    },
    {
      "cell_type": "code",
      "metadata": {
        "colab": {
          "base_uri": "https://localhost:8080/"
        },
        "id": "ngV2vlwoANnB",
        "outputId": "8a7338d5-ba65-47b8-c56d-46a291528df9"
      },
      "source": [
        "result(Y_test,Y_predks)"
      ],
      "execution_count": null,
      "outputs": [
        {
          "output_type": "stream",
          "text": [
            "Accuracy :  1.0\n",
            "f1 score :  1.0\n",
            "Precision :  1.0\n",
            "recall :  1.0\n",
            "Classification Report : \n",
            "               precision    recall  f1-score   support\n",
            "\n",
            "           0       1.00      1.00      1.00        37\n",
            "           1       1.00      1.00      1.00        54\n",
            "\n",
            "    accuracy                           1.00        91\n",
            "   macro avg       1.00      1.00      1.00        91\n",
            "weighted avg       1.00      1.00      1.00        91\n",
            "\n"
          ],
          "name": "stdout"
        }
      ]
    },
    {
      "cell_type": "code",
      "metadata": {
        "colab": {
          "base_uri": "https://localhost:8080/"
        },
        "id": "Eytid-QA_yig",
        "outputId": "17dc59e6-53c3-4012-94b0-3750d8177dca"
      },
      "source": [
        "ksvmbg_prob = ksbag.predict_proba(X_test)\n",
        "ksvmbg_auc = roc_auc_score(Y_test,ksvmbg_prob[:,1])\n",
        "print('roc-auc score :{}'.format(ksvmbg_auc))"
      ],
      "execution_count": null,
      "outputs": [
        {
          "output_type": "stream",
          "text": [
            "roc-auc score :1.0\n"
          ],
          "name": "stdout"
        }
      ]
    },
    {
      "cell_type": "markdown",
      "metadata": {
        "id": "o-k5xcti_gmh"
      },
      "source": [
        "## Base estimator Naive Bayes"
      ]
    },
    {
      "cell_type": "code",
      "metadata": {
        "id": "dj12KVOl_zwp"
      },
      "source": [
        "nbbag = BaggingClassifier(nbclassifier, n_estimators= best_paramnbgrs['n_estimators'],\n",
        "                          bootstrap_features=best_paramnbgrs['bootstrap_features'],\n",
        "                          n_jobs=best_paramnbgrs['n_jobs'],random_state=42)"
      ],
      "execution_count": null,
      "outputs": []
    },
    {
      "cell_type": "code",
      "metadata": {
        "colab": {
          "base_uri": "https://localhost:8080/"
        },
        "id": "iSHht_b3_z6d",
        "outputId": "a4b79b11-9788-41ad-b78f-ddf01d6e663f"
      },
      "source": [
        "nbbag.fit(X_train,Y_train)"
      ],
      "execution_count": null,
      "outputs": [
        {
          "output_type": "execute_result",
          "data": {
            "text/plain": [
              "BaggingClassifier(base_estimator=GaussianNB(priors=None, var_smoothing=0.01),\n",
              "                  bootstrap=True, bootstrap_features='True', max_features=1.0,\n",
              "                  max_samples=1.0, n_estimators=72, n_jobs=4, oob_score=False,\n",
              "                  random_state=42, verbose=0, warm_start=False)"
            ]
          },
          "metadata": {
            "tags": []
          },
          "execution_count": 176
        }
      ]
    },
    {
      "cell_type": "code",
      "metadata": {
        "id": "lMs8PL9G_0Ag"
      },
      "source": [
        "Y_predbgnb = nbbag.predict(X_test)"
      ],
      "execution_count": null,
      "outputs": []
    },
    {
      "cell_type": "code",
      "metadata": {
        "id": "URBVqxsdu-nb"
      },
      "source": [
        "Y_cvpredbgnb = cross_val_predict(nbbag,X,Y,cv = 10)"
      ],
      "execution_count": null,
      "outputs": []
    },
    {
      "cell_type": "code",
      "metadata": {
        "colab": {
          "base_uri": "https://localhost:8080/"
        },
        "id": "xzAGGJq0_0HJ",
        "outputId": "69cd6201-2803-4fff-c13b-ffe5b3e68d10"
      },
      "source": [
        "cm = confusion_matrix(Y_test,Y_predbgnb)\n",
        "print(cm)"
      ],
      "execution_count": null,
      "outputs": [
        {
          "output_type": "stream",
          "text": [
            "[[37  0]\n",
            " [ 1 53]]\n"
          ],
          "name": "stdout"
        }
      ]
    },
    {
      "cell_type": "code",
      "metadata": {
        "colab": {
          "base_uri": "https://localhost:8080/"
        },
        "id": "lTtKqxHzvJqg",
        "outputId": "ebb75a6d-d331-4583-df58-37d8dd82ce9d"
      },
      "source": [
        "cmbg = confusion_matrix(Y,Y_cvpredbgnb)\n",
        "print(cmbg)"
      ],
      "execution_count": null,
      "outputs": [
        {
          "output_type": "stream",
          "text": [
            "[[173   8]\n",
            " [  4 177]]\n"
          ],
          "name": "stdout"
        }
      ]
    },
    {
      "cell_type": "code",
      "metadata": {
        "colab": {
          "base_uri": "https://localhost:8080/",
          "height": 282
        },
        "id": "bzvwyfKCvatQ",
        "outputId": "8c5e43d5-777f-4373-b1eb-8c202af53cd6"
      },
      "source": [
        "group_names = ['True Neg','False Pos','False Neg','True Pos']\n",
        "group_counts = [\"{0:0.0f}\".format(value) for value in\n",
        "                cmbg.flatten()]\n",
        "group_percentages = [\"{0:.2%}\".format(value) for value in\n",
        "                     cmbg.flatten()/np.sum(cmbg)]\n",
        "labels = [f\"{v1}\\n{v2}\\n{v3}\" for v1, v2, v3 in\n",
        "          zip(group_names,group_counts,group_percentages)]\n",
        "labels = np.asarray(labels).reshape(2,2)\n",
        "sns.heatmap(cmbg, annot=labels, fmt='', cmap='Blues')"
      ],
      "execution_count": null,
      "outputs": [
        {
          "output_type": "execute_result",
          "data": {
            "text/plain": [
              "<matplotlib.axes._subplots.AxesSubplot at 0x7f83b2164dd0>"
            ]
          },
          "metadata": {
            "tags": []
          },
          "execution_count": 181
        },
        {
          "output_type": "display_data",
          "data": {
            "image/png": "[encoded data removed]",
            "text/plain": [
              "<Figure size 432x288 with 2 Axes>"
            ]
          },
          "metadata": {
            "tags": [],
            "needs_background": "light"
          }
        }
      ]
    },
    {
      "cell_type": "code",
      "metadata": {
        "colab": {
          "base_uri": "https://localhost:8080/"
        },
        "id": "6C2zXx-z_0M0",
        "outputId": "e490a3d7-bf7e-4bfc-e2c2-3359e03e2ac4"
      },
      "source": [
        "accuracy = cross_val_score(nbbag,X,Y, cv=10, scoring='accuracy')\n",
        "print('All Cross Val Accuracy :',accuracy)\n",
        "print('\\nCross Val Accuracy :',accuracy.mean())"
      ],
      "execution_count": null,
      "outputs": [
        {
          "output_type": "stream",
          "text": [
            "All Cross Val Accuracy : [0.89189189 1.         0.97222222 1.         0.97222222 1.\n",
            " 0.94444444 0.97222222 0.94444444 0.97222222]\n",
            "\n",
            "Cross Val Accuracy : 0.9669669669669669\n"
          ],
          "name": "stdout"
        }
      ]
    },
    {
      "cell_type": "code",
      "metadata": {
        "colab": {
          "base_uri": "https://localhost:8080/"
        },
        "id": "rFcllYRT_0Tx",
        "outputId": "510cf9df-2908-428e-9d58-1d45a6e83853"
      },
      "source": [
        "cvresult(Y,Y_cvpredbgnb)"
      ],
      "execution_count": null,
      "outputs": [
        {
          "output_type": "stream",
          "text": [
            "Cross Val f1 score :  0.9672131147540983\n",
            "Cross Val Precision :  0.9567567567567568\n",
            "Cross Val recall :  0.9779005524861878\n",
            "Cross Val Classification Report : \n",
            "               precision    recall  f1-score   support\n",
            "\n",
            "           0       0.98      0.96      0.97       181\n",
            "           1       0.96      0.98      0.97       181\n",
            "\n",
            "    accuracy                           0.97       362\n",
            "   macro avg       0.97      0.97      0.97       362\n",
            "weighted avg       0.97      0.97      0.97       362\n",
            "\n"
          ],
          "name": "stdout"
        }
      ]
    },
    {
      "cell_type": "code",
      "metadata": {
        "colab": {
          "base_uri": "https://localhost:8080/"
        },
        "id": "JA9saitWAWbX",
        "outputId": "92c031c5-d229-43c4-ee52-b26b874e55c7"
      },
      "source": [
        "result(Y_test,Y_predbgnb)"
      ],
      "execution_count": null,
      "outputs": [
        {
          "output_type": "stream",
          "text": [
            "Accuracy :  0.989010989010989\n",
            "f1 score :  0.9906542056074767\n",
            "Precision :  1.0\n",
            "recall :  0.9814814814814815\n",
            "Classification Report : \n",
            "               precision    recall  f1-score   support\n",
            "\n",
            "           0       0.97      1.00      0.99        37\n",
            "           1       1.00      0.98      0.99        54\n",
            "\n",
            "    accuracy                           0.99        91\n",
            "   macro avg       0.99      0.99      0.99        91\n",
            "weighted avg       0.99      0.99      0.99        91\n",
            "\n"
          ],
          "name": "stdout"
        }
      ]
    },
    {
      "cell_type": "code",
      "metadata": {
        "colab": {
          "base_uri": "https://localhost:8080/"
        },
        "id": "8jgdspX7_0nv",
        "outputId": "102db91c-5652-4781-cd72-48686d405e67"
      },
      "source": [
        "nbbg_prob = nbbag.predict_proba(X_test)\n",
        "nbbg_auc = roc_auc_score(Y_test,nbbg_prob[:,1])\n",
        "print('roc-auc score :{}'.format(nbbg_auc))"
      ],
      "execution_count": null,
      "outputs": [
        {
          "output_type": "stream",
          "text": [
            "roc-auc score :1.0\n"
          ],
          "name": "stdout"
        }
      ]
    },
    {
      "cell_type": "markdown",
      "metadata": {
        "id": "niTlK_d__kT4"
      },
      "source": [
        "## Base estimator Decision Tree"
      ]
    },
    {
      "cell_type": "code",
      "metadata": {
        "id": "aC9ykWdx_1ah"
      },
      "source": [
        "dtbag = BaggingClassifier(dtclassifier, n_estimators= best_paramdtgrs['n_estimators'],bootstrap_features=best_paramdtgrs['bootstrap_features'],\n",
        "                          n_jobs=best_paramdtgrs['n_jobs'],random_state =42)"
      ],
      "execution_count": null,
      "outputs": []
    },
    {
      "cell_type": "code",
      "metadata": {
        "colab": {
          "base_uri": "https://localhost:8080/"
        },
        "id": "iyW0Ub50_1ge",
        "outputId": "70f80442-8a95-4aaf-f7b7-625abf83877c"
      },
      "source": [
        "dtbag.fit(X_train,Y_train)"
      ],
      "execution_count": null,
      "outputs": [
        {
          "output_type": "execute_result",
          "data": {
            "text/plain": [
              "BaggingClassifier(base_estimator=DecisionTreeClassifier(ccp_alpha=0.0,\n",
              "                                                        class_weight=None,\n",
              "                                                        criterion='gini',\n",
              "                                                        max_depth=1,\n",
              "                                                        max_features=None,\n",
              "                                                        max_leaf_nodes=70,\n",
              "                                                        min_impurity_decrease=0.0,\n",
              "                                                        min_impurity_split=None,\n",
              "                                                        min_samples_leaf=4,\n",
              "                                                        min_samples_split=2,\n",
              "                                                        min_weight_fraction_leaf=0.0,\n",
              "                                                        presort='deprecated',\n",
              "                                                        random_state=42,\n",
              "                                                        splitter='best'),\n",
              "                  bootstrap=True, bootstrap_features='False', max_features=1.0,\n",
              "                  max_samples=1.0, n_estimators=8, n_jobs=5, oob_score=False,\n",
              "                  random_state=42, verbose=0, warm_start=False)"
            ]
          },
          "metadata": {
            "tags": []
          },
          "execution_count": 187
        }
      ]
    },
    {
      "cell_type": "code",
      "metadata": {
        "id": "UvIy8Ecz_1lx"
      },
      "source": [
        "Y_predbgdt = dtbag.predict(X_test)"
      ],
      "execution_count": null,
      "outputs": []
    },
    {
      "cell_type": "code",
      "metadata": {
        "id": "97uW6_3lxdcI"
      },
      "source": [
        "Y_cvpredbgdt = cross_val_predict(dtbag,X,Y,cv = 10)"
      ],
      "execution_count": null,
      "outputs": []
    },
    {
      "cell_type": "code",
      "metadata": {
        "colab": {
          "base_uri": "https://localhost:8080/"
        },
        "id": "lqTqpr-7_1r1",
        "outputId": "76425381-c385-4f4a-b5f0-89a694292453"
      },
      "source": [
        "cm = confusion_matrix(Y_test,Y_predbgdt)\n",
        "print(cm)"
      ],
      "execution_count": null,
      "outputs": [
        {
          "output_type": "stream",
          "text": [
            "[[37  0]\n",
            " [ 2 52]]\n"
          ],
          "name": "stdout"
        }
      ]
    },
    {
      "cell_type": "code",
      "metadata": {
        "colab": {
          "base_uri": "https://localhost:8080/"
        },
        "id": "yBuudrB1xxVX",
        "outputId": "aa5235c4-cf50-458a-a376-353e9d04f835"
      },
      "source": [
        "cmbg = confusion_matrix(Y,Y_cvpredbgdt)\n",
        "print(cmbg)"
      ],
      "execution_count": null,
      "outputs": [
        {
          "output_type": "stream",
          "text": [
            "[[171  10]\n",
            " [  2 179]]\n"
          ],
          "name": "stdout"
        }
      ]
    },
    {
      "cell_type": "code",
      "metadata": {
        "colab": {
          "base_uri": "https://localhost:8080/",
          "height": 282
        },
        "id": "iXtaVbSMx5__",
        "outputId": "a2843a58-7ac8-40a8-b478-062d291f6d96"
      },
      "source": [
        "group_names = ['True Neg','False Pos','False Neg','True Pos']\n",
        "group_counts = [\"{0:0.0f}\".format(value) for value in\n",
        "                cmbg.flatten()]\n",
        "group_percentages = [\"{0:.2%}\".format(value) for value in\n",
        "                     cmbg.flatten()/np.sum(cmbg)]\n",
        "labels = [f\"{v1}\\n{v2}\\n{v3}\" for v1, v2, v3 in\n",
        "          zip(group_names,group_counts,group_percentages)]\n",
        "labels = np.asarray(labels).reshape(2,2)\n",
        "sns.heatmap(cmbg, annot=labels, fmt='', cmap='Blues')"
      ],
      "execution_count": null,
      "outputs": [
        {
          "output_type": "execute_result",
          "data": {
            "text/plain": [
              "<matplotlib.axes._subplots.AxesSubplot at 0x7f83b2493e90>"
            ]
          },
          "metadata": {
            "tags": []
          },
          "execution_count": 192
        },
        {
          "output_type": "display_data",
          "data": {
            "image/png": "[encoded data removed]",
            "text/plain": [
              "<Figure size 432x288 with 2 Axes>"
            ]
          },
          "metadata": {
            "tags": [],
            "needs_background": "light"
          }
        }
      ]
    },
    {
      "cell_type": "code",
      "metadata": {
        "colab": {
          "base_uri": "https://localhost:8080/"
        },
        "id": "CN9waUUr_1x5",
        "outputId": "dc7fc8a9-dc9b-44b0-edd0-ff759e0e971c"
      },
      "source": [
        "accuracy = cross_val_score(dtbag,X,Y, cv=10, scoring='accuracy')\n",
        "print('All Cross Val Accuracy :',accuracy)\n",
        "print('\\nCross Val Accuracy :',accuracy.mean())"
      ],
      "execution_count": null,
      "outputs": [
        {
          "output_type": "stream",
          "text": [
            "All Cross Val Accuracy : [0.89189189 1.         0.97222222 1.         0.97222222 1.\n",
            " 0.88888889 1.         0.94444444 1.        ]\n",
            "\n",
            "Cross Val Accuracy : 0.9669669669669669\n"
          ],
          "name": "stdout"
        }
      ]
    },
    {
      "cell_type": "code",
      "metadata": {
        "colab": {
          "base_uri": "https://localhost:8080/"
        },
        "id": "Nf6USK1W_13t",
        "outputId": "7657aa89-603f-47f9-8620-7a33559daa6c"
      },
      "source": [
        "cvresult(Y,Y_cvpredbgdt)"
      ],
      "execution_count": null,
      "outputs": [
        {
          "output_type": "stream",
          "text": [
            "Cross Val f1 score :  0.9675675675675676\n",
            "Cross Val Precision :  0.9470899470899471\n",
            "Cross Val recall :  0.988950276243094\n",
            "Cross Val Classification Report : \n",
            "               precision    recall  f1-score   support\n",
            "\n",
            "           0       0.99      0.94      0.97       181\n",
            "           1       0.95      0.99      0.97       181\n",
            "\n",
            "    accuracy                           0.97       362\n",
            "   macro avg       0.97      0.97      0.97       362\n",
            "weighted avg       0.97      0.97      0.97       362\n",
            "\n"
          ],
          "name": "stdout"
        }
      ]
    },
    {
      "cell_type": "code",
      "metadata": {
        "colab": {
          "base_uri": "https://localhost:8080/"
        },
        "id": "y9ouG7AMAch_",
        "outputId": "c463fe97-7f83-4720-cd9e-7fb81d8273f5"
      },
      "source": [
        "result(Y_test,Y_predbgdt)"
      ],
      "execution_count": null,
      "outputs": [
        {
          "output_type": "stream",
          "text": [
            "Accuracy :  0.978021978021978\n",
            "f1 score :  0.9811320754716981\n",
            "Precision :  1.0\n",
            "recall :  0.9629629629629629\n",
            "Classification Report : \n",
            "               precision    recall  f1-score   support\n",
            "\n",
            "           0       0.95      1.00      0.97        37\n",
            "           1       1.00      0.96      0.98        54\n",
            "\n",
            "    accuracy                           0.98        91\n",
            "   macro avg       0.97      0.98      0.98        91\n",
            "weighted avg       0.98      0.98      0.98        91\n",
            "\n"
          ],
          "name": "stdout"
        }
      ]
    },
    {
      "cell_type": "code",
      "metadata": {
        "colab": {
          "base_uri": "https://localhost:8080/"
        },
        "id": "Aq3HAPge_2Lu",
        "outputId": "4ccb8cf0-f6f4-46de-b5d6-5462c8a8af82"
      },
      "source": [
        "dtbg_prob = dtbag.predict_proba(X_test)\n",
        "dtbg_auc = roc_auc_score(Y_test,dtbg_prob[:,1])\n",
        "print('roc-auc score :{}'.format(dtbg_auc))"
      ],
      "execution_count": null,
      "outputs": [
        {
          "output_type": "stream",
          "text": [
            "roc-auc score :1.0\n"
          ],
          "name": "stdout"
        }
      ]
    },
    {
      "cell_type": "markdown",
      "metadata": {
        "id": "ZrLEKsVc6ReJ"
      },
      "source": [
        "## Base estimator Random Forest"
      ]
    },
    {
      "cell_type": "code",
      "metadata": {
        "id": "Lu75zmfv6PiN"
      },
      "source": [
        "rfbag = BaggingClassifier(rfclassifier, n_estimators= best_paramrfgrs['n_estimators'],bootstrap_features=best_paramrfgrs['bootstrap_features'],\n",
        "                          n_jobs=best_paramrfgrs['n_jobs'],random_state=42)"
      ],
      "execution_count": null,
      "outputs": []
    },
    {
      "cell_type": "code",
      "metadata": {
        "colab": {
          "base_uri": "https://localhost:8080/"
        },
        "id": "y8ULLLiH6a4a",
        "outputId": "e40900de-332f-40f9-e9bf-4f92b8e8d429"
      },
      "source": [
        "rfbag.fit(X_train,Y_train)"
      ],
      "execution_count": null,
      "outputs": [
        {
          "output_type": "execute_result",
          "data": {
            "text/plain": [
              "BaggingClassifier(base_estimator=RandomForestClassifier(bootstrap=True,\n",
              "                                                        ccp_alpha=0.0,\n",
              "                                                        class_weight=None,\n",
              "                                                        criterion='gini',\n",
              "                                                        max_depth=5,\n",
              "                                                        max_features='log2',\n",
              "                                                        max_leaf_nodes=None,\n",
              "                                                        max_samples=None,\n",
              "                                                        min_impurity_decrease=0.0,\n",
              "                                                        min_impurity_split=None,\n",
              "                                                        min_samples_leaf=1,\n",
              "                                                        min_samples_split=2,\n",
              "                                                        min_weight_fraction_leaf=0.0,\n",
              "                                                        n_estimators=8,\n",
              "                                                        n_jobs=None,\n",
              "                                                        oob_score=False,\n",
              "                                                        random_state=42,\n",
              "                                                        verbose=0,\n",
              "                                                        warm_start=False),\n",
              "                  bootstrap=True, bootstrap_features='False', max_features=1.0,\n",
              "                  max_samples=1.0, n_estimators=51, n_jobs=5, oob_score=False,\n",
              "                  random_state=42, verbose=0, warm_start=False)"
            ]
          },
          "metadata": {
            "tags": []
          },
          "execution_count": 198
        }
      ]
    },
    {
      "cell_type": "code",
      "metadata": {
        "id": "mLK5WrBF6dHw"
      },
      "source": [
        "Y_predbgrf = rfbag.predict(X_test)"
      ],
      "execution_count": null,
      "outputs": []
    },
    {
      "cell_type": "code",
      "metadata": {
        "id": "NfcVAF2-0QbT"
      },
      "source": [
        "Y_cvpredbgrf = cross_val_predict(rfbag,X,Y,cv = 10)"
      ],
      "execution_count": null,
      "outputs": []
    },
    {
      "cell_type": "code",
      "metadata": {
        "colab": {
          "base_uri": "https://localhost:8080/"
        },
        "id": "RHZW7pBx6dQR",
        "outputId": "94eabeee-a51d-4b35-cb6a-05e972cfd23a"
      },
      "source": [
        "cm = confusion_matrix(Y_test,Y_predbgrf)\n",
        "print(cm)"
      ],
      "execution_count": null,
      "outputs": [
        {
          "output_type": "stream",
          "text": [
            "[[37  0]\n",
            " [ 1 53]]\n"
          ],
          "name": "stdout"
        }
      ]
    },
    {
      "cell_type": "code",
      "metadata": {
        "colab": {
          "base_uri": "https://localhost:8080/"
        },
        "id": "imWV72Un0kuA",
        "outputId": "652173bc-257c-416b-a2b7-5a7dfbb00a53"
      },
      "source": [
        "cmbg = confusion_matrix(Y,Y_cvpredbgrf)\n",
        "print(cmbg)"
      ],
      "execution_count": null,
      "outputs": [
        {
          "output_type": "stream",
          "text": [
            "[[172   9]\n",
            " [  4 177]]\n"
          ],
          "name": "stdout"
        }
      ]
    },
    {
      "cell_type": "code",
      "metadata": {
        "colab": {
          "base_uri": "https://localhost:8080/",
          "height": 282
        },
        "id": "sO1GPsqT0u74",
        "outputId": "0afdf6c4-4330-4fcd-f1aa-27dcf5c2285a"
      },
      "source": [
        "group_names = ['True Neg','False Pos','False Neg','True Pos']\n",
        "group_counts = [\"{0:0.0f}\".format(value) for value in\n",
        "                cmbg.flatten()]\n",
        "group_percentages = [\"{0:.2%}\".format(value) for value in\n",
        "                     cmbg.flatten()/np.sum(cmbg)]\n",
        "labels = [f\"{v1}\\n{v2}\\n{v3}\" for v1, v2, v3 in\n",
        "          zip(group_names,group_counts,group_percentages)]\n",
        "labels = np.asarray(labels).reshape(2,2)\n",
        "sns.heatmap(cmbg, annot=labels, fmt='', cmap='Blues')"
      ],
      "execution_count": null,
      "outputs": [
        {
          "output_type": "execute_result",
          "data": {
            "text/plain": [
              "<matplotlib.axes._subplots.AxesSubplot at 0x7f83b2159310>"
            ]
          },
          "metadata": {
            "tags": []
          },
          "execution_count": 203
        },
        {
          "output_type": "display_data",
          "data": {
            "image/png": "[encoded data removed]",
            "text/plain": [
              "<Figure size 432x288 with 2 Axes>"
            ]
          },
          "metadata": {
            "tags": [],
            "needs_background": "light"
          }
        }
      ]
    },
    {
      "cell_type": "code",
      "metadata": {
        "colab": {
          "base_uri": "https://localhost:8080/"
        },
        "id": "JZplJJJs6dYQ",
        "outputId": "ff44a29d-2da6-4055-b045-baa92b694728"
      },
      "source": [
        "accuracy = cross_val_score(rfbag,X,Y, cv=10, scoring='accuracy')\n",
        "print('All Cross Val Accuracy :',accuracy)\n",
        "print('\\nCross Val Accuracy :',accuracy.mean())"
      ],
      "execution_count": null,
      "outputs": [
        {
          "output_type": "stream",
          "text": [
            "All Cross Val Accuracy : [0.89189189 1.         0.97222222 1.         0.97222222 0.97222222\n",
            " 0.88888889 1.         0.94444444 1.        ]\n",
            "\n",
            "Cross Val Accuracy : 0.9641891891891892\n"
          ],
          "name": "stdout"
        }
      ]
    },
    {
      "cell_type": "code",
      "metadata": {
        "colab": {
          "base_uri": "https://localhost:8080/"
        },
        "id": "ouK2bbrf6dg6",
        "outputId": "d69f7651-9a6c-4e37-f76f-af0d83b46f36"
      },
      "source": [
        "cvresult(Y,Y_cvpredbgrf)"
      ],
      "execution_count": null,
      "outputs": [
        {
          "output_type": "stream",
          "text": [
            "Cross Val f1 score :  0.9645776566757494\n",
            "Cross Val Precision :  0.9516129032258065\n",
            "Cross Val recall :  0.9779005524861878\n",
            "Cross Val Classification Report : \n",
            "               precision    recall  f1-score   support\n",
            "\n",
            "           0       0.98      0.95      0.96       181\n",
            "           1       0.95      0.98      0.96       181\n",
            "\n",
            "    accuracy                           0.96       362\n",
            "   macro avg       0.96      0.96      0.96       362\n",
            "weighted avg       0.96      0.96      0.96       362\n",
            "\n"
          ],
          "name": "stdout"
        }
      ]
    },
    {
      "cell_type": "code",
      "metadata": {
        "colab": {
          "base_uri": "https://localhost:8080/"
        },
        "id": "daPjuR4PAmvo",
        "outputId": "9e76c5fb-9811-4d0e-8c2c-8a5384e60d98"
      },
      "source": [
        "result(Y_test,Y_predbgrf)"
      ],
      "execution_count": null,
      "outputs": [
        {
          "output_type": "stream",
          "text": [
            "Accuracy :  0.989010989010989\n",
            "f1 score :  0.9906542056074767\n",
            "Precision :  1.0\n",
            "recall :  0.9814814814814815\n",
            "Classification Report : \n",
            "               precision    recall  f1-score   support\n",
            "\n",
            "           0       0.97      1.00      0.99        37\n",
            "           1       1.00      0.98      0.99        54\n",
            "\n",
            "    accuracy                           0.99        91\n",
            "   macro avg       0.99      0.99      0.99        91\n",
            "weighted avg       0.99      0.99      0.99        91\n",
            "\n"
          ],
          "name": "stdout"
        }
      ]
    },
    {
      "cell_type": "code",
      "metadata": {
        "colab": {
          "base_uri": "https://localhost:8080/"
        },
        "id": "AYBNU3Q56ePj",
        "outputId": "deeb725f-d3db-4e89-e666-16049ee36038"
      },
      "source": [
        "rfbg_prob = rfbag.predict_proba(X_test)\n",
        "rfbg_auc = roc_auc_score(Y_test,rfbg_prob[:,1])\n",
        "print('roc-auc score :{}'.format(rfbg_auc))"
      ],
      "execution_count": null,
      "outputs": [
        {
          "output_type": "stream",
          "text": [
            "roc-auc score :0.9994994994994995\n"
          ],
          "name": "stdout"
        }
      ]
    },
    {
      "cell_type": "markdown",
      "metadata": {
        "id": "LyvkevKA1cL3"
      },
      "source": [
        "## Base estimator Extra Tree"
      ]
    },
    {
      "cell_type": "code",
      "metadata": {
        "id": "j_9aQ6im1mmg"
      },
      "source": [
        "etbag = BaggingClassifier(etclassifier, n_estimators= best_parametgrs['n_estimators'],\n",
        "                          bootstrap_features=best_parametgrs['bootstrap_features'],n_jobs=best_parametgrs['n_jobs'],random_state=42)"
      ],
      "execution_count": null,
      "outputs": []
    },
    {
      "cell_type": "code",
      "metadata": {
        "colab": {
          "base_uri": "https://localhost:8080/"
        },
        "id": "BYPl27mp2EmJ",
        "outputId": "cfd9db71-cf68-43c6-bafc-d7eb97a08fd0"
      },
      "source": [
        "etbag.fit(X_train,Y_train)"
      ],
      "execution_count": null,
      "outputs": [
        {
          "output_type": "execute_result",
          "data": {
            "text/plain": [
              "BaggingClassifier(base_estimator=ExtraTreeClassifier(ccp_alpha=0.0,\n",
              "                                                     class_weight=None,\n",
              "                                                     criterion='gini',\n",
              "                                                     max_depth=19,\n",
              "                                                     max_features='auto',\n",
              "                                                     max_leaf_nodes=None,\n",
              "                                                     min_impurity_decrease=0.0,\n",
              "                                                     min_impurity_split=None,\n",
              "                                                     min_samples_leaf=1,\n",
              "                                                     min_samples_split=2,\n",
              "                                                     min_weight_fraction_leaf=0.0,\n",
              "                                                     random_state=42,\n",
              "                                                     splitter='random'),\n",
              "                  bootstrap=True, bootstrap_features=None, max_features=1.0,\n",
              "                  max_samples=1.0, n_estimators=67, n_jobs=5, oob_score=False,\n",
              "                  random_state=42, verbose=0, warm_start=False)"
            ]
          },
          "metadata": {
            "tags": []
          },
          "execution_count": 209
        }
      ]
    },
    {
      "cell_type": "code",
      "metadata": {
        "id": "yoz0-L7i2yl_"
      },
      "source": [
        "Y_predbget = etbag.predict(X_test)"
      ],
      "execution_count": null,
      "outputs": []
    },
    {
      "cell_type": "code",
      "metadata": {
        "id": "v_dsjOdm2-vg"
      },
      "source": [
        "Y_cvpredbget = cross_val_predict(etbag,X,Y,cv = 10)"
      ],
      "execution_count": null,
      "outputs": []
    },
    {
      "cell_type": "code",
      "metadata": {
        "colab": {
          "base_uri": "https://localhost:8080/"
        },
        "id": "Wr_XAmBc3LQv",
        "outputId": "9eb6d723-365a-4495-f4fd-f56565b11cb7"
      },
      "source": [
        "cm = confusion_matrix(Y_test,Y_predbget)\n",
        "print(cm)"
      ],
      "execution_count": null,
      "outputs": [
        {
          "output_type": "stream",
          "text": [
            "[[37  0]\n",
            " [ 2 52]]\n"
          ],
          "name": "stdout"
        }
      ]
    },
    {
      "cell_type": "code",
      "metadata": {
        "colab": {
          "base_uri": "https://localhost:8080/"
        },
        "id": "hP_0grRE3Sy_",
        "outputId": "10f5d497-0b55-4eed-9650-02900df8ad50"
      },
      "source": [
        "cmbg = confusion_matrix(Y,Y_cvpredbget)\n",
        "print(cmbg)"
      ],
      "execution_count": null,
      "outputs": [
        {
          "output_type": "stream",
          "text": [
            "[[173   8]\n",
            " [  8 173]]\n"
          ],
          "name": "stdout"
        }
      ]
    },
    {
      "cell_type": "code",
      "metadata": {
        "colab": {
          "base_uri": "https://localhost:8080/",
          "height": 282
        },
        "id": "dFIy5J2M3cPn",
        "outputId": "a1334390-62f1-4252-b549-5b8395788fa7"
      },
      "source": [
        "group_names = ['True Neg','False Pos','False Neg','True Pos']\n",
        "group_counts = [\"{0:0.0f}\".format(value) for value in\n",
        "                cmbg.flatten()]\n",
        "group_percentages = [\"{0:.2%}\".format(value) for value in\n",
        "                     cmbg.flatten()/np.sum(cmbg)]\n",
        "labels = [f\"{v1}\\n{v2}\\n{v3}\" for v1, v2, v3 in\n",
        "          zip(group_names,group_counts,group_percentages)]\n",
        "labels = np.asarray(labels).reshape(2,2)\n",
        "sns.heatmap(cmbg, annot=labels, fmt='', cmap='Blues')"
      ],
      "execution_count": null,
      "outputs": [
        {
          "output_type": "execute_result",
          "data": {
            "text/plain": [
              "<matplotlib.axes._subplots.AxesSubplot at 0x7f83b2b28b10>"
            ]
          },
          "metadata": {
            "tags": []
          },
          "execution_count": 214
        },
        {
          "output_type": "display_data",
          "data": {
            "image/png": "[encoded data removed]",
            "text/plain": [
              "<Figure size 432x288 with 2 Axes>"
            ]
          },
          "metadata": {
            "tags": [],
            "needs_background": "light"
          }
        }
      ]
    },
    {
      "cell_type": "code",
      "metadata": {
        "colab": {
          "base_uri": "https://localhost:8080/"
        },
        "id": "Slk6f8O83ix3",
        "outputId": "d636a629-2687-4937-f6ba-ee8ef9b7b2dd"
      },
      "source": [
        "accuracy = cross_val_score(etbag,X,Y, cv=10, scoring='accuracy')\n",
        "print('All Cross Val Accuracy :',accuracy)\n",
        "print('\\nCross Val Accuracy :',accuracy.mean())"
      ],
      "execution_count": null,
      "outputs": [
        {
          "output_type": "stream",
          "text": [
            "All Cross Val Accuracy : [0.86486486 1.         1.         0.97222222 0.91666667 0.94444444\n",
            " 0.88888889 1.         0.97222222 1.        ]\n",
            "\n",
            "Cross Val Accuracy : 0.955930930930931\n"
          ],
          "name": "stdout"
        }
      ]
    },
    {
      "cell_type": "code",
      "metadata": {
        "colab": {
          "base_uri": "https://localhost:8080/"
        },
        "id": "MB8IkudI4sEA",
        "outputId": "9eba2160-55c9-487b-e590-66071fa46992"
      },
      "source": [
        "cvresult(Y,Y_cvpredbget)"
      ],
      "execution_count": null,
      "outputs": [
        {
          "output_type": "stream",
          "text": [
            "Cross Val f1 score :  0.9558011049723757\n",
            "Cross Val Precision :  0.9558011049723757\n",
            "Cross Val recall :  0.9558011049723757\n",
            "Cross Val Classification Report : \n",
            "               precision    recall  f1-score   support\n",
            "\n",
            "           0       0.96      0.96      0.96       181\n",
            "           1       0.96      0.96      0.96       181\n",
            "\n",
            "    accuracy                           0.96       362\n",
            "   macro avg       0.96      0.96      0.96       362\n",
            "weighted avg       0.96      0.96      0.96       362\n",
            "\n"
          ],
          "name": "stdout"
        }
      ]
    },
    {
      "cell_type": "code",
      "metadata": {
        "colab": {
          "base_uri": "https://localhost:8080/"
        },
        "id": "lKbuZDdL41Qm",
        "outputId": "43004b19-d1e3-4ae3-827c-12581352b0d9"
      },
      "source": [
        "result(Y_test,Y_predbget)"
      ],
      "execution_count": null,
      "outputs": [
        {
          "output_type": "stream",
          "text": [
            "Accuracy :  0.978021978021978\n",
            "f1 score :  0.9811320754716981\n",
            "Precision :  1.0\n",
            "recall :  0.9629629629629629\n",
            "Classification Report : \n",
            "               precision    recall  f1-score   support\n",
            "\n",
            "           0       0.95      1.00      0.97        37\n",
            "           1       1.00      0.96      0.98        54\n",
            "\n",
            "    accuracy                           0.98        91\n",
            "   macro avg       0.97      0.98      0.98        91\n",
            "weighted avg       0.98      0.98      0.98        91\n",
            "\n"
          ],
          "name": "stdout"
        }
      ]
    },
    {
      "cell_type": "code",
      "metadata": {
        "colab": {
          "base_uri": "https://localhost:8080/"
        },
        "id": "PxCxOzqM49Fm",
        "outputId": "3068b017-a1c0-4d53-ef12-1d6bb1262a5a"
      },
      "source": [
        "etbg_prob = etbag.predict_proba(X_test)\n",
        "etbg_auc = roc_auc_score(Y_test,etbg_prob[:,1])\n",
        "print('roc-auc score :{}'.format(etbg_auc))"
      ],
      "execution_count": null,
      "outputs": [
        {
          "output_type": "stream",
          "text": [
            "roc-auc score :0.9997497497497497\n"
          ],
          "name": "stdout"
        }
      ]
    },
    {
      "cell_type": "markdown",
      "metadata": {
        "id": "NNIlFowjSMfn"
      },
      "source": [
        "## ROC AUC CURVE  (Bagging)"
      ]
    },
    {
      "cell_type": "code",
      "metadata": {
        "id": "ldbrMqLxSLrA"
      },
      "source": [
        "lrg_fpr,lrg_tpr,_ = roc_curve(Y_test,lrbg_prob[:,1])\n",
        "svmg_fpr,svmg_tpr,_ = roc_curve(Y_test,svmbg_prob[:,1])\n",
        "nbg_fpr,nbg_tpr,_ = roc_curve(Y_test,nbbg_prob[:,1])\n",
        "dtg_fpr,dtg_tpr,_ = roc_curve(Y_test,dtbg_prob[:,1])\n",
        "rfg_fpr,rfg_tpr,_ = roc_curve(Y_test,rfbg_prob[:,1])\n",
        "etg_fpr,etg_tpr,_ = roc_curve(Y_test,etbg_prob[:,1])"
      ],
      "execution_count": null,
      "outputs": []
    },
    {
      "cell_type": "code",
      "metadata": {
        "colab": {
          "base_uri": "https://localhost:8080/",
          "height": 295
        },
        "id": "OqyRghbHT4g6",
        "outputId": "06cc5f9e-b4cf-454e-a1f9-2738c5bd4327"
      },
      "source": [
        "plt.plot(lrg_fpr, lrg_tpr, color = 'red', linestyle='-',label='Logistic Regrassion AUROC = %0.3f'% lrbg_auc)\n",
        "plt.plot(svmg_fpr, svmg_tpr, color = 'green', linestyle='-',label='SVM AUROC = %0.3f'% svmbg_auc)\n",
        "plt.plot(nbg_fpr, nbg_tpr, color = 'orange', linestyle='-',label='Naive Bayes AUROC = %0.3f'% nbbg_auc)\n",
        "plt.plot(dtg_fpr, dtg_tpr, color = 'blue', linestyle='-',label='Decision Tree AUROC = %0.3f'% dtbg_auc)\n",
        "plt.plot(rfg_fpr, rfg_tpr, color = 'cyan', linestyle='-',label='Random Forest AUROC = %0.3f'% rfbg_auc)\n",
        "plt.plot(etg_fpr, etg_tpr, color = 'Coral', linestyle='-',label='Extra Tree AUROC = %0.3f'% etbg_auc)\n",
        "plt.xlabel('False Positive Rate')\n",
        "plt.ylabel('True Positive Rate')\n",
        "plt.title('ROC CURVE (BAGGING)')\n",
        "plt.legend(loc=4, prop={'size': 12})\n",
        "plt.show()"
      ],
      "execution_count": null,
      "outputs": [
        {
          "output_type": "display_data",
          "data": {
            "image/png": "[encoded data removed]",
            "text/plain": [
              "<Figure size 432x288 with 1 Axes>"
            ]
          },
          "metadata": {
            "tags": [],
            "needs_background": "light"
          }
        }
      ]
    }
  ]
}